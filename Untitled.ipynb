{
 "cells": [
  {
   "cell_type": "markdown",
   "metadata": {
    "heading_collapsed": true
   },
   "source": [
    "# Remove modules from saved file "
   ]
  },
  {
   "cell_type": "code",
   "execution_count": 1,
   "metadata": {
    "ExecuteTime": {
     "end_time": "2019-11-06T18:03:01.337424Z",
     "start_time": "2019-11-06T18:03:00.920006Z"
    },
    "hidden": true
   },
   "outputs": [],
   "source": [
    "import torch"
   ]
  },
  {
   "cell_type": "code",
   "execution_count": 2,
   "metadata": {
    "ExecuteTime": {
     "end_time": "2019-11-06T18:04:35.209261Z",
     "start_time": "2019-11-06T18:03:03.894217Z"
    },
    "hidden": true
   },
   "outputs": [
    {
     "data": {
      "text/plain": [
       "dict_keys(['conv1.weight', 'bn1.weight', 'bn1.bias', 'bn1.running_mean', 'bn1.running_var', 'layer1.0.conv1.weight', 'layer1.0.bn1.weight', 'layer1.0.bn1.bias', 'layer1.0.bn1.running_mean', 'layer1.0.bn1.running_var', 'layer1.0.conv2.weight', 'layer1.0.bn2.weight', 'layer1.0.bn2.bias', 'layer1.0.bn2.running_mean', 'layer1.0.bn2.running_var', 'layer1.0.conv3.weight', 'layer1.0.bn3.weight', 'layer1.0.bn3.bias', 'layer1.0.bn3.running_mean', 'layer1.0.bn3.running_var', 'layer1.0.downsample.0.weight', 'layer1.0.downsample.1.weight', 'layer1.0.downsample.1.bias', 'layer1.0.downsample.1.running_mean', 'layer1.0.downsample.1.running_var', 'layer1.1.conv1.weight', 'layer1.1.bn1.weight', 'layer1.1.bn1.bias', 'layer1.1.bn1.running_mean', 'layer1.1.bn1.running_var', 'layer1.1.conv2.weight', 'layer1.1.bn2.weight', 'layer1.1.bn2.bias', 'layer1.1.bn2.running_mean', 'layer1.1.bn2.running_var', 'layer1.1.conv3.weight', 'layer1.1.bn3.weight', 'layer1.1.bn3.bias', 'layer1.1.bn3.running_mean', 'layer1.1.bn3.running_var', 'layer1.2.conv1.weight', 'layer1.2.bn1.weight', 'layer1.2.bn1.bias', 'layer1.2.bn1.running_mean', 'layer1.2.bn1.running_var', 'layer1.2.conv2.weight', 'layer1.2.bn2.weight', 'layer1.2.bn2.bias', 'layer1.2.bn2.running_mean', 'layer1.2.bn2.running_var', 'layer1.2.conv3.weight', 'layer1.2.bn3.weight', 'layer1.2.bn3.bias', 'layer1.2.bn3.running_mean', 'layer1.2.bn3.running_var', 'layer2.0.conv1.weight', 'layer2.0.bn1.weight', 'layer2.0.bn1.bias', 'layer2.0.bn1.running_mean', 'layer2.0.bn1.running_var', 'layer2.0.conv2.weight', 'layer2.0.bn2.weight', 'layer2.0.bn2.bias', 'layer2.0.bn2.running_mean', 'layer2.0.bn2.running_var', 'layer2.0.conv3.weight', 'layer2.0.bn3.weight', 'layer2.0.bn3.bias', 'layer2.0.bn3.running_mean', 'layer2.0.bn3.running_var', 'layer2.0.downsample.0.weight', 'layer2.0.downsample.1.weight', 'layer2.0.downsample.1.bias', 'layer2.0.downsample.1.running_mean', 'layer2.0.downsample.1.running_var', 'layer2.1.conv1.weight', 'layer2.1.bn1.weight', 'layer2.1.bn1.bias', 'layer2.1.bn1.running_mean', 'layer2.1.bn1.running_var', 'layer2.1.conv2.weight', 'layer2.1.bn2.weight', 'layer2.1.bn2.bias', 'layer2.1.bn2.running_mean', 'layer2.1.bn2.running_var', 'layer2.1.conv3.weight', 'layer2.1.bn3.weight', 'layer2.1.bn3.bias', 'layer2.1.bn3.running_mean', 'layer2.1.bn3.running_var', 'layer2.2.conv1.weight', 'layer2.2.bn1.weight', 'layer2.2.bn1.bias', 'layer2.2.bn1.running_mean', 'layer2.2.bn1.running_var', 'layer2.2.conv2.weight', 'layer2.2.bn2.weight', 'layer2.2.bn2.bias', 'layer2.2.bn2.running_mean', 'layer2.2.bn2.running_var', 'layer2.2.conv3.weight', 'layer2.2.bn3.weight', 'layer2.2.bn3.bias', 'layer2.2.bn3.running_mean', 'layer2.2.bn3.running_var', 'layer2.3.conv1.weight', 'layer2.3.bn1.weight', 'layer2.3.bn1.bias', 'layer2.3.bn1.running_mean', 'layer2.3.bn1.running_var', 'layer2.3.conv2.weight', 'layer2.3.bn2.weight', 'layer2.3.bn2.bias', 'layer2.3.bn2.running_mean', 'layer2.3.bn2.running_var', 'layer2.3.conv3.weight', 'layer2.3.bn3.weight', 'layer2.3.bn3.bias', 'layer2.3.bn3.running_mean', 'layer2.3.bn3.running_var', 'layer3.0.conv1.weight', 'layer3.0.bn1.weight', 'layer3.0.bn1.bias', 'layer3.0.bn1.running_mean', 'layer3.0.bn1.running_var', 'layer3.0.conv2.weight', 'layer3.0.bn2.weight', 'layer3.0.bn2.bias', 'layer3.0.bn2.running_mean', 'layer3.0.bn2.running_var', 'layer3.0.conv3.weight', 'layer3.0.bn3.weight', 'layer3.0.bn3.bias', 'layer3.0.bn3.running_mean', 'layer3.0.bn3.running_var', 'layer3.0.downsample.0.weight', 'layer3.0.downsample.1.weight', 'layer3.0.downsample.1.bias', 'layer3.0.downsample.1.running_mean', 'layer3.0.downsample.1.running_var', 'layer3.1.conv1.weight', 'layer3.1.bn1.weight', 'layer3.1.bn1.bias', 'layer3.1.bn1.running_mean', 'layer3.1.bn1.running_var', 'layer3.1.conv2.weight', 'layer3.1.bn2.weight', 'layer3.1.bn2.bias', 'layer3.1.bn2.running_mean', 'layer3.1.bn2.running_var', 'layer3.1.conv3.weight', 'layer3.1.bn3.weight', 'layer3.1.bn3.bias', 'layer3.1.bn3.running_mean', 'layer3.1.bn3.running_var', 'layer3.2.conv1.weight', 'layer3.2.bn1.weight', 'layer3.2.bn1.bias', 'layer3.2.bn1.running_mean', 'layer3.2.bn1.running_var', 'layer3.2.conv2.weight', 'layer3.2.bn2.weight', 'layer3.2.bn2.bias', 'layer3.2.bn2.running_mean', 'layer3.2.bn2.running_var', 'layer3.2.conv3.weight', 'layer3.2.bn3.weight', 'layer3.2.bn3.bias', 'layer3.2.bn3.running_mean', 'layer3.2.bn3.running_var', 'layer3.3.conv1.weight', 'layer3.3.bn1.weight', 'layer3.3.bn1.bias', 'layer3.3.bn1.running_mean', 'layer3.3.bn1.running_var', 'layer3.3.conv2.weight', 'layer3.3.bn2.weight', 'layer3.3.bn2.bias', 'layer3.3.bn2.running_mean', 'layer3.3.bn2.running_var', 'layer3.3.conv3.weight', 'layer3.3.bn3.weight', 'layer3.3.bn3.bias', 'layer3.3.bn3.running_mean', 'layer3.3.bn3.running_var', 'layer3.4.conv1.weight', 'layer3.4.bn1.weight', 'layer3.4.bn1.bias', 'layer3.4.bn1.running_mean', 'layer3.4.bn1.running_var', 'layer3.4.conv2.weight', 'layer3.4.bn2.weight', 'layer3.4.bn2.bias', 'layer3.4.bn2.running_mean', 'layer3.4.bn2.running_var', 'layer3.4.conv3.weight', 'layer3.4.bn3.weight', 'layer3.4.bn3.bias', 'layer3.4.bn3.running_mean', 'layer3.4.bn3.running_var', 'layer3.5.conv1.weight', 'layer3.5.bn1.weight', 'layer3.5.bn1.bias', 'layer3.5.bn1.running_mean', 'layer3.5.bn1.running_var', 'layer3.5.conv2.weight', 'layer3.5.bn2.weight', 'layer3.5.bn2.bias', 'layer3.5.bn2.running_mean', 'layer3.5.bn2.running_var', 'layer3.5.conv3.weight', 'layer3.5.bn3.weight', 'layer3.5.bn3.bias', 'layer3.5.bn3.running_mean', 'layer3.5.bn3.running_var', 'layer4.0.conv1.weight', 'layer4.0.bn1.weight', 'layer4.0.bn1.bias', 'layer4.0.bn1.running_mean', 'layer4.0.bn1.running_var', 'layer4.0.conv2.weight', 'layer4.0.bn2.weight', 'layer4.0.bn2.bias', 'layer4.0.bn2.running_mean', 'layer4.0.bn2.running_var', 'layer4.0.conv3.weight', 'layer4.0.bn3.weight', 'layer4.0.bn3.bias', 'layer4.0.bn3.running_mean', 'layer4.0.bn3.running_var', 'layer4.0.downsample.0.weight', 'layer4.0.downsample.1.weight', 'layer4.0.downsample.1.bias', 'layer4.0.downsample.1.running_mean', 'layer4.0.downsample.1.running_var', 'layer4.1.conv1.weight', 'layer4.1.bn1.weight', 'layer4.1.bn1.bias', 'layer4.1.bn1.running_mean', 'layer4.1.bn1.running_var', 'layer4.1.conv2.weight', 'layer4.1.bn2.weight', 'layer4.1.bn2.bias', 'layer4.1.bn2.running_mean', 'layer4.1.bn2.running_var', 'layer4.1.conv3.weight', 'layer4.1.bn3.weight', 'layer4.1.bn3.bias', 'layer4.1.bn3.running_mean', 'layer4.1.bn3.running_var', 'layer4.2.conv1.weight', 'layer4.2.bn1.weight', 'layer4.2.bn1.bias', 'layer4.2.bn1.running_mean', 'layer4.2.bn1.running_var', 'layer4.2.conv2.weight', 'layer4.2.bn2.weight', 'layer4.2.bn2.bias', 'layer4.2.bn2.running_mean', 'layer4.2.bn2.running_var', 'layer4.2.conv3.weight', 'layer4.2.bn3.weight', 'layer4.2.bn3.bias', 'layer4.2.bn3.running_mean', 'layer4.2.bn3.running_var', 'last_linear.weight', 'last_linear.bias'])"
      ]
     },
     "execution_count": 2,
     "metadata": {},
     "output_type": "execute_result"
    }
   ],
   "source": [
    "PATH = 'logs/new_test/2019-11-05_21:07:57/model.chpn'\n",
    "m = torch.load(PATH)\n",
    "m['state_dict'].keys()"
   ]
  },
  {
   "cell_type": "code",
   "execution_count": 3,
   "metadata": {
    "ExecuteTime": {
     "end_time": "2019-11-06T18:04:35.214663Z",
     "start_time": "2019-11-06T18:04:35.211260Z"
    },
    "hidden": true
   },
   "outputs": [],
   "source": [
    "ADD = True\n",
    "new_sd = {}\n",
    "for k, v in m['state_dict'].items():\n",
    "    if ADD:\n",
    "        new_key = 'module.' + k \n",
    "    else:\n",
    "        new_key = '.'.join(k.split('.')[1:])\n",
    "    new_sd[new_key] = v"
   ]
  },
  {
   "cell_type": "code",
   "execution_count": 4,
   "metadata": {
    "ExecuteTime": {
     "end_time": "2019-11-06T18:04:35.570245Z",
     "start_time": "2019-11-06T18:04:35.215798Z"
    },
    "hidden": true
   },
   "outputs": [],
   "source": [
    "m['state_dict'] = new_sd\n",
    "torch.save(m, PATH)"
   ]
  },
  {
   "cell_type": "markdown",
   "metadata": {},
   "source": [
    "# Label Smoothing "
   ]
  },
  {
   "cell_type": "code",
   "execution_count": 182,
   "metadata": {
    "ExecuteTime": {
     "end_time": "2019-11-07T12:00:24.590938Z",
     "start_time": "2019-11-07T12:00:24.466292Z"
    }
   },
   "outputs": [],
   "source": [
    "import torch\n",
    "import numpy as np\n",
    "import matplotlib.pyplot as plt"
   ]
  },
  {
   "cell_type": "code",
   "execution_count": 97,
   "metadata": {
    "ExecuteTime": {
     "end_time": "2019-11-07T11:23:48.799406Z",
     "start_time": "2019-11-07T11:23:48.792138Z"
    }
   },
   "outputs": [],
   "source": [
    "import torch\n",
    "import torch.nn as nn\n",
    "    \n",
    "class CrossEntropyLoss(nn.Module):\n",
    "    \"\"\"CE with optional smoothing and support for multiple positive labels. Supports only one reduction for now\n",
    "    Args:\n",
    "        one_hot (bool): set to True if targets are already one_hot\n",
    "        num_classes (int): number of classes. only used if one_hot is False\n",
    "    \"\"\"\n",
    "    def __init__(self, smoothing = 0.0, one_hot=False, num_classes=None):\n",
    "        super().__init__()\n",
    "        self.confidence = 1.0 - smoothing\n",
    "        self.smoothing = smoothing\n",
    "        if not one_hot and num_classes == None:\n",
    "            raise ValueError('To convert data to one_hot you have to specify num_classes')\n",
    "        self.one_hot = torch.Tensor([one_hot])\n",
    "        self.num_classes = num_classes\n",
    "\n",
    "    def forward(self, x, target):\n",
    "        if self.training:\n",
    "            if self.one_hot:\n",
    "                target_one_hot = target.float()\n",
    "            else:\n",
    "                target_one_hot = torch.zeros(target.size(0), self.num_classes, \n",
    "                                             dtype=torch.float, device=x.device)\n",
    "                target_one_hot.scatter_(1, target.unsqueeze(1), 1.0)\n",
    "            x = x.float()\n",
    "            logprobs = torch.nn.functional.log_softmax(x, dim = -1)\n",
    "            # mupltiple labels \n",
    "            nll_loss = -logprobs * target_one_hot\n",
    "            nll_loss = nll_loss.sum(-1)\n",
    "            smooth_loss = -logprobs.mean(dim=-1)\n",
    "            loss = self.confidence * nll_loss + self.smoothing * smooth_loss\n",
    "            return loss.mean()\n",
    "        else:\n",
    "            if self.one_hot:\n",
    "                target = target.argmax(-1)\n",
    "            return torch.nn.functional.cross_entropy(x, target)\n",
    "        \n",
    "        \n",
    "def expand(num_classes, dtype, tensor):\n",
    "    e = torch.zeros(tensor.size(0), num_classes, dtype=dtype) #, device=torch.device('cuda'))\n",
    "    e = e.scatter(1, tensor.unsqueeze(1), 1.0)\n",
    "    return e"
   ]
  },
  {
   "cell_type": "code",
   "execution_count": 98,
   "metadata": {
    "ExecuteTime": {
     "end_time": "2019-11-07T11:23:49.927639Z",
     "start_time": "2019-11-07T11:23:49.923729Z"
    }
   },
   "outputs": [],
   "source": [
    "inp = torch.randn(100,10)\n",
    "tar = torch.randint(0,10,(100,)).long()\n",
    "tar_oh = expand(10, torch.float32, tar)\n",
    "c = np.random.beta(0.4, 0.4)\n",
    "perm = torch.randperm(100)\n",
    "tar_oh = tar_oh * c + (1-c) * tar_oh[perm,:]"
   ]
  },
  {
   "cell_type": "code",
   "execution_count": 102,
   "metadata": {
    "ExecuteTime": {
     "end_time": "2019-11-07T11:24:14.662886Z",
     "start_time": "2019-11-07T11:24:14.658185Z"
    }
   },
   "outputs": [
    {
     "data": {
      "text/plain": [
       "tensor(2.6195)"
      ]
     },
     "execution_count": 102,
     "metadata": {},
     "output_type": "execute_result"
    }
   ],
   "source": [
    "CrossEntropyLoss(smoothing=0.1, num_classes=10)(inp, tar)"
   ]
  },
  {
   "cell_type": "code",
   "execution_count": 103,
   "metadata": {
    "ExecuteTime": {
     "end_time": "2019-11-07T11:24:16.117547Z",
     "start_time": "2019-11-07T11:24:16.112910Z"
    }
   },
   "outputs": [
    {
     "data": {
      "text/plain": [
       "tensor(2.6085)"
      ]
     },
     "execution_count": 103,
     "metadata": {},
     "output_type": "execute_result"
    }
   ],
   "source": [
    "torch.nn.CrossEntropyLoss()(inp, tar)"
   ]
  },
  {
   "cell_type": "code",
   "execution_count": 223,
   "metadata": {
    "ExecuteTime": {
     "end_time": "2019-11-07T12:05:42.161645Z",
     "start_time": "2019-11-07T12:05:42.154245Z"
    }
   },
   "outputs": [
    {
     "name": "stdout",
     "output_type": "stream",
     "text": [
      "tensor([[1., 0., 0.],\n",
      "        [0., 1., 0.],\n",
      "        [0., 0., 1.],\n",
      "        [1., 0., 0.]])\n",
      "tensor([[0.9249, 0.0250, 0.0250, 0.0250],\n",
      "        [0.0250, 0.9249, 0.0250, 0.0250],\n",
      "        [0.0250, 0.0250, 0.9249, 0.0250],\n",
      "        [0.9249, 0.0250, 0.0250, 0.0250]])\n"
     ]
    },
    {
     "data": {
      "text/plain": [
       "tensor(0.3488)"
      ]
     },
     "execution_count": 223,
     "metadata": {},
     "output_type": "execute_result"
    }
   ],
   "source": [
    "\n",
    "# to one-hot\n",
    "#target = expand(num_classes, torch.float, target)\n",
    "\n",
    "target = torch.LongTensor([0, 1, 2, 0])\n",
    "target_one_hot = expand(3, torch.float, target)\n",
    "print(target_one_hot)\n",
    "logits_r = torch.randn(4,3)\n",
    "N = 3.91 #3.632\n",
    "logits = torch.Tensor([[N, 0.3, 0.3, 0.3],[0.3, N, 0.3, 0.3], [0.3,0.3,N,0.3],[N,0.3,0.3,0.3]])\n",
    "print(torch.nn.Softmax(1)(logits))\n",
    "CrossEntropyLoss(smoothing=0.1, num_classes=4)(logits, target)"
   ]
  },
  {
   "cell_type": "code",
   "execution_count": 220,
   "metadata": {
    "ExecuteTime": {
     "end_time": "2019-11-07T12:05:31.594622Z",
     "start_time": "2019-11-07T12:05:31.569492Z"
    }
   },
   "outputs": [],
   "source": [
    "res = []\n",
    "Ns = np.linspace(3.8, 4, 200)\n",
    "for N in Ns:\n",
    "#     logits = torch.Tensor([[N, 0.3, 0.3],[0.3, N, 0.3], [0.3,0.3,N],[N,0.3,0.3]])\n",
    "    logits = torch.Tensor([[N, 0.3, 0.3, 0.3],[0.3, N, 0.3, 0.3], [0.3,0.3,N,0.3],[N,0.3,0.3,0.3]])\n",
    "    #print(torch.nn.Softmax(1)(logits))\n",
    "    l = CrossEntropyLoss(smoothing=0.1, num_classes=4)(logits, target)\n",
    "    res.append(l)"
   ]
  },
  {
   "cell_type": "code",
   "execution_count": 221,
   "metadata": {
    "ExecuteTime": {
     "end_time": "2019-11-07T12:05:32.338118Z",
     "start_time": "2019-11-07T12:05:32.333805Z"
    }
   },
   "outputs": [
    {
     "data": {
      "text/plain": [
       "3.9105527638190956"
      ]
     },
     "execution_count": 221,
     "metadata": {},
     "output_type": "execute_result"
    }
   ],
   "source": [
    "Ns[np.argmin(res)]"
   ]
  },
  {
   "cell_type": "code",
   "execution_count": 222,
   "metadata": {
    "ExecuteTime": {
     "end_time": "2019-11-07T12:05:33.824412Z",
     "start_time": "2019-11-07T12:05:33.410806Z"
    }
   },
   "outputs": [
    {
     "data": {
      "text/plain": [
       "[<matplotlib.lines.Line2D at 0x7f92feb812b0>]"
      ]
     },
     "execution_count": 222,
     "metadata": {},
     "output_type": "execute_result"
    },
    {
     "data": {
      "image/png": "[encoded data removed]",
      "text/plain": [
       "<Figure size 432x288 with 1 Axes>"
      ]
     },
     "metadata": {
      "needs_background": "light"
     },
     "output_type": "display_data"
    }
   ],
   "source": [
    "plt.plot(Ns, res)"
   ]
  },
  {
   "cell_type": "code",
   "execution_count": 165,
   "metadata": {
    "ExecuteTime": {
     "end_time": "2019-11-07T11:57:25.483963Z",
     "start_time": "2019-11-07T11:57:25.481334Z"
    }
   },
   "outputs": [
    {
     "data": {
      "text/plain": [
       "(0.2925, 0.4109)"
      ]
     },
     "execution_count": 165,
     "metadata": {},
     "output_type": "execute_result"
    }
   ],
   "source": [
    "0.0168, 0.335 # 0.97 on true\n",
    "0.2925, 0.4109 # on 0.75 true\n"
   ]
  },
  {
   "cell_type": "code",
   "execution_count": 166,
   "metadata": {
    "ExecuteTime": {
     "end_time": "2019-11-07T11:57:26.599745Z",
     "start_time": "2019-11-07T11:57:26.595115Z"
    }
   },
   "outputs": [
    {
     "data": {
      "text/plain": [
       "tensor(0.0996)"
      ]
     },
     "execution_count": 166,
     "metadata": {},
     "output_type": "execute_result"
    }
   ],
   "source": [
    "torch.nn.CrossEntropyLoss()(logits, target)"
   ]
  },
  {
   "cell_type": "code",
   "execution_count": 167,
   "metadata": {
    "ExecuteTime": {
     "end_time": "2019-11-07T11:57:26.978689Z",
     "start_time": "2019-11-07T11:57:26.974987Z"
    }
   },
   "outputs": [
    {
     "data": {
      "text/plain": [
       "tensor(0.2962)"
      ]
     },
     "execution_count": 167,
     "metadata": {},
     "output_type": "execute_result"
    }
   ],
   "source": [
    "CrossEntropyLoss(smoothing=0.1, num_classes=3)(logits, target)"
   ]
  },
  {
   "cell_type": "code",
   "execution_count": 168,
   "metadata": {
    "ExecuteTime": {
     "end_time": "2019-11-07T11:57:50.966119Z",
     "start_time": "2019-11-07T11:57:50.962952Z"
    }
   },
   "outputs": [
    {
     "data": {
      "text/plain": [
       "(0.2962, 0.0996)"
      ]
     },
     "execution_count": 168,
     "metadata": {},
     "output_type": "execute_result"
    }
   ],
   "source": [
    "0.2981, 0.1054 # witgh 0.9 for true class\n",
    "0.2995, 0.1095 # with 0.896 for true class\n",
    "0.2962, 0.0996 # with 0.9052 for true class"
   ]
  },
  {
   "cell_type": "code",
   "execution_count": 152,
   "metadata": {
    "ExecuteTime": {
     "end_time": "2019-11-07T11:49:04.604290Z",
     "start_time": "2019-11-07T11:49:04.598638Z"
    }
   },
   "outputs": [
    {
     "name": "stdout",
     "output_type": "stream",
     "text": [
      "tensor([[1.0986, 1.0986, 1.0986],\n",
      "        [1.0986, 1.0986, 1.0986],\n",
      "        [1.0986, 1.0986, 1.0986],\n",
      "        [1.0986, 1.0986, 1.0986]])\n",
      "tensor([1.0986, 1.0986, 1.0986, 1.0986])\n",
      "tensor([1.0986, 1.0986, 1.0986, 1.0986]) tensor(1.0986)\n"
     ]
    }
   ],
   "source": [
    "smoothing = 0.0\n",
    "confidence = 1 - smoothing\n",
    "logprobs = torch.nn.functional.log_softmax(logits, dim=-1)\n",
    "print(-logprobs)\n",
    "nll_loss = -logprobs[torch.arange(0, target.size(0)), target]\n",
    "smooth_loss = -logprobs.mean(dim=-1)\n",
    "print(smooth_loss)\n",
    "loss = confidence * nll_loss + smoothing * smooth_loss\n",
    "print(loss, loss.mean())"
   ]
  },
  {
   "cell_type": "code",
   "execution_count": null,
   "metadata": {},
   "outputs": [],
   "source": [
    "from sklearn.c"
   ]
  },
  {
   "cell_type": "markdown",
   "metadata": {
    "heading_collapsed": true
   },
   "source": [
    "# Evaluate"
   ]
  },
  {
   "cell_type": "code",
   "execution_count": null,
   "metadata": {
    "ExecuteTime": {
     "end_time": "2019-08-23T12:27:37.627893Z",
     "start_time": "2019-08-23T12:27:37.055310Z"
    },
    "hidden": true
   },
   "outputs": [],
   "source": [
    "import pytorch_tools as pt\n",
    "import torchvision as tv\n",
    "from modules.dali_dataloader import get_loader\n",
    "import torch\n",
    "import apex.amp as amp"
   ]
  },
  {
   "cell_type": "code",
   "execution_count": null,
   "metadata": {
    "ExecuteTime": {
     "end_time": "2019-08-23T12:31:40.220393Z",
     "start_time": "2019-08-23T12:31:37.878983Z"
    },
    "hidden": true
   },
   "outputs": [],
   "source": [
    "val_loader = get_loader(128, 128, 4, 0, False)\n",
    "train_loader = get_loader(128, 128, 4, 0, True, min_area=0.3)"
   ]
  },
  {
   "cell_type": "code",
   "execution_count": null,
   "metadata": {
    "ExecuteTime": {
     "end_time": "2019-08-23T12:27:51.309533Z",
     "start_time": "2019-08-23T12:27:50.699185Z"
    },
    "hidden": true
   },
   "outputs": [],
   "source": [
    "model = pt.models.se_resnext50_32x4d(pretrained='imagenet', antialias=)\n",
    "#model = pt.models.resnet50(pretrained='imagenet', antialias=True)\n",
    "model_fit = pt.fit_wrapper.FitWrapper(model).cuda()\n",
    "#model_fit = model_fit.eval()"
   ]
  },
  {
   "cell_type": "code",
   "execution_count": null,
   "metadata": {
    "ExecuteTime": {
     "end_time": "2019-08-23T12:27:51.654945Z",
     "start_time": "2019-08-23T12:27:51.643183Z"
    },
    "hidden": true
   },
   "outputs": [],
   "source": [
    "loss = torch.nn.CrossEntropyLoss()\n",
    "#loss = pt.losses.BinaryDiceLoss()\n",
    "metric = [pt.metrics.Accuracy(), pt.metrics.Accuracy(5)]\n",
    "optim = torch.optim.SGD([p for p in model_fit.parameters() if p.requires_grad], \n",
    "                        lr=1e-3, momentum=0.9, weight_decay=1e-4)\n",
    "new_model, optim = amp.initialize(model_fit.model, optim, opt_level='O1', verbosity=0)\n",
    "model_fit.compile(optim, loss, metric)"
   ]
  },
  {
   "cell_type": "code",
   "execution_count": null,
   "metadata": {
    "ExecuteTime": {
     "end_time": "2019-08-23T12:31:25.698779Z",
     "start_time": "2019-08-23T12:27:51.656524Z"
    },
    "hidden": true
   },
   "outputs": [],
   "source": [
    "model_fit.fit_generator(train_loader)"
   ]
  },
  {
   "cell_type": "code",
   "execution_count": null,
   "metadata": {
    "ExecuteTime": {
     "end_time": "2019-08-23T12:32:17.231906Z",
     "start_time": "2019-08-23T12:31:42.796885Z"
    },
    "hidden": true
   },
   "outputs": [],
   "source": [
    "model_fit.evaluate_generator(val_loader)"
   ]
  },
  {
   "cell_type": "code",
   "execution_count": null,
   "metadata": {
    "hidden": true
   },
   "outputs": [],
   "source": [
    "# resnet50 before  one ep on val no blurpool   (0.9612411314027716, [76.02032650448143, 92.90572983354673])\n",
    "# resnet50 before  one ep on val with blurpool (1.1349006000615265, [72.03505121638925, 90.63900448143406])\n",
    "\n",
    "# resnet50 after   20% ep on trn with blurpool (1.028252171438474, [74.51923076923077, 92.07932692307692])"
   ]
  },
  {
   "cell_type": "code",
   "execution_count": null,
   "metadata": {
    "hidden": true
   },
   "outputs": [],
   "source": [
    "# seresnext50_32x4 before  on  val no   blurpool   (0.8974746221151108, [79.0204326923077, 94.4170673076923])\n",
    "# seresnext50_32x4 before  on  val with blurpool   (1.0384590449432531, [76.51041666666667, 93.07491987179488])\n",
    "# seresnext50_32x4 after   15% trn with blurpool   (0.9596769673319964, [77.13942307692308, 93.46554487179488])"
   ]
  },
  {
   "cell_type": "markdown",
   "metadata": {
    "heading_collapsed": true
   },
   "source": [
    "# Torch to TF "
   ]
  },
  {
   "cell_type": "code",
   "execution_count": 7,
   "metadata": {
    "ExecuteTime": {
     "end_time": "2019-11-06T14:52:50.375440Z",
     "start_time": "2019-11-06T14:52:49.378280Z"
    },
    "hidden": true
   },
   "outputs": [],
   "source": [
    "import torch\n",
    "import pytorch_tools as pt\n",
    "# import tensorflow as tf\n",
    "import numpy as np\n",
    "import onnx\n",
    "from onnx_tf.backend import prepare"
   ]
  },
  {
   "cell_type": "code",
   "execution_count": 14,
   "metadata": {
    "ExecuteTime": {
     "end_time": "2019-11-06T14:56:26.556016Z",
     "start_time": "2019-11-06T14:55:15.137459Z"
    },
    "hidden": true
   },
   "outputs": [],
   "source": [
    "state_dict = torch.load('logs/new_test/2019-11-05_21:07:57/model.chpn')['state_dict']"
   ]
  },
  {
   "cell_type": "code",
   "execution_count": 15,
   "metadata": {
    "ExecuteTime": {
     "end_time": "2019-11-06T14:56:26.871315Z",
     "start_time": "2019-11-06T14:56:26.558203Z"
    },
    "hidden": true
   },
   "outputs": [],
   "source": [
    "model = pt.models.resnet50()"
   ]
  },
  {
   "cell_type": "code",
   "execution_count": 16,
   "metadata": {
    "ExecuteTime": {
     "end_time": "2019-11-06T14:56:26.903571Z",
     "start_time": "2019-11-06T14:56:26.873130Z"
    },
    "hidden": true
   },
   "outputs": [],
   "source": [
    "model.load_state_dict(state_dict)"
   ]
  },
  {
   "cell_type": "code",
   "execution_count": 17,
   "metadata": {
    "ExecuteTime": {
     "end_time": "2019-11-06T14:56:28.173214Z",
     "start_time": "2019-11-06T14:56:26.904906Z"
    },
    "hidden": true
   },
   "outputs": [],
   "source": [
    "dummy_input = torch.zeros((1,3,224,224))\n",
    "dummy_output = model(dummy_input)\n"
   ]
  },
  {
   "cell_type": "code",
   "execution_count": 18,
   "metadata": {
    "ExecuteTime": {
     "end_time": "2019-11-06T14:42:18.319345Z",
     "start_time": "2019-11-06T14:42:16.304006Z"
    },
    "hidden": true
   },
   "outputs": [],
   "source": [
    "#dummy_input = torch.autograd.Variable(torch.randn(1, 3, 224, 224)) \n",
    "# one black and white 28 x 28 picture will be the input to the model\n",
    "torch.onnx.export(model, dummy_input, \"model.onnx\", input_names=['input_1',], output_names=['Sigmoid_1',])"
   ]
  },
  {
   "cell_type": "code",
   "execution_count": 30,
   "metadata": {
    "ExecuteTime": {
     "end_time": "2019-11-06T15:06:12.303877Z",
     "start_time": "2019-11-06T15:06:12.299324Z"
    },
    "hidden": true
   },
   "outputs": [
    {
     "data": {
      "text/plain": [
       "['ByteSize',\n",
       " 'Clear',\n",
       " 'ClearExtension',\n",
       " 'ClearField',\n",
       " 'CopyFrom',\n",
       " 'DESCRIPTOR',\n",
       " 'DiscardUnknownFields',\n",
       " 'Extensions',\n",
       " 'FindInitializationErrors',\n",
       " 'FromString',\n",
       " 'HasExtension',\n",
       " 'HasField',\n",
       " 'IsInitialized',\n",
       " 'ListFields',\n",
       " 'MergeFrom',\n",
       " 'MergeFromString',\n",
       " 'ParseFromString',\n",
       " 'RegisterExtension',\n",
       " 'SerializePartialToString',\n",
       " 'SerializeToString',\n",
       " 'SetInParent',\n",
       " 'UnknownFields',\n",
       " 'WhichOneof',\n",
       " '_CheckCalledFromGeneratedFile',\n",
       " '_SetListener',\n",
       " '__class__',\n",
       " '__deepcopy__',\n",
       " '__delattr__',\n",
       " '__dir__',\n",
       " '__doc__',\n",
       " '__eq__',\n",
       " '__format__',\n",
       " '__ge__',\n",
       " '__getattribute__',\n",
       " '__getstate__',\n",
       " '__gt__',\n",
       " '__hash__',\n",
       " '__init__',\n",
       " '__init_subclass__',\n",
       " '__le__',\n",
       " '__lt__',\n",
       " '__module__',\n",
       " '__ne__',\n",
       " '__new__',\n",
       " '__reduce__',\n",
       " '__reduce_ex__',\n",
       " '__repr__',\n",
       " '__setattr__',\n",
       " '__setstate__',\n",
       " '__sizeof__',\n",
       " '__slots__',\n",
       " '__str__',\n",
       " '__subclasshook__',\n",
       " '__unicode__',\n",
       " '_extensions_by_name',\n",
       " '_extensions_by_number',\n",
       " 'doc_string',\n",
       " 'domain',\n",
       " 'graph',\n",
       " 'ir_version',\n",
       " 'metadata_props',\n",
       " 'model_version',\n",
       " 'opset_import',\n",
       " 'producer_name',\n",
       " 'producer_version']"
      ]
     },
     "execution_count": 30,
     "metadata": {},
     "output_type": "execute_result"
    }
   ],
   "source": [
    "dir(model_onnx)"
   ]
  },
  {
   "cell_type": "code",
   "execution_count": 3,
   "metadata": {
    "ExecuteTime": {
     "end_time": "2019-11-06T14:47:22.869435Z",
     "start_time": "2019-11-06T14:45:58.869791Z"
    },
    "hidden": true
   },
   "outputs": [
    {
     "name": "stderr",
     "output_type": "stream",
     "text": [
      "/home/zakirov/.venvs/tf14/lib/python3.6/site-packages/onnx_tf/common/handler_helper.py:37: UserWarning: Unknown op ConstantFill in domain `ai.onnx`.\n",
      "  handler.ONNX_OP, handler.DOMAIN or \"ai.onnx\"))\n",
      "/home/zakirov/.venvs/tf14/lib/python3.6/site-packages/onnx_tf/common/handler_helper.py:34: UserWarning: Fail to get since_version of DequantizeLinear in domain `` with max_inclusive_version=9. Set to 1.\n",
      "  handler.ONNX_OP, handler.DOMAIN, version))\n",
      "/home/zakirov/.venvs/tf14/lib/python3.6/site-packages/onnx_tf/common/handler_helper.py:34: UserWarning: Fail to get since_version of GatherND in domain `` with max_inclusive_version=9. Set to 1.\n",
      "  handler.ONNX_OP, handler.DOMAIN, version))\n",
      "/home/zakirov/.venvs/tf14/lib/python3.6/site-packages/onnx_tf/common/handler_helper.py:37: UserWarning: Unknown op ImageScaler in domain `ai.onnx`.\n",
      "  handler.ONNX_OP, handler.DOMAIN or \"ai.onnx\"))\n",
      "/home/zakirov/.venvs/tf14/lib/python3.6/site-packages/onnx_tf/common/handler_helper.py:34: UserWarning: Fail to get since_version of IsInf in domain `` with max_inclusive_version=9. Set to 1.\n",
      "  handler.ONNX_OP, handler.DOMAIN, version))\n",
      "/home/zakirov/.venvs/tf14/lib/python3.6/site-packages/onnx_tf/common/handler_helper.py:34: UserWarning: Fail to get since_version of MatMulInteger in domain `` with max_inclusive_version=9. Set to 1.\n",
      "  handler.ONNX_OP, handler.DOMAIN, version))\n",
      "/home/zakirov/.venvs/tf14/lib/python3.6/site-packages/onnx_tf/common/handler_helper.py:34: UserWarning: Fail to get since_version of Mod in domain `` with max_inclusive_version=9. Set to 1.\n",
      "  handler.ONNX_OP, handler.DOMAIN, version))\n",
      "/home/zakirov/.venvs/tf14/lib/python3.6/site-packages/onnx_tf/common/handler_helper.py:34: UserWarning: Fail to get since_version of NonMaxSuppression in domain `` with max_inclusive_version=9. Set to 1.\n",
      "  handler.ONNX_OP, handler.DOMAIN, version))\n",
      "/home/zakirov/.venvs/tf14/lib/python3.6/site-packages/onnx_tf/common/handler_helper.py:34: UserWarning: Fail to get since_version of QLinearMatMul in domain `` with max_inclusive_version=9. Set to 1.\n",
      "  handler.ONNX_OP, handler.DOMAIN, version))\n",
      "/home/zakirov/.venvs/tf14/lib/python3.6/site-packages/onnx_tf/common/handler_helper.py:34: UserWarning: Fail to get since_version of QuantizeLinear in domain `` with max_inclusive_version=9. Set to 1.\n",
      "  handler.ONNX_OP, handler.DOMAIN, version))\n",
      "/home/zakirov/.venvs/tf14/lib/python3.6/site-packages/onnx_tf/common/handler_helper.py:34: UserWarning: Fail to get since_version of Range in domain `` with max_inclusive_version=9. Set to 1.\n",
      "  handler.ONNX_OP, handler.DOMAIN, version))\n",
      "/home/zakirov/.venvs/tf14/lib/python3.6/site-packages/onnx_tf/common/handler_helper.py:34: UserWarning: Fail to get since_version of Resize in domain `` with max_inclusive_version=9. Set to 1.\n",
      "  handler.ONNX_OP, handler.DOMAIN, version))\n",
      "/home/zakirov/.venvs/tf14/lib/python3.6/site-packages/onnx_tf/common/handler_helper.py:34: UserWarning: Fail to get since_version of ReverseSequence in domain `` with max_inclusive_version=9. Set to 1.\n",
      "  handler.ONNX_OP, handler.DOMAIN, version))\n",
      "/home/zakirov/.venvs/tf14/lib/python3.6/site-packages/onnx_tf/common/handler_helper.py:34: UserWarning: Fail to get since_version of Round in domain `` with max_inclusive_version=9. Set to 1.\n",
      "  handler.ONNX_OP, handler.DOMAIN, version))\n",
      "/home/zakirov/.venvs/tf14/lib/python3.6/site-packages/onnx_tf/common/handler_helper.py:34: UserWarning: Fail to get since_version of ScatterElements in domain `` with max_inclusive_version=9. Set to 1.\n",
      "  handler.ONNX_OP, handler.DOMAIN, version))\n",
      "/home/zakirov/.venvs/tf14/lib/python3.6/site-packages/onnx_tf/common/handler_helper.py:34: UserWarning: Fail to get since_version of ScatterND in domain `` with max_inclusive_version=9. Set to 1.\n",
      "  handler.ONNX_OP, handler.DOMAIN, version))\n",
      "/home/zakirov/.venvs/tf14/lib/python3.6/site-packages/onnx_tf/common/handler_helper.py:34: UserWarning: Fail to get since_version of ThresholdedRelu in domain `` with max_inclusive_version=9. Set to 1.\n",
      "  handler.ONNX_OP, handler.DOMAIN, version))\n"
     ]
    },
    {
     "name": "stdout",
     "output_type": "stream",
     "text": [
      "WARNING:tensorflow:From /home/zakirov/.venvs/tf14/lib/python3.6/site-packages/onnx_tf/handlers/backend/pool_mixin.py:243: py_func (from tensorflow.python.ops.script_ops) is deprecated and will be removed in a future version.\n",
      "Instructions for updating:\n",
      "tf.py_func is deprecated in TF V2. Instead, there are two\n",
      "    options available in V2.\n",
      "    - tf.py_function takes a python function which manipulates tf eager\n",
      "    tensors instead of numpy arrays. It's easy to convert a tf eager tensor to\n",
      "    an ndarray (just call tensor.numpy()) but having access to eager tensors\n",
      "    means `tf.py_function`s can use accelerators such as GPUs as well as\n",
      "    being differentiable using a gradient tape.\n",
      "    - tf.numpy_function maintains the semantics of the deprecated tf.py_func\n",
      "    (it is not differentiable, and manipulates numpy arrays). It drops the\n",
      "    stateful argument making all functions stateful.\n",
      "    \n"
     ]
    },
    {
     "name": "stderr",
     "output_type": "stream",
     "text": [
      "/home/zakirov/.venvs/tf14/lib/python3.6/site-packages/onnx_tf/handlers/backend/pool_mixin.py:180: UserWarning: Using the pooling op in compatibility mode.This means your graph cannot be serialized.Please configure your pooling operation to only use paddings that correspond to Tensorflow SAME or VALID padding.\n",
      "  \"correspond to Tensorflow SAME or VALID padding.\", UserWarning)\n"
     ]
    },
    {
     "name": "stdout",
     "output_type": "stream",
     "text": [
      "WARNING:tensorflow:From /home/zakirov/.venvs/tf14/lib/python3.6/site-packages/onnx_tf/handlers/backend_handler.py:182: flatten (from tensorflow.python.layers.core) is deprecated and will be removed in a future version.\n",
      "Instructions for updating:\n",
      "Use keras.layers.flatten instead.\n",
      "WARNING:tensorflow:Entity <bound method Flatten.call of <tensorflow.python.layers.core.Flatten object at 0x7f27cd9f46a0>> could not be transformed and will be executed as-is. Please report this to the AutgoGraph team. When filing the bug, set the verbosity to 10 (on Linux, `export AUTOGRAPH_VERBOSITY=10`) and attach the full output. Cause: converting <bound method Flatten.call of <tensorflow.python.layers.core.Flatten object at 0x7f27cd9f46a0>>: AttributeError: module 'gast' has no attribute 'Num'\n",
      "WARNING: Entity <bound method Flatten.call of <tensorflow.python.layers.core.Flatten object at 0x7f27cd9f46a0>> could not be transformed and will be executed as-is. Please report this to the AutgoGraph team. When filing the bug, set the verbosity to 10 (on Linux, `export AUTOGRAPH_VERBOSITY=10`) and attach the full output. Cause: converting <bound method Flatten.call of <tensorflow.python.layers.core.Flatten object at 0x7f27cd9f46a0>>: AttributeError: module 'gast' has no attribute 'Num'\n",
      "WARNING:tensorflow:Entity <bound method Flatten.call of <tensorflow.python.layers.core.Flatten object at 0x7f27cd8e0ac8>> could not be transformed and will be executed as-is. Please report this to the AutgoGraph team. When filing the bug, set the verbosity to 10 (on Linux, `export AUTOGRAPH_VERBOSITY=10`) and attach the full output. Cause: converting <bound method Flatten.call of <tensorflow.python.layers.core.Flatten object at 0x7f27cd8e0ac8>>: AttributeError: module 'gast' has no attribute 'Num'\n",
      "WARNING: Entity <bound method Flatten.call of <tensorflow.python.layers.core.Flatten object at 0x7f27cd8e0ac8>> could not be transformed and will be executed as-is. Please report this to the AutgoGraph team. When filing the bug, set the verbosity to 10 (on Linux, `export AUTOGRAPH_VERBOSITY=10`) and attach the full output. Cause: converting <bound method Flatten.call of <tensorflow.python.layers.core.Flatten object at 0x7f27cd8e0ac8>>: AttributeError: module 'gast' has no attribute 'Num'\n"
     ]
    }
   ],
   "source": [
    "# Load the ONNX file\n",
    "model_onnx = onnx.load('model.onnx')\n",
    "\n",
    "# Import the ONNX model to Tensorflow\n",
    "tf_rep = prepare(model_onnx)"
   ]
  },
  {
   "cell_type": "code",
   "execution_count": 4,
   "metadata": {
    "ExecuteTime": {
     "end_time": "2019-11-06T14:48:17.017957Z",
     "start_time": "2019-11-06T14:48:17.007482Z"
    },
    "hidden": true
   },
   "outputs": [
    {
     "name": "stdout",
     "output_type": "stream",
     "text": [
      "inputs: ['input_1']\n",
      "outputs: ['Sigmoid_1']\n",
      "tensor_dict:\n",
      "{'bn1.bias': <tf.Tensor 'Const:0' shape=(64,) dtype=float32>, 'bn1.running_mean': <tf.Tensor 'Const_1:0' shape=(64,) dtype=float32>, 'bn1.running_var': <tf.Tensor 'Const_2:0' shape=(64,) dtype=float32>, 'bn1.weight': <tf.Tensor 'Const_3:0' shape=(64,) dtype=float32>, 'conv1.weight': <tf.Tensor 'Const_4:0' shape=(64, 3, 7, 7) dtype=float32>, 'last_linear.bias': <tf.Tensor 'Const_5:0' shape=(1000,) dtype=float32>, 'last_linear.weight': <tf.Tensor 'Const_6:0' shape=(1000, 2048) dtype=float32>, 'layer1.0.bn1.bias': <tf.Tensor 'Const_7:0' shape=(64,) dtype=float32>, 'layer1.0.bn1.running_mean': <tf.Tensor 'Const_8:0' shape=(64,) dtype=float32>, 'layer1.0.bn1.running_var': <tf.Tensor 'Const_9:0' shape=(64,) dtype=float32>, 'layer1.0.bn1.weight': <tf.Tensor 'Const_10:0' shape=(64,) dtype=float32>, 'layer1.0.bn2.bias': <tf.Tensor 'Const_11:0' shape=(64,) dtype=float32>, 'layer1.0.bn2.running_mean': <tf.Tensor 'Const_12:0' shape=(64,) dtype=float32>, 'layer1.0.bn2.running_var': <tf.Tensor 'Const_13:0' shape=(64,) dtype=float32>, 'layer1.0.bn2.weight': <tf.Tensor 'Const_14:0' shape=(64,) dtype=float32>, 'layer1.0.bn3.bias': <tf.Tensor 'Const_15:0' shape=(256,) dtype=float32>, 'layer1.0.bn3.running_mean': <tf.Tensor 'Const_16:0' shape=(256,) dtype=float32>, 'layer1.0.bn3.running_var': <tf.Tensor 'Const_17:0' shape=(256,) dtype=float32>, 'layer1.0.bn3.weight': <tf.Tensor 'Const_18:0' shape=(256,) dtype=float32>, 'layer1.0.conv1.weight': <tf.Tensor 'Const_19:0' shape=(64, 64, 1, 1) dtype=float32>, 'layer1.0.conv2.weight': <tf.Tensor 'Const_20:0' shape=(64, 64, 3, 3) dtype=float32>, 'layer1.0.conv3.weight': <tf.Tensor 'Const_21:0' shape=(256, 64, 1, 1) dtype=float32>, 'layer1.0.downsample.0.weight': <tf.Tensor 'Const_22:0' shape=(256, 64, 1, 1) dtype=float32>, 'layer1.0.downsample.1.bias': <tf.Tensor 'Const_23:0' shape=(256,) dtype=float32>, 'layer1.0.downsample.1.running_mean': <tf.Tensor 'Const_24:0' shape=(256,) dtype=float32>, 'layer1.0.downsample.1.running_var': <tf.Tensor 'Const_25:0' shape=(256,) dtype=float32>, 'layer1.0.downsample.1.weight': <tf.Tensor 'Const_26:0' shape=(256,) dtype=float32>, 'layer1.1.bn1.bias': <tf.Tensor 'Const_27:0' shape=(64,) dtype=float32>, 'layer1.1.bn1.running_mean': <tf.Tensor 'Const_28:0' shape=(64,) dtype=float32>, 'layer1.1.bn1.running_var': <tf.Tensor 'Const_29:0' shape=(64,) dtype=float32>, 'layer1.1.bn1.weight': <tf.Tensor 'Const_30:0' shape=(64,) dtype=float32>, 'layer1.1.bn2.bias': <tf.Tensor 'Const_31:0' shape=(64,) dtype=float32>, 'layer1.1.bn2.running_mean': <tf.Tensor 'Const_32:0' shape=(64,) dtype=float32>, 'layer1.1.bn2.running_var': <tf.Tensor 'Const_33:0' shape=(64,) dtype=float32>, 'layer1.1.bn2.weight': <tf.Tensor 'Const_34:0' shape=(64,) dtype=float32>, 'layer1.1.bn3.bias': <tf.Tensor 'Const_35:0' shape=(256,) dtype=float32>, 'layer1.1.bn3.running_mean': <tf.Tensor 'Const_36:0' shape=(256,) dtype=float32>, 'layer1.1.bn3.running_var': <tf.Tensor 'Const_37:0' shape=(256,) dtype=float32>, 'layer1.1.bn3.weight': <tf.Tensor 'Const_38:0' shape=(256,) dtype=float32>, 'layer1.1.conv1.weight': <tf.Tensor 'Const_39:0' shape=(64, 256, 1, 1) dtype=float32>, 'layer1.1.conv2.weight': <tf.Tensor 'Const_40:0' shape=(64, 64, 3, 3) dtype=float32>, 'layer1.1.conv3.weight': <tf.Tensor 'Const_41:0' shape=(256, 64, 1, 1) dtype=float32>, 'layer1.2.bn1.bias': <tf.Tensor 'Const_42:0' shape=(64,) dtype=float32>, 'layer1.2.bn1.running_mean': <tf.Tensor 'Const_43:0' shape=(64,) dtype=float32>, 'layer1.2.bn1.running_var': <tf.Tensor 'Const_44:0' shape=(64,) dtype=float32>, 'layer1.2.bn1.weight': <tf.Tensor 'Const_45:0' shape=(64,) dtype=float32>, 'layer1.2.bn2.bias': <tf.Tensor 'Const_46:0' shape=(64,) dtype=float32>, 'layer1.2.bn2.running_mean': <tf.Tensor 'Const_47:0' shape=(64,) dtype=float32>, 'layer1.2.bn2.running_var': <tf.Tensor 'Const_48:0' shape=(64,) dtype=float32>, 'layer1.2.bn2.weight': <tf.Tensor 'Const_49:0' shape=(64,) dtype=float32>, 'layer1.2.bn3.bias': <tf.Tensor 'Const_50:0' shape=(256,) dtype=float32>, 'layer1.2.bn3.running_mean': <tf.Tensor 'Const_51:0' shape=(256,) dtype=float32>, 'layer1.2.bn3.running_var': <tf.Tensor 'Const_52:0' shape=(256,) dtype=float32>, 'layer1.2.bn3.weight': <tf.Tensor 'Const_53:0' shape=(256,) dtype=float32>, 'layer1.2.conv1.weight': <tf.Tensor 'Const_54:0' shape=(64, 256, 1, 1) dtype=float32>, 'layer1.2.conv2.weight': <tf.Tensor 'Const_55:0' shape=(64, 64, 3, 3) dtype=float32>, 'layer1.2.conv3.weight': <tf.Tensor 'Const_56:0' shape=(256, 64, 1, 1) dtype=float32>, 'layer2.0.bn1.bias': <tf.Tensor 'Const_57:0' shape=(128,) dtype=float32>, 'layer2.0.bn1.running_mean': <tf.Tensor 'Const_58:0' shape=(128,) dtype=float32>, 'layer2.0.bn1.running_var': <tf.Tensor 'Const_59:0' shape=(128,) dtype=float32>, 'layer2.0.bn1.weight': <tf.Tensor 'Const_60:0' shape=(128,) dtype=float32>, 'layer2.0.bn2.bias': <tf.Tensor 'Const_61:0' shape=(128,) dtype=float32>, 'layer2.0.bn2.running_mean': <tf.Tensor 'Const_62:0' shape=(128,) dtype=float32>, 'layer2.0.bn2.running_var': <tf.Tensor 'Const_63:0' shape=(128,) dtype=float32>, 'layer2.0.bn2.weight': <tf.Tensor 'Const_64:0' shape=(128,) dtype=float32>, 'layer2.0.bn3.bias': <tf.Tensor 'Const_65:0' shape=(512,) dtype=float32>, 'layer2.0.bn3.running_mean': <tf.Tensor 'Const_66:0' shape=(512,) dtype=float32>, 'layer2.0.bn3.running_var': <tf.Tensor 'Const_67:0' shape=(512,) dtype=float32>, 'layer2.0.bn3.weight': <tf.Tensor 'Const_68:0' shape=(512,) dtype=float32>, 'layer2.0.conv1.weight': <tf.Tensor 'Const_69:0' shape=(128, 256, 1, 1) dtype=float32>, 'layer2.0.conv2.weight': <tf.Tensor 'Const_70:0' shape=(128, 128, 3, 3) dtype=float32>, 'layer2.0.conv3.weight': <tf.Tensor 'Const_71:0' shape=(512, 128, 1, 1) dtype=float32>, 'layer2.0.downsample.0.weight': <tf.Tensor 'Const_72:0' shape=(512, 256, 1, 1) dtype=float32>, 'layer2.0.downsample.1.bias': <tf.Tensor 'Const_73:0' shape=(512,) dtype=float32>, 'layer2.0.downsample.1.running_mean': <tf.Tensor 'Const_74:0' shape=(512,) dtype=float32>, 'layer2.0.downsample.1.running_var': <tf.Tensor 'Const_75:0' shape=(512,) dtype=float32>, 'layer2.0.downsample.1.weight': <tf.Tensor 'Const_76:0' shape=(512,) dtype=float32>, 'layer2.1.bn1.bias': <tf.Tensor 'Const_77:0' shape=(128,) dtype=float32>, 'layer2.1.bn1.running_mean': <tf.Tensor 'Const_78:0' shape=(128,) dtype=float32>, 'layer2.1.bn1.running_var': <tf.Tensor 'Const_79:0' shape=(128,) dtype=float32>, 'layer2.1.bn1.weight': <tf.Tensor 'Const_80:0' shape=(128,) dtype=float32>, 'layer2.1.bn2.bias': <tf.Tensor 'Const_81:0' shape=(128,) dtype=float32>, 'layer2.1.bn2.running_mean': <tf.Tensor 'Const_82:0' shape=(128,) dtype=float32>, 'layer2.1.bn2.running_var': <tf.Tensor 'Const_83:0' shape=(128,) dtype=float32>, 'layer2.1.bn2.weight': <tf.Tensor 'Const_84:0' shape=(128,) dtype=float32>, 'layer2.1.bn3.bias': <tf.Tensor 'Const_85:0' shape=(512,) dtype=float32>, 'layer2.1.bn3.running_mean': <tf.Tensor 'Const_86:0' shape=(512,) dtype=float32>, 'layer2.1.bn3.running_var': <tf.Tensor 'Const_87:0' shape=(512,) dtype=float32>, 'layer2.1.bn3.weight': <tf.Tensor 'Const_88:0' shape=(512,) dtype=float32>, 'layer2.1.conv1.weight': <tf.Tensor 'Const_89:0' shape=(128, 512, 1, 1) dtype=float32>, 'layer2.1.conv2.weight': <tf.Tensor 'Const_90:0' shape=(128, 128, 3, 3) dtype=float32>, 'layer2.1.conv3.weight': <tf.Tensor 'Const_91:0' shape=(512, 128, 1, 1) dtype=float32>, 'layer2.2.bn1.bias': <tf.Tensor 'Const_92:0' shape=(128,) dtype=float32>, 'layer2.2.bn1.running_mean': <tf.Tensor 'Const_93:0' shape=(128,) dtype=float32>, 'layer2.2.bn1.running_var': <tf.Tensor 'Const_94:0' shape=(128,) dtype=float32>, 'layer2.2.bn1.weight': <tf.Tensor 'Const_95:0' shape=(128,) dtype=float32>, 'layer2.2.bn2.bias': <tf.Tensor 'Const_96:0' shape=(128,) dtype=float32>, 'layer2.2.bn2.running_mean': <tf.Tensor 'Const_97:0' shape=(128,) dtype=float32>, 'layer2.2.bn2.running_var': <tf.Tensor 'Const_98:0' shape=(128,) dtype=float32>, 'layer2.2.bn2.weight': <tf.Tensor 'Const_99:0' shape=(128,) dtype=float32>, 'layer2.2.bn3.bias': <tf.Tensor 'Const_100:0' shape=(512,) dtype=float32>, 'layer2.2.bn3.running_mean': <tf.Tensor 'Const_101:0' shape=(512,) dtype=float32>, 'layer2.2.bn3.running_var': <tf.Tensor 'Const_102:0' shape=(512,) dtype=float32>, 'layer2.2.bn3.weight': <tf.Tensor 'Const_103:0' shape=(512,) dtype=float32>, 'layer2.2.conv1.weight': <tf.Tensor 'Const_104:0' shape=(128, 512, 1, 1) dtype=float32>, 'layer2.2.conv2.weight': <tf.Tensor 'Const_105:0' shape=(128, 128, 3, 3) dtype=float32>, 'layer2.2.conv3.weight': <tf.Tensor 'Const_106:0' shape=(512, 128, 1, 1) dtype=float32>, 'layer2.3.bn1.bias': <tf.Tensor 'Const_107:0' shape=(128,) dtype=float32>, 'layer2.3.bn1.running_mean': <tf.Tensor 'Const_108:0' shape=(128,) dtype=float32>, 'layer2.3.bn1.running_var': <tf.Tensor 'Const_109:0' shape=(128,) dtype=float32>, 'layer2.3.bn1.weight': <tf.Tensor 'Const_110:0' shape=(128,) dtype=float32>, 'layer2.3.bn2.bias': <tf.Tensor 'Const_111:0' shape=(128,) dtype=float32>, 'layer2.3.bn2.running_mean': <tf.Tensor 'Const_112:0' shape=(128,) dtype=float32>, 'layer2.3.bn2.running_var': <tf.Tensor 'Const_113:0' shape=(128,) dtype=float32>, 'layer2.3.bn2.weight': <tf.Tensor 'Const_114:0' shape=(128,) dtype=float32>, 'layer2.3.bn3.bias': <tf.Tensor 'Const_115:0' shape=(512,) dtype=float32>, 'layer2.3.bn3.running_mean': <tf.Tensor 'Const_116:0' shape=(512,) dtype=float32>, 'layer2.3.bn3.running_var': <tf.Tensor 'Const_117:0' shape=(512,) dtype=float32>, 'layer2.3.bn3.weight': <tf.Tensor 'Const_118:0' shape=(512,) dtype=float32>, 'layer2.3.conv1.weight': <tf.Tensor 'Const_119:0' shape=(128, 512, 1, 1) dtype=float32>, 'layer2.3.conv2.weight': <tf.Tensor 'Const_120:0' shape=(128, 128, 3, 3) dtype=float32>, 'layer2.3.conv3.weight': <tf.Tensor 'Const_121:0' shape=(512, 128, 1, 1) dtype=float32>, 'layer3.0.bn1.bias': <tf.Tensor 'Const_122:0' shape=(256,) dtype=float32>, 'layer3.0.bn1.running_mean': <tf.Tensor 'Const_123:0' shape=(256,) dtype=float32>, 'layer3.0.bn1.running_var': <tf.Tensor 'Const_124:0' shape=(256,) dtype=float32>, 'layer3.0.bn1.weight': <tf.Tensor 'Const_125:0' shape=(256,) dtype=float32>, 'layer3.0.bn2.bias': <tf.Tensor 'Const_126:0' shape=(256,) dtype=float32>, 'layer3.0.bn2.running_mean': <tf.Tensor 'Const_127:0' shape=(256,) dtype=float32>, 'layer3.0.bn2.running_var': <tf.Tensor 'Const_128:0' shape=(256,) dtype=float32>, 'layer3.0.bn2.weight': <tf.Tensor 'Const_129:0' shape=(256,) dtype=float32>, 'layer3.0.bn3.bias': <tf.Tensor 'Const_130:0' shape=(1024,) dtype=float32>, 'layer3.0.bn3.running_mean': <tf.Tensor 'Const_131:0' shape=(1024,) dtype=float32>, 'layer3.0.bn3.running_var': <tf.Tensor 'Const_132:0' shape=(1024,) dtype=float32>, 'layer3.0.bn3.weight': <tf.Tensor 'Const_133:0' shape=(1024,) dtype=float32>, 'layer3.0.conv1.weight': <tf.Tensor 'Const_134:0' shape=(256, 512, 1, 1) dtype=float32>, 'layer3.0.conv2.weight': <tf.Tensor 'Const_135:0' shape=(256, 256, 3, 3) dtype=float32>, 'layer3.0.conv3.weight': <tf.Tensor 'Const_136:0' shape=(1024, 256, 1, 1) dtype=float32>, 'layer3.0.downsample.0.weight': <tf.Tensor 'Const_137:0' shape=(1024, 512, 1, 1) dtype=float32>, 'layer3.0.downsample.1.bias': <tf.Tensor 'Const_138:0' shape=(1024,) dtype=float32>, 'layer3.0.downsample.1.running_mean': <tf.Tensor 'Const_139:0' shape=(1024,) dtype=float32>, 'layer3.0.downsample.1.running_var': <tf.Tensor 'Const_140:0' shape=(1024,) dtype=float32>, 'layer3.0.downsample.1.weight': <tf.Tensor 'Const_141:0' shape=(1024,) dtype=float32>, 'layer3.1.bn1.bias': <tf.Tensor 'Const_142:0' shape=(256,) dtype=float32>, 'layer3.1.bn1.running_mean': <tf.Tensor 'Const_143:0' shape=(256,) dtype=float32>, 'layer3.1.bn1.running_var': <tf.Tensor 'Const_144:0' shape=(256,) dtype=float32>, 'layer3.1.bn1.weight': <tf.Tensor 'Const_145:0' shape=(256,) dtype=float32>, 'layer3.1.bn2.bias': <tf.Tensor 'Const_146:0' shape=(256,) dtype=float32>, 'layer3.1.bn2.running_mean': <tf.Tensor 'Const_147:0' shape=(256,) dtype=float32>, 'layer3.1.bn2.running_var': <tf.Tensor 'Const_148:0' shape=(256,) dtype=float32>, 'layer3.1.bn2.weight': <tf.Tensor 'Const_149:0' shape=(256,) dtype=float32>, 'layer3.1.bn3.bias': <tf.Tensor 'Const_150:0' shape=(1024,) dtype=float32>, 'layer3.1.bn3.running_mean': <tf.Tensor 'Const_151:0' shape=(1024,) dtype=float32>, 'layer3.1.bn3.running_var': <tf.Tensor 'Const_152:0' shape=(1024,) dtype=float32>, 'layer3.1.bn3.weight': <tf.Tensor 'Const_153:0' shape=(1024,) dtype=float32>, 'layer3.1.conv1.weight': <tf.Tensor 'Const_154:0' shape=(256, 1024, 1, 1) dtype=float32>, 'layer3.1.conv2.weight': <tf.Tensor 'Const_155:0' shape=(256, 256, 3, 3) dtype=float32>, 'layer3.1.conv3.weight': <tf.Tensor 'Const_156:0' shape=(1024, 256, 1, 1) dtype=float32>, 'layer3.2.bn1.bias': <tf.Tensor 'Const_157:0' shape=(256,) dtype=float32>, 'layer3.2.bn1.running_mean': <tf.Tensor 'Const_158:0' shape=(256,) dtype=float32>, 'layer3.2.bn1.running_var': <tf.Tensor 'Const_159:0' shape=(256,) dtype=float32>, 'layer3.2.bn1.weight': <tf.Tensor 'Const_160:0' shape=(256,) dtype=float32>, 'layer3.2.bn2.bias': <tf.Tensor 'Const_161:0' shape=(256,) dtype=float32>, 'layer3.2.bn2.running_mean': <tf.Tensor 'Const_162:0' shape=(256,) dtype=float32>, 'layer3.2.bn2.running_var': <tf.Tensor 'Const_163:0' shape=(256,) dtype=float32>, 'layer3.2.bn2.weight': <tf.Tensor 'Const_164:0' shape=(256,) dtype=float32>, 'layer3.2.bn3.bias': <tf.Tensor 'Const_165:0' shape=(1024,) dtype=float32>, 'layer3.2.bn3.running_mean': <tf.Tensor 'Const_166:0' shape=(1024,) dtype=float32>, 'layer3.2.bn3.running_var': <tf.Tensor 'Const_167:0' shape=(1024,) dtype=float32>, 'layer3.2.bn3.weight': <tf.Tensor 'Const_168:0' shape=(1024,) dtype=float32>, 'layer3.2.conv1.weight': <tf.Tensor 'Const_169:0' shape=(256, 1024, 1, 1) dtype=float32>, 'layer3.2.conv2.weight': <tf.Tensor 'Const_170:0' shape=(256, 256, 3, 3) dtype=float32>, 'layer3.2.conv3.weight': <tf.Tensor 'Const_171:0' shape=(1024, 256, 1, 1) dtype=float32>, 'layer3.3.bn1.bias': <tf.Tensor 'Const_172:0' shape=(256,) dtype=float32>, 'layer3.3.bn1.running_mean': <tf.Tensor 'Const_173:0' shape=(256,) dtype=float32>, 'layer3.3.bn1.running_var': <tf.Tensor 'Const_174:0' shape=(256,) dtype=float32>, 'layer3.3.bn1.weight': <tf.Tensor 'Const_175:0' shape=(256,) dtype=float32>, 'layer3.3.bn2.bias': <tf.Tensor 'Const_176:0' shape=(256,) dtype=float32>, 'layer3.3.bn2.running_mean': <tf.Tensor 'Const_177:0' shape=(256,) dtype=float32>, 'layer3.3.bn2.running_var': <tf.Tensor 'Const_178:0' shape=(256,) dtype=float32>, 'layer3.3.bn2.weight': <tf.Tensor 'Const_179:0' shape=(256,) dtype=float32>, 'layer3.3.bn3.bias': <tf.Tensor 'Const_180:0' shape=(1024,) dtype=float32>, 'layer3.3.bn3.running_mean': <tf.Tensor 'Const_181:0' shape=(1024,) dtype=float32>, 'layer3.3.bn3.running_var': <tf.Tensor 'Const_182:0' shape=(1024,) dtype=float32>, 'layer3.3.bn3.weight': <tf.Tensor 'Const_183:0' shape=(1024,) dtype=float32>, 'layer3.3.conv1.weight': <tf.Tensor 'Const_184:0' shape=(256, 1024, 1, 1) dtype=float32>, 'layer3.3.conv2.weight': <tf.Tensor 'Const_185:0' shape=(256, 256, 3, 3) dtype=float32>, 'layer3.3.conv3.weight': <tf.Tensor 'Const_186:0' shape=(1024, 256, 1, 1) dtype=float32>, 'layer3.4.bn1.bias': <tf.Tensor 'Const_187:0' shape=(256,) dtype=float32>, 'layer3.4.bn1.running_mean': <tf.Tensor 'Const_188:0' shape=(256,) dtype=float32>, 'layer3.4.bn1.running_var': <tf.Tensor 'Const_189:0' shape=(256,) dtype=float32>, 'layer3.4.bn1.weight': <tf.Tensor 'Const_190:0' shape=(256,) dtype=float32>, 'layer3.4.bn2.bias': <tf.Tensor 'Const_191:0' shape=(256,) dtype=float32>, 'layer3.4.bn2.running_mean': <tf.Tensor 'Const_192:0' shape=(256,) dtype=float32>, 'layer3.4.bn2.running_var': <tf.Tensor 'Const_193:0' shape=(256,) dtype=float32>, 'layer3.4.bn2.weight': <tf.Tensor 'Const_194:0' shape=(256,) dtype=float32>, 'layer3.4.bn3.bias': <tf.Tensor 'Const_195:0' shape=(1024,) dtype=float32>, 'layer3.4.bn3.running_mean': <tf.Tensor 'Const_196:0' shape=(1024,) dtype=float32>, 'layer3.4.bn3.running_var': <tf.Tensor 'Const_197:0' shape=(1024,) dtype=float32>, 'layer3.4.bn3.weight': <tf.Tensor 'Const_198:0' shape=(1024,) dtype=float32>, 'layer3.4.conv1.weight': <tf.Tensor 'Const_199:0' shape=(256, 1024, 1, 1) dtype=float32>, 'layer3.4.conv2.weight': <tf.Tensor 'Const_200:0' shape=(256, 256, 3, 3) dtype=float32>, 'layer3.4.conv3.weight': <tf.Tensor 'Const_201:0' shape=(1024, 256, 1, 1) dtype=float32>, 'layer3.5.bn1.bias': <tf.Tensor 'Const_202:0' shape=(256,) dtype=float32>, 'layer3.5.bn1.running_mean': <tf.Tensor 'Const_203:0' shape=(256,) dtype=float32>, 'layer3.5.bn1.running_var': <tf.Tensor 'Const_204:0' shape=(256,) dtype=float32>, 'layer3.5.bn1.weight': <tf.Tensor 'Const_205:0' shape=(256,) dtype=float32>, 'layer3.5.bn2.bias': <tf.Tensor 'Const_206:0' shape=(256,) dtype=float32>, 'layer3.5.bn2.running_mean': <tf.Tensor 'Const_207:0' shape=(256,) dtype=float32>, 'layer3.5.bn2.running_var': <tf.Tensor 'Const_208:0' shape=(256,) dtype=float32>, 'layer3.5.bn2.weight': <tf.Tensor 'Const_209:0' shape=(256,) dtype=float32>, 'layer3.5.bn3.bias': <tf.Tensor 'Const_210:0' shape=(1024,) dtype=float32>, 'layer3.5.bn3.running_mean': <tf.Tensor 'Const_211:0' shape=(1024,) dtype=float32>, 'layer3.5.bn3.running_var': <tf.Tensor 'Const_212:0' shape=(1024,) dtype=float32>, 'layer3.5.bn3.weight': <tf.Tensor 'Const_213:0' shape=(1024,) dtype=float32>, 'layer3.5.conv1.weight': <tf.Tensor 'Const_214:0' shape=(256, 1024, 1, 1) dtype=float32>, 'layer3.5.conv2.weight': <tf.Tensor 'Const_215:0' shape=(256, 256, 3, 3) dtype=float32>, 'layer3.5.conv3.weight': <tf.Tensor 'Const_216:0' shape=(1024, 256, 1, 1) dtype=float32>, 'layer4.0.bn1.bias': <tf.Tensor 'Const_217:0' shape=(512,) dtype=float32>, 'layer4.0.bn1.running_mean': <tf.Tensor 'Const_218:0' shape=(512,) dtype=float32>, 'layer4.0.bn1.running_var': <tf.Tensor 'Const_219:0' shape=(512,) dtype=float32>, 'layer4.0.bn1.weight': <tf.Tensor 'Const_220:0' shape=(512,) dtype=float32>, 'layer4.0.bn2.bias': <tf.Tensor 'Const_221:0' shape=(512,) dtype=float32>, 'layer4.0.bn2.running_mean': <tf.Tensor 'Const_222:0' shape=(512,) dtype=float32>, 'layer4.0.bn2.running_var': <tf.Tensor 'Const_223:0' shape=(512,) dtype=float32>, 'layer4.0.bn2.weight': <tf.Tensor 'Const_224:0' shape=(512,) dtype=float32>, 'layer4.0.bn3.bias': <tf.Tensor 'Const_225:0' shape=(2048,) dtype=float32>, 'layer4.0.bn3.running_mean': <tf.Tensor 'Const_226:0' shape=(2048,) dtype=float32>, 'layer4.0.bn3.running_var': <tf.Tensor 'Const_227:0' shape=(2048,) dtype=float32>, 'layer4.0.bn3.weight': <tf.Tensor 'Const_228:0' shape=(2048,) dtype=float32>, 'layer4.0.conv1.weight': <tf.Tensor 'Const_229:0' shape=(512, 1024, 1, 1) dtype=float32>, 'layer4.0.conv2.weight': <tf.Tensor 'Const_230:0' shape=(512, 512, 3, 3) dtype=float32>, 'layer4.0.conv3.weight': <tf.Tensor 'Const_231:0' shape=(2048, 512, 1, 1) dtype=float32>, 'layer4.0.downsample.0.weight': <tf.Tensor 'Const_232:0' shape=(2048, 1024, 1, 1) dtype=float32>, 'layer4.0.downsample.1.bias': <tf.Tensor 'Const_233:0' shape=(2048,) dtype=float32>, 'layer4.0.downsample.1.running_mean': <tf.Tensor 'Const_234:0' shape=(2048,) dtype=float32>, 'layer4.0.downsample.1.running_var': <tf.Tensor 'Const_235:0' shape=(2048,) dtype=float32>, 'layer4.0.downsample.1.weight': <tf.Tensor 'Const_236:0' shape=(2048,) dtype=float32>, 'layer4.1.bn1.bias': <tf.Tensor 'Const_237:0' shape=(512,) dtype=float32>, 'layer4.1.bn1.running_mean': <tf.Tensor 'Const_238:0' shape=(512,) dtype=float32>, 'layer4.1.bn1.running_var': <tf.Tensor 'Const_239:0' shape=(512,) dtype=float32>, 'layer4.1.bn1.weight': <tf.Tensor 'Const_240:0' shape=(512,) dtype=float32>, 'layer4.1.bn2.bias': <tf.Tensor 'Const_241:0' shape=(512,) dtype=float32>, 'layer4.1.bn2.running_mean': <tf.Tensor 'Const_242:0' shape=(512,) dtype=float32>, 'layer4.1.bn2.running_var': <tf.Tensor 'Const_243:0' shape=(512,) dtype=float32>, 'layer4.1.bn2.weight': <tf.Tensor 'Const_244:0' shape=(512,) dtype=float32>, 'layer4.1.bn3.bias': <tf.Tensor 'Const_245:0' shape=(2048,) dtype=float32>, 'layer4.1.bn3.running_mean': <tf.Tensor 'Const_246:0' shape=(2048,) dtype=float32>, 'layer4.1.bn3.running_var': <tf.Tensor 'Const_247:0' shape=(2048,) dtype=float32>, 'layer4.1.bn3.weight': <tf.Tensor 'Const_248:0' shape=(2048,) dtype=float32>, 'layer4.1.conv1.weight': <tf.Tensor 'Const_249:0' shape=(512, 2048, 1, 1) dtype=float32>, 'layer4.1.conv2.weight': <tf.Tensor 'Const_250:0' shape=(512, 512, 3, 3) dtype=float32>, 'layer4.1.conv3.weight': <tf.Tensor 'Const_251:0' shape=(2048, 512, 1, 1) dtype=float32>, 'layer4.2.bn1.bias': <tf.Tensor 'Const_252:0' shape=(512,) dtype=float32>, 'layer4.2.bn1.running_mean': <tf.Tensor 'Const_253:0' shape=(512,) dtype=float32>, 'layer4.2.bn1.running_var': <tf.Tensor 'Const_254:0' shape=(512,) dtype=float32>, 'layer4.2.bn1.weight': <tf.Tensor 'Const_255:0' shape=(512,) dtype=float32>, 'layer4.2.bn2.bias': <tf.Tensor 'Const_256:0' shape=(512,) dtype=float32>, 'layer4.2.bn2.running_mean': <tf.Tensor 'Const_257:0' shape=(512,) dtype=float32>, 'layer4.2.bn2.running_var': <tf.Tensor 'Const_258:0' shape=(512,) dtype=float32>, 'layer4.2.bn2.weight': <tf.Tensor 'Const_259:0' shape=(512,) dtype=float32>, 'layer4.2.bn3.bias': <tf.Tensor 'Const_260:0' shape=(2048,) dtype=float32>, 'layer4.2.bn3.running_mean': <tf.Tensor 'Const_261:0' shape=(2048,) dtype=float32>, 'layer4.2.bn3.running_var': <tf.Tensor 'Const_262:0' shape=(2048,) dtype=float32>, 'layer4.2.bn3.weight': <tf.Tensor 'Const_263:0' shape=(2048,) dtype=float32>, 'layer4.2.conv1.weight': <tf.Tensor 'Const_264:0' shape=(512, 2048, 1, 1) dtype=float32>, 'layer4.2.conv2.weight': <tf.Tensor 'Const_265:0' shape=(512, 512, 3, 3) dtype=float32>, 'layer4.2.conv3.weight': <tf.Tensor 'Const_266:0' shape=(2048, 512, 1, 1) dtype=float32>, 'input_1': <tf.Tensor 'input_1:0' shape=(1, 3, 224, 224) dtype=float32>, '268': <tf.Tensor 'concat:0' shape=(1, 64, 112, 112) dtype=float32>, '269': <tf.Tensor 'batchnorm/add_1:0' shape=(1, 64, 112, 112) dtype=float32>, '270': <tf.Tensor 'Relu:0' shape=(1, 64, 112, 112) dtype=float32>, '271': <tf.Tensor 'PyFunc:0' shape=(1, 64, 56, 56) dtype=float32>, '272': <tf.Tensor 'concat_1:0' shape=(1, 256, 56, 56) dtype=float32>, '273': <tf.Tensor 'batchnorm_1/add_1:0' shape=(1, 256, 56, 56) dtype=float32>, '274': <tf.Tensor 'concat_2:0' shape=(1, 64, 56, 56) dtype=float32>, '275': <tf.Tensor 'batchnorm_2/add_1:0' shape=(1, 64, 56, 56) dtype=float32>, '276': <tf.Tensor 'Relu_1:0' shape=(1, 64, 56, 56) dtype=float32>, '277': <tf.Tensor 'concat_3:0' shape=(1, 64, 56, 56) dtype=float32>, '278': <tf.Tensor 'batchnorm_3/add_1:0' shape=(1, 64, 56, 56) dtype=float32>, '279': <tf.Tensor 'Relu_2:0' shape=(1, 64, 56, 56) dtype=float32>, '280': <tf.Tensor 'concat_4:0' shape=(1, 256, 56, 56) dtype=float32>, '281': <tf.Tensor 'batchnorm_4/add_1:0' shape=(1, 256, 56, 56) dtype=float32>, '282': <tf.Tensor 'Add:0' shape=(1, 256, 56, 56) dtype=float32>, '283': <tf.Tensor 'Relu_3:0' shape=(1, 256, 56, 56) dtype=float32>, '284': <tf.Tensor 'concat_5:0' shape=(1, 64, 56, 56) dtype=float32>, '285': <tf.Tensor 'batchnorm_5/add_1:0' shape=(1, 64, 56, 56) dtype=float32>, '286': <tf.Tensor 'Relu_4:0' shape=(1, 64, 56, 56) dtype=float32>, '287': <tf.Tensor 'concat_6:0' shape=(1, 64, 56, 56) dtype=float32>, '288': <tf.Tensor 'batchnorm_6/add_1:0' shape=(1, 64, 56, 56) dtype=float32>, '289': <tf.Tensor 'Relu_5:0' shape=(1, 64, 56, 56) dtype=float32>, '290': <tf.Tensor 'concat_7:0' shape=(1, 256, 56, 56) dtype=float32>, '291': <tf.Tensor 'batchnorm_7/add_1:0' shape=(1, 256, 56, 56) dtype=float32>, '292': <tf.Tensor 'Add_1:0' shape=(1, 256, 56, 56) dtype=float32>, '293': <tf.Tensor 'Relu_6:0' shape=(1, 256, 56, 56) dtype=float32>, '294': <tf.Tensor 'concat_8:0' shape=(1, 64, 56, 56) dtype=float32>, '295': <tf.Tensor 'batchnorm_8/add_1:0' shape=(1, 64, 56, 56) dtype=float32>, '296': <tf.Tensor 'Relu_7:0' shape=(1, 64, 56, 56) dtype=float32>, '297': <tf.Tensor 'concat_9:0' shape=(1, 64, 56, 56) dtype=float32>, '298': <tf.Tensor 'batchnorm_9/add_1:0' shape=(1, 64, 56, 56) dtype=float32>, '299': <tf.Tensor 'Relu_8:0' shape=(1, 64, 56, 56) dtype=float32>, '300': <tf.Tensor 'concat_10:0' shape=(1, 256, 56, 56) dtype=float32>, '301': <tf.Tensor 'batchnorm_10/add_1:0' shape=(1, 256, 56, 56) dtype=float32>, '302': <tf.Tensor 'Add_2:0' shape=(1, 256, 56, 56) dtype=float32>, '303': <tf.Tensor 'Relu_9:0' shape=(1, 256, 56, 56) dtype=float32>, '304': <tf.Tensor 'concat_11:0' shape=(1, 512, 28, 28) dtype=float32>, '305': <tf.Tensor 'batchnorm_11/add_1:0' shape=(1, 512, 28, 28) dtype=float32>, '306': <tf.Tensor 'concat_12:0' shape=(1, 128, 56, 56) dtype=float32>, '307': <tf.Tensor 'batchnorm_12/add_1:0' shape=(1, 128, 56, 56) dtype=float32>, '308': <tf.Tensor 'Relu_10:0' shape=(1, 128, 56, 56) dtype=float32>, '309': <tf.Tensor 'concat_13:0' shape=(1, 128, 28, 28) dtype=float32>, '310': <tf.Tensor 'batchnorm_13/add_1:0' shape=(1, 128, 28, 28) dtype=float32>, '311': <tf.Tensor 'Relu_11:0' shape=(1, 128, 28, 28) dtype=float32>, '312': <tf.Tensor 'concat_14:0' shape=(1, 512, 28, 28) dtype=float32>, '313': <tf.Tensor 'batchnorm_14/add_1:0' shape=(1, 512, 28, 28) dtype=float32>, '314': <tf.Tensor 'Add_3:0' shape=(1, 512, 28, 28) dtype=float32>, '315': <tf.Tensor 'Relu_12:0' shape=(1, 512, 28, 28) dtype=float32>, '316': <tf.Tensor 'concat_15:0' shape=(1, 128, 28, 28) dtype=float32>, '317': <tf.Tensor 'batchnorm_15/add_1:0' shape=(1, 128, 28, 28) dtype=float32>, '318': <tf.Tensor 'Relu_13:0' shape=(1, 128, 28, 28) dtype=float32>, '319': <tf.Tensor 'concat_16:0' shape=(1, 128, 28, 28) dtype=float32>, '320': <tf.Tensor 'batchnorm_16/add_1:0' shape=(1, 128, 28, 28) dtype=float32>, '321': <tf.Tensor 'Relu_14:0' shape=(1, 128, 28, 28) dtype=float32>, '322': <tf.Tensor 'concat_17:0' shape=(1, 512, 28, 28) dtype=float32>, '323': <tf.Tensor 'batchnorm_17/add_1:0' shape=(1, 512, 28, 28) dtype=float32>, '324': <tf.Tensor 'Add_4:0' shape=(1, 512, 28, 28) dtype=float32>, '325': <tf.Tensor 'Relu_15:0' shape=(1, 512, 28, 28) dtype=float32>, '326': <tf.Tensor 'concat_18:0' shape=(1, 128, 28, 28) dtype=float32>, '327': <tf.Tensor 'batchnorm_18/add_1:0' shape=(1, 128, 28, 28) dtype=float32>, '328': <tf.Tensor 'Relu_16:0' shape=(1, 128, 28, 28) dtype=float32>, '329': <tf.Tensor 'concat_19:0' shape=(1, 128, 28, 28) dtype=float32>, '330': <tf.Tensor 'batchnorm_19/add_1:0' shape=(1, 128, 28, 28) dtype=float32>, '331': <tf.Tensor 'Relu_17:0' shape=(1, 128, 28, 28) dtype=float32>, '332': <tf.Tensor 'concat_20:0' shape=(1, 512, 28, 28) dtype=float32>, '333': <tf.Tensor 'batchnorm_20/add_1:0' shape=(1, 512, 28, 28) dtype=float32>, '334': <tf.Tensor 'Add_5:0' shape=(1, 512, 28, 28) dtype=float32>, '335': <tf.Tensor 'Relu_18:0' shape=(1, 512, 28, 28) dtype=float32>, '336': <tf.Tensor 'concat_21:0' shape=(1, 128, 28, 28) dtype=float32>, '337': <tf.Tensor 'batchnorm_21/add_1:0' shape=(1, 128, 28, 28) dtype=float32>, '338': <tf.Tensor 'Relu_19:0' shape=(1, 128, 28, 28) dtype=float32>, '339': <tf.Tensor 'concat_22:0' shape=(1, 128, 28, 28) dtype=float32>, '340': <tf.Tensor 'batchnorm_22/add_1:0' shape=(1, 128, 28, 28) dtype=float32>, '341': <tf.Tensor 'Relu_20:0' shape=(1, 128, 28, 28) dtype=float32>, '342': <tf.Tensor 'concat_23:0' shape=(1, 512, 28, 28) dtype=float32>, '343': <tf.Tensor 'batchnorm_23/add_1:0' shape=(1, 512, 28, 28) dtype=float32>, '344': <tf.Tensor 'Add_6:0' shape=(1, 512, 28, 28) dtype=float32>, '345': <tf.Tensor 'Relu_21:0' shape=(1, 512, 28, 28) dtype=float32>, '346': <tf.Tensor 'concat_24:0' shape=(1, 1024, 14, 14) dtype=float32>, '347': <tf.Tensor 'batchnorm_24/add_1:0' shape=(1, 1024, 14, 14) dtype=float32>, '348': <tf.Tensor 'concat_25:0' shape=(1, 256, 28, 28) dtype=float32>, '349': <tf.Tensor 'batchnorm_25/add_1:0' shape=(1, 256, 28, 28) dtype=float32>, '350': <tf.Tensor 'Relu_22:0' shape=(1, 256, 28, 28) dtype=float32>, '351': <tf.Tensor 'concat_26:0' shape=(1, 256, 14, 14) dtype=float32>, '352': <tf.Tensor 'batchnorm_26/add_1:0' shape=(1, 256, 14, 14) dtype=float32>, '353': <tf.Tensor 'Relu_23:0' shape=(1, 256, 14, 14) dtype=float32>, '354': <tf.Tensor 'concat_27:0' shape=(1, 1024, 14, 14) dtype=float32>, '355': <tf.Tensor 'batchnorm_27/add_1:0' shape=(1, 1024, 14, 14) dtype=float32>, '356': <tf.Tensor 'Add_7:0' shape=(1, 1024, 14, 14) dtype=float32>, '357': <tf.Tensor 'Relu_24:0' shape=(1, 1024, 14, 14) dtype=float32>, '358': <tf.Tensor 'concat_28:0' shape=(1, 256, 14, 14) dtype=float32>, '359': <tf.Tensor 'batchnorm_28/add_1:0' shape=(1, 256, 14, 14) dtype=float32>, '360': <tf.Tensor 'Relu_25:0' shape=(1, 256, 14, 14) dtype=float32>, '361': <tf.Tensor 'concat_29:0' shape=(1, 256, 14, 14) dtype=float32>, '362': <tf.Tensor 'batchnorm_29/add_1:0' shape=(1, 256, 14, 14) dtype=float32>, '363': <tf.Tensor 'Relu_26:0' shape=(1, 256, 14, 14) dtype=float32>, '364': <tf.Tensor 'concat_30:0' shape=(1, 1024, 14, 14) dtype=float32>, '365': <tf.Tensor 'batchnorm_30/add_1:0' shape=(1, 1024, 14, 14) dtype=float32>, '366': <tf.Tensor 'Add_8:0' shape=(1, 1024, 14, 14) dtype=float32>, '367': <tf.Tensor 'Relu_27:0' shape=(1, 1024, 14, 14) dtype=float32>, '368': <tf.Tensor 'concat_31:0' shape=(1, 256, 14, 14) dtype=float32>, '369': <tf.Tensor 'batchnorm_31/add_1:0' shape=(1, 256, 14, 14) dtype=float32>, '370': <tf.Tensor 'Relu_28:0' shape=(1, 256, 14, 14) dtype=float32>, '371': <tf.Tensor 'concat_32:0' shape=(1, 256, 14, 14) dtype=float32>, '372': <tf.Tensor 'batchnorm_32/add_1:0' shape=(1, 256, 14, 14) dtype=float32>, '373': <tf.Tensor 'Relu_29:0' shape=(1, 256, 14, 14) dtype=float32>, '374': <tf.Tensor 'concat_33:0' shape=(1, 1024, 14, 14) dtype=float32>, '375': <tf.Tensor 'batchnorm_33/add_1:0' shape=(1, 1024, 14, 14) dtype=float32>, '376': <tf.Tensor 'Add_9:0' shape=(1, 1024, 14, 14) dtype=float32>, '377': <tf.Tensor 'Relu_30:0' shape=(1, 1024, 14, 14) dtype=float32>, '378': <tf.Tensor 'concat_34:0' shape=(1, 256, 14, 14) dtype=float32>, '379': <tf.Tensor 'batchnorm_34/add_1:0' shape=(1, 256, 14, 14) dtype=float32>, '380': <tf.Tensor 'Relu_31:0' shape=(1, 256, 14, 14) dtype=float32>, '381': <tf.Tensor 'concat_35:0' shape=(1, 256, 14, 14) dtype=float32>, '382': <tf.Tensor 'batchnorm_35/add_1:0' shape=(1, 256, 14, 14) dtype=float32>, '383': <tf.Tensor 'Relu_32:0' shape=(1, 256, 14, 14) dtype=float32>, '384': <tf.Tensor 'concat_36:0' shape=(1, 1024, 14, 14) dtype=float32>, '385': <tf.Tensor 'batchnorm_36/add_1:0' shape=(1, 1024, 14, 14) dtype=float32>, '386': <tf.Tensor 'Add_10:0' shape=(1, 1024, 14, 14) dtype=float32>, '387': <tf.Tensor 'Relu_33:0' shape=(1, 1024, 14, 14) dtype=float32>, '388': <tf.Tensor 'concat_37:0' shape=(1, 256, 14, 14) dtype=float32>, '389': <tf.Tensor 'batchnorm_37/add_1:0' shape=(1, 256, 14, 14) dtype=float32>, '390': <tf.Tensor 'Relu_34:0' shape=(1, 256, 14, 14) dtype=float32>, '391': <tf.Tensor 'concat_38:0' shape=(1, 256, 14, 14) dtype=float32>, '392': <tf.Tensor 'batchnorm_38/add_1:0' shape=(1, 256, 14, 14) dtype=float32>, '393': <tf.Tensor 'Relu_35:0' shape=(1, 256, 14, 14) dtype=float32>, '394': <tf.Tensor 'concat_39:0' shape=(1, 1024, 14, 14) dtype=float32>, '395': <tf.Tensor 'batchnorm_39/add_1:0' shape=(1, 1024, 14, 14) dtype=float32>, '396': <tf.Tensor 'Add_11:0' shape=(1, 1024, 14, 14) dtype=float32>, '397': <tf.Tensor 'Relu_36:0' shape=(1, 1024, 14, 14) dtype=float32>, '398': <tf.Tensor 'concat_40:0' shape=(1, 256, 14, 14) dtype=float32>, '399': <tf.Tensor 'batchnorm_40/add_1:0' shape=(1, 256, 14, 14) dtype=float32>, '400': <tf.Tensor 'Relu_37:0' shape=(1, 256, 14, 14) dtype=float32>, '401': <tf.Tensor 'concat_41:0' shape=(1, 256, 14, 14) dtype=float32>, '402': <tf.Tensor 'batchnorm_41/add_1:0' shape=(1, 256, 14, 14) dtype=float32>, '403': <tf.Tensor 'Relu_38:0' shape=(1, 256, 14, 14) dtype=float32>, '404': <tf.Tensor 'concat_42:0' shape=(1, 1024, 14, 14) dtype=float32>, '405': <tf.Tensor 'batchnorm_42/add_1:0' shape=(1, 1024, 14, 14) dtype=float32>, '406': <tf.Tensor 'Add_12:0' shape=(1, 1024, 14, 14) dtype=float32>, '407': <tf.Tensor 'Relu_39:0' shape=(1, 1024, 14, 14) dtype=float32>, '408': <tf.Tensor 'concat_43:0' shape=(1, 2048, 7, 7) dtype=float32>, '409': <tf.Tensor 'batchnorm_43/add_1:0' shape=(1, 2048, 7, 7) dtype=float32>, '410': <tf.Tensor 'concat_44:0' shape=(1, 512, 14, 14) dtype=float32>, '411': <tf.Tensor 'batchnorm_44/add_1:0' shape=(1, 512, 14, 14) dtype=float32>, '412': <tf.Tensor 'Relu_40:0' shape=(1, 512, 14, 14) dtype=float32>, '413': <tf.Tensor 'concat_45:0' shape=(1, 512, 7, 7) dtype=float32>, '414': <tf.Tensor 'batchnorm_45/add_1:0' shape=(1, 512, 7, 7) dtype=float32>, '415': <tf.Tensor 'Relu_41:0' shape=(1, 512, 7, 7) dtype=float32>, '416': <tf.Tensor 'concat_46:0' shape=(1, 2048, 7, 7) dtype=float32>, '417': <tf.Tensor 'batchnorm_46/add_1:0' shape=(1, 2048, 7, 7) dtype=float32>, '418': <tf.Tensor 'Add_13:0' shape=(1, 2048, 7, 7) dtype=float32>, '419': <tf.Tensor 'Relu_42:0' shape=(1, 2048, 7, 7) dtype=float32>, '420': <tf.Tensor 'concat_47:0' shape=(1, 512, 7, 7) dtype=float32>, '421': <tf.Tensor 'batchnorm_47/add_1:0' shape=(1, 512, 7, 7) dtype=float32>, '422': <tf.Tensor 'Relu_43:0' shape=(1, 512, 7, 7) dtype=float32>, '423': <tf.Tensor 'concat_48:0' shape=(1, 512, 7, 7) dtype=float32>, '424': <tf.Tensor 'batchnorm_48/add_1:0' shape=(1, 512, 7, 7) dtype=float32>, '425': <tf.Tensor 'Relu_44:0' shape=(1, 512, 7, 7) dtype=float32>, '426': <tf.Tensor 'concat_49:0' shape=(1, 2048, 7, 7) dtype=float32>, '427': <tf.Tensor 'batchnorm_49/add_1:0' shape=(1, 2048, 7, 7) dtype=float32>, '428': <tf.Tensor 'Add_14:0' shape=(1, 2048, 7, 7) dtype=float32>, '429': <tf.Tensor 'Relu_45:0' shape=(1, 2048, 7, 7) dtype=float32>, '430': <tf.Tensor 'concat_50:0' shape=(1, 512, 7, 7) dtype=float32>, '431': <tf.Tensor 'batchnorm_50/add_1:0' shape=(1, 512, 7, 7) dtype=float32>, '432': <tf.Tensor 'Relu_46:0' shape=(1, 512, 7, 7) dtype=float32>, '433': <tf.Tensor 'concat_51:0' shape=(1, 512, 7, 7) dtype=float32>, '434': <tf.Tensor 'batchnorm_51/add_1:0' shape=(1, 512, 7, 7) dtype=float32>, '435': <tf.Tensor 'Relu_47:0' shape=(1, 512, 7, 7) dtype=float32>, '436': <tf.Tensor 'concat_52:0' shape=(1, 2048, 7, 7) dtype=float32>, '437': <tf.Tensor 'batchnorm_52/add_1:0' shape=(1, 2048, 7, 7) dtype=float32>, '438': <tf.Tensor 'Add_15:0' shape=(1, 2048, 7, 7) dtype=float32>, '439': <tf.Tensor 'Relu_48:0' shape=(1, 2048, 7, 7) dtype=float32>, '440': <tf.Tensor 'Mean:0' shape=(1, 2048, 1, 1) dtype=float32>, '441': <tf.Tensor 'flatten/Reshape:0' shape=(1, 2048) dtype=float32>, 'Sigmoid_1': <tf.Tensor 'add_16:0' shape=(1, 1000) dtype=float32>}\n"
     ]
    }
   ],
   "source": [
    "# Input nodes to the model\n",
    "print('inputs:', tf_rep.inputs)\n",
    "\n",
    "# Output nodes from the model\n",
    "print('outputs:', tf_rep.outputs)\n",
    "\n",
    "# All nodes in the model\n",
    "print('tensor_dict:')\n",
    "print(tf_rep.tensor_dict)"
   ]
  },
  {
   "cell_type": "code",
   "execution_count": 10,
   "metadata": {
    "ExecuteTime": {
     "end_time": "2019-11-06T14:54:48.076227Z",
     "start_time": "2019-11-06T14:54:39.355229Z"
    },
    "hidden": true
   },
   "outputs": [],
   "source": [
    "tf_output = tf_rep.run(np.zeros((1,3, 224,224)))"
   ]
  },
  {
   "cell_type": "code",
   "execution_count": 28,
   "metadata": {
    "ExecuteTime": {
     "end_time": "2019-11-06T14:59:25.390360Z",
     "start_time": "2019-11-06T14:59:25.386628Z"
    },
    "hidden": true
   },
   "outputs": [
    {
     "data": {
      "text/plain": [
       "2.227993"
      ]
     },
     "execution_count": 28,
     "metadata": {},
     "output_type": "execute_result"
    }
   ],
   "source": [
    "np.max(dummy_output.detach().numpy())"
   ]
  },
  {
   "cell_type": "code",
   "execution_count": 27,
   "metadata": {
    "ExecuteTime": {
     "end_time": "2019-11-06T14:59:22.954922Z",
     "start_time": "2019-11-06T14:59:22.951377Z"
    },
    "hidden": true
   },
   "outputs": [
    {
     "data": {
      "text/plain": [
       "5.274769"
      ]
     },
     "execution_count": 27,
     "metadata": {},
     "output_type": "execute_result"
    }
   ],
   "source": [
    "np.max(tf_output)"
   ]
  },
  {
   "cell_type": "code",
   "execution_count": 19,
   "metadata": {
    "ExecuteTime": {
     "end_time": "2019-11-06T14:58:35.318338Z",
     "start_time": "2019-11-06T14:58:35.302557Z"
    },
    "hidden": true
   },
   "outputs": [
    {
     "data": {
      "text/plain": [
       "tensor([[-0.7450, -0.0729, -0.6442, -1.0487, -0.7868, -0.3701, -1.0072,  0.1740,\n",
       "          0.0646, -0.7794, -1.0743, -0.8229, -0.5757, -1.0520, -1.1031, -0.5715,\n",
       "         -0.5132, -0.1046, -0.2447, -0.5420, -1.1702, -0.7958, -1.2372, -0.3321,\n",
       "         -0.9891, -0.9692, -0.8718, -0.7281, -0.8097, -0.4822, -0.8751, -0.8834,\n",
       "         -0.7633, -0.3804, -0.3194, -0.8275,  0.5046, -0.4755, -0.5678,  0.0134,\n",
       "         -0.5269, -0.6643, -0.7697, -0.4600, -0.3278, -0.3024, -0.6481, -0.5715,\n",
       "         -1.4360, -1.1161, -0.5647,  0.2960, -0.2135, -0.3582, -0.2148, -1.0428,\n",
       "         -0.2579, -0.8945, -0.7469, -0.0841,  0.9082, -0.0893, -0.2918,  0.0152,\n",
       "         -0.4516, -0.2816, -0.1737, -0.4385, -0.9251, -0.5725, -1.2685,  0.1124,\n",
       "         -1.1203, -0.5105, -0.9021, -0.8440,  0.0257, -0.3833,  0.2895,  0.2987,\n",
       "         -0.8671, -1.7509, -0.0456, -0.7765, -0.5664, -0.2397, -0.0393,  0.6020,\n",
       "         -0.0631, -0.5048, -0.7627, -1.1330, -1.7302, -0.4323, -0.2556, -1.8603,\n",
       "         -0.2127, -0.9000, -1.4025, -0.7148, -1.2326, -0.7140, -0.7491, -0.3019,\n",
       "         -0.2945, -0.7679, -0.4267, -1.2375, -0.9753, -1.3702, -1.5079, -0.5897,\n",
       "          0.8614,  0.5481,  0.1895, -1.4027, -1.0615, -0.2022,  0.4439, -0.4818,\n",
       "         -0.8222, -0.1728,  0.0506,  0.1658,  0.8287, -0.1596,  0.0431, -1.4812,\n",
       "         -1.3374, -1.0930, -1.3863, -1.3746, -0.9875, -1.2342, -1.0059, -1.4498,\n",
       "         -0.9508, -1.3537, -1.7161, -2.0097, -1.3631, -1.6837, -2.2189, -1.6493,\n",
       "         -0.7663, -0.2650, -1.0361, -1.4211, -1.1735, -1.3237,  0.2289,  1.3999,\n",
       "         -0.8709, -0.1359,  0.2163,  0.3267,  0.2318,  0.4233,  0.2111,  0.3991,\n",
       "          0.1499,  0.6691,  0.3122,  0.7699,  0.3027, -0.0401, -0.0150, -0.3338,\n",
       "          0.6698,  0.1038, -0.1582,  0.5949,  0.4280,  0.4188,  0.1986, -0.4443,\n",
       "          0.1661,  0.0781,  0.5431,  0.6057,  0.2583,  0.0873,  0.6328,  0.1589,\n",
       "          0.7380,  0.8139,  0.7218,  0.2597,  0.1094,  0.4469, -0.5049,  0.6531,\n",
       "          0.6513,  0.4986, -0.8119,  0.7436,  0.2051,  0.1603,  0.0652,  0.5616,\n",
       "         -0.1110,  0.1894,  0.5392,  0.7259,  0.1869,  0.2258, -0.0625,  0.7813,\n",
       "          1.0547,  0.5728, -0.2007,  0.7090,  0.3532,  0.1579,  0.2749,  0.4515,\n",
       "          0.1510,  0.2956, -0.1045,  0.4400,  0.3260, -0.0699,  0.4704,  0.7684,\n",
       "          0.3667,  0.5368,  0.1311,  0.5806, -0.2623,  0.3527,  0.2465,  0.6111,\n",
       "          0.4092, -0.0054,  0.6589,  0.5204,  0.5978,  0.5094,  0.6135,  0.2947,\n",
       "          0.4916,  0.2612,  0.5622,  0.3569, -0.2171,  0.3827,  0.5358,  0.2319,\n",
       "          0.4096,  0.2026,  0.4963,  0.9105, -0.5697,  0.6143,  0.8966, -0.4390,\n",
       "          0.5146,  0.6037,  0.3689,  0.5398,  0.0540, -0.0399,  0.0334,  0.3820,\n",
       "          0.6091,  0.8512,  0.1992,  0.2857,  0.0527, -0.5383, -0.6445, -0.7499,\n",
       "         -0.3221,  0.5033, -1.0726, -1.1575, -0.8488, -0.7461, -1.1929, -0.6866,\n",
       "         -0.2939,  0.7261,  0.7272,  0.2941,  0.5302,  0.7761, -0.5394, -0.4313,\n",
       "         -0.8282, -1.6351, -1.1108, -1.2298, -0.4696, -0.7613, -1.1935, -0.9490,\n",
       "         -0.8547, -1.4665, -0.2649, -0.1328, -1.1750, -0.6057, -0.5703, -0.2693,\n",
       "         -1.1885, -0.8533,  0.3477, -0.7731, -1.1808, -0.3130,  0.3469, -0.0288,\n",
       "         -0.2858,  0.3114,  0.6684, -0.3123, -0.8264, -1.1014, -1.0064, -0.5763,\n",
       "         -1.2346, -0.7911, -1.1485, -0.9300, -1.0966, -1.2152, -1.2514,  0.1156,\n",
       "         -0.2992, -0.5528,  0.0656, -0.1557,  0.0265,  0.0627, -0.1914, -0.5783,\n",
       "         -1.4045,  0.0132,  0.5354, -0.8666, -0.3913,  0.3083, -0.4166, -0.9093,\n",
       "         -1.0659,  0.4347, -0.7412, -1.2690, -0.1387, -0.9237, -1.0566, -1.7296,\n",
       "         -1.3001, -0.5396, -0.7128,  0.2844,  0.8383,  0.0084,  0.5335,  0.5468,\n",
       "         -0.6230,  0.4220,  0.2244,  0.4762, -0.3764, -0.6036, -1.0939, -0.4876,\n",
       "         -0.7396, -0.8637, -0.6183, -0.3480, -0.7143, -0.1415, -0.4025, -0.7068,\n",
       "         -1.0829,  0.2556, -0.2347, -0.6193,  0.0930, -0.3446, -0.0284, -0.6873,\n",
       "         -0.7848, -0.5215, -1.0684, -0.7579, -1.0428, -0.2546, -0.1506, -0.1395,\n",
       "         -1.2200, -1.5148, -0.4086, -0.0954, -0.9476, -0.7561,  0.5787,  0.0116,\n",
       "         -0.6045,  0.8648,  0.1902, -1.8704, -1.5713, -0.5449, -0.6682, -0.3011,\n",
       "         -0.6651,  1.2418, -0.3596, -0.0677,  1.4351,  0.5812,  0.4671,  0.5131,\n",
       "          0.0214,  0.7174,  0.3238,  1.0780,  0.5907,  1.0449,  0.0252,  0.0262,\n",
       "          0.0026, -0.7329,  0.1734,  1.3974,  1.3786,  0.7571, -0.2185, -0.0847,\n",
       "          0.5224,  0.1939,  0.6311,  0.9071, -0.2236, -0.2061,  0.4471,  0.2740,\n",
       "          1.1087,  0.3761, -0.0703, -0.1797, -0.3124,  0.1426,  0.2968,  1.1891,\n",
       "          0.7648, -1.0585, -0.3053,  0.3070,  0.5702, -0.0860, -0.1084,  0.6935,\n",
       "          1.2480,  1.2192, -0.2631,  0.5641, -0.6228,  0.6662,  1.0481,  2.2280,\n",
       "          0.5860, -0.2587, -0.9888, -0.1757, -0.1156,  1.4675,  1.0129,  0.3655,\n",
       "          0.0624,  0.8444, -0.5411,  0.1685,  0.0228,  0.1426,  0.9309,  0.4734,\n",
       "          0.0928,  0.3089,  0.2913, -0.8337, -1.5397, -0.1110, -0.2170,  1.1217,\n",
       "          1.1687,  0.6975,  0.2510,  0.8028,  0.5036, -0.9993,  0.9890, -0.9224,\n",
       "         -0.2062, -0.5210, -0.1783,  1.3263, -1.5619,  0.4786,  0.9340,  0.4056,\n",
       "          1.1049,  0.8775,  1.1075,  0.4500,  0.6415,  0.0243, -0.8684, -0.5301,\n",
       "          0.7468,  0.2872,  0.8670,  1.7055,  0.3064,  0.0890,  1.2800,  1.1183,\n",
       "         -0.4889,  0.4242,  0.7917,  1.4905, -0.0105, -0.8115,  0.0654, -0.3847,\n",
       "          0.4213,  0.2104,  0.9812,  0.0844, -0.0144, -0.3678,  0.3542, -0.4797,\n",
       "         -0.4344, -0.7155, -0.1907,  1.1592, -1.0311,  1.2979,  1.0431,  0.7991,\n",
       "          0.6334,  0.8205,  0.2146, -1.9141, -0.9537, -0.1101, -0.3493,  0.0968,\n",
       "          0.8507, -0.0538, -0.9728, -0.5992,  0.2428,  0.4609,  1.0339,  0.8362,\n",
       "          0.2800, -0.2250,  0.5274,  0.1241, -0.9795, -0.8682,  0.3664,  1.0497,\n",
       "          0.3280, -0.5594,  1.0104, -0.3582,  0.9489, -1.0319,  0.7238,  0.1333,\n",
       "         -0.9151,  1.1500,  0.2736,  0.3989,  0.1426, -0.3772,  0.6182,  0.5304,\n",
       "          0.2976,  0.7313, -0.2788,  1.5202,  0.7576,  1.0373, -0.4918,  0.6240,\n",
       "         -0.5911,  1.1897,  0.5526, -0.5559,  1.2367, -0.0643, -0.4170,  0.8025,\n",
       "          1.9600, -0.1719, -0.4197, -0.4311,  0.5278,  0.3382,  1.1127,  0.1010,\n",
       "          0.8454, -0.3152,  0.7475,  0.5359, -0.7192,  0.4276,  0.0900,  0.3080,\n",
       "          0.8596,  0.7794,  1.6771,  0.8258,  1.1369,  0.6542,  0.6650,  0.5320,\n",
       "          0.1214, -0.7680,  1.0125, -0.1812, -0.6269, -0.1069,  0.0839,  0.7283,\n",
       "          0.6682,  1.0751, -0.3274,  0.3010,  0.8095,  0.6659,  0.7574,  0.0516,\n",
       "         -1.5117,  1.0407,  0.3028,  1.3616,  0.7455, -0.7018,  0.3185,  0.2784,\n",
       "         -0.6110, -1.1603,  1.0303, -0.0902,  0.7605,  0.9438,  0.1484,  0.5855,\n",
       "          0.1219,  0.1187, -0.0823,  0.5408, -0.0390, -0.6042, -0.2969, -1.0785,\n",
       "          0.8824,  0.0582,  1.1929,  0.6221, -0.8076, -0.5594,  0.5649, -0.0713,\n",
       "         -0.1563,  0.7626,  1.0675, -0.8516,  1.3208,  0.9709,  0.9233, -0.2308,\n",
       "          0.6883,  0.6062, -0.6772,  0.4761,  0.3754, -0.9839, -0.4105, -1.1179,\n",
       "         -0.0350, -0.8615, -0.6889,  0.7386,  0.7871,  0.3111, -0.8069,  0.6995,\n",
       "          1.1725, -0.1665, -0.5985,  0.7166,  1.8441,  0.0341, -0.3870,  0.6341,\n",
       "          0.1652, -0.5177, -0.4277,  0.4074,  0.5557, -0.0260,  0.5389,  0.7026,\n",
       "          0.1079, -0.3209,  0.4262, -0.5544,  0.7747, -0.8357, -0.3132,  0.6749,\n",
       "          0.4686,  0.3955,  1.2214,  0.2967, -0.8499,  1.2740, -0.4780,  0.0509,\n",
       "          1.2524, -0.4373, -0.1356,  1.9070, -0.3466,  1.6079, -1.0874,  0.1686,\n",
       "          0.0891,  0.8376,  1.0298,  0.0930,  1.1961, -0.1057,  0.5956,  0.2859,\n",
       "          0.4709,  0.0847,  0.1650,  0.5636,  0.3679,  1.2161,  0.2233, -0.2476,\n",
       "          0.3353,  0.9035,  0.6245, -0.5527,  0.8952, -0.0601,  1.3905,  0.1016,\n",
       "          0.3573,  0.7464,  0.3291,  0.6152,  1.0195,  0.7587,  0.3822,  0.4769,\n",
       "          0.0923,  1.3274,  0.7410,  0.0872,  1.0093,  0.6329,  0.6521,  0.3595,\n",
       "          0.6294,  0.1574,  1.1169, -0.1702, -0.6176, -0.9317,  1.0199,  0.6846,\n",
       "          1.2121,  0.4853,  0.7929,  0.8295,  0.0129,  0.2305,  0.8909,  0.8148,\n",
       "          1.1064,  0.9079,  0.3366,  0.2116,  0.7870,  0.6793, -0.6829,  0.5456,\n",
       "         -0.2302, -0.1845, -1.0912, -0.8915,  0.9186,  1.2265,  0.3474,  0.2073,\n",
       "          1.2061,  0.0844, -0.3949,  0.7778, -0.2631,  1.3472, -0.9416, -0.5027,\n",
       "          0.4090, -0.9338,  1.5002,  0.0553, -1.4713, -1.0111,  0.4395,  0.8946,\n",
       "          0.6822, -0.6816,  0.6665,  0.8100,  1.3078, -0.6162,  0.7883,  0.1807,\n",
       "         -0.6354, -0.7782,  0.3108,  0.0942,  1.5356,  1.7557,  0.6111, -0.6549,\n",
       "          1.1715,  0.5247,  0.3059,  0.3047,  0.1291,  1.2145,  0.6327, -0.5237,\n",
       "          0.2913,  1.0380,  1.2332,  1.4981,  1.7904, -0.4326, -0.1811,  0.9169,\n",
       "         -0.7731, -0.5799, -0.2374,  0.9592,  0.0891,  1.0867,  1.0949, -0.2025,\n",
       "         -0.5950,  0.2231, -0.0032, -0.4363,  1.4052, -0.0323,  0.6281, -1.2336,\n",
       "          1.1046, -0.7684, -1.7323,  0.3908,  1.2574, -0.1594, -0.1087,  1.3838,\n",
       "          0.8460,  0.0430,  0.9609,  1.1831,  0.1255,  0.2286, -0.1112, -0.5190,\n",
       "         -0.9181,  0.6842, -0.4877,  0.1653,  0.7278,  0.0161, -0.3873, -0.9138,\n",
       "          0.6146,  0.4573,  1.8118,  1.9170, -0.8326, -0.3186,  1.3751,  0.6707,\n",
       "          0.9039,  0.3430, -0.1861,  1.2491, -0.7834,  0.6703,  1.2327,  0.8077,\n",
       "          0.6275, -0.6504, -1.7022, -0.2882,  0.4626,  0.4068,  0.5828,  0.0173,\n",
       "         -0.2937,  1.1414, -0.5253,  0.2363, -0.3161, -0.7632, -0.9438, -0.6247,\n",
       "         -0.0608,  1.1931, -0.0127,  0.0118,  0.4401, -1.3792,  0.5422, -0.2832,\n",
       "          0.2379,  0.4094,  0.0050,  0.1547, -0.2064, -0.2186,  0.0131,  0.5233,\n",
       "         -0.1258, -0.4855, -0.8404,  0.3467,  0.7985,  0.1331,  0.2917,  0.0176,\n",
       "          0.0358,  0.3467,  0.9600, -0.3179,  0.0490, -0.4160,  0.0432, -0.7608,\n",
       "          0.0930, -0.1198, -0.4383, -0.8217, -0.9399, -0.2828,  0.8939, -0.0112,\n",
       "          1.2983,  0.1833, -0.2893,  1.0898, -0.4319, -0.5803, -1.5183,  0.6005,\n",
       "         -1.4397,  0.4913,  0.1482, -1.3561, -0.9739,  0.1210,  0.2218, -0.2973,\n",
       "         -0.7975, -0.4508, -1.5563,  1.4021,  0.4165, -0.5345, -0.2086, -1.1532,\n",
       "         -1.0582, -2.0119, -0.8732, -0.2831,  0.0488, -0.6493,  1.1647,  1.1386]],\n",
       "       grad_fn=<AddmmBackward>)"
      ]
     },
     "execution_count": 19,
     "metadata": {},
     "output_type": "execute_result"
    }
   ],
   "source": [
    "dummy_output"
   ]
  },
  {
   "cell_type": "code",
   "execution_count": 20,
   "metadata": {
    "ExecuteTime": {
     "end_time": "2019-11-06T14:58:36.371996Z",
     "start_time": "2019-11-06T14:58:36.360590Z"
    },
    "hidden": true
   },
   "outputs": [
    {
     "data": {
      "text/plain": [
       "Outputs(Sigmoid_1=array([[-1.03353393e+00,  1.98114562e+00, -2.15129662e+00,\n",
       "        -1.70029652e+00, -1.99813366e+00,  1.41813302e+00,\n",
       "        -3.42058802e+00, -1.09852695e+00, -2.52953315e+00,\n",
       "        -9.42417204e-01,  2.80198312e+00, -2.04554033e+00,\n",
       "        -1.62669778e+00, -1.78426051e+00, -2.25807285e+00,\n",
       "        -1.27528191e-01, -1.10477591e+00, -3.29767632e+00,\n",
       "        -2.23256254e+00, -2.13984585e+00, -1.48772049e+00,\n",
       "         1.61521280e+00, -2.72677749e-01, -1.52220941e+00,\n",
       "        -1.31330276e+00, -6.16481662e-01,  1.23514724e+00,\n",
       "         9.73276973e-01, -4.70685959e-02, -6.80701077e-01,\n",
       "        -3.16439867e+00, -8.62424850e-01, -1.13425016e+00,\n",
       "        -1.65917516e+00, -6.65818095e-01, -1.87172651e+00,\n",
       "        -6.56419575e-01, -1.69787216e+00,  2.23846269e+00,\n",
       "        -2.23393583e+00, -1.55745840e+00, -1.14045548e+00,\n",
       "         1.38710618e-01,  2.08083940e+00, -1.37632537e+00,\n",
       "        -2.06182957e-01, -2.01209164e+00, -2.26564586e-01,\n",
       "        -3.09523487e+00, -2.56349468e+00, -1.70848703e+00,\n",
       "         9.83849823e-01, -5.73976398e-01,  8.08066726e-02,\n",
       "        -1.90074909e+00, -3.57180142e+00, -2.24579620e+00,\n",
       "        -2.07578778e+00, -1.97189283e+00,  1.58329749e+00,\n",
       "        -1.81821871e+00, -2.00213623e+00,  7.04844534e-01,\n",
       "         2.17863274e+00,  2.12030649e-01, -2.86806226e-01,\n",
       "         7.29105949e-01, -1.97966528e+00,  1.11780500e+00,\n",
       "        -1.14886686e-01, -2.67266333e-01,  1.18765628e+00,\n",
       "        -1.76609397e-01,  3.26490259e+00, -1.90235770e+00,\n",
       "         3.55023563e-01, -2.38643813e+00, -1.36384130e+00,\n",
       "         3.19594526e+00,  1.26772869e+00,  2.80992627e+00,\n",
       "        -1.10040784e+00, -6.13881409e-01,  9.48468208e-01,\n",
       "        -2.51651192e+00, -1.56054831e+00,  2.18333095e-01,\n",
       "        -1.32512903e+00, -1.95233881e-01, -1.15870142e+00,\n",
       "        -3.69043887e-01, -1.72059536e-02,  4.86906946e-01,\n",
       "        -1.67975664e+00, -1.79502094e+00,  1.12699199e+00,\n",
       "        -1.03117919e+00, -3.33291769e+00,  1.11012387e+00,\n",
       "        -7.03261793e-01, -1.42606282e+00, -3.17933023e-01,\n",
       "        -1.88629234e+00,  2.31486034e+00, -2.12558079e+00,\n",
       "        -2.93246984e+00, -1.80264211e+00, -7.97299862e-01,\n",
       "        -1.19916534e+00, -5.69814444e-01,  6.53098881e-01,\n",
       "         5.27304125e+00,  2.92969406e-01,  1.20792997e+00,\n",
       "        -1.92424804e-01, -8.68710518e-01,  3.78185481e-01,\n",
       "         2.40347958e+00, -1.19945979e+00, -2.53435707e+00,\n",
       "        -1.36957586e+00, -1.89601362e+00, -3.99041474e-02,\n",
       "        -2.82624316e+00, -2.40867090e+00, -1.35102761e+00,\n",
       "         3.33889961e+00, -2.14991140e+00,  2.24089599e+00,\n",
       "        -1.79269278e+00, -1.99336696e+00, -2.89594746e+00,\n",
       "        -1.73996663e+00, -1.70446825e+00, -1.92316532e+00,\n",
       "         3.35756123e-01, -2.23248100e+00, -2.48236537e+00,\n",
       "        -2.07884049e+00, -1.94391739e+00, -2.24432135e+00,\n",
       "        -1.86885190e+00, -5.38497925e-01, -2.08924818e+00,\n",
       "        -1.76194799e+00, -5.11234403e-01, -9.25329685e-01,\n",
       "        -3.49192679e-01, -1.15877056e+00,  1.04365277e+00,\n",
       "        -9.64422822e-01, -8.67267251e-02,  6.75320387e-01,\n",
       "        -1.00337565e+00, -8.92430425e-01, -2.02667284e+00,\n",
       "         7.94231445e-02,  3.33176434e-01,  2.06266809e+00,\n",
       "        -2.30060071e-02, -3.97698939e-01, -7.10092545e-01,\n",
       "        -1.20561504e+00,  1.90271091e+00,  1.15530801e+00,\n",
       "         2.79257393e+00,  2.33572292e+00,  2.38149834e+00,\n",
       "         1.98534811e+00, -1.84338450e-01, -9.81660724e-01,\n",
       "        -3.46315503e-01, -1.26501250e+00, -1.59853429e-01,\n",
       "        -3.77249271e-01,  1.25483227e+00, -1.64527965e+00,\n",
       "        -6.58243835e-01, -3.93739462e-01, -1.19529998e+00,\n",
       "        -1.09200680e+00,  6.32874846e-01, -1.04961038e+00,\n",
       "         5.63996315e-01, -1.09997511e+00, -5.73163271e-01,\n",
       "        -4.73249584e-01,  2.27168545e-01,  1.54055786e+00,\n",
       "         2.00291738e-01,  2.14931083e+00,  4.50056016e-01,\n",
       "        -2.35440183e+00,  9.46583301e-02,  1.16443217e+00,\n",
       "         1.49839014e-01, -1.99252152e+00, -9.95035172e-01,\n",
       "        -8.18331838e-01, -1.55843306e+00, -4.05190289e-01,\n",
       "        -1.13119793e+00,  8.74303877e-02, -1.84806454e+00,\n",
       "        -2.54763198e+00, -2.75491524e+00,  4.06643391e-01,\n",
       "         2.47560650e-01, -1.24206686e+00, -9.37111914e-01,\n",
       "         9.14087474e-01, -7.71016419e-01, -1.38736844e-01,\n",
       "        -3.08792025e-01,  1.18379140e+00, -7.69859076e-01,\n",
       "         8.25809598e-01, -1.85609949e+00, -1.89579964e+00,\n",
       "        -1.79874170e+00,  1.66842985e+00,  1.42230868e+00,\n",
       "        -3.63189101e-01, -8.06006491e-01, -6.92155719e-01,\n",
       "        -8.48261774e-01, -5.56484044e-01, -4.77116793e-01,\n",
       "         1.46808279e+00, -5.80521166e-01, -1.54647446e+00,\n",
       "        -7.39310265e-01, -1.72298646e+00, -6.42270982e-01,\n",
       "         3.89863431e-01,  2.25894153e-01,  1.76669502e+00,\n",
       "        -5.10185242e-01, -3.39243233e-01,  1.41947448e-01,\n",
       "         1.69283748e-02,  2.09325981e+00, -6.23929024e-01,\n",
       "         2.70266831e-01, -3.47947419e-01, -6.97694242e-01,\n",
       "         2.97865689e-01,  1.65432930e-01, -1.25698888e+00,\n",
       "        -1.14640760e+00, -1.44128025e+00, -1.05757630e+00,\n",
       "         1.24324536e+00,  8.33002329e-01, -8.45794439e-01,\n",
       "        -1.21471858e+00, -1.01669955e+00, -9.68502164e-01,\n",
       "        -9.23539519e-01, -8.51118982e-01, -3.62164021e-01,\n",
       "        -4.72889781e-01,  1.52456319e+00, -9.64097083e-01,\n",
       "         4.13302571e-01, -4.23120797e-01, -1.54554558e+00,\n",
       "        -1.08727765e+00,  6.70795023e-01, -5.70184767e-01,\n",
       "        -1.55294299e+00, -5.60761333e-01, -3.14446747e-01,\n",
       "         4.78639066e-01,  5.64468026e-01,  8.30422163e-01,\n",
       "        -5.80427051e-02,  5.51268876e-01,  7.46771276e-01,\n",
       "        -1.93840191e-01, -1.25580698e-01, -1.36711448e-03,\n",
       "         2.92541862e-01,  1.41835928e+00,  4.25053030e-01,\n",
       "         3.91501993e-01, -2.06752682e+00, -2.18654776e+00,\n",
       "        -3.93737853e-01, -1.49301672e+00, -1.12070215e+00,\n",
       "        -7.40505040e-01, -3.91000390e-01,  1.02961767e+00,\n",
       "        -7.98120201e-02, -8.57372463e-01,  1.14198744e-01,\n",
       "         5.32187164e-01, -5.70001483e-01,  6.59171999e-01,\n",
       "        -1.03796244e+00,  7.30256975e-01,  9.19836402e-01,\n",
       "         8.84040475e-01, -5.54568946e-01, -3.16622019e+00,\n",
       "        -4.27844346e-01,  7.25868344e-01,  8.63151670e-01,\n",
       "        -1.31132647e-01,  2.50714898e+00, -4.12396729e-01,\n",
       "        -2.51587659e-01, -1.18081546e+00,  1.54094541e+00,\n",
       "         3.68421227e-02, -7.66079068e-01, -5.69303393e-01,\n",
       "         2.23627138e+00,  8.66443217e-01, -8.71571064e-01,\n",
       "        -1.26482964e+00, -1.35742879e+00, -7.12109685e-01,\n",
       "        -1.36499524e+00, -1.11721516e+00,  8.92452180e-01,\n",
       "        -1.35075700e+00, -1.68196511e+00, -2.10938573e+00,\n",
       "        -8.20158303e-01,  6.39805555e-01, -4.23933506e-01,\n",
       "        -1.67308521e+00, -1.87901592e+00,  1.72691834e+00,\n",
       "        -1.29185164e+00, -5.59403419e-01, -5.11346698e-01,\n",
       "         1.10405636e+00, -2.14233994e+00, -9.56575334e-01,\n",
       "        -1.66940498e+00, -2.77689219e+00, -2.16649127e+00,\n",
       "         2.10436210e-02, -2.69087625e+00, -4.42187190e-01,\n",
       "        -3.66346025e+00, -6.83221407e-03,  6.50596976e-01,\n",
       "         1.70135546e+00, -8.44747782e-01,  3.76497924e-01,\n",
       "         1.30603242e+00, -1.25642443e+00, -1.46711469e-01,\n",
       "        -5.32054842e-01,  7.91619360e-01, -3.79241616e-01,\n",
       "        -1.82640958e+00, -5.49674213e-01, -8.89950454e-01,\n",
       "        -1.30073655e+00, -5.56307316e-01, -2.76962876e-01,\n",
       "        -2.39083290e+00, -3.22186321e-01, -1.02731705e+00,\n",
       "        -1.17697394e+00, -3.94318461e-01,  9.87763882e-01,\n",
       "        -1.08026075e+00, -5.77230453e-01, -2.56082445e-01,\n",
       "        -6.58662081e-01,  6.79993153e-01,  1.96077704e-01,\n",
       "        -1.19070262e-02, -2.31112361e+00,  4.79696751e-01,\n",
       "        -1.64559197e+00, -3.58068347e-02,  1.99313223e-01,\n",
       "         1.90461308e-01,  8.51772010e-01, -1.00077152e-01,\n",
       "        -6.62960768e-01, -1.84356344e+00, -9.74304199e-01,\n",
       "        -4.14732724e-01, -1.70165753e+00,  2.98081493e+00,\n",
       "        -1.19302952e+00, -1.90829515e+00, -1.36811405e-01,\n",
       "        -2.99728060e+00, -2.55314231e+00, -4.75137442e-01,\n",
       "         2.98796463e+00,  1.48169076e+00, -4.42352563e-01,\n",
       "         1.94338894e+00, -1.40914249e+00,  1.67659879e+00,\n",
       "         5.64892769e-01, -1.14495051e+00, -3.06394577e+00,\n",
       "        -9.14109886e-01,  2.61358213e+00, -1.46797681e+00,\n",
       "        -6.01348758e-01,  1.99275762e-01,  3.38524032e+00,\n",
       "        -2.59585977e+00, -2.91050267e+00,  1.88816428e+00,\n",
       "         6.10375941e-01,  3.34934235e+00,  1.67092395e+00,\n",
       "         1.35188866e+00,  8.47008884e-01, -5.31330585e-01,\n",
       "         1.63991407e-01, -1.14294577e+00, -1.19750905e+00,\n",
       "         2.27139139e+00,  2.22788811e+00, -1.17388463e+00,\n",
       "         1.33241415e+00, -8.92933309e-01, -7.39887059e-01,\n",
       "         3.41051269e+00, -1.48829326e-01, -8.79701227e-02,\n",
       "        -3.17216456e-01, -1.80453217e+00,  9.89010811e-01,\n",
       "         1.82405853e+00,  1.64542913e+00,  1.11236024e+00,\n",
       "         9.05768454e-01, -1.03383267e+00,  9.11023021e-01,\n",
       "        -1.10091090e+00, -2.04873276e+00,  5.27476883e+00,\n",
       "         1.27922821e+00, -1.01814151e+00, -1.53657413e+00,\n",
       "        -1.44934547e+00,  3.60391736e+00, -1.11041164e+00,\n",
       "        -1.14416242e+00, -2.40819025e+00,  3.09675097e-01,\n",
       "         1.03401828e+00, -1.23062921e+00, -1.41061556e+00,\n",
       "         1.16530788e+00, -1.89470160e+00,  1.46493340e+00,\n",
       "         2.77223110e+00,  2.59598494e-01,  4.37719345e-01,\n",
       "         3.29515862e+00, -1.80090439e+00, -3.01330781e+00,\n",
       "        -1.38026941e+00,  3.05060536e-01,  2.07697105e+00,\n",
       "        -9.12821412e-01, -1.72035980e+00,  3.70670485e+00,\n",
       "        -1.22632635e+00, -1.81413233e+00, -2.27651596e+00,\n",
       "        -3.38796794e-01, -2.53864050e-01, -1.20306218e+00,\n",
       "         5.20000935e-01,  1.84499776e+00,  7.51091242e-01,\n",
       "        -1.06129968e+00, -3.48257869e-01,  9.53681469e-02,\n",
       "         1.14987743e+00,  4.52885747e-01,  2.75547957e+00,\n",
       "        -1.06837451e+00,  2.17576456e+00,  3.35687923e+00,\n",
       "        -7.34139442e-01,  2.42505121e+00,  2.78470802e+00,\n",
       "        -1.60151649e+00, -1.20396756e-01, -6.89483404e-01,\n",
       "        -4.41355944e-01,  4.62763882e+00, -1.04204011e+00,\n",
       "         1.30258083e+00,  7.70877838e-01,  3.42219496e+00,\n",
       "         2.39683717e-01,  3.15607160e-01, -1.23999619e+00,\n",
       "         2.61415863e+00, -6.64427161e-01, -2.60460329e+00,\n",
       "        -1.37542754e-01, -2.05384350e+00,  2.66319180e+00,\n",
       "         2.69536161e+00,  2.17436385e+00, -2.22294271e-01,\n",
       "         1.28130519e+00,  1.48745763e+00, -1.17769563e+00,\n",
       "         7.07522094e-01, -5.94774485e-01,  1.25487828e+00,\n",
       "         1.17472279e+00, -1.32836103e-01,  5.45870662e-01,\n",
       "        -1.79075563e+00, -8.51263642e-01,  1.02453899e+00,\n",
       "        -5.07577777e-01,  8.87881517e-02,  1.88061678e+00,\n",
       "         1.56995595e+00,  1.55666433e-02, -4.35115218e-01,\n",
       "         3.83260751e+00, -1.68002260e+00, -1.23517597e+00,\n",
       "        -1.21043718e+00, -1.97800636e-01, -7.62279928e-02,\n",
       "         2.45301485e+00,  1.81809282e+00,  1.32255542e+00,\n",
       "         1.27307642e+00, -1.14291084e+00,  5.99045396e-01,\n",
       "         1.61831677e+00, -2.54630327e+00, -1.17358541e+00,\n",
       "         3.98093462e+00,  7.55250216e-01,  2.48502517e+00,\n",
       "        -3.31023932e-01,  1.85838401e-01, -2.01128983e+00,\n",
       "        -2.43932605e+00,  3.81156492e+00, -3.01496327e-01,\n",
       "         2.69675398e+00,  2.34838271e+00, -1.16054368e+00,\n",
       "        -1.59088433e+00, -4.95651454e-01,  6.60531044e-01,\n",
       "        -1.49489093e+00, -1.91756582e+00,  6.88674688e-01,\n",
       "         2.72058821e+00, -1.21604824e+00, -2.24881434e+00,\n",
       "         6.35681272e-01, -1.35705912e+00, -2.47778296e-01,\n",
       "        -1.96329689e+00,  1.82082021e+00, -1.68460047e+00,\n",
       "         2.31058568e-01,  3.35917616e+00,  4.59220380e-01,\n",
       "        -7.71930039e-01, -3.04301715e+00, -2.55461264e+00,\n",
       "        -2.65305614e+00,  3.45757508e+00,  1.66823149e+00,\n",
       "         3.69074464e+00, -6.82805777e-01,  1.81601977e+00,\n",
       "         1.13716662e+00,  1.42718601e+00,  2.42068005e+00,\n",
       "         3.25178385e-01, -8.01120028e-02,  3.04185009e+00,\n",
       "         2.02519268e-01, -1.30201256e+00,  3.97752404e+00,\n",
       "         1.69452161e-01,  9.06592131e-01,  2.27830648e+00,\n",
       "         1.84294105e+00,  2.59061766e+00,  2.06485081e+00,\n",
       "        -3.22216487e+00,  3.93460846e+00,  3.51505607e-01,\n",
       "         2.02780485e+00, -5.65054774e-01, -1.98230475e-01,\n",
       "        -1.93873954e+00,  3.14679456e+00, -2.22946137e-01,\n",
       "        -6.85231835e-02,  8.85651648e-01, -2.21369028e+00,\n",
       "         2.46036148e+00,  1.35721576e+00, -9.85868573e-02,\n",
       "         5.08764267e-01,  3.30448818e+00,  2.83781576e+00,\n",
       "        -5.04733324e-01,  1.38707682e-01,  4.31979609e+00,\n",
       "        -2.08217454e+00, -1.90175784e+00,  2.43129539e+00,\n",
       "        -1.22522974e+00, -1.09492671e+00,  3.20926332e+00,\n",
       "         1.25400341e+00,  2.34059143e+00,  1.72504032e+00,\n",
       "         3.83145881e+00, -1.62205195e+00,  2.46855450e+00,\n",
       "         1.62474871e+00, -2.20440102e+00, -1.76131153e+00,\n",
       "         6.29497051e-01, -2.35675621e+00,  3.48811436e+00,\n",
       "         4.64765608e-01, -7.11546421e-01,  4.28685856e+00,\n",
       "        -7.69634724e-01, -7.83519626e-01,  6.85311675e-01,\n",
       "        -5.52374125e-01, -3.35211694e-01,  1.72043061e+00,\n",
       "         1.61807418e+00, -1.40381944e+00,  2.66815114e+00,\n",
       "        -1.92836154e+00, -1.26368976e+00, -2.11305547e+00,\n",
       "         4.82967496e-01, -1.20507741e+00, -9.90101576e-01,\n",
       "        -1.69519871e-01, -2.93792152e+00,  1.75721526e+00,\n",
       "         7.57360101e-01, -7.29665279e-01, -1.27993500e+00,\n",
       "         8.61049533e-01,  3.69583279e-01, -1.05643606e+00,\n",
       "        -1.04790592e+00, -9.85517561e-01, -1.60954750e+00,\n",
       "         7.94556975e-01, -2.10113615e-01,  2.83164954e+00,\n",
       "         1.37518525e+00,  3.20739317e+00,  4.16828775e+00,\n",
       "         2.65225887e+00, -1.02983201e+00,  3.76018620e+00,\n",
       "         4.22237039e-01, -6.21815503e-01,  4.82387257e+00,\n",
       "         3.26090503e+00, -3.01368690e+00,  3.93697071e+00,\n",
       "        -1.70322883e+00, -1.98362499e-01,  1.89641380e+00,\n",
       "        -1.90818357e+00, -3.27435166e-01,  7.34901667e-01,\n",
       "         6.90858305e-01, -1.59186411e+00,  1.02990973e+00,\n",
       "         2.78380513e+00, -1.53047919e+00, -1.57121634e+00,\n",
       "         4.75405025e+00,  1.29480577e+00,  1.94474030e+00,\n",
       "         2.20976567e+00, -1.15995097e+00, -1.25797451e-01,\n",
       "        -1.67692971e+00, -1.60274541e+00, -1.03341013e-01,\n",
       "         3.05002332e+00, -1.80339313e+00,  2.08839029e-02,\n",
       "         4.36054081e-01,  1.33805406e+00, -2.09449649e-01,\n",
       "         3.99948454e+00,  1.95453608e+00, -1.65072525e+00,\n",
       "        -2.78798342e+00, -6.39903724e-01,  2.47791484e-01,\n",
       "         3.03959584e+00, -2.21240497e+00,  2.59412050e+00,\n",
       "         8.06255698e-01,  3.53051573e-02, -1.48765519e-01,\n",
       "         2.45368576e+00,  6.05206549e-01,  8.52922499e-01,\n",
       "         3.12456703e+00, -1.66820741e+00,  4.31352282e+00,\n",
       "        -4.28019702e-01,  9.54901218e-01, -3.07187271e+00,\n",
       "        -1.20503616e+00,  1.68294966e+00,  5.22552550e-01,\n",
       "        -9.54047620e-01,  1.09033513e+00,  2.64314079e+00,\n",
       "         2.16869092e+00,  3.92673850e-01, -2.33483791e-01,\n",
       "         2.30071115e+00, -3.05178761e-03,  1.92786634e+00,\n",
       "         3.83325744e+00, -2.74986887e+00,  2.53634644e+00,\n",
       "         6.95237577e-01, -3.29273891e+00, -2.38078594e-01,\n",
       "         2.64341807e+00,  1.85650066e-02, -7.75800765e-01,\n",
       "        -1.06085229e+00, -2.96411872e+00,  1.90701175e+00,\n",
       "         7.26743788e-02,  1.07874298e+00,  9.24780369e-01,\n",
       "        -1.80626035e+00,  4.49526358e+00,  1.30476701e+00,\n",
       "        -7.06149936e-02,  1.24361384e+00,  1.48850751e+00,\n",
       "        -2.07363629e+00,  3.15614414e+00, -5.15210748e-01,\n",
       "         6.27383590e-01,  2.78169441e+00,  8.28541666e-02,\n",
       "         1.41028166e-02,  3.34418893e-01,  2.20117784e+00,\n",
       "         2.30237103e+00,  4.62959707e-01, -4.20243979e-01,\n",
       "        -6.12412155e-01,  3.17992836e-01,  2.76950550e+00,\n",
       "         4.23488903e+00,  1.89369023e+00, -2.23119307e+00,\n",
       "        -9.66654837e-01,  1.47167265e-01, -2.55242324e+00,\n",
       "         2.01334620e+00,  7.35503316e-01, -6.15628779e-01,\n",
       "         5.50590515e-01,  8.79380330e-02,  1.55228603e+00,\n",
       "         2.71671033e+00,  1.85885978e+00,  5.28854132e-01,\n",
       "         3.25258589e+00, -1.36781192e+00, -2.71551847e-01,\n",
       "        -2.18219951e-01, -1.64660239e+00,  8.48086774e-02,\n",
       "         2.79811645e+00,  7.31903672e-01, -3.64664167e-01,\n",
       "        -2.13246033e-01, -8.09180662e-02, -1.72273815e+00,\n",
       "         1.13138843e+00,  3.21144676e+00,  3.57138705e+00,\n",
       "         4.10417795e+00, -1.58922866e-01, -1.47517908e+00,\n",
       "        -2.20761347e+00, -1.26880169e+00,  2.07638454e+00,\n",
       "        -1.61517477e+00, -1.66949892e+00,  7.76107967e-01,\n",
       "         8.12201142e-01,  6.18479371e-01, -7.63507247e-01,\n",
       "        -1.73190260e+00,  2.88559651e+00, -2.02238560e-02,\n",
       "         8.36616278e-01, -2.70247340e+00,  1.78510070e-01,\n",
       "         2.41458821e+00, -3.76712143e-01, -1.79955497e-01,\n",
       "        -4.49859083e-01, -1.04371238e+00,  2.13975191e+00,\n",
       "        -3.44811589e-01,  2.71732616e+00, -1.67785001e+00,\n",
       "         8.31432045e-01,  2.20245528e+00,  1.09138787e+00,\n",
       "        -2.37314034e+00,  1.97545958e+00,  1.92071092e+00,\n",
       "         3.85991263e+00, -1.58744109e+00, -1.94061279e+00,\n",
       "        -1.17013407e+00, -1.11469853e+00,  1.79760218e+00,\n",
       "         1.38170409e+00, -1.58672345e+00,  4.24719954e+00,\n",
       "         1.55930114e+00,  5.28824389e-01,  2.01646662e+00,\n",
       "        -1.06022131e+00,  9.85304713e-01,  1.60983920e+00,\n",
       "         2.15309787e+00,  2.20775461e+00, -1.10661983e+00,\n",
       "        -2.53857899e+00, -2.68701935e+00, -1.25389612e+00,\n",
       "         1.84202731e-01, -3.96808654e-01,  1.43032718e+00,\n",
       "        -1.68809605e+00, -6.80782676e-01,  3.22119403e+00,\n",
       "        -1.11416888e+00, -3.01982355e+00,  1.52632761e+00,\n",
       "        -7.45427251e-01,  1.24664474e+00,  2.41782844e-01,\n",
       "        -2.16050446e-02, -2.51058578e-01,  8.21502805e-01,\n",
       "         5.41144490e-01,  1.64596558e+00, -1.64376736e+00,\n",
       "         2.75617933e+00, -6.44088268e-01, -3.59738469e-01,\n",
       "        -1.13495541e+00,  5.90424538e-01, -1.39598978e+00,\n",
       "         1.81902850e+00,  3.21562243e+00, -6.21227324e-02,\n",
       "        -1.16750762e-01, -5.26979923e-01,  2.72934958e-02,\n",
       "         7.65170336e-01,  2.54495740e-01,  1.08190036e+00,\n",
       "        -3.65725905e-01,  3.45574522e+00,  3.73985934e+00,\n",
       "        -3.34951878e-01,  1.10561103e-01,  6.10295713e-01,\n",
       "         3.18087816e+00,  2.38172650e-01, -1.20098448e+00,\n",
       "        -8.60584617e-01, -1.03960395e-01, -1.27293527e-01,\n",
       "        -1.48680210e-02, -4.65651453e-01, -3.16234082e-02,\n",
       "        -2.83318615e+00,  3.79110336e+00,  1.93395174e+00,\n",
       "         1.34853587e-01,  8.64990115e-01,  2.38855660e-01,\n",
       "         3.83553767e+00,  1.20157313e+00,  1.35522008e-01,\n",
       "        -2.94238615e+00,  2.48477602e+00,  1.12964511e-01,\n",
       "        -1.00051200e+00, -2.45069003e+00, -8.03250074e-01,\n",
       "         3.29984903e-01, -6.50014937e-01, -9.09436822e-01,\n",
       "        -2.28031564e+00, -1.06257594e+00, -3.40457112e-01,\n",
       "        -9.72616494e-01, -1.79538041e-01, -1.58648670e-01,\n",
       "        -1.89879131e+00,  2.74666762e+00, -4.21242416e-02,\n",
       "         1.63052714e+00, -1.14060915e+00, -1.64802241e+00,\n",
       "         1.72513771e+00,  5.70445538e-01, -1.43343604e+00,\n",
       "        -4.29811403e-02,  1.19783854e+00,  4.81742948e-01,\n",
       "         1.47527194e+00,  2.26376295e-01, -6.40603304e-01,\n",
       "         8.96432698e-01, -1.64040494e+00,  1.90381676e-01,\n",
       "        -1.02703667e+00, -1.70322168e+00, -1.36004734e+00,\n",
       "         1.18483949e+00, -1.02442980e+00,  5.09634972e-01,\n",
       "        -3.12781620e+00,  1.72699392e-01, -2.17828059e+00,\n",
       "         1.24253631e+00,  4.05074924e-01, -2.47788653e-01,\n",
       "         2.96487379e+00, -4.93456095e-01,  3.90942544e-02,\n",
       "        -1.70425105e+00, -1.48940277e+00,  1.77255988e+00,\n",
       "        -6.20132804e-01,  8.73855501e-03, -1.42553166e-01,\n",
       "         9.17603374e-01, -1.95839250e+00,  1.17534232e+00,\n",
       "         1.23181552e-01, -1.78378201e+00, -1.71668375e+00,\n",
       "        -8.00010800e-01,  6.85317218e-01, -7.00484931e-01,\n",
       "         5.89696884e-01,  1.75069377e-01, -4.88774419e-01,\n",
       "        -8.95018816e-01, -1.01824975e+00, -2.23226976e+00,\n",
       "         8.47734988e-01, -3.99714738e-01, -7.52425432e-01,\n",
       "        -2.25981161e-01, -1.10707664e+00, -3.09960246e-01,\n",
       "        -5.96767962e-01]], dtype=float32))"
      ]
     },
     "execution_count": 20,
     "metadata": {},
     "output_type": "execute_result"
    }
   ],
   "source": [
    "tf_output"
   ]
  },
  {
   "cell_type": "code",
   "execution_count": 5,
   "metadata": {
    "ExecuteTime": {
     "end_time": "2019-11-06T14:48:25.466628Z",
     "start_time": "2019-11-06T14:48:24.814552Z"
    },
    "hidden": true
   },
   "outputs": [],
   "source": [
    "tf_rep.export_graph('model.pb')"
   ]
  }
 ],
 "metadata": {
  "kernelspec": {
   "display_name": "Python 3",
   "language": "python",
   "name": "python3"
  },
  "language_info": {
   "codemirror_mode": {
    "name": "ipython",
    "version": 3
   },
   "file_extension": ".py",
   "mimetype": "text/x-python",
   "name": "python",
   "nbconvert_exporter": "python",
   "pygments_lexer": "ipython3",
   "version": "3.6.8"
  },
  "varInspector": {
   "cols": {
    "lenName": 16,
    "lenType": 16,
    "lenVar": 40
   },
   "kernels_config": {
    "python": {
     "delete_cmd_postfix": "",
     "delete_cmd_prefix": "del ",
     "library": "var_list.py",
     "varRefreshCmd": "print(var_dic_list())"
    },
    "r": {
     "delete_cmd_postfix": ") ",
     "delete_cmd_prefix": "rm(",
     "library": "var_list.r",
     "varRefreshCmd": "cat(var_dic_list()) "
    }
   },
   "types_to_exclude": [
    "module",
    "function",
    "builtin_function_or_method",
    "instance",
    "_Feature"
   ],
   "window_display": false
  }
 },
 "nbformat": 4,
 "nbformat_minor": 2
}
