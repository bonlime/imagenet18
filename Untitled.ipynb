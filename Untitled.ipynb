{
 "cells": [
  {
   "cell_type": "code",
   "execution_count": 53,
   "metadata": {
    "ExecuteTime": {
     "end_time": "2019-12-14T13:31:26.057642Z",
     "start_time": "2019-12-14T13:31:26.049432Z"
    }
   },
   "outputs": [],
   "source": [
    "import torch\n",
    "import pytorch_tools as pt\n",
    "import numpy as np\n",
    "import matplotlib.pyplot as plt\n",
    "%config Completer.use_jedi=False"
   ]
  },
  {
   "cell_type": "markdown",
   "metadata": {},
   "source": [
    "# Remove modules from saved file "
   ]
  },
  {
   "cell_type": "code",
   "execution_count": 46,
   "metadata": {
    "ExecuteTime": {
     "end_time": "2019-12-14T12:05:07.789288Z",
     "start_time": "2019-12-14T12:05:07.785912Z"
    }
   },
   "outputs": [],
   "source": [
    "def count_parameters(model):\n",
    "    return sum(p.numel() for p in model.parameters() if p.requires_grad)"
   ]
  },
  {
   "cell_type": "code",
   "execution_count": 47,
   "metadata": {
    "ExecuteTime": {
     "end_time": "2019-12-14T12:05:09.029258Z",
     "start_time": "2019-12-14T12:05:08.437631Z"
    }
   },
   "outputs": [],
   "source": [
    "r34 = pt.models.resnet34()\n",
    "r34_n = count_parameters(r34)\n",
    "r50 = pt.models.resnet50()\n",
    "r50_n = count_parameters(r50)"
   ]
  },
  {
   "cell_type": "code",
   "execution_count": 48,
   "metadata": {
    "ExecuteTime": {
     "end_time": "2019-12-14T12:05:09.037281Z",
     "start_time": "2019-12-14T12:05:09.032727Z"
    }
   },
   "outputs": [
    {
     "data": {
      "text/plain": [
       "17.246612390534178"
      ]
     },
     "execution_count": 48,
     "metadata": {},
     "output_type": "execute_result"
    }
   ],
   "source": [
    "(r50_n / r34_n -  1) * 100 "
   ]
  },
  {
   "cell_type": "markdown",
   "metadata": {},
   "source": [
    "# Label Smoothing "
   ]
  },
  {
   "cell_type": "code",
   "execution_count": 49,
   "metadata": {
    "ExecuteTime": {
     "end_time": "2019-12-14T12:05:10.770614Z",
     "start_time": "2019-12-14T12:05:10.767341Z"
    }
   },
   "outputs": [],
   "source": [
    "def expand(num_classes, dtype, tensor):\n",
    "    e = torch.zeros(tensor.size(0), num_classes, dtype=dtype) #, device=torch.device('cuda'))\n",
    "    e = e.scatter(1, tensor.unsqueeze(1), 1.0)\n",
    "    return e"
   ]
  },
  {
   "cell_type": "code",
   "execution_count": 50,
   "metadata": {
    "ExecuteTime": {
     "end_time": "2019-12-14T12:05:11.514935Z",
     "start_time": "2019-12-14T12:05:11.508996Z"
    }
   },
   "outputs": [
    {
     "data": {
      "text/plain": [
       "(tensor([[0.7311, 0.7311, 0.7311, 0.7311, 0.7311, 0.7311, 0.7311, 0.7311, 0.7311,\n",
       "          0.7311],\n",
       "         [0.7311, 0.7311, 0.7311, 0.7311, 0.7311, 0.7311, 0.7311, 0.7311, 0.7311,\n",
       "          0.7311],\n",
       "         [0.7311, 0.7311, 0.7311, 0.7311, 0.7311, 0.7311, 0.7311, 0.7311, 0.7311,\n",
       "          0.7311],\n",
       "         [0.7311, 0.7311, 0.7311, 0.7311, 0.7311, 0.7311, 0.7311, 0.7311, 0.7311,\n",
       "          0.7311]]), tensor([[0., 0., 0., 0., 0., 0., 0., 1., 0., 0.],\n",
       "         [0., 0., 0., 0., 0., 0., 0., 0., 1., 0.],\n",
       "         [0., 0., 0., 1., 0., 0., 0., 0., 0., 0.],\n",
       "         [0., 1., 0., 0., 0., 0., 0., 0., 0., 0.]]))"
      ]
     },
     "execution_count": 50,
     "metadata": {},
     "output_type": "execute_result"
    }
   ],
   "source": [
    "inp = torch.ones(4, 10)\n",
    "tar = torch.randint(0,10,(4,)).long()\n",
    "tar_oh = expand(10, torch.float32, tar)\n",
    "inp.sigmoid(), tar_oh"
   ]
  },
  {
   "cell_type": "code",
   "execution_count": 51,
   "metadata": {
    "ExecuteTime": {
     "end_time": "2019-12-14T12:05:12.070521Z",
     "start_time": "2019-12-14T12:05:12.065931Z"
    }
   },
   "outputs": [],
   "source": [
    "inp = torch.randn(100,10)\n",
    "tar = torch.randint(0,10,(100,)).long()\n",
    "tar_oh = expand(10, torch.float32, tar)\n",
    "c = np.random.beta(0.4, 0.4)\n",
    "perm = torch.randperm(100)\n",
    "tar_oh = tar_oh * c + (1-c) * tar_oh[perm,:]"
   ]
  },
  {
   "cell_type": "code",
   "execution_count": 52,
   "metadata": {
    "ExecuteTime": {
     "end_time": "2019-12-14T12:05:12.566776Z",
     "start_time": "2019-12-14T12:05:12.562541Z"
    }
   },
   "outputs": [
    {
     "data": {
      "text/plain": [
       "tensor(2.7470)"
      ]
     },
     "execution_count": 52,
     "metadata": {},
     "output_type": "execute_result"
    }
   ],
   "source": [
    "pt.losses.CrossEntropyLoss()(inp, tar)"
   ]
  },
  {
   "cell_type": "code",
   "execution_count": 53,
   "metadata": {
    "ExecuteTime": {
     "end_time": "2019-12-14T12:05:13.099420Z",
     "start_time": "2019-12-14T12:05:13.095598Z"
    }
   },
   "outputs": [
    {
     "data": {
      "text/plain": [
       "tensor(2.7470)"
      ]
     },
     "execution_count": 53,
     "metadata": {},
     "output_type": "execute_result"
    }
   ],
   "source": [
    "torch.nn.CrossEntropyLoss()(inp, tar)"
   ]
  },
  {
   "cell_type": "code",
   "execution_count": 60,
   "metadata": {
    "ExecuteTime": {
     "end_time": "2019-12-14T12:08:34.836457Z",
     "start_time": "2019-12-14T12:08:34.832628Z"
    }
   },
   "outputs": [
    {
     "data": {
      "text/plain": [
       "tensor(0.7885)"
      ]
     },
     "execution_count": 60,
     "metadata": {},
     "output_type": "execute_result"
    }
   ],
   "source": [
    "torch.nn.functional.binary_cross_entropy(inp.sigmoid(), tar_oh)"
   ]
  },
  {
   "cell_type": "code",
   "execution_count": 55,
   "metadata": {
    "ExecuteTime": {
     "end_time": "2019-12-14T12:05:14.053854Z",
     "start_time": "2019-12-14T12:05:14.049139Z"
    }
   },
   "outputs": [
    {
     "data": {
      "text/plain": [
       "tensor(0.7885)"
      ]
     },
     "execution_count": 55,
     "metadata": {},
     "output_type": "execute_result"
    }
   ],
   "source": [
    "torch.nn.functional.binary_cross_entropy_with_logits(inp, tar_oh)"
   ]
  },
  {
   "cell_type": "code",
   "execution_count": 58,
   "metadata": {
    "ExecuteTime": {
     "end_time": "2019-12-14T12:05:22.865449Z",
     "start_time": "2019-12-14T12:05:22.857446Z"
    }
   },
   "outputs": [
    {
     "name": "stdout",
     "output_type": "stream",
     "text": [
      "tensor([[1., 0., 0.],\n",
      "        [0., 1., 0.],\n",
      "        [0., 0., 1.],\n",
      "        [1., 0., 0.]])\n",
      "tensor([[0.9249, 0.0250, 0.0250, 0.0250],\n",
      "        [0.0250, 0.9249, 0.0250, 0.0250],\n",
      "        [0.0250, 0.0250, 0.9249, 0.0250],\n",
      "        [0.9249, 0.0250, 0.0250, 0.0250]])\n"
     ]
    },
    {
     "data": {
      "text/plain": [
       "tensor(0.3488)"
      ]
     },
     "execution_count": 58,
     "metadata": {},
     "output_type": "execute_result"
    }
   ],
   "source": [
    "\n",
    "# to one-hot\n",
    "#target = expand(num_classes, torch.float, target)\n",
    "\n",
    "target = torch.LongTensor([0, 1, 2, 0])\n",
    "target_one_hot = expand(3, torch.float, target)\n",
    "print(target_one_hot)\n",
    "logits_r = torch.randn(4,3)\n",
    "N = 3.91 #3.632\n",
    "logits = torch.Tensor([[N, 0.3, 0.3, 0.3],[0.3, N, 0.3, 0.3], [0.3,0.3,N,0.3],[N,0.3,0.3,0.3]])\n",
    "print(torch.nn.Softmax(1)(logits))\n",
    "CrossEntropyLoss(smoothing=0.1)(logits, target)"
   ]
  },
  {
   "cell_type": "code",
   "execution_count": 61,
   "metadata": {
    "ExecuteTime": {
     "end_time": "2019-12-14T12:08:46.397300Z",
     "start_time": "2019-12-14T12:08:46.367331Z"
    }
   },
   "outputs": [],
   "source": [
    "res = []\n",
    "Ns = np.linspace(3.8, 4, 200)\n",
    "for N in Ns:\n",
    "#     logits = torch.Tensor([[N, 0.3, 0.3],[0.3, N, 0.3], [0.3,0.3,N],[N,0.3,0.3]])\n",
    "    logits = torch.Tensor([[N, 0.3, 0.3, 0.3],[0.3, N, 0.3, 0.3], [0.3,0.3,N,0.3],[N,0.3,0.3,0.3]])\n",
    "    #print(torch.nn.Softmax(1)(logits))\n",
    "    l = CrossEntropyLoss(smoothing=0.1)(logits, target)\n",
    "    res.append(l)"
   ]
  },
  {
   "cell_type": "code",
   "execution_count": 62,
   "metadata": {
    "ExecuteTime": {
     "end_time": "2019-12-14T12:08:46.693961Z",
     "start_time": "2019-12-14T12:08:46.689595Z"
    }
   },
   "outputs": [
    {
     "data": {
      "text/plain": [
       "3.9105527638190956"
      ]
     },
     "execution_count": 62,
     "metadata": {},
     "output_type": "execute_result"
    }
   ],
   "source": [
    "Ns[np.argmin(res)]"
   ]
  },
  {
   "cell_type": "code",
   "execution_count": 63,
   "metadata": {
    "ExecuteTime": {
     "end_time": "2019-12-14T12:08:47.409972Z",
     "start_time": "2019-12-14T12:08:47.226357Z"
    }
   },
   "outputs": [
    {
     "data": {
      "text/plain": [
       "[<matplotlib.lines.Line2D at 0x7f139dc11e10>]"
      ]
     },
     "execution_count": 63,
     "metadata": {},
     "output_type": "execute_result"
    },
    {
     "data": {
      "image/png": "[encoded data removed]",
      "text/plain": [
       "<Figure size 432x288 with 1 Axes>"
      ]
     },
     "metadata": {
      "needs_background": "light"
     },
     "output_type": "display_data"
    }
   ],
   "source": [
    "plt.plot(Ns, res)"
   ]
  },
  {
   "cell_type": "code",
   "execution_count": 64,
   "metadata": {
    "ExecuteTime": {
     "end_time": "2019-12-14T12:08:47.537067Z",
     "start_time": "2019-12-14T12:08:47.531391Z"
    }
   },
   "outputs": [
    {
     "data": {
      "text/plain": [
       "(0.2925, 0.4109)"
      ]
     },
     "execution_count": 64,
     "metadata": {},
     "output_type": "execute_result"
    }
   ],
   "source": [
    "0.0168, 0.335 # 0.97 on true\n",
    "0.2925, 0.4109 # on 0.75 true\n"
   ]
  },
  {
   "cell_type": "code",
   "execution_count": 65,
   "metadata": {
    "ExecuteTime": {
     "end_time": "2019-12-14T12:08:48.252410Z",
     "start_time": "2019-12-14T12:08:48.248755Z"
    }
   },
   "outputs": [
    {
     "data": {
      "text/plain": [
       "tensor(0.0715)"
      ]
     },
     "execution_count": 65,
     "metadata": {},
     "output_type": "execute_result"
    }
   ],
   "source": [
    "torch.nn.CrossEntropyLoss()(logits, target)"
   ]
  },
  {
   "cell_type": "code",
   "execution_count": 67,
   "metadata": {
    "ExecuteTime": {
     "end_time": "2019-12-14T12:08:52.887427Z",
     "start_time": "2019-12-14T12:08:52.883334Z"
    }
   },
   "outputs": [
    {
     "data": {
      "text/plain": [
       "tensor(0.3490)"
      ]
     },
     "execution_count": 67,
     "metadata": {},
     "output_type": "execute_result"
    }
   ],
   "source": [
    "CrossEntropyLoss(smoothing=0.1)(logits, target)"
   ]
  },
  {
   "cell_type": "code",
   "execution_count": 68,
   "metadata": {
    "ExecuteTime": {
     "end_time": "2019-12-14T12:08:53.971928Z",
     "start_time": "2019-12-14T12:08:53.968479Z"
    }
   },
   "outputs": [
    {
     "data": {
      "text/plain": [
       "(0.2962, 0.0996)"
      ]
     },
     "execution_count": 68,
     "metadata": {},
     "output_type": "execute_result"
    }
   ],
   "source": [
    "0.2981, 0.1054 # witgh 0.9 for true class\n",
    "0.2995, 0.1095 # with 0.896 for true class\n",
    "0.2962, 0.0996 # with 0.9052 for true class"
   ]
  },
  {
   "cell_type": "code",
   "execution_count": 69,
   "metadata": {
    "ExecuteTime": {
     "end_time": "2019-12-14T12:09:03.140026Z",
     "start_time": "2019-12-14T12:09:03.133816Z"
    }
   },
   "outputs": [
    {
     "name": "stdout",
     "output_type": "stream",
     "text": [
      "tensor([[0.0715, 3.7715, 3.7715, 3.7715],\n",
      "        [3.7715, 0.0715, 3.7715, 3.7715],\n",
      "        [3.7715, 3.7715, 0.0715, 3.7715],\n",
      "        [0.0715, 3.7715, 3.7715, 3.7715]])\n",
      "tensor([2.8465, 2.8465, 2.8465, 2.8465])\n",
      "tensor([0.0715, 0.0715, 0.0715, 0.0715]) tensor(0.0715)\n"
     ]
    }
   ],
   "source": [
    "smoothing = 0.0\n",
    "confidence = 1 - smoothing\n",
    "logprobs = torch.nn.functional.log_softmax(logits, dim=-1)\n",
    "print(-logprobs)\n",
    "nll_loss = -logprobs[torch.arange(0, target.size(0)), target]\n",
    "smooth_loss = -logprobs.mean(dim=-1)\n",
    "print(smooth_loss)\n",
    "loss = confidence * nll_loss + smoothing * smooth_loss\n",
    "print(loss, loss.mean())"
   ]
  },
  {
   "cell_type": "markdown",
   "metadata": {},
   "source": [
    "# AggLogLoss"
   ]
  },
  {
   "cell_type": "code",
   "execution_count": 135,
   "metadata": {
    "ExecuteTime": {
     "end_time": "2019-12-14T13:10:48.077118Z",
     "start_time": "2019-12-14T13:10:48.069632Z"
    }
   },
   "outputs": [],
   "source": [
    "import torch\n",
    "import torch.nn.functional as F\n",
    "from pytorch_tools.losses.base import Loss, Mode\n",
    "\n",
    "\n",
    "class CrossEntropyLoss(Loss):\n",
    "    \"\"\"\n",
    "    CE with optional smoothing and support for multiple positive labels. \n",
    "    Can accept one-hot encoded y_trues\n",
    "    Supports only one reduction for now\n",
    "    \"\"\"\n",
    "\n",
    "    def __init__(self, mode=\"multiclass\", smoothing=0.0):\n",
    "        \"\"\"\n",
    "        Args:\n",
    "            mode (str): Metric mode {'binary', 'multiclass'}\n",
    "                'binary' - calculate binary cross entropy\n",
    "                'multiclass' - calculate categorical cross entropy\n",
    "            smoothing (float): How much to smooth values toward uniform \n",
    "        \"\"\"\n",
    "        super().__init__()\n",
    "        self.mode = Mode(mode)\n",
    "        self.confidence = 1.0 - smoothing\n",
    "        self.smoothing = smoothing\n",
    "\n",
    "    def forward(self, y_pred, y_true):\n",
    "\n",
    "        if self.mode == Mode.BINARY:\n",
    "            y_pred, y_true = y_pred.squeeze(), y_true.squeeze()\n",
    "            loss = F.binary_cross_entropy_with_logits(y_pred, y_true)\n",
    "            return loss\n",
    "        \n",
    "        # make one-hot encoded\n",
    "        if len(y_true.shape) != 1:\n",
    "            y_true_one_hot = y_true.float()\n",
    "        else:\n",
    "            num_classes = y_pred.size(1)\n",
    "            y_true_one_hot = torch.zeros(\n",
    "                y_true.size(0), num_classes, dtype=torch.float, device=y_pred.device\n",
    "            )\n",
    "            y_true_one_hot.scatter_(1, y_true.unsqueeze(1), 1.0)\n",
    "        y_pred = y_pred.float()\n",
    "        \n",
    "        if self.mode == Mode.MULTICLASS:\n",
    "            logprobs = F.log_softmax(y_pred, dim=1)\n",
    "            # multiple labels handling\n",
    "            nll_loss = -logprobs * y_true_one_hot\n",
    "            nll_loss = nll_loss.sum(-1)\n",
    "            smooth_loss = -logprobs.mean(dim=-1)\n",
    "            loss = self.confidence * nll_loss + self.smoothing * smooth_loss\n",
    "            return loss.mean()\n",
    "        elif self.mode == Mode.MULTILABEL:\n",
    "            # equal to torch.nn.MultiLabelSoftMarginLoss\n",
    "            loss = -(y_true_one_hot * F.logsigmoid(y_pred) + (1 - y_true_one_hot) * F.logsigmoid(-y_pred))\n",
    "            print(loss)\n",
    "            loss = loss.mean(dim=1) #loss.sum(dim=1) / y_pred.size(1)\n",
    "            print(loss)\n",
    "            print(loss.sum())\n",
    "#             print(logprobs)\n",
    "        return None"
   ]
  },
  {
   "cell_type": "code",
   "execution_count": 136,
   "metadata": {
    "ExecuteTime": {
     "end_time": "2019-12-14T13:10:48.286687Z",
     "start_time": "2019-12-14T13:10:48.280214Z"
    }
   },
   "outputs": [
    {
     "name": "stdout",
     "output_type": "stream",
     "text": [
      "tensor([[ 5., -4., -4., -4., -4., -4., -4., -4.],\n",
      "        [-4.,  5., -4., -4., -4., -4., -4., -4.],\n",
      "        [ 5., -4.,  5., -4.,  5., -4.,  5., -4.]])\n",
      "tensor([[0.9933, 0.0180, 0.0180, 0.0180, 0.0180, 0.0180, 0.0180, 0.0180],\n",
      "        [0.0180, 0.9933, 0.0180, 0.0180, 0.0180, 0.0180, 0.0180, 0.0180],\n",
      "        [0.9933, 0.0180, 0.9933, 0.0180, 0.9933, 0.0180, 0.9933, 0.0180]])\n"
     ]
    }
   ],
   "source": [
    "target_one_hot = torch.LongTensor([\n",
    "    [1., 0., 0., 0., 0., 0., 0., 0.],\n",
    "    [0., 1., 0., 0., 0., 0., 0., 0.],\n",
    "    [1., 0., 1., 0., 1., 0., 1., 0.]\n",
    "])\n",
    "P = 5\n",
    "N = -4\n",
    "logits = torch.Tensor([\n",
    "    [P,  N, N, N, N, N, N, N],\n",
    "    [N,  P, N, N, N, N, N, N], \n",
    "    [P,  N, P, N, P, N, P, N]\n",
    "])\n",
    "print(logits)\n",
    "print(logits.sigmoid())"
   ]
  },
  {
   "cell_type": "code",
   "execution_count": 156,
   "metadata": {
    "ExecuteTime": {
     "end_time": "2019-12-14T13:14:09.035601Z",
     "start_time": "2019-12-14T13:14:09.028496Z"
    }
   },
   "outputs": [
    {
     "name": "stdout",
     "output_type": "stream",
     "text": [
      "tensor([[0.0067, 0.0181, 0.0181, 0.0181, 0.0181, 0.0181, 0.0181, 0.0181],\n",
      "        [0.0181, 0.0067, 0.0181, 0.0181, 0.0181, 0.0181, 0.0181, 0.0181],\n",
      "        [0.0067, 0.0181, 0.0067, 0.0181, 0.0067, 0.0181, 0.0067, 0.0181]])\n",
      "tensor([0.0167, 0.0167, 0.0124])\n",
      "tensor(0.0459)\n"
     ]
    }
   ],
   "source": [
    "CrossEntropyLoss(mode='multilabel')(logits, target_one_hot.float())"
   ]
  },
  {
   "cell_type": "code",
   "execution_count": 157,
   "metadata": {
    "ExecuteTime": {
     "end_time": "2019-12-14T13:14:11.796902Z",
     "start_time": "2019-12-14T13:14:11.789778Z"
    }
   },
   "outputs": [
    {
     "data": {
      "text/plain": [
       "tensor(0.0153)"
      ]
     },
     "execution_count": 157,
     "metadata": {},
     "output_type": "execute_result"
    }
   ],
   "source": [
    "torch.nn.MultiLabelSoftMarginLoss(reduction='mean')(logits, target_one_hot.float())"
   ]
  },
  {
   "cell_type": "code",
   "execution_count": 158,
   "metadata": {
    "ExecuteTime": {
     "end_time": "2019-12-14T13:14:12.933659Z",
     "start_time": "2019-12-14T13:14:12.929651Z"
    }
   },
   "outputs": [
    {
     "data": {
      "text/plain": [
       "tensor(0.0153)"
      ]
     },
     "execution_count": 158,
     "metadata": {},
     "output_type": "execute_result"
    }
   ],
   "source": [
    "torch.nn.BCEWithLogitsLoss(reduction='mean')(logits, target_one_hot.float())"
   ]
  },
  {
   "cell_type": "markdown",
   "metadata": {},
   "source": [
    "# Evaluate"
   ]
  },
  {
   "cell_type": "code",
   "execution_count": 2,
   "metadata": {
    "ExecuteTime": {
     "end_time": "2019-12-14T13:26:33.636941Z",
     "start_time": "2019-12-14T13:26:33.570530Z"
    }
   },
   "outputs": [],
   "source": [
    "import pytorch_tools as pt\n",
    "import torchvision as tv\n",
    "from src.dali_dataloader import DaliLoader\n",
    "import torch\n",
    "# import apex.amp as amp"
   ]
  },
  {
   "cell_type": "code",
   "execution_count": 62,
   "metadata": {
    "ExecuteTime": {
     "end_time": "2019-12-14T13:32:36.040773Z",
     "start_time": "2019-12-14T13:32:35.163741Z"
    }
   },
   "outputs": [],
   "source": [
    "val_loader = DaliLoader(False)# train_loader = get_loader(128, 128, 4, 0, True, min_area=0.3)"
   ]
  },
  {
   "cell_type": "code",
   "execution_count": 80,
   "metadata": {
    "ExecuteTime": {
     "end_time": "2019-12-14T13:34:29.275502Z",
     "start_time": "2019-12-14T13:34:28.318954Z"
    }
   },
   "outputs": [],
   "source": [
    "model = pt.models.resnet34(pretrained='imagenet').cuda()\n",
    "model = model.eval()\n",
    "#model = pt.models.resnet50(pretrained='imagenet', antialias=True)\n",
    "# model_fit = pt.fit_wrapper.FitWrapper(model).cuda()\n",
    "#model_fit = model_fit.eval()"
   ]
  },
  {
   "cell_type": "code",
   "execution_count": 81,
   "metadata": {
    "ExecuteTime": {
     "end_time": "2019-12-14T13:34:29.279110Z",
     "start_time": "2019-12-14T13:34:29.277136Z"
    }
   },
   "outputs": [],
   "source": [
    "# loss = torch.nn.CrossEntropyLoss().cuda()\n",
    "#loss = pt.losses.BinaryDiceLoss()\n",
    "# metric = [pt.metrics.Accuracy(), pt.metrics.Accuracy(5)]\n",
    "# optim = torch.optim.SGD([p for p in model.parameters() if p.requires_grad], \n",
    "#                         lr=1e-3, momentum=0.9, weight_decay=1e-4)\n",
    "# model, optim = amp.initialize(model, optim, opt_level='O1', verbosity=0)"
   ]
  },
  {
   "cell_type": "code",
   "execution_count": 82,
   "metadata": {
    "ExecuteTime": {
     "end_time": "2019-12-14T13:34:29.711457Z",
     "start_time": "2019-12-14T13:34:29.709244Z"
    }
   },
   "outputs": [],
   "source": [
    "# runner = pt.fit_wrapper.Runner(model, optim, loss)"
   ]
  },
  {
   "cell_type": "code",
   "execution_count": 83,
   "metadata": {
    "ExecuteTime": {
     "end_time": "2019-12-14T13:34:31.886072Z",
     "start_time": "2019-12-14T13:34:31.836012Z"
    }
   },
   "outputs": [],
   "source": [
    "batch = next(iter(val_loader))\n",
    "pred = model(batch[0])\n",
    "label = batch[1]"
   ]
  },
  {
   "cell_type": "code",
   "execution_count": 84,
   "metadata": {
    "ExecuteTime": {
     "end_time": "2019-12-14T13:34:33.166451Z",
     "start_time": "2019-12-14T13:34:33.162490Z"
    }
   },
   "outputs": [
    {
     "data": {
      "text/plain": [
       "tensor([0, 0, 0, 0, 0, 0, 0, 0, 0, 0, 0, 0, 0, 0, 0, 0, 0, 0, 1, 1, 1, 1, 1, 1,\n",
       "        1, 1, 1, 1, 1, 1, 1, 1], device='cuda:0')"
      ]
     },
     "execution_count": 84,
     "metadata": {},
     "output_type": "execute_result"
    }
   ],
   "source": [
    "label"
   ]
  },
  {
   "cell_type": "code",
   "execution_count": 87,
   "metadata": {
    "ExecuteTime": {
     "end_time": "2019-12-14T13:34:51.869249Z",
     "start_time": "2019-12-14T13:34:51.863253Z"
    }
   },
   "outputs": [
    {
     "data": {
      "text/plain": [
       "tensor([  0,   0,   0,   0, 389,   0,   0,   0,   0,   0,   0,   0,   0,   0,\n",
       "          0,   0,   0,   0, 115,   1,   1,   1,   1,   1,   1,   1,   1,   1,\n",
       "          1,  29,   1,   1], device='cuda:0')"
      ]
     },
     "execution_count": 87,
     "metadata": {},
     "output_type": "execute_result"
    }
   ],
   "source": [
    "pred.argmax(1)"
   ]
  },
  {
   "cell_type": "code",
   "execution_count": 117,
   "metadata": {
    "ExecuteTime": {
     "end_time": "2019-12-14T13:47:06.965428Z",
     "start_time": "2019-12-14T13:47:06.944199Z"
    }
   },
   "outputs": [
    {
     "data": {
      "text/plain": [
       "tensor([[5.5038e-01, 1.7086e-01],\n",
       "        [9.9165e-01, 8.3612e-04],\n",
       "        [9.9847e-01, 1.3631e-03],\n",
       "        [2.9206e-01, 2.4207e-01],\n",
       "        [4.3978e-01, 1.9655e-01],\n",
       "        [9.9556e-01, 2.6187e-03],\n",
       "        [9.8609e-01, 8.1697e-03],\n",
       "        [9.9418e-01, 5.8062e-03],\n",
       "        [9.9361e-01, 2.2344e-03],\n",
       "        [9.9997e-01, 2.6348e-05],\n",
       "        [9.9989e-01, 9.5465e-05],\n",
       "        [9.9966e-01, 5.1091e-05],\n",
       "        [9.9448e-01, 3.7387e-03],\n",
       "        [9.9545e-01, 3.7347e-03],\n",
       "        [9.8845e-01, 7.2351e-03],\n",
       "        [9.9952e-01, 1.6592e-04],\n",
       "        [9.7216e-01, 2.5426e-02],\n",
       "        [9.9969e-01, 2.7753e-04],\n",
       "        [8.7863e-01, 4.6406e-02],\n",
       "        [7.8186e-01, 2.1430e-01],\n",
       "        [9.9994e-01, 4.6191e-05],\n",
       "        [9.9988e-01, 4.4460e-05],\n",
       "        [2.6334e-01, 1.4773e-01],\n",
       "        [9.9884e-01, 6.6286e-04],\n",
       "        [9.8860e-01, 4.9661e-03],\n",
       "        [9.9944e-01, 5.2906e-04],\n",
       "        [9.8724e-01, 2.9467e-03],\n",
       "        [7.0756e-01, 7.1994e-02],\n",
       "        [9.9720e-01, 5.9338e-04],\n",
       "        [6.0540e-01, 2.9191e-01],\n",
       "        [9.9966e-01, 1.7521e-04],\n",
       "        [9.9986e-01, 8.8645e-05]], device='cuda:0', grad_fn=<SliceBackward>)"
      ]
     },
     "execution_count": 117,
     "metadata": {},
     "output_type": "execute_result"
    }
   ],
   "source": [
    "torch.sort(pred.softmax(1), descending=True, dim=1).values[:, :2]"
   ]
  },
  {
   "cell_type": "code",
   "execution_count": 86,
   "metadata": {
    "ExecuteTime": {
     "end_time": "2019-12-14T13:34:38.821129Z",
     "start_time": "2019-12-14T13:34:38.814371Z"
    }
   },
   "outputs": [
    {
     "data": {
      "text/plain": [
       "array([[12.37,  1.77,  2.59,  2.49,  1.66],\n",
       "       [14.28,  7.16, -0.17,  1.91,  2.1 ],\n",
       "       [21.84,  8.66,  1.48,  3.96,  4.5 ],\n",
       "       [11.66,  4.16,  4.35,  4.44,  4.1 ],\n",
       "       [12.24,  5.3 ,  7.15,  6.14,  3.32],\n",
       "       [19.31,  8.31,  3.94,  9.21,  8.04],\n",
       "       [21.25, 12.12,  4.78,  7.12,  7.05],\n",
       "       [22.79,  4.58,  1.68,  2.72,  4.44],\n",
       "       [15.53,  3.35, -1.37,  1.06,  1.53],\n",
       "       [23.85,  7.59,  1.96,  3.58,  3.88],\n",
       "       [22.46,  6.22, -0.52,  2.68,  2.94],\n",
       "       [18.73,  6.14,  2.46,  3.07,  3.74],\n",
       "       [15.54,  4.31,  1.03,  2.49,  2.69],\n",
       "       [20.68,  4.43,  2.39,  2.  ,  4.76],\n",
       "       [18.82,  6.84,  2.66,  4.38,  2.39],\n",
       "       [19.44,  3.33, -1.75, -0.14,  1.25],\n",
       "       [18.44,  7.92,  2.67,  5.59,  3.89],\n",
       "       [22.12,  6.24,  1.19,  3.89,  3.89],\n",
       "       [ 0.71,  7.02, -0.82,  0.06,  4.77],\n",
       "       [ 5.53, 16.86,  3.31,  3.92,  5.6 ],\n",
       "       [11.14, 23.7 ,  2.05,  5.63,  4.59],\n",
       "       [ 8.08, 21.53, -1.68,  1.8 ,  3.31],\n",
       "       [-0.05,  9.72,  1.21,  0.18,  0.88],\n",
       "       [ 4.22, 17.78,  1.24,  2.56,  6.32],\n",
       "       [ 9.12, 16.42,  0.49,  2.31,  1.  ],\n",
       "       [ 6.61, 21.49,  3.32,  3.38,  2.97],\n",
       "       [ 6.96, 17.48,  4.61,  8.89,  8.45],\n",
       "       [ 3.35, 11.39,  2.17, -1.95, -0.11],\n",
       "       [ 3.73, 17.41,  2.14,  3.4 ,  3.7 ],\n",
       "       [ 3.48, 11.69,  2.02,  3.07,  2.2 ],\n",
       "       [ 3.03, 19.65,  1.55,  0.96,  1.41],\n",
       "       [10.64, 19.97,  2.82,  5.4 ,  5.34]], dtype=float32)"
      ]
     },
     "execution_count": 86,
     "metadata": {},
     "output_type": "execute_result"
    }
   ],
   "source": [
    "pt.utils.misc.to_numpy(pred[:,:5]).round(2)"
   ]
  },
  {
   "cell_type": "code",
   "execution_count": 79,
   "metadata": {
    "ExecuteTime": {
     "end_time": "2019-12-14T13:34:17.008318Z",
     "start_time": "2019-12-14T13:34:17.002762Z"
    }
   },
   "outputs": [
    {
     "data": {
      "text/plain": [
       "array([[13.15,  5.59,  8.04,  8.99,  6.95],\n",
       "       [14.05,  7.85,  4.02,  4.79,  6.3 ],\n",
       "       [12.66,  1.47,  2.71,  1.63,  3.02],\n",
       "       [18.05,  3.64,  1.46,  1.18,  3.42],\n",
       "       [24.65,  8.24,  0.17,  1.96,  1.59],\n",
       "       [16.95,  5.06,  1.81,  1.76,  4.18],\n",
       "       [16.43,  0.98,  1.01,  0.73,  2.82],\n",
       "       [17.76,  6.71,  0.96,  2.07,  2.16],\n",
       "       [16.57,  5.02,  1.26,  2.4 ,  2.89],\n",
       "       [17.14,  3.66,  0.94,  2.69,  2.8 ],\n",
       "       [ 2.66,  1.99,  0.64, -0.4 , -1.74],\n",
       "       [14.84,  4.85,  0.83,  1.14,  1.15],\n",
       "       [19.64,  4.28,  2.55,  1.46,  3.76],\n",
       "       [20.97,  6.81,  0.88,  1.81,  3.46],\n",
       "       [16.43,  5.16, -0.42,  0.55,  1.84],\n",
       "       [18.75,  9.24,  3.25,  5.45,  5.81],\n",
       "       [21.49,  6.64,  1.09,  3.17,  3.06],\n",
       "       [20.05,  6.51,  0.21,  2.28,  1.87],\n",
       "       [23.35,  5.43,  2.13,  2.51,  4.37],\n",
       "       [13.54,  3.08,  0.6 ,  0.58,  0.35],\n",
       "       [15.21,  6.  ,  1.97,  1.21, -0.49],\n",
       "       [18.15,  6.81,  4.58,  5.42,  6.84],\n",
       "       [18.62,  6.46,  0.8 ,  2.22,  3.65],\n",
       "       [15.69,  5.39,  0.17,  1.79,  2.49],\n",
       "       [26.88,  6.71,  2.82,  3.63,  4.71],\n",
       "       [13.34,  5.91,  2.6 ,  3.49,  3.08],\n",
       "       [21.16,  8.83,  3.92,  4.45,  6.65],\n",
       "       [12.1 ,  6.76,  0.59,  0.87,  1.24],\n",
       "       [22.11,  4.41,  1.24,  2.31,  3.45],\n",
       "       [20.01,  5.62,  2.3 ,  3.48,  4.19],\n",
       "       [21.01,  9.13,  2.64,  4.98,  3.32],\n",
       "       [19.94,  5.93,  2.74,  2.54,  4.69]], dtype=float32)"
      ]
     },
     "execution_count": 79,
     "metadata": {},
     "output_type": "execute_result"
    }
   ],
   "source": [
    "pt.utils.misc.to_numpy(pred[:,:5]).round(2)"
   ]
  },
  {
   "cell_type": "raw",
   "metadata": {
    "ExecuteTime": {
     "end_time": "2019-12-14T13:22:29.209026Z",
     "start_time": "2019-12-14T13:21:37.355329Z"
    }
   },
   "source": [
    "runner.evaluate(val_loader)"
   ]
  },
  {
   "cell_type": "code",
   "execution_count": null,
   "metadata": {
    "ExecuteTime": {
     "end_time": "2019-08-23T12:31:25.698779Z",
     "start_time": "2019-08-23T12:27:51.656524Z"
    }
   },
   "outputs": [],
   "source": [
    "model_fit.fit_generator(train_loader)"
   ]
  },
  {
   "cell_type": "code",
   "execution_count": null,
   "metadata": {
    "ExecuteTime": {
     "end_time": "2019-08-23T12:32:17.231906Z",
     "start_time": "2019-08-23T12:31:42.796885Z"
    }
   },
   "outputs": [],
   "source": [
    "model_fit.evaluate_generator(val_loader)"
   ]
  },
  {
   "cell_type": "code",
   "execution_count": null,
   "metadata": {},
   "outputs": [],
   "source": [
    "# resnet50 before  one ep on val no blurpool   (0.9612411314027716, [76.02032650448143, 92.90572983354673])\n",
    "# resnet50 before  one ep on val with blurpool (1.1349006000615265, [72.03505121638925, 90.63900448143406])\n",
    "\n",
    "# resnet50 after   20% ep on trn with blurpool (1.028252171438474, [74.51923076923077, 92.07932692307692])"
   ]
  },
  {
   "cell_type": "code",
   "execution_count": null,
   "metadata": {},
   "outputs": [],
   "source": [
    "# seresnext50_32x4 before  on  val no   blurpool   (0.8974746221151108, [79.0204326923077, 94.4170673076923])\n",
    "# seresnext50_32x4 before  on  val with blurpool   (1.0384590449432531, [76.51041666666667, 93.07491987179488])\n",
    "# seresnext50_32x4 after   15% trn with blurpool   (0.9596769673319964, [77.13942307692308, 93.46554487179488])"
   ]
  }
 ],
 "metadata": {
  "kernelspec": {
   "display_name": "Python 3",
   "language": "python",
   "name": "python3"
  },
  "language_info": {
   "codemirror_mode": {
    "name": "ipython",
    "version": 3
   },
   "file_extension": ".py",
   "mimetype": "text/x-python",
   "name": "python",
   "nbconvert_exporter": "python",
   "pygments_lexer": "ipython3",
   "version": "3.6.8"
  },
  "varInspector": {
   "cols": {
    "lenName": 16,
    "lenType": 16,
    "lenVar": 40
   },
   "kernels_config": {
    "python": {
     "delete_cmd_postfix": "",
     "delete_cmd_prefix": "del ",
     "library": "var_list.py",
     "varRefreshCmd": "print(var_dic_list())"
    },
    "r": {
     "delete_cmd_postfix": ") ",
     "delete_cmd_prefix": "rm(",
     "library": "var_list.r",
     "varRefreshCmd": "cat(var_dic_list()) "
    }
   },
   "types_to_exclude": [
    "module",
    "function",
    "builtin_function_or_method",
    "instance",
    "_Feature"
   ],
   "window_display": false
  }
 },
 "nbformat": 4,
 "nbformat_minor": 2
}
