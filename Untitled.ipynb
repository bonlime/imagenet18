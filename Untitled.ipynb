{
 "cells": [
  {
   "cell_type": "code",
   "execution_count": null,
   "metadata": {
    "ExecuteTime": {
     "end_time": "2019-08-23T12:27:37.627893Z",
     "start_time": "2019-08-23T12:27:37.055310Z"
    }
   },
   "outputs": [],
   "source": [
    "import pytorch_tools as pt\n",
    "import torchvision as tv\n",
    "from modules.dali_dataloader import get_loader\n",
    "import torch\n",
    "import apex.amp as amp"
   ]
  },
  {
   "cell_type": "code",
   "execution_count": null,
   "metadata": {
    "ExecuteTime": {
     "end_time": "2019-08-23T12:31:40.220393Z",
     "start_time": "2019-08-23T12:31:37.878983Z"
    }
   },
   "outputs": [],
   "source": [
    "val_loader = get_loader(128, 128, 4, 0, False)\n",
    "train_loader = get_loader(128, 128, 4, 0, True, min_area=0.3)"
   ]
  },
  {
   "cell_type": "code",
   "execution_count": null,
   "metadata": {
    "ExecuteTime": {
     "end_time": "2019-08-23T12:27:51.309533Z",
     "start_time": "2019-08-23T12:27:50.699185Z"
    }
   },
   "outputs": [],
   "source": [
    "model = pt.models.se_resnext50_32x4d(pretrained='imagenet', antialias=)\n",
    "#model = pt.models.resnet50(pretrained='imagenet', antialias=True)\n",
    "model_fit = pt.fit_wrapper.FitWrapper(model).cuda()\n",
    "#model_fit = model_fit.eval()"
   ]
  },
  {
   "cell_type": "code",
   "execution_count": null,
   "metadata": {
    "ExecuteTime": {
     "end_time": "2019-08-23T12:27:51.654945Z",
     "start_time": "2019-08-23T12:27:51.643183Z"
    }
   },
   "outputs": [],
   "source": [
    "loss = torch.nn.CrossEntropyLoss()\n",
    "#loss = pt.losses.BinaryDiceLoss()\n",
    "metric = [pt.metrics.Accuracy(), pt.metrics.Accuracy(5)]\n",
    "optim = torch.optim.SGD([p for p in model_fit.parameters() if p.requires_grad], \n",
    "                        lr=1e-3, momentum=0.9, weight_decay=1e-4)\n",
    "new_model, optim = amp.initialize(model_fit.model, optim, opt_level='O1', verbosity=0)\n",
    "model_fit.compile(optim, loss, metric)"
   ]
  },
  {
   "cell_type": "code",
   "execution_count": null,
   "metadata": {
    "ExecuteTime": {
     "end_time": "2019-08-23T12:31:25.698779Z",
     "start_time": "2019-08-23T12:27:51.656524Z"
    }
   },
   "outputs": [],
   "source": [
    "model_fit.fit_generator(train_loader)"
   ]
  },
  {
   "cell_type": "code",
   "execution_count": null,
   "metadata": {
    "ExecuteTime": {
     "end_time": "2019-08-23T12:32:17.231906Z",
     "start_time": "2019-08-23T12:31:42.796885Z"
    }
   },
   "outputs": [],
   "source": [
    "model_fit.evaluate_generator(val_loader)"
   ]
  },
  {
   "cell_type": "code",
   "execution_count": null,
   "metadata": {},
   "outputs": [],
   "source": [
    "# resnet50 before  one ep on val no blurpool   (0.9612411314027716, [76.02032650448143, 92.90572983354673])\n",
    "# resnet50 before  one ep on val with blurpool (1.1349006000615265, [72.03505121638925, 90.63900448143406])\n",
    "\n",
    "# resnet50 after   20% ep on trn with blurpool (1.028252171438474, [74.51923076923077, 92.07932692307692])"
   ]
  },
  {
   "cell_type": "code",
   "execution_count": null,
   "metadata": {},
   "outputs": [],
   "source": [
    "# seresnext50_32x4 before  on  val no   blurpool   (0.8974746221151108, [79.0204326923077, 94.4170673076923])\n",
    "# seresnext50_32x4 before  on  val with blurpool   (1.0384590449432531, [76.51041666666667, 93.07491987179488])\n",
    "# seresnext50_32x4 after   15% trn with blurpool   (0.9596769673319964, [77.13942307692308, 93.46554487179488])"
   ]
  }
 ],
 "metadata": {
  "kernelspec": {
   "display_name": "Python 3",
   "language": "python",
   "name": "python3"
  },
  "language_info": {
   "codemirror_mode": {
    "name": "ipython",
    "version": 3
   },
   "file_extension": ".py",
   "mimetype": "text/x-python",
   "name": "python",
   "nbconvert_exporter": "python",
   "pygments_lexer": "ipython3",
   "version": "3.5.2"
  },
  "varInspector": {
   "cols": {
    "lenName": 16,
    "lenType": 16,
    "lenVar": 40
   },
   "kernels_config": {
    "python": {
     "delete_cmd_postfix": "",
     "delete_cmd_prefix": "del ",
     "library": "var_list.py",
     "varRefreshCmd": "print(var_dic_list())"
    },
    "r": {
     "delete_cmd_postfix": ") ",
     "delete_cmd_prefix": "rm(",
     "library": "var_list.r",
     "varRefreshCmd": "cat(var_dic_list()) "
    }
   },
   "types_to_exclude": [
    "module",
    "function",
    "builtin_function_or_method",
    "instance",
    "_Feature"
   ],
   "window_display": false
  }
 },
 "nbformat": 4,
 "nbformat_minor": 2
}
