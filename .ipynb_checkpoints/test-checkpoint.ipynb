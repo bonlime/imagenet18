{
 "cells": [
  {
   "cell_type": "code",
   "execution_count": 1,
   "metadata": {
    "ExecuteTime": {
     "end_time": "2019-08-05T11:28:56.620443Z",
     "start_time": "2019-08-05T11:28:56.609294Z"
    }
   },
   "outputs": [],
   "source": [
    "%load_ext autoreload\n",
    "%autoreload 2"
   ]
  },
  {
   "cell_type": "code",
   "execution_count": 4,
   "metadata": {
    "ExecuteTime": {
     "end_time": "2019-08-05T11:30:08.421370Z",
     "start_time": "2019-08-05T11:30:08.407907Z"
    }
   },
   "outputs": [],
   "source": [
    "from modules.dali_dataloader import get_loader"
   ]
  },
  {
   "cell_type": "code",
   "execution_count": 5,
   "metadata": {
    "ExecuteTime": {
     "end_time": "2019-08-05T11:30:08.863335Z",
     "start_time": "2019-08-05T11:30:08.843445Z"
    }
   },
   "outputs": [
    {
     "name": "stdout",
     "output_type": "stream",
     "text": [
      "/home/zakirov/datasets/imagenet_2012/raw_data/val/\n"
     ]
    },
    {
     "ename": "RuntimeError",
     "evalue": "[/opt/dali/dali/pipeline/operators/reader/loader/file_loader.cc:58] Assert on \"dir != nullptr\" failed: Directory /home/zakirov/datasets/imagenet_2012/raw_data/val/ could not be opened.\nStacktrace (87 entries):\n[frame 0]: /home/zakirov/.local/lib/python3.5/site-packages/nvidia/dali/libdali.so(+0xab94e) [0x7f8eee38794e]\n[frame 1]: /home/zakirov/.local/lib/python3.5/site-packages/nvidia/dali/libdali.so(+0x14b11b) [0x7f8eee42711b]\n[frame 2]: /home/zakirov/.local/lib/python3.5/site-packages/nvidia/dali/libdali.so(+0x14deb3) [0x7f8eee429eb3]\n[frame 3]: /home/zakirov/.local/lib/python3.5/site-packages/nvidia/dali/libdali.so(+0x175b1f) [0x7f8eee451b1f]\n[frame 4]: /home/zakirov/.local/lib/python3.5/site-packages/nvidia/dali/libdali.so(std::_Function_handler<std::unique_ptr<dali::OperatorBase, std::default_delete<dali::OperatorBase> > (dali::OpSpec const&), std::unique_ptr<dali::OperatorBase, std::default_delete<dali::OperatorBase> > (*)(dali::OpSpec const&)>::_M_invoke(std::_Any_data const&, dali::OpSpec const&)+0xc) [0x7f8eee3e1cdc]\n[frame 5]: /home/zakirov/.local/lib/python3.5/site-packages/nvidia/dali/libdali.so(+0x1bf564) [0x7f8eee49b564]\n[frame 6]: /home/zakirov/.local/lib/python3.5/site-packages/nvidia/dali/libdali.so(dali::InstantiateOperator(dali::OpSpec const&)+0x34e) [0x7f8eee49a99e]\n[frame 7]: /home/zakirov/.local/lib/python3.5/site-packages/nvidia/dali/libdali.so(dali::OpGraph::InstantiateOperators()+0x8f) [0x7f8eee3ac5ef]\n[frame 8]: /home/zakirov/.local/lib/python3.5/site-packages/nvidia/dali/libdali.so(dali::Pipeline::Build(std::vector<std::pair<std::string, std::string>, std::allocator<std::pair<std::string, std::string> > >)+0xd48) [0x7f8eee4f34c8]\n[frame 9]: /home/zakirov/.local/lib/python3.5/site-packages/nvidia/dali/backend_impl.cpython-35m-x86_64-linux-gnu.so(+0x3b02f) [0x7f8ef1a4602f]\n[frame 10]: /home/zakirov/.local/lib/python3.5/site-packages/nvidia/dali/backend_impl.cpython-35m-x86_64-linux-gnu.so(+0x1ef43) [0x7f8ef1a29f43]\n[frame 11]: /usr/bin/python3(PyCFunction_Call+0x77) [0x4ea137]\n[frame 12]: /usr/bin/python3(PyEval_EvalFrameEx+0x59f6) [0x53c176]\n[frame 13]: /usr/bin/python3(PyEval_EvalFrameEx+0x4b14) [0x53b294]\n[frame 14]: /usr/bin/python3(PyEval_EvalFrameEx+0x4b14) [0x53b294]\n[frame 15]: /usr/bin/python3() [0x53fc97]\n[frame 16]: /usr/bin/python3(PyEval_EvalCode+0x1f) [0x5409bf]\n[frame 17]: /usr/bin/python3() [0x54a435]\n[frame 18]: /usr/bin/python3(PyCFunction_Call+0x4f) [0x4ea10f]\n[frame 19]: /usr/bin/python3(PyEval_EvalFrameEx+0x614) [0x536d94]\n[frame 20]: /usr/bin/python3(_PyGen_Send+0x133) [0x4eddc3]\n[frame 21]: /usr/bin/python3(PyEval_EvalFrameEx+0x5d45) [0x53c4c5]\n[frame 22]: /usr/bin/python3(_PyGen_Send+0x133) [0x4eddc3]\n[frame 23]: /usr/bin/python3(PyEval_EvalFrameEx+0x5d45) [0x53c4c5]\n[frame 24]: /usr/bin/python3(_PyGen_Send+0x133) [0x4eddc3]\n[frame 25]: /usr/bin/python3(PyEval_EvalFrameEx+0x4d06) [0x53b486]\n[frame 26]: /usr/bin/python3(PyEval_EvalFrameEx+0x4b14) [0x53b294]\n[frame 27]: /usr/bin/python3(PyEval_EvalFrameEx+0x4b14) [0x53b294]\n[frame 28]: /usr/bin/python3(PyEval_EvalCodeEx+0x13b) [0x540b0b]\n[frame 29]: /usr/bin/python3() [0x4ec3f7]\n[frame 30]: /usr/bin/python3(PyObject_Call+0x47) [0x5c20e7]\n[frame 31]: /usr/bin/python3(PyEval_EvalFrameEx+0x252b) [0x538cab]\n[frame 32]: /usr/bin/python3() [0x5401ef]\n[frame 33]: /usr/bin/python3(PyEval_EvalFrameEx+0x5513) [0x53bc93]\n[frame 34]: /usr/bin/python3() [0x54307f]\n[frame 35]: /usr/bin/python3(PyCFunction_Call+0x4f) [0x4ea10f]\n[frame 36]: /usr/bin/python3(PyEval_EvalFrameEx+0x614) [0x536d94]\n[frame 37]: /usr/bin/python3() [0x5401ef]\n[frame 38]: /usr/bin/python3(PyEval_EvalFrameEx+0x5513) [0x53bc93]\n[frame 39]: /usr/bin/python3() [0x54307f]\n[frame 40]: /usr/bin/python3(PyCFunction_Call+0x4f) [0x4ea10f]\n[frame 41]: /usr/bin/python3(PyEval_EvalFrameEx+0x614) [0x536d94]\n[frame 42]: /usr/bin/python3() [0x5401ef]\n[frame 43]: /usr/bin/python3(PyEval_EvalFrameEx+0x5513) [0x53bc93]\n[frame 44]: /usr/bin/python3() [0x54307f]\n[frame 45]: /usr/bin/python3(PyCFunction_Call+0x4f) [0x4ea10f]\n[frame 46]: /usr/bin/python3(PyEval_EvalFrameEx+0x614) [0x536d94]\n[frame 47]: /usr/bin/python3(PyEval_EvalCodeEx+0x87a) [0x54124a]\n[frame 48]: /usr/bin/python3() [0x4ec2e3]\n[frame 49]: /usr/bin/python3(PyObject_Call+0x47) [0x5c20e7]\n[frame 50]: /usr/bin/python3(PyEval_EvalFrameEx+0x252b) [0x538cab]\n[frame 51]: /usr/bin/python3(_PyGen_Send+0x99) [0x4edd29]\n[frame 52]: /usr/bin/python3(PyEval_EvalFrameEx+0x4d06) [0x53b486]\n[frame 53]: /usr/bin/python3(PyEval_EvalFrameEx+0x4b14) [0x53b294]\n[frame 54]: /usr/bin/python3(PyEval_EvalCodeEx+0x87a) [0x54124a]\n[frame 55]: /usr/bin/python3() [0x4ec2e3]\n[frame 56]: /usr/bin/python3(PyObject_Call+0x47) [0x5c20e7]\n[frame 57]: /usr/bin/python3() [0x61f73f]\n[frame 58]: /usr/bin/python3(PyObject_Call+0x47) [0x5c20e7]\n[frame 59]: /usr/bin/python3(PyEval_EvalFrameEx+0x4ed6) [0x53b656]\n[frame 60]: /usr/bin/python3(PyEval_EvalFrameEx+0x4b14) [0x53b294]\n[frame 61]: /usr/bin/python3(PyEval_EvalCodeEx+0x970) [0x541340]\n[frame 62]: /usr/bin/python3() [0x4ec2e3]\n[frame 63]: /usr/bin/python3(PyObject_Call+0x47) [0x5c20e7]\n[frame 64]: /usr/bin/python3(PyEval_EvalFrameEx+0x252b) [0x538cab]\n[frame 65]: /usr/bin/python3(PyEval_EvalFrameEx+0x4b14) [0x53b294]\n[frame 66]: /usr/bin/python3(PyEval_EvalFrameEx+0x4b14) [0x53b294]\n[frame 67]: /usr/bin/python3(PyEval_EvalFrameEx+0x4b14) [0x53b294]\n[frame 68]: /usr/bin/python3(PyEval_EvalFrameEx+0x4b14) [0x53b294]\n[frame 69]: /usr/bin/python3(PyEval_EvalFrameEx+0x4b14) [0x53b294]\n[frame 70]: /usr/bin/python3() [0x53fc97]\n[frame 71]: /usr/bin/python3(PyEval_EvalFrameEx+0x50bf) [0x53b83f]\n[frame 72]: /usr/bin/python3() [0x53fc97]\n[frame 73]: /usr/bin/python3(PyEval_EvalCode+0x1f) [0x5409bf]\n[frame 74]: /usr/bin/python3() [0x54a435]\n[frame 75]: /usr/bin/python3(PyCFunction_Call+0x4f) [0x4ea10f]\n[frame 76]: /usr/bin/python3(PyEval_EvalFrameEx+0x614) [0x536d94]\n[frame 77]: /usr/bin/python3() [0x53fc97]\n[frame 78]: /usr/bin/python3(PyEval_EvalFrameEx+0x50bf) [0x53b83f]\n[frame 79]: /usr/bin/python3(PyEval_EvalCodeEx+0x13b) [0x540b0b]\n[frame 80]: /usr/bin/python3() [0x4ec358]\n[frame 81]: /usr/bin/python3(PyObject_Call+0x47) [0x5c20e7]\n[frame 82]: /usr/bin/python3() [0x63fbed]\n[frame 83]: /usr/bin/python3(Py_Main+0x6a6) [0x6404a6]\n[frame 84]: /usr/bin/python3(main+0xe1) [0x4d0001]\n[frame 85]: /lib/x86_64-linux-gnu/libc.so.6(__libc_start_main+0xf0) [0x7f8f3e377830]\n[frame 86]: /usr/bin/python3(_start+0x29) [0x5d6999]\n",
     "output_type": "error",
     "traceback": [
      "\u001b[0;31m---------------------------------------------------------------------------\u001b[0m",
      "\u001b[0;31mRuntimeError\u001b[0m                              Traceback (most recent call last)",
      "\u001b[0;32m<ipython-input-5-6069c30efcb7>\u001b[0m in \u001b[0;36m<module>\u001b[0;34m\u001b[0m\n\u001b[0;32m----> 1\u001b[0;31m \u001b[0mloader\u001b[0m \u001b[0;34m=\u001b[0m \u001b[0mget_loader\u001b[0m\u001b[0;34m(\u001b[0m\u001b[0;36m224\u001b[0m\u001b[0;34m,\u001b[0m \u001b[0;36m64\u001b[0m\u001b[0;34m,\u001b[0m \u001b[0;36m4\u001b[0m\u001b[0;34m,\u001b[0m \u001b[0;36m1\u001b[0m\u001b[0;34m,\u001b[0m \u001b[0;32mFalse\u001b[0m\u001b[0;34m)\u001b[0m\u001b[0;34m\u001b[0m\u001b[0m\n\u001b[0m\u001b[1;32m      2\u001b[0m \u001b[0mprint\u001b[0m\u001b[0;34m(\u001b[0m\u001b[0mlen\u001b[0m\u001b[0;34m(\u001b[0m\u001b[0mloader\u001b[0m\u001b[0;34m)\u001b[0m\u001b[0;34m)\u001b[0m\u001b[0;34m\u001b[0m\u001b[0m\n",
      "\u001b[0;32m~/repoz/imagenet18/modules/dali_dataloader.py\u001b[0m in \u001b[0;36mget_loader\u001b[0;34m(sz, bs, workers, device_id, train)\u001b[0m\n\u001b[1;32m    118\u001b[0m         \u001b[0msz\u001b[0m\u001b[0;34m=\u001b[0m\u001b[0msz\u001b[0m\u001b[0;34m,\u001b[0m \u001b[0mbs\u001b[0m\u001b[0;34m=\u001b[0m\u001b[0mbs\u001b[0m\u001b[0;34m,\u001b[0m \u001b[0mnum_threads\u001b[0m\u001b[0;34m=\u001b[0m\u001b[0mworkers\u001b[0m\u001b[0;34m,\u001b[0m\u001b[0;34m\u001b[0m\u001b[0m\n\u001b[1;32m    119\u001b[0m         device_id=device_id, train=train)\n\u001b[0;32m--> 120\u001b[0;31m     \u001b[0mpipe\u001b[0m\u001b[0;34m.\u001b[0m\u001b[0mbuild\u001b[0m\u001b[0;34m(\u001b[0m\u001b[0;34m)\u001b[0m\u001b[0;34m\u001b[0m\u001b[0m\n\u001b[0m\u001b[1;32m    121\u001b[0m     \u001b[0mloader\u001b[0m \u001b[0;34m=\u001b[0m \u001b[0mDALIClassificationIterator\u001b[0m\u001b[0;34m(\u001b[0m\u001b[0mpipe\u001b[0m\u001b[0;34m,\u001b[0m \u001b[0msize\u001b[0m\u001b[0;34m=\u001b[0m\u001b[0mpipe\u001b[0m\u001b[0;34m.\u001b[0m\u001b[0mepoch_size\u001b[0m\u001b[0;34m(\u001b[0m\u001b[0;34m'Reader'\u001b[0m\u001b[0;34m)\u001b[0m\u001b[0;34m)\u001b[0m\u001b[0;34m\u001b[0m\u001b[0m\n\u001b[1;32m    122\u001b[0m     \u001b[0;32mreturn\u001b[0m \u001b[0mDALIWrapper\u001b[0m\u001b[0;34m(\u001b[0m\u001b[0mloader\u001b[0m\u001b[0;34m)\u001b[0m\u001b[0;34m\u001b[0m\u001b[0m\n",
      "\u001b[0;32m~/.local/lib/python3.5/site-packages/nvidia/dali/pipeline.py\u001b[0m in \u001b[0;36mbuild\u001b[0;34m(self)\u001b[0m\n\u001b[1;32m    229\u001b[0m             \u001b[0mself\u001b[0m\u001b[0;34m.\u001b[0m\u001b[0m_prepare_graph\u001b[0m\u001b[0;34m(\u001b[0m\u001b[0;34m)\u001b[0m\u001b[0;34m\u001b[0m\u001b[0m\n\u001b[1;32m    230\u001b[0m \u001b[0;34m\u001b[0m\u001b[0m\n\u001b[0;32m--> 231\u001b[0;31m         \u001b[0mself\u001b[0m\u001b[0;34m.\u001b[0m\u001b[0m_pipe\u001b[0m\u001b[0;34m.\u001b[0m\u001b[0mBuild\u001b[0m\u001b[0;34m(\u001b[0m\u001b[0mself\u001b[0m\u001b[0;34m.\u001b[0m\u001b[0m_names_and_devices\u001b[0m\u001b[0;34m)\u001b[0m\u001b[0;34m\u001b[0m\u001b[0m\n\u001b[0m\u001b[1;32m    232\u001b[0m         \u001b[0mself\u001b[0m\u001b[0;34m.\u001b[0m\u001b[0m_built\u001b[0m \u001b[0;34m=\u001b[0m \u001b[0;32mTrue\u001b[0m\u001b[0;34m\u001b[0m\u001b[0m\n\u001b[1;32m    233\u001b[0m \u001b[0;34m\u001b[0m\u001b[0m\n",
      "\u001b[0;31mRuntimeError\u001b[0m: [/opt/dali/dali/pipeline/operators/reader/loader/file_loader.cc:58] Assert on \"dir != nullptr\" failed: Directory /home/zakirov/datasets/imagenet_2012/raw_data/val/ could not be opened.\nStacktrace (87 entries):\n[frame 0]: /home/zakirov/.local/lib/python3.5/site-packages/nvidia/dali/libdali.so(+0xab94e) [0x7f8eee38794e]\n[frame 1]: /home/zakirov/.local/lib/python3.5/site-packages/nvidia/dali/libdali.so(+0x14b11b) [0x7f8eee42711b]\n[frame 2]: /home/zakirov/.local/lib/python3.5/site-packages/nvidia/dali/libdali.so(+0x14deb3) [0x7f8eee429eb3]\n[frame 3]: /home/zakirov/.local/lib/python3.5/site-packages/nvidia/dali/libdali.so(+0x175b1f) [0x7f8eee451b1f]\n[frame 4]: /home/zakirov/.local/lib/python3.5/site-packages/nvidia/dali/libdali.so(std::_Function_handler<std::unique_ptr<dali::OperatorBase, std::default_delete<dali::OperatorBase> > (dali::OpSpec const&), std::unique_ptr<dali::OperatorBase, std::default_delete<dali::OperatorBase> > (*)(dali::OpSpec const&)>::_M_invoke(std::_Any_data const&, dali::OpSpec const&)+0xc) [0x7f8eee3e1cdc]\n[frame 5]: /home/zakirov/.local/lib/python3.5/site-packages/nvidia/dali/libdali.so(+0x1bf564) [0x7f8eee49b564]\n[frame 6]: /home/zakirov/.local/lib/python3.5/site-packages/nvidia/dali/libdali.so(dali::InstantiateOperator(dali::OpSpec const&)+0x34e) [0x7f8eee49a99e]\n[frame 7]: /home/zakirov/.local/lib/python3.5/site-packages/nvidia/dali/libdali.so(dali::OpGraph::InstantiateOperators()+0x8f) [0x7f8eee3ac5ef]\n[frame 8]: /home/zakirov/.local/lib/python3.5/site-packages/nvidia/dali/libdali.so(dali::Pipeline::Build(std::vector<std::pair<std::string, std::string>, std::allocator<std::pair<std::string, std::string> > >)+0xd48) [0x7f8eee4f34c8]\n[frame 9]: /home/zakirov/.local/lib/python3.5/site-packages/nvidia/dali/backend_impl.cpython-35m-x86_64-linux-gnu.so(+0x3b02f) [0x7f8ef1a4602f]\n[frame 10]: /home/zakirov/.local/lib/python3.5/site-packages/nvidia/dali/backend_impl.cpython-35m-x86_64-linux-gnu.so(+0x1ef43) [0x7f8ef1a29f43]\n[frame 11]: /usr/bin/python3(PyCFunction_Call+0x77) [0x4ea137]\n[frame 12]: /usr/bin/python3(PyEval_EvalFrameEx+0x59f6) [0x53c176]\n[frame 13]: /usr/bin/python3(PyEval_EvalFrameEx+0x4b14) [0x53b294]\n[frame 14]: /usr/bin/python3(PyEval_EvalFrameEx+0x4b14) [0x53b294]\n[frame 15]: /usr/bin/python3() [0x53fc97]\n[frame 16]: /usr/bin/python3(PyEval_EvalCode+0x1f) [0x5409bf]\n[frame 17]: /usr/bin/python3() [0x54a435]\n[frame 18]: /usr/bin/python3(PyCFunction_Call+0x4f) [0x4ea10f]\n[frame 19]: /usr/bin/python3(PyEval_EvalFrameEx+0x614) [0x536d94]\n[frame 20]: /usr/bin/python3(_PyGen_Send+0x133) [0x4eddc3]\n[frame 21]: /usr/bin/python3(PyEval_EvalFrameEx+0x5d45) [0x53c4c5]\n[frame 22]: /usr/bin/python3(_PyGen_Send+0x133) [0x4eddc3]\n[frame 23]: /usr/bin/python3(PyEval_EvalFrameEx+0x5d45) [0x53c4c5]\n[frame 24]: /usr/bin/python3(_PyGen_Send+0x133) [0x4eddc3]\n[frame 25]: /usr/bin/python3(PyEval_EvalFrameEx+0x4d06) [0x53b486]\n[frame 26]: /usr/bin/python3(PyEval_EvalFrameEx+0x4b14) [0x53b294]\n[frame 27]: /usr/bin/python3(PyEval_EvalFrameEx+0x4b14) [0x53b294]\n[frame 28]: /usr/bin/python3(PyEval_EvalCodeEx+0x13b) [0x540b0b]\n[frame 29]: /usr/bin/python3() [0x4ec3f7]\n[frame 30]: /usr/bin/python3(PyObject_Call+0x47) [0x5c20e7]\n[frame 31]: /usr/bin/python3(PyEval_EvalFrameEx+0x252b) [0x538cab]\n[frame 32]: /usr/bin/python3() [0x5401ef]\n[frame 33]: /usr/bin/python3(PyEval_EvalFrameEx+0x5513) [0x53bc93]\n[frame 34]: /usr/bin/python3() [0x54307f]\n[frame 35]: /usr/bin/python3(PyCFunction_Call+0x4f) [0x4ea10f]\n[frame 36]: /usr/bin/python3(PyEval_EvalFrameEx+0x614) [0x536d94]\n[frame 37]: /usr/bin/python3() [0x5401ef]\n[frame 38]: /usr/bin/python3(PyEval_EvalFrameEx+0x5513) [0x53bc93]\n[frame 39]: /usr/bin/python3() [0x54307f]\n[frame 40]: /usr/bin/python3(PyCFunction_Call+0x4f) [0x4ea10f]\n[frame 41]: /usr/bin/python3(PyEval_EvalFrameEx+0x614) [0x536d94]\n[frame 42]: /usr/bin/python3() [0x5401ef]\n[frame 43]: /usr/bin/python3(PyEval_EvalFrameEx+0x5513) [0x53bc93]\n[frame 44]: /usr/bin/python3() [0x54307f]\n[frame 45]: /usr/bin/python3(PyCFunction_Call+0x4f) [0x4ea10f]\n[frame 46]: /usr/bin/python3(PyEval_EvalFrameEx+0x614) [0x536d94]\n[frame 47]: /usr/bin/python3(PyEval_EvalCodeEx+0x87a) [0x54124a]\n[frame 48]: /usr/bin/python3() [0x4ec2e3]\n[frame 49]: /usr/bin/python3(PyObject_Call+0x47) [0x5c20e7]\n[frame 50]: /usr/bin/python3(PyEval_EvalFrameEx+0x252b) [0x538cab]\n[frame 51]: /usr/bin/python3(_PyGen_Send+0x99) [0x4edd29]\n[frame 52]: /usr/bin/python3(PyEval_EvalFrameEx+0x4d06) [0x53b486]\n[frame 53]: /usr/bin/python3(PyEval_EvalFrameEx+0x4b14) [0x53b294]\n[frame 54]: /usr/bin/python3(PyEval_EvalCodeEx+0x87a) [0x54124a]\n[frame 55]: /usr/bin/python3() [0x4ec2e3]\n[frame 56]: /usr/bin/python3(PyObject_Call+0x47) [0x5c20e7]\n[frame 57]: /usr/bin/python3() [0x61f73f]\n[frame 58]: /usr/bin/python3(PyObject_Call+0x47) [0x5c20e7]\n[frame 59]: /usr/bin/python3(PyEval_EvalFrameEx+0x4ed6) [0x53b656]\n[frame 60]: /usr/bin/python3(PyEval_EvalFrameEx+0x4b14) [0x53b294]\n[frame 61]: /usr/bin/python3(PyEval_EvalCodeEx+0x970) [0x541340]\n[frame 62]: /usr/bin/python3() [0x4ec2e3]\n[frame 63]: /usr/bin/python3(PyObject_Call+0x47) [0x5c20e7]\n[frame 64]: /usr/bin/python3(PyEval_EvalFrameEx+0x252b) [0x538cab]\n[frame 65]: /usr/bin/python3(PyEval_EvalFrameEx+0x4b14) [0x53b294]\n[frame 66]: /usr/bin/python3(PyEval_EvalFrameEx+0x4b14) [0x53b294]\n[frame 67]: /usr/bin/python3(PyEval_EvalFrameEx+0x4b14) [0x53b294]\n[frame 68]: /usr/bin/python3(PyEval_EvalFrameEx+0x4b14) [0x53b294]\n[frame 69]: /usr/bin/python3(PyEval_EvalFrameEx+0x4b14) [0x53b294]\n[frame 70]: /usr/bin/python3() [0x53fc97]\n[frame 71]: /usr/bin/python3(PyEval_EvalFrameEx+0x50bf) [0x53b83f]\n[frame 72]: /usr/bin/python3() [0x53fc97]\n[frame 73]: /usr/bin/python3(PyEval_EvalCode+0x1f) [0x5409bf]\n[frame 74]: /usr/bin/python3() [0x54a435]\n[frame 75]: /usr/bin/python3(PyCFunction_Call+0x4f) [0x4ea10f]\n[frame 76]: /usr/bin/python3(PyEval_EvalFrameEx+0x614) [0x536d94]\n[frame 77]: /usr/bin/python3() [0x53fc97]\n[frame 78]: /usr/bin/python3(PyEval_EvalFrameEx+0x50bf) [0x53b83f]\n[frame 79]: /usr/bin/python3(PyEval_EvalCodeEx+0x13b) [0x540b0b]\n[frame 80]: /usr/bin/python3() [0x4ec358]\n[frame 81]: /usr/bin/python3(PyObject_Call+0x47) [0x5c20e7]\n[frame 82]: /usr/bin/python3() [0x63fbed]\n[frame 83]: /usr/bin/python3(Py_Main+0x6a6) [0x6404a6]\n[frame 84]: /usr/bin/python3(main+0xe1) [0x4d0001]\n[frame 85]: /lib/x86_64-linux-gnu/libc.so.6(__libc_start_main+0xf0) [0x7f8f3e377830]\n[frame 86]: /usr/bin/python3(_start+0x29) [0x5d6999]\n"
     ]
    }
   ],
   "source": [
    "loader = get_loader(224, 64, 4, 1, True)\n",
    "print(len(loader))"
   ]
  },
  {
   "cell_type": "code",
   "execution_count": null,
   "metadata": {},
   "outputs": [],
   "source": []
  }
 ],
 "metadata": {
  "kernelspec": {
   "display_name": "Python 3",
   "language": "python",
   "name": "python3"
  },
  "varInspector": {
   "cols": {
    "lenName": 16,
    "lenType": 16,
    "lenVar": 40
   },
   "kernels_config": {
    "python": {
     "delete_cmd_postfix": "",
     "delete_cmd_prefix": "del ",
     "library": "var_list.py",
     "varRefreshCmd": "print(var_dic_list())"
    },
    "r": {
     "delete_cmd_postfix": ") ",
     "delete_cmd_prefix": "rm(",
     "library": "var_list.r",
     "varRefreshCmd": "cat(var_dic_list()) "
    }
   },
   "types_to_exclude": [
    "module",
    "function",
    "builtin_function_or_method",
    "instance",
    "_Feature"
   ],
   "window_display": false
  }
 },
 "nbformat": 4,
 "nbformat_minor": 2
}
