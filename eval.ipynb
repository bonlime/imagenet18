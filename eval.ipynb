{
 "cells": [
  {
   "cell_type": "code",
   "execution_count": 1,
   "metadata": {
    "ExecuteTime": {
     "end_time": "2021-01-13T07:46:13.160752Z",
     "start_time": "2021-01-13T07:46:13.152301Z"
    }
   },
   "outputs": [
    {
     "data": {
      "text/html": [
       "<style>.container {width:100% !important;}</style>"
      ],
      "text/plain": [
       "<IPython.core.display.HTML object>"
      ]
     },
     "metadata": {},
     "output_type": "display_data"
    }
   ],
   "source": [
    "from IPython.core.display import display, HTML\n",
    "display(HTML(\"<style>.container {width:100% !important;}</style>\"))\n",
    "\n",
    "import os\n",
    "os.environ[\"CUDA_DEVICE_ORDER\"]=\"PCI_BUS_ID\"   # see issue #152\n",
    "os.environ[\"CUDA_VISIBLE_DEVICES\"]=\"2\""
   ]
  },
  {
   "cell_type": "code",
   "execution_count": 2,
   "metadata": {
    "ExecuteTime": {
     "end_time": "2021-01-13T07:46:14.178258Z",
     "start_time": "2021-01-13T07:46:13.166345Z"
    }
   },
   "outputs": [
    {
     "name": "stderr",
     "output_type": "stream",
     "text": [
      "2021-01-13 10:46:14.078 | WARNING  | pytorch_tools.modules:<module>:35 - Inplace ABN is not installed. Using ABN by default\n"
     ]
    }
   ],
   "source": [
    "%config Completer.use_jedi=False\n",
    "import yaml\n",
    "import torch\n",
    "import numpy as np\n",
    "from pathlib import Path\n",
    "import torchvision as tv\n",
    "from ipywidgets import interact\n",
    "import matplotlib.pyplot as plt\n",
    "import torch.nn.functional as F\n",
    "import torch.nn as nn\n",
    "\n",
    "import pytorch_tools as pt\n",
    "from pytorch_tools.utils.misc import count_parameters\n",
    "\n",
    "from src.dali_dataloader import DaliLoader, ValRectExternalInputIterator, ValRectPipe, ValRectLoader\n",
    "from src.angular_losses import SphereLinearLayer"
   ]
  },
  {
   "cell_type": "markdown",
   "metadata": {
    "heading_collapsed": true
   },
   "source": [
    "# Evaluate"
   ]
  },
  {
   "cell_type": "code",
   "execution_count": 3,
   "metadata": {
    "ExecuteTime": {
     "end_time": "2020-12-28T13:06:54.241535Z",
     "start_time": "2020-12-28T13:06:49.778833Z"
    },
    "hidden": true
   },
   "outputs": [],
   "source": [
    "INP = torch.ones(2, 3, 224, 224).cuda()\n",
    "PRED = torch.ones(2, 1000).cuda()\n",
    "LOSS = pt.losses.CrossEntropyLoss().cuda()\n",
    "METRIC = [pt.metrics.Accuracy(), pt.metrics.Accuracy(5)]\n",
    "class Foo: # used to stack and then inspect all predictions\n",
    "    def __init__(self):\n",
    "        self.name = \"Foo\"\n",
    "    def __call__(self, *args, **kwargs):\n",
    "        return torch.tensor(0)\n",
    "    \n",
    "@torch.no_grad()\n",
    "def evaluate_model(model, size=224, rect=False, **kwargs):\n",
    "    \"\"\"Eval model on ImageNet validation dataset\"\"\"\n",
    "    BS = 25 if size >= 384 else 125\n",
    "    if rect:\n",
    "        val_loader = ValRectLoader(bs=BS, workers=12, **kwargs)\n",
    "    else:\n",
    "        val_loader = DaliLoader(False, bs=BS, sz=size, workers=12, **kwargs)\n",
    "    model = model.eval().cuda()\n",
    "    runner = pt.fit_wrapper.Runner(\n",
    "        model,\n",
    "        None,\n",
    "        LOSS,\n",
    "        callbacks=[\n",
    "            pt.fit_wrapper.callbacks.BatchMetrics(METRIC),\n",
    "            pt.fit_wrapper.callbacks.LoaderMetrics(Foo()),\n",
    "            pt.fit_wrapper.callbacks.ConsoleLogger(),\n",
    "        ],\n",
    "        use_fp16=True,\n",
    "    )\n",
    "    runner.callbacks.on_begin()\n",
    "    _, (acc1, acc5, foo) = runner.evaluate(val_loader)\n",
    "    print(f\"Acc@1: {acc1:.2f}. Acc@5: {acc5:.2f}\")\n",
    "    return acc1, acc5, runner"
   ]
  },
  {
   "cell_type": "code",
   "execution_count": 78,
   "metadata": {
    "ExecuteTime": {
     "end_time": "2020-12-28T14:33:47.249522Z",
     "start_time": "2020-12-28T14:33:46.921268Z"
    },
    "hidden": true
   },
   "outputs": [
    {
     "data": {
      "text/plain": [
       "torch.Size([1000, 256])"
      ]
     },
     "execution_count": 78,
     "metadata": {},
     "output_type": "execute_result"
    }
   ],
   "source": [
    "# PATH = \"logs/exp48.GENet_no_dim_red_ctmx_20201031_180205/\"\n",
    "# PATH = \"logs/exp89.BNet_asoft_20201107_132233/\"\n",
    "PATH = \"logs/exp90.BNet_asoft_ctmx_20201109_095536//\"\n",
    "# PATH = \"logs/exp99.BNet_adacos_margin_res_20201225_112802/\"\n",
    "# PATH = \"logs/exp92.BNet_arcsoft_20201109_194344/\"\n",
    "# PATH = \"logs/exp92.BNet_arcsoft_64_20201110_211920/\"\n",
    "\n",
    "\n",
    "# PATH = \"/home/zakirov/exp55.GENet_no_dim_red_ctmx_ws_20201006_182419/\"\n",
    "# PATH = \"/home/zakirov/repoz/sota_imagenet/logs/exp56.GENet_no_dim_red_ctmx_ws_adam_20201007_072753/\"\n",
    "PATH = Path(PATH)\n",
    "model_config = yaml.load(open(PATH / \"config.yaml\"))\n",
    "model_config[\"model_params\"].pop(\"mobilenetv3_head\", None)\n",
    "model_config[\"model_params\"][\"head_type\"] = \"default\"\n",
    "model = pt.models.BNet(**model_config[\"model_params\"])\n",
    "model = model.eval().requires_grad_(False).cuda()\n",
    "# model = pt.modules.conv_to_ws_conv(model)\n",
    "model.last_linear.weight.shape"
   ]
  },
  {
   "cell_type": "code",
   "execution_count": 79,
   "metadata": {
    "ExecuteTime": {
     "end_time": "2020-12-28T14:46:26.432352Z",
     "start_time": "2020-12-28T14:46:26.429005Z"
    },
    "hidden": true
   },
   "outputs": [],
   "source": [
    "ll = nn.Linear(100, 100, bias=False)"
   ]
  },
  {
   "cell_type": "code",
   "execution_count": 61,
   "metadata": {
    "ExecuteTime": {
     "end_time": "2020-12-28T13:59:04.251995Z",
     "start_time": "2020-12-28T13:59:04.170305Z"
    },
    "hidden": true
   },
   "outputs": [
    {
     "data": {
      "text/plain": [
       "_IncompatibleKeys(missing_keys=['last_linear.bias'], unexpected_keys=[])"
      ]
     },
     "execution_count": 61,
     "metadata": {},
     "output_type": "execute_result"
    }
   ],
   "source": [
    "sd = torch.load(PATH / \"model.chpn\")[\"state_dict\"]\n",
    "model.load_state_dict(sd, strict=False)"
   ]
  },
  {
   "cell_type": "code",
   "execution_count": 62,
   "metadata": {
    "ExecuteTime": {
     "end_time": "2020-12-28T13:59:04.307755Z",
     "start_time": "2020-12-28T13:59:04.299078Z"
    },
    "hidden": true
   },
   "outputs": [],
   "source": [
    "sphere_linear = SphereLinearLayer(model.last_linear.weight.size(1), model.last_linear.weight.size(0)).requires_grad_(False)\n",
    "sphere_linear.load_state_dict(model.last_linear.state_dict(), strict=False)\n",
    "model.last_linear = sphere_linear"
   ]
  },
  {
   "cell_type": "raw",
   "metadata": {
    "ExecuteTime": {
     "end_time": "2020-11-19T16:03:18.428760Z",
     "start_time": "2020-11-19T16:03:18.416044Z"
    },
    "hidden": true
   },
   "source": [
    "def lunif(x, t=2):\n",
    "    sq_pdist = torch.pdist(x, p=2).pow(2)\n",
    "    return sq_pdist.mul(-t).exp().mean().log()\n",
    "- lunif(F.normalize(model.last_linear.weight))\n",
    "# lunif(torch.randn(1000, 128))"
   ]
  },
  {
   "cell_type": "raw",
   "metadata": {
    "ExecuteTime": {
     "end_time": "2020-10-26T17:19:13.498688Z",
     "start_time": "2020-10-26T17:19:13.494539Z"
    },
    "hidden": true
   },
   "source": [
    "# fix for old models\n",
    "model.last_linear.load_state_dict({\"weight\": sd[\"head.4.weight\"], \"bias\": sd[\"head.4.bias\"]})"
   ]
  },
  {
   "cell_type": "raw",
   "metadata": {
    "ExecuteTime": {
     "end_time": "2020-10-15T08:00:32.925263Z",
     "start_time": "2020-10-15T08:00:32.906433Z"
    },
    "hidden": true
   },
   "source": [
    "nov_norms = sorted([p.norm() for p in model.parameters()])"
   ]
  },
  {
   "cell_type": "raw",
   "metadata": {
    "ExecuteTime": {
     "end_time": "2020-10-15T08:00:34.306120Z",
     "start_time": "2020-10-15T08:00:34.088614Z"
    },
    "hidden": true
   },
   "source": [
    "plt.figure(figsize=(10, 10));\n",
    "# plt.plot(sgdp_norms[:110])\n",
    "# plt.plot(adamp_norms[:110])\n",
    "plt.plot(nov_norms[:110])\n",
    "plt.legend([\"SGDP\", \"AdamP\", \"Novograd\"]);\n",
    "plt.title(\"Sorted weights norm for model parameters\");"
   ]
  },
  {
   "cell_type": "raw",
   "metadata": {
    "ExecuteTime": {
     "end_time": "2020-11-04T13:23:15.672643Z",
     "start_time": "2020-11-04T13:23:15.667974Z"
    },
    "hidden": true
   },
   "source": [
    "@torch.no_grad()\n",
    "def make_ws(module):\n",
    "    module_output = module\n",
    "    # no WS for convs with groups != 1 as suggested in\n",
    "    # Understanding the Disharmony between Weight Normalization ... (https://arxiv.org/abs/1911.05920)\n",
    "    if isinstance(module, torch.nn.Conv2d) and module.groups == 1:\n",
    "        var, mean = torch.var_mean(module.weight, dim=[1, 2, 3], keepdim=True, unbiased=False)\n",
    "        module_output.weight.copy_((module.weight - mean) / torch.sqrt(var + 1e-5))\n",
    "        \n",
    "\n",
    "    for name, child in module.named_children():\n",
    "        module_output.add_module(name, make_ws(child))\n",
    "    del module\n",
    "    return module_output \n",
    "if model_config[\"weight_standardization\"]:\n",
    "    model = make_ws(model)"
   ]
  },
  {
   "cell_type": "code",
   "execution_count": 63,
   "metadata": {
    "ExecuteTime": {
     "end_time": "2020-12-28T13:59:05.201088Z",
     "start_time": "2020-12-28T13:59:05.198654Z"
    },
    "hidden": true
   },
   "outputs": [],
   "source": [
    "# R-50 GN + WS Acc@1: 76.33. Acc@5: 93.34 \n",
    "# X-50-GN-WS Acc@1: 77.28. Acc@5: 93.61\n",
    "# R-101 GN + WS Acc@1: 77.85. Acc@5: 93.90\n",
    "# X-101-GN-WS Acc@1: 78.19. Acc@5: 93.98"
   ]
  },
  {
   "cell_type": "code",
   "execution_count": 64,
   "metadata": {
    "ExecuteTime": {
     "end_time": "2020-12-28T13:59:05.970949Z",
     "start_time": "2020-12-28T13:59:05.327222Z"
    },
    "hidden": true
   },
   "outputs": [
    {
     "name": "stdout",
     "output_type": "stream",
     "text": [
      "76.55\n"
     ]
    }
   ],
   "source": [
    "if (Path(\"val_features\") / f\"{PATH.name}_pred\").exists():\n",
    "    all_output = torch.load(f\"val_features/{Path(PATH).name}_pred\")\n",
    "    all_target = torch.load(f\"val_features/{Path(PATH).name}_true\")\n",
    "else:\n",
    "    # calculate features and save them\n",
    "    _, _, runn = evaluate_model(model, rect=True, resize_method=\"triang\")\n",
    "    all_target = torch.cat(runn.callbacks.callbacks[1].target).float()\n",
    "    all_output = torch.cat(runn.callbacks.callbacks[1].output, dim=0).float()\n",
    "    torch.save(all_output, f\"val_features/{Path(PATH).name}_pred\")\n",
    "    torch.save(all_target, f\"val_features/{Path(PATH).name}_true\")\n",
    "\n",
    "correct = all_output.argmax(dim=1).eq(all_target)\n",
    "print(f\"{correct.float().mean() * 100:.2f}\")\n",
    "\n",
    "# get embeddings by inverse of last weight matrix\n",
    "class_inverse = torch.pinverse(F.normalize(model.last_linear.weight))\n",
    "all_embeddings = all_output @ class_inverse.T"
   ]
  },
  {
   "cell_type": "code",
   "execution_count": 65,
   "metadata": {
    "ExecuteTime": {
     "end_time": "2020-12-28T13:59:05.986451Z",
     "start_time": "2020-12-28T13:59:05.973269Z"
    },
    "hidden": true
   },
   "outputs": [],
   "source": [
    "batch_cos = all_output[:1000]\n",
    "batch_true = all_target[:1000]"
   ]
  },
  {
   "cell_type": "code",
   "execution_count": 54,
   "metadata": {
    "ExecuteTime": {
     "end_time": "2020-12-28T13:57:51.658833Z",
     "start_time": "2020-12-28T13:57:51.645034Z"
    },
    "hidden": true
   },
   "outputs": [],
   "source": [
    "class_vectors = F.normalize(model.last_linear.weight)"
   ]
  },
  {
   "cell_type": "code",
   "execution_count": 11,
   "metadata": {
    "ExecuteTime": {
     "end_time": "2020-12-28T13:06:59.708592Z",
     "start_time": "2020-12-28T13:06:59.599997Z"
    },
    "hidden": true
   },
   "outputs": [],
   "source": [
    "class_cos = (class_vectors @ class_vectors.T)\n",
    "class_cos_flat = torch.triu(class_cos, diagonal=1).flatten()\n",
    "class_cos_flat = class_cos_flat[class_cos_flat != 0].sort()[0].cpu()"
   ]
  },
  {
   "cell_type": "code",
   "execution_count": 12,
   "metadata": {
    "ExecuteTime": {
     "end_time": "2020-12-28T13:07:00.642042Z",
     "start_time": "2020-12-28T13:07:00.627977Z"
    },
    "hidden": true
   },
   "outputs": [
    {
     "data": {
      "text/plain": [
       "(tensor([0.9289, 0.8296, 0.8230, 0.8140, 0.8095, 0.7890, 0.7719, 0.7536, 0.7527,\n",
       "         0.7471, 0.7451, 0.7399, 0.7396, 0.7357]),\n",
       " tensor([657, 638, 248, 482, 435, 836,  66, 620, 664, 810, 265, 725,  40, 987]))"
      ]
     },
     "execution_count": 12,
     "metadata": {},
     "output_type": "execute_result"
    }
   ],
   "source": [
    "most_sim_val, mos_sim_index = torch.triu(class_cos, diagonal=1).max(-1)[0].topk(14)\n",
    "most_sim_val, mos_sim_index"
   ]
  },
  {
   "cell_type": "code",
   "execution_count": 365,
   "metadata": {
    "ExecuteTime": {
     "end_time": "2020-11-19T15:57:38.167371Z",
     "start_time": "2020-11-19T15:57:38.136301Z"
    },
    "hidden": true
   },
   "outputs": [
    {
     "data": {
      "text/plain": [
       "tensor(-13.9534)"
      ]
     },
     "execution_count": 365,
     "metadata": {},
     "output_type": "execute_result"
    }
   ],
   "source": [
    "def lunif(x, t=2):\n",
    "    sq_pdist = torch.pdist(x, p=2).pow(2)\n",
    "    return sq_pdist.mul(-t).exp().mean().log()\n",
    "lunif(F.normalize(model.last_linear.weight).T)\n",
    "# lunif(torch.randn(1000, 128))"
   ]
  },
  {
   "cell_type": "raw",
   "metadata": {
    "ExecuteTime": {
     "end_time": "2020-11-19T13:14:26.288580Z",
     "start_time": "2020-11-19T13:14:26.277028Z"
    },
    "hidden": true
   },
   "source": [
    "mos_sim_index, torch.triu(class_cos, diagonal=1).topk(1, dim=-1)[1][mos_sim_index].flatten()"
   ]
  },
  {
   "cell_type": "raw",
   "metadata": {
    "ExecuteTime": {
     "end_time": "2020-11-19T13:23:17.154549Z",
     "start_time": "2020-11-19T13:23:16.948657Z"
    },
    "hidden": true
   },
   "source": [
    "plt.plot(class_cos_flat);"
   ]
  },
  {
   "cell_type": "code",
   "execution_count": 18,
   "metadata": {
    "ExecuteTime": {
     "end_time": "2020-12-28T13:06:11.547567Z",
     "start_time": "2020-12-28T13:06:07.600276Z"
    },
    "hidden": true
   },
   "outputs": [
    {
     "data": {
      "image/png": "[encoded data removed]",
      "text/plain": [
       "<Figure size 432x288 with 1 Axes>"
      ]
     },
     "metadata": {
      "needs_background": "light"
     },
     "output_type": "display_data"
    },
    {
     "data": {
      "text/plain": [
       "1.0092619783878327"
      ]
     },
     "execution_count": 18,
     "metadata": {},
     "output_type": "execute_result"
    },
    {
     "data": {
      "image/png": "[encoded data removed]",
      "text/plain": [
       "<Figure size 432x288 with 1 Axes>"
      ]
     },
     "metadata": {
      "needs_background": "light"
     },
     "output_type": "display_data"
    }
   ],
   "source": [
    "# asoft 64\n",
    "all_cls_med = []\n",
    "for cls in range(1000):\n",
    "    cls_med = torch.acos(all_embeddings[all_target.eq(cls)] @ class_vectors[cls]).median()\n",
    "    all_cls_med.append(cls_med.item())\n",
    "plt.plot(sorted(all_cls_med));\n",
    "plt.show()\n",
    "plt.hist(all_cls_med, bins=20);\n",
    "np.mean(all_cls_med)"
   ]
  },
  {
   "cell_type": "code",
   "execution_count": null,
   "metadata": {
    "hidden": true
   },
   "outputs": [],
   "source": [
    "all_output.where()"
   ]
  },
  {
   "cell_type": "code",
   "execution_count": null,
   "metadata": {
    "hidden": true
   },
   "outputs": [],
   "source": [
    "torch.where()"
   ]
  },
  {
   "cell_type": "code",
   "execution_count": 39,
   "metadata": {
    "ExecuteTime": {
     "end_time": "2020-12-28T13:55:44.247113Z",
     "start_time": "2020-12-28T13:55:43.930067Z"
    },
    "hidden": true
   },
   "outputs": [
    {
     "data": {
      "image/png": "[encoded data removed]",
      "text/plain": [
       "<Figure size 432x288 with 1 Axes>"
      ]
     },
     "metadata": {
      "needs_background": "light"
     },
     "output_type": "display_data"
    }
   ],
   "source": [
    "# pos_cos = all_output.gather(-1, index=all_target[..., None])\n",
    "pos_cos = all_output.max(-1)[0]\n",
    "pos_cos = torch.acos(pos_cos)\n",
    "corr_pos_cos = pos_cos[correct]\n",
    "incorr_pos_cos = pos_cos[~correct]\n",
    "plt.hist(corr_pos_cos.flatten().cpu(), bins=30, alpha=0.7);\n",
    "plt.hist(incorr_pos_cos.flatten().cpu(), bins=30, alpha=0.7);\n",
    "plt.legend([\"TP\", \"FP\"]);"
   ]
  },
  {
   "cell_type": "code",
   "execution_count": 13,
   "metadata": {
    "ExecuteTime": {
     "end_time": "2020-12-28T13:07:04.052235Z",
     "start_time": "2020-12-28T13:07:03.766006Z"
    },
    "hidden": true
   },
   "outputs": [
    {
     "data": {
      "image/png": "[encoded data removed]",
      "text/plain": [
       "<Figure size 432x288 with 1 Axes>"
      ]
     },
     "metadata": {
      "needs_background": "light"
     },
     "output_type": "display_data"
    }
   ],
   "source": [
    "# pos_cos = all_output.gather(-1, index=all_target[..., None])\n",
    "pos_cos = all_output.max(-1)[0]\n",
    "# pos_cos = torch.acos(pos_cos)\n",
    "corr_pos_cos = pos_cos[correct]\n",
    "incorr_pos_cos = pos_cos[~correct]\n",
    "plt.hist(corr_pos_cos.flatten().cpu(), bins=30, alpha=0.7);\n",
    "plt.hist(incorr_pos_cos.flatten().cpu(), bins=30, alpha=0.7);\n",
    "plt.legend([\"TP\", \"FP\"]);"
   ]
  },
  {
   "cell_type": "code",
   "execution_count": 124,
   "metadata": {
    "ExecuteTime": {
     "end_time": "2020-11-21T07:12:28.043073Z",
     "start_time": "2020-11-21T07:12:28.040066Z"
    },
    "hidden": true
   },
   "outputs": [],
   "source": [
    "torch.Tensor.scatter_add_?"
   ]
  },
  {
   "cell_type": "code",
   "execution_count": 133,
   "metadata": {
    "ExecuteTime": {
     "end_time": "2020-11-21T07:14:14.788325Z",
     "start_time": "2020-11-21T07:14:14.784049Z"
    },
    "hidden": true
   },
   "outputs": [
    {
     "data": {
      "text/plain": [
       "tensor(0.3989)"
      ]
     },
     "execution_count": 133,
     "metadata": {},
     "output_type": "execute_result"
    }
   ],
   "source": [
    "all_output[0, all_target[0].long()]"
   ]
  },
  {
   "cell_type": "code",
   "execution_count": 137,
   "metadata": {
    "ExecuteTime": {
     "end_time": "2020-11-21T07:15:06.486656Z",
     "start_time": "2020-11-21T07:15:06.483189Z"
    },
    "hidden": true
   },
   "outputs": [
    {
     "data": {
      "text/plain": [
       "tensor(11)"
      ]
     },
     "execution_count": 137,
     "metadata": {},
     "output_type": "execute_result"
    }
   ],
   "source": [
    "1 + torch.tensor(10)"
   ]
  },
  {
   "cell_type": "code",
   "execution_count": 187,
   "metadata": {
    "ExecuteTime": {
     "end_time": "2020-11-21T11:53:28.957515Z",
     "start_time": "2020-11-21T11:53:28.953894Z"
    },
    "hidden": true
   },
   "outputs": [
    {
     "data": {
      "text/plain": [
       "-7.6023243250622485e-06"
      ]
     },
     "execution_count": 187,
     "metadata": {},
     "output_type": "execute_result"
    }
   ],
   "source": [
    "cos = np.random.rand(100)\n",
    "np.median(cos) - np.cos(np.median(np.arccos(cos)))"
   ]
  },
  {
   "cell_type": "code",
   "execution_count": 158,
   "metadata": {
    "ExecuteTime": {
     "end_time": "2020-11-21T11:08:13.931489Z",
     "start_time": "2020-11-21T11:08:13.927916Z"
    },
    "hidden": true
   },
   "outputs": [
    {
     "data": {
      "text/plain": [
       "14.229341904629822"
      ]
     },
     "execution_count": 158,
     "metadata": {},
     "output_type": "execute_result"
    }
   ],
   "source": [
    "np.log(1512602)"
   ]
  },
  {
   "cell_type": "code",
   "execution_count": 139,
   "metadata": {
    "ExecuteTime": {
     "end_time": "2020-11-21T07:16:07.594884Z",
     "start_time": "2020-11-21T07:16:07.541838Z"
    },
    "hidden": true
   },
   "outputs": [
    {
     "data": {
      "text/plain": [
       "tensor([[-0.1150, -0.0387, -0.0559,  ..., -0.1390, -0.0066,  0.0260],\n",
       "        [ 0.0428,  0.0336, -0.0380,  ..., -0.1256, -0.0080, -0.1426],\n",
       "        [ 0.1290,  0.0086,  0.0053,  ...,  0.0461, -0.0276, -0.0336],\n",
       "        ...,\n",
       "        [-0.0177, -0.0170, -0.0471,  ..., -0.2334,  0.0470,  0.0412],\n",
       "        [ 0.0837, -0.0144, -0.1389,  ..., -0.0506, -0.0293,  0.0453],\n",
       "        [ 0.0077, -0.0851, -0.0515,  ..., -0.1360, -0.0324,  0.0383]])"
      ]
     },
     "execution_count": 139,
     "metadata": {},
     "output_type": "execute_result"
    }
   ],
   "source": [
    "all_output.scatter_add(dim=1, index=all_target.long()[..., None], src=torch.tensor(-10.0).expand(50000, 1))"
   ]
  },
  {
   "cell_type": "code",
   "execution_count": 111,
   "metadata": {
    "ExecuteTime": {
     "end_time": "2020-11-21T07:10:03.544122Z",
     "start_time": "2020-11-21T07:10:03.500597Z"
    },
    "hidden": true
   },
   "outputs": [
    {
     "data": {
      "text/plain": [
       "tensor([473, 635, 797,  ..., 807, 764, 683])"
      ]
     },
     "execution_count": 111,
     "metadata": {},
     "output_type": "execute_result"
    }
   ],
   "source": [
    "all_output.argmax(-1)"
   ]
  },
  {
   "cell_type": "code",
   "execution_count": 88,
   "metadata": {
    "ExecuteTime": {
     "end_time": "2020-11-20T13:23:53.221401Z",
     "start_time": "2020-11-20T13:23:53.217428Z"
    },
    "hidden": true
   },
   "outputs": [
    {
     "data": {
      "text/plain": [
       "23.371474769217663"
      ]
     },
     "execution_count": 88,
     "metadata": {},
     "output_type": "execute_result"
    }
   ],
   "source": [
    "m = 0.35\n",
    "np.log(382433.9062) / (0.9 - m)"
   ]
  },
  {
   "cell_type": "code",
   "execution_count": 67,
   "metadata": {
    "ExecuteTime": {
     "end_time": "2020-11-20T13:15:39.672736Z",
     "start_time": "2020-11-20T13:15:39.390347Z"
    },
    "hidden": true
   },
   "outputs": [
    {
     "data": {
      "text/plain": [
       "tensor(382433.9062)"
      ]
     },
     "execution_count": 67,
     "metadata": {},
     "output_type": "execute_result"
    }
   ],
   "source": [
    "s = 16\n",
    "oo = all_output.scatter(dim=1, index=all_target.long()[..., None], value=-1)\n",
    "oo.mul(16).exp().sum(-1).mean()"
   ]
  },
  {
   "cell_type": "code",
   "execution_count": 107,
   "metadata": {
    "ExecuteTime": {
     "end_time": "2020-11-20T13:25:43.786266Z",
     "start_time": "2020-11-20T13:25:43.777679Z"
    },
    "hidden": true
   },
   "outputs": [
    {
     "data": {
      "text/plain": [
       "0.8377093284197789"
      ]
     },
     "execution_count": 107,
     "metadata": {},
     "output_type": "execute_result"
    }
   ],
   "source": [
    "m = 0.2\n",
    "np.log(np.e ** (s * (1 - m)) + 3e5) / s"
   ]
  },
  {
   "cell_type": "code",
   "execution_count": 62,
   "metadata": {
    "ExecuteTime": {
     "end_time": "2020-11-20T13:14:09.020125Z",
     "start_time": "2020-11-20T13:14:08.899747Z"
    },
    "hidden": true
   },
   "outputs": [
    {
     "data": {
      "text/plain": [
       "tensor(3446204.)"
      ]
     },
     "execution_count": 62,
     "metadata": {},
     "output_type": "execute_result"
    }
   ],
   "source": [
    "((all_output).mul(16).exp().sum(-1)).mean()"
   ]
  },
  {
   "cell_type": "code",
   "execution_count": 48,
   "metadata": {
    "ExecuteTime": {
     "end_time": "2020-11-20T13:08:44.459679Z",
     "start_time": "2020-11-20T13:08:44.162679Z"
    },
    "hidden": true
   },
   "outputs": [
    {
     "data": {
      "text/plain": [
       "tensor(0.2064)"
      ]
     },
     "execution_count": 48,
     "metadata": {},
     "output_type": "execute_result"
    }
   ],
   "source": [
    "((all_output - all_output.max(-1)[0][..., None]).mul(16).exp().sum(-1) - 1).mean()"
   ]
  },
  {
   "cell_type": "code",
   "execution_count": 20,
   "metadata": {
    "ExecuteTime": {
     "end_time": "2020-12-24T16:18:51.631040Z",
     "start_time": "2020-12-24T16:18:51.123035Z"
    },
    "hidden": true
   },
   "outputs": [
    {
     "data": {
      "image/png": "[encoded data removed]",
      "text/plain": [
       "<Figure size 432x288 with 1 Axes>"
      ]
     },
     "metadata": {
      "needs_background": "light"
     },
     "output_type": "display_data"
    }
   ],
   "source": [
    "# pos_cos = all_output.gather(-1, index=all_target[..., None])\n",
    "pos_cos = all_output.max(-1)[0]\n",
    "pos_cos = torch.acos(pos_cos)\n",
    "corr_pos_cos = pos_cos[correct]\n",
    "incorr_pos_cos = pos_cos[~correct]\n",
    "plt.hist(corr_pos_cos.flatten().cpu(), bins=30, alpha=0.7);\n",
    "plt.hist(incorr_pos_cos.flatten().cpu(), bins=30, alpha=0.7);\n",
    "plt.legend([\"TP\", \"FP\"]);"
   ]
  },
  {
   "cell_type": "code",
   "execution_count": 41,
   "metadata": {
    "ExecuteTime": {
     "end_time": "2020-11-19T13:14:30.720195Z",
     "start_time": "2020-11-19T13:14:30.350624Z"
    },
    "hidden": true
   },
   "outputs": [
    {
     "data": {
      "image/png": "[encoded data removed]",
      "text/plain": [
       "<Figure size 432x288 with 1 Axes>"
      ]
     },
     "metadata": {
      "needs_background": "light"
     },
     "output_type": "display_data"
    }
   ],
   "source": [
    "# pos_cos = all_output.gather(-1, index=all_target[..., None])\n",
    "pos_cos = all_output.max(-1)[0]\n",
    "pos_cos = torch.acos(pos_cos)\n",
    "corr_pos_cos = pos_cos[correct]\n",
    "incorr_pos_cos = pos_cos[~correct]\n",
    "plt.hist(corr_pos_cos.flatten().cpu(), bins=30, alpha=0.7);\n",
    "plt.hist(incorr_pos_cos.flatten().cpu(), bins=30, alpha=0.7);\n",
    "plt.legend([\"TP\", \"FP\"]);"
   ]
  },
  {
   "cell_type": "code",
   "execution_count": 68,
   "metadata": {
    "ExecuteTime": {
     "end_time": "2020-12-28T14:00:45.036482Z",
     "start_time": "2020-12-28T14:00:42.828857Z"
    },
    "hidden": true
   },
   "outputs": [
    {
     "data": {
      "image/png": "[encoded data removed]",
      "text/plain": [
       "<Figure size 432x288 with 1 Axes>"
      ]
     },
     "metadata": {
      "needs_background": "light"
     },
     "output_type": "display_data"
    }
   ],
   "source": [
    "pos_cos = all_output.sort(-1, descending=True)[0][5:]\n",
    "pos_cos = torch.acos(pos_cos)\n",
    "plt.hist(pos_cos.flatten().cpu(), bins=30, alpha=0.7);"
   ]
  },
  {
   "cell_type": "code",
   "execution_count": 86,
   "metadata": {
    "ExecuteTime": {
     "end_time": "2020-11-19T13:21:56.248728Z",
     "start_time": "2020-11-19T13:21:52.938648Z"
    },
    "hidden": true
   },
   "outputs": [
    {
     "data": {
      "image/png": "[encoded data removed]",
      "text/plain": [
       "<Figure size 432x288 with 1 Axes>"
      ]
     },
     "metadata": {
      "needs_background": "light"
     },
     "output_type": "display_data"
    }
   ],
   "source": [
    "pos_cos = all_output.sort(-1, descending=True)[0][5:]\n",
    "pos_cos = torch.acos(pos_cos)\n",
    "plt.hist(pos_cos.flatten().cpu(), bins=30, alpha=0.7);"
   ]
  },
  {
   "cell_type": "code",
   "execution_count": 67,
   "metadata": {
    "ExecuteTime": {
     "end_time": "2020-12-28T14:00:24.711257Z",
     "start_time": "2020-12-28T14:00:24.428044Z"
    },
    "code_folding": [],
    "hidden": true
   },
   "outputs": [
    {
     "data": {
      "image/png": "[encoded data removed]",
      "text/plain": [
       "<Figure size 432x288 with 1 Axes>"
      ]
     },
     "metadata": {
      "needs_background": "light"
     },
     "output_type": "display_data"
    }
   ],
   "source": [
    "# pos_cos = all_output.gather(-1, index=all_target[..., None])\n",
    "pos_cos = all_output.max(-1)[0]\n",
    "pos_cos = torch.acos(pos_cos)\n",
    "corr_pos_cos = pos_cos[correct]\n",
    "incorr_pos_cos = pos_cos[~correct]\n",
    "plt.hist(corr_pos_cos.flatten().cpu(), bins=30, alpha=0.7);\n",
    "plt.hist(incorr_pos_cos.flatten().cpu(), bins=30, alpha=0.7);\n",
    "plt.legend([\"TP\", \"FP\"]);"
   ]
  },
  {
   "cell_type": "code",
   "execution_count": 59,
   "metadata": {
    "ExecuteTime": {
     "end_time": "2020-12-28T13:58:52.552419Z",
     "start_time": "2020-12-28T13:58:52.219631Z"
    },
    "hidden": true
   },
   "outputs": [
    {
     "name": "stdout",
     "output_type": "stream",
     "text": [
      "Median cos to positive: 0.37. \n",
      "95% percentile: 1.23\n"
     ]
    },
    {
     "data": {
      "image/png": "[encoded data removed]",
      "text/plain": [
       "<Figure size 432x288 with 1 Axes>"
      ]
     },
     "metadata": {
      "needs_background": "light"
     },
     "output_type": "display_data"
    }
   ],
   "source": [
    "pos_cos = all_output.gather(-1, index=all_target[..., None].long())\n",
    "pos_cos = torch.acos(pos_cos.float())\n",
    "corr_pos_cos = pos_cos[correct]\n",
    "incorr_pos_cos = pos_cos[~correct]\n",
    "plt.hist(corr_pos_cos.flatten().cpu(), bins=30, alpha=0.7);\n",
    "plt.hist(incorr_pos_cos.flatten().cpu(), bins=30, alpha=0.7);\n",
    "plt.legend([\"TP\", \"FN\"]);\n",
    "print(f\"Median cos to positive: {pos_cos.median():.2f}. \\n95% percentile: {np.percentile(pos_cos, 95):.2f}\")"
   ]
  },
  {
   "cell_type": "code",
   "execution_count": 77,
   "metadata": {
    "ExecuteTime": {
     "end_time": "2020-12-28T14:02:33.675076Z",
     "start_time": "2020-12-28T14:02:33.337819Z"
    },
    "hidden": true
   },
   "outputs": [
    {
     "name": "stdout",
     "output_type": "stream",
     "text": [
      "Median cos to positive: 0.20. \n",
      "95% percentile: 1.17\n"
     ]
    },
    {
     "data": {
      "image/png": "[encoded data removed]",
      "text/plain": [
       "<Figure size 432x288 with 1 Axes>"
      ]
     },
     "metadata": {
      "needs_background": "light"
     },
     "output_type": "display_data"
    }
   ],
   "source": [
    "pos_cos = all_output.gather(-1, index=all_target[..., None].long())\n",
    "pos_cos = torch.acos(pos_cos.float())\n",
    "corr_pos_cos = pos_cos[correct]\n",
    "incorr_pos_cos = pos_cos[~correct]\n",
    "plt.hist(corr_pos_cos.flatten().cpu(), bins=30, alpha=0.7);\n",
    "plt.hist(incorr_pos_cos.flatten().cpu(), bins=30, alpha=0.7);\n",
    "# plt.hist(pos_cos.flatten().cpu(), bins=60, alpha=0.7);\n",
    "plt.legend([\"TP\", \"FN\"]);\n",
    "print(f\"Median cos to positive: {pos_cos.median():.2f}. \\n95% percentile: {np.percentile(pos_cos, 95):.2f}\")"
   ]
  },
  {
   "cell_type": "code",
   "execution_count": 15,
   "metadata": {
    "ExecuteTime": {
     "end_time": "2020-12-28T13:07:16.061633Z",
     "start_time": "2020-12-28T13:07:15.664988Z"
    },
    "hidden": true
   },
   "outputs": [
    {
     "data": {
      "image/png": "[encoded data removed]",
      "text/plain": [
       "<Figure size 432x288 with 1 Axes>"
      ]
     },
     "metadata": {
      "needs_background": "light"
     },
     "output_type": "display_data"
    }
   ],
   "source": [
    "pos_cos = all_output.gather(-1, index=all_target[..., None].long())\n",
    "pos_cos = torch.acos(pos_cos.float())\n",
    "corr_pos_cos = pos_cos[correct]\n",
    "incorr_pos_cos = pos_cos[~correct]\n",
    "plt.hist(corr_pos_cos.flatten().cpu(), bins=30, alpha=0.7);\n",
    "plt.hist(incorr_pos_cos.flatten().cpu(), bins=30, alpha=0.7);\n",
    "plt.legend([\"TP\", \"FN\"]);"
   ]
  },
  {
   "cell_type": "code",
   "execution_count": 126,
   "metadata": {
    "ExecuteTime": {
     "end_time": "2020-11-13T17:47:38.754187Z",
     "start_time": "2020-11-13T17:47:38.445088Z"
    },
    "hidden": true
   },
   "outputs": [
    {
     "data": {
      "text/plain": [
       "<matplotlib.legend.Legend at 0x7ff5348639b0>"
      ]
     },
     "execution_count": 126,
     "metadata": {},
     "output_type": "execute_result"
    },
    {
     "data": {
      "image/png": "[encoded data removed]",
      "text/plain": [
       "<Figure size 432x288 with 1 Axes>"
      ]
     },
     "metadata": {
      "needs_background": "light"
     },
     "output_type": "display_data"
    }
   ],
   "source": [
    "pos_cos = all_output.gather(-1, index=all_target[..., None])\n",
    "pos_cos = torch.acos(pos_cos.float())\n",
    "corr_pos_cos = pos_cos[correct]\n",
    "incorr_pos_cos = pos_cos[~correct]\n",
    "plt.hist(corr_pos_cos.flatten().cpu(), bins=30, alpha=0.7);\n",
    "plt.hist(incorr_pos_cos.flatten().cpu(), bins=30, alpha=0.7);\n",
    "plt.legend([\"TP\", \"FN\"]);"
   ]
  },
  {
   "cell_type": "code",
   "execution_count": null,
   "metadata": {
    "hidden": true
   },
   "outputs": [],
   "source": [
    "# plot distance to positive and si"
   ]
  },
  {
   "cell_type": "code",
   "execution_count": null,
   "metadata": {
    "hidden": true
   },
   "outputs": [],
   "source": []
  },
  {
   "cell_type": "raw",
   "metadata": {
    "ExecuteTime": {
     "end_time": "2020-11-13T17:29:49.792976Z",
     "start_time": "2020-11-13T17:29:49.735318Z"
    },
    "hidden": true
   },
   "source": [
    "misclassified = all_target[all_output.argmax(dim=1).eq(all_target)]\n",
    "worst_classes_cnt, worst_classes_idx = torch.bincount(misclassified).sort(descending=True)\n",
    "worst_classes_idx[500:510], worst_classes_cnt[500:510]"
   ]
  },
  {
   "cell_type": "code",
   "execution_count": 32,
   "metadata": {
    "ExecuteTime": {
     "end_time": "2020-12-24T16:20:13.399442Z",
     "start_time": "2020-12-24T16:20:13.371474Z"
    },
    "hidden": true
   },
   "outputs": [
    {
     "data": {
      "text/plain": [
       "tensor([1.8550, 1.5421, 1.4814, 1.5766, 1.3756, 1.7459, 1.7251, 1.7159, 1.6940,\n",
       "        2.0770, 1.8767, 1.4806, 1.4802, 1.4650, 1.6965, 1.7383, 1.4477, 1.5670,\n",
       "        1.8919, 1.5580, 1.6605, 1.5754, 1.7174, 1.8845, 1.8556, 2.8369, 2.5185,\n",
       "        2.0546, 2.1087, 1.7729, 1.6569, 1.6267, 2.0831, 1.7068, 1.7761, 1.8118,\n",
       "        1.8419, 1.6230, 2.2165, 1.8131, 1.7312, 1.9057, 2.4353, 2.1590, 1.9126,\n",
       "        1.9223, 1.7778, 1.8690, 1.8445, 1.9278, 1.8989, 1.8082, 1.9109, 1.6680,\n",
       "        1.6214, 1.7424, 1.9618, 1.7819, 1.7012, 1.6696, 1.5750, 1.6918, 2.1414,\n",
       "        1.9382, 1.7275, 1.7315, 1.6541, 1.7047, 1.6840, 1.9332, 1.9180, 2.5905,\n",
       "        2.8957, 2.4277, 2.5440, 2.2678, 1.7871, 1.9130, 2.2528, 1.8513, 2.0129,\n",
       "        1.7382, 1.8210, 1.6881, 1.6648, 1.6734, 1.7760, 1.5272, 1.6378, 1.7153,\n",
       "        1.6968, 1.9039, 1.6005, 1.9991, 1.4454, 1.7490, 1.9776, 1.5534, 1.6751,\n",
       "        1.6689, 1.7835, 2.3846, 1.8878, 2.1051, 2.4380, 2.1415, 2.2520, 1.6954,\n",
       "        1.5231, 1.6485, 1.5361, 2.6480, 2.2806, 1.9296, 2.1369, 1.5422, 2.1249,\n",
       "        2.0016, 1.9076, 1.8971, 1.8303, 1.7589, 2.3453, 2.0037, 2.1953, 1.8528,\n",
       "        2.1617, 1.6732, 1.7690, 1.5580, 1.5781, 1.6435, 1.4614, 1.7041, 1.7326,\n",
       "        1.7098, 1.7306, 1.5799, 2.0468, 1.6224, 1.4408, 1.3882, 1.6617, 1.6666,\n",
       "        1.6429, 1.9250, 1.6010, 1.8465, 1.8687, 1.8168, 1.9824, 2.3192, 1.8491,\n",
       "        1.9531, 2.0653, 2.0451, 1.5083, 1.7865, 2.3677, 1.7394, 2.5768, 1.5497,\n",
       "        1.8395, 1.7883, 1.9720, 1.8041, 2.0427, 2.1801, 1.8055, 2.2812, 2.3888,\n",
       "        1.9134, 1.9868, 1.9929, 2.1851, 2.7337, 2.4241, 2.3273, 1.7960, 2.2170,\n",
       "        2.0672, 1.9214, 2.5653, 2.7100, 2.1774, 2.3101, 2.3171, 2.1648, 2.4444,\n",
       "        2.4351, 2.2247, 2.1343, 2.2864, 2.1257, 2.2677, 2.0057, 2.3678, 2.4185,\n",
       "        2.3220, 2.1410, 2.2750, 2.1599, 2.4327, 1.9921, 2.3248, 2.3154, 2.8232,\n",
       "        2.0580, 2.0891, 2.1154, 2.2602, 1.6344, 1.9145, 1.7604, 2.1182, 1.6923,\n",
       "        1.6856, 1.8314, 1.6267, 2.0107, 2.0671, 2.4287, 1.9505, 2.2363, 2.0449,\n",
       "        2.5071, 2.6695, 2.5179, 2.0006, 2.1123, 1.7468, 2.1994, 2.1239, 2.7049,\n",
       "        1.8894, 2.2858, 1.8461, 2.1505, 1.8779, 1.9588, 2.0273, 2.0512, 1.8024,\n",
       "        1.8170, 2.0108, 2.5025, 1.9104, 1.8567, 2.0357, 1.8369, 1.8789, 1.8131,\n",
       "        2.3124, 1.8037, 2.0197, 2.0416, 2.2418, 1.8829, 2.2680, 2.1224, 2.4316,\n",
       "        1.8691, 2.4947, 2.0874, 2.1104, 2.4059, 2.4157, 2.3274, 2.0987, 3.2298,\n",
       "        2.8909, 3.0551, 3.0161, 2.8051, 2.7916, 2.3818, 2.4384, 3.1167, 3.0729,\n",
       "        2.4471, 3.1527, 2.6470, 2.8150, 2.2330, 2.3454, 2.7539, 2.6017, 3.0135,\n",
       "        2.4139, 2.1097, 2.6194, 3.5285, 2.7281, 2.5559, 2.9814, 3.1929, 2.4735,\n",
       "        2.5633, 2.9152, 2.7807, 1.6400, 1.7338, 2.0466, 1.8518, 1.6810, 1.9217,\n",
       "        1.9034, 1.6754, 1.6660, 1.5848, 1.9635, 1.7589, 1.6150, 1.9032, 2.0499,\n",
       "        1.6246, 1.6412, 1.8430, 1.9015, 1.7029, 1.6391, 1.6194, 1.6757, 1.6604,\n",
       "        1.5349, 1.6629, 1.8374, 1.7982, 1.7381, 1.8400, 2.6091, 2.5202, 2.2090,\n",
       "        1.8840, 2.2337, 3.1683, 2.4136, 2.2510, 2.2413, 1.9339, 1.8638, 2.2830,\n",
       "        2.3958, 2.2188, 1.8739, 2.0922, 2.2012, 2.2856, 1.9792, 1.9663, 2.0848,\n",
       "        2.2240, 2.3643, 2.3980, 2.2918, 2.4480, 3.0146, 2.7861, 2.8791, 2.7047,\n",
       "        2.5238, 2.5225, 2.4539, 1.8260, 2.6240, 3.1319, 2.9845, 3.1617, 3.8395,\n",
       "        3.4806, 4.1914, 4.2078, 3.3683, 3.7053, 3.8236, 3.8191, 3.6453, 3.3236,\n",
       "        3.3841, 3.5292, 3.9802, 3.9953, 3.6014, 3.0637, 3.6612, 2.3594, 2.4626,\n",
       "        2.6779, 2.1969, 1.9308, 1.7732, 1.7006, 1.6518, 1.3408, 1.4769, 1.7671,\n",
       "        1.5331, 1.6857, 2.1935, 4.0362, 3.9571, 2.8714, 2.6091, 1.8310, 1.5833,\n",
       "        1.9217, 2.2300, 1.6526, 1.8910, 2.8863, 1.9334, 3.6254, 2.8660, 2.7166,\n",
       "        2.7354, 2.0578, 3.5929, 2.7352, 2.4834, 2.6486, 2.9719, 3.0735, 2.2723,\n",
       "        1.9717, 2.0951, 1.7932, 3.4673, 2.9320, 3.1075, 1.9385, 1.9934, 1.9695,\n",
       "        3.3457, 2.8997, 2.3982, 2.0483, 1.7496, 2.8504, 2.8075, 4.1614, 2.5953,\n",
       "        2.6342, 2.9050, 2.3344, 2.0409, 3.4262, 2.4838, 2.7842, 2.3607, 1.9783,\n",
       "        3.3361, 3.2824, 2.6770, 2.8855, 2.0874, 2.1019, 3.3922, 3.2533, 1.7843,\n",
       "        3.4237, 2.8746, 5.6393, 2.6318, 3.0200, 2.7970, 3.1623, 1.8191, 2.2224,\n",
       "        1.7938, 2.6550, 2.6130, 2.4360, 1.9962, 3.1738, 3.6666, 1.7710, 1.8311,\n",
       "        2.6018, 2.2657, 1.7344, 2.1556, 2.0514, 2.2988, 2.1795, 1.8495, 2.1089,\n",
       "        2.4998, 3.1175, 2.5097, 2.0639, 3.5285, 2.4397, 2.3697, 2.2090, 3.4063,\n",
       "        2.5092, 4.0189, 2.1930, 2.0143, 2.5421, 1.6540, 3.7121, 2.5536, 3.9945,\n",
       "        2.3642, 3.3469, 2.2937, 3.1670, 2.2114, 1.9060, 2.1395, 1.9097, 2.9813,\n",
       "        2.5265, 3.0543, 3.0053, 2.2562, 2.4284, 2.6702, 2.7702, 2.2241, 2.1542,\n",
       "        2.2451, 3.6332, 5.6055, 2.1308, 2.3292, 2.2898, 2.4984, 2.5306, 2.1894,\n",
       "        2.3405, 2.3011, 1.9404, 3.0297, 2.4705, 2.1827, 1.8987, 2.2195, 2.0645,\n",
       "        2.5956, 2.9976, 3.1830, 2.6365, 2.0137, 2.4658, 3.2711, 1.8665, 2.7914,\n",
       "        2.2051, 2.8298, 2.6180, 2.5722, 2.8353, 1.6692, 1.6103, 2.5488, 2.8369,\n",
       "        3.4442, 2.7286, 2.2204, 2.1147, 2.2303, 2.4897, 2.2617, 1.7209, 2.1492,\n",
       "        2.2395, 4.4502, 1.8396, 3.2401, 2.0940, 3.3646, 1.8438, 2.9497, 1.7995,\n",
       "        1.7892, 3.1261, 3.3121, 2.7702, 2.1369, 1.7068, 2.3762, 3.3515, 2.4485,\n",
       "        3.1402, 1.6642, 2.6634, 2.6878, 2.8881, 3.3470, 2.4999, 2.2541, 2.7404,\n",
       "        3.1668, 1.6961, 2.5462, 3.1189, 2.2293, 1.6742, 3.2573, 2.5851, 3.6225,\n",
       "        2.4161, 4.1310, 2.5721, 2.6294, 1.5270, 2.9301, 2.1005, 3.1303, 2.0185,\n",
       "        2.9898, 2.6915, 4.3740, 3.3338, 2.1351, 3.1499, 2.7662, 2.6429, 2.5293,\n",
       "        2.1489, 2.2646, 2.4766, 2.2427, 1.7721, 2.8317, 1.8998, 1.8144, 3.5655,\n",
       "        2.5339, 3.0554, 2.7205, 2.7911, 2.7570, 3.1560, 3.1302, 2.4299, 4.4564,\n",
       "        4.1214, 1.5543, 3.0860, 3.4453, 3.0310, 2.1340, 2.2372, 1.9317, 2.5060,\n",
       "        2.4753, 2.1000, 3.2136, 2.3731, 3.3276, 3.1183, 1.6464, 3.8247, 1.7076,\n",
       "        2.4067, 2.6550, 2.1379, 1.9371, 1.8692, 2.6020, 2.3215, 1.9914, 2.1202,\n",
       "        2.5929, 3.6505, 2.3099, 2.4591, 1.9902, 2.0273, 1.8058, 2.3023, 2.2222,\n",
       "        1.7609, 2.5793, 2.3342, 2.9023, 2.2120, 3.3344, 2.7478, 2.2507, 3.6066,\n",
       "        2.3174, 1.7744, 2.6316, 2.0062, 2.0875, 3.2352, 2.2121, 2.9754, 2.2699,\n",
       "        2.0409, 1.7519, 2.7697, 2.9276, 3.8784, 2.5789, 3.0065, 2.9510, 2.1266,\n",
       "        3.2562, 2.1948, 2.2827, 1.9352, 2.3737, 3.0187, 2.9193, 2.0258, 2.4406,\n",
       "        3.2729, 2.6794, 2.2039, 2.7024, 4.9153, 2.2863, 1.6726, 2.1172, 2.2076,\n",
       "        2.6148, 2.4109, 2.4510, 2.1150, 2.0767, 3.0646, 2.1045, 1.9285, 2.3865,\n",
       "        2.6628, 1.9349, 3.2855, 2.0839, 3.2318, 1.7086, 3.2742, 2.1914, 2.4380,\n",
       "        2.3034, 2.0646, 3.1628, 1.9064, 2.2279, 2.4468, 2.5053, 2.7206, 2.0221,\n",
       "        2.9523, 2.4631, 3.0629, 2.3518, 1.7531, 2.1370, 2.2569, 2.6670, 1.7436,\n",
       "        2.7874, 1.6412, 2.5129, 2.4371, 2.4181, 2.6399, 2.2996, 2.6123, 2.9636,\n",
       "        2.3728, 2.5794, 2.2100, 1.6731, 2.1358, 1.7214, 2.6986, 2.6165, 3.2314,\n",
       "        2.3884, 3.2864, 2.7041, 2.8397, 3.1578, 1.5882, 1.8108, 1.7611, 2.1705,\n",
       "        2.4818, 2.7910, 2.1939, 2.5164, 4.1478, 2.3700, 2.8210, 2.4550, 2.2500,\n",
       "        2.6990, 2.6244, 2.4133, 1.9846, 2.5307, 2.5777, 2.0745, 2.6880, 1.7954,\n",
       "        2.0894, 1.9451, 1.7110, 3.5569, 2.1546, 2.5078, 2.0706, 2.5531, 1.6424,\n",
       "        2.2443, 2.3399, 1.9802, 2.7689, 1.7451, 1.8240, 2.1128, 1.7451, 3.1393,\n",
       "        3.1449, 2.4035, 1.8016, 2.7562, 2.8671, 3.6254, 1.9346, 2.7196, 2.6851,\n",
       "        2.7167, 2.3727, 2.5910, 2.2104, 3.2713, 2.2133, 3.9976, 2.2056, 2.8540,\n",
       "        2.8108, 2.9025, 1.9324, 3.3281, 2.9741, 2.6714, 2.7052, 2.6648, 2.9700,\n",
       "        2.8551, 2.0151, 2.3373, 2.5330, 2.4847, 2.2730, 2.5010, 2.0455, 2.3706,\n",
       "        2.6408, 1.9243, 2.4750, 2.0561, 2.4654, 2.0616, 2.1977, 2.7015, 1.9618,\n",
       "        1.7889, 2.2248, 1.9226, 1.8614, 2.5282, 3.3747, 2.9634, 1.6657, 2.6778,\n",
       "        2.0350, 1.8515, 2.4443, 2.2641, 2.3387, 1.9727, 3.0049, 2.9271, 2.5927,\n",
       "        2.7982, 3.0875, 2.1067, 3.4182, 1.9019, 2.9655, 1.7962, 2.7847, 2.8458,\n",
       "        2.2881, 2.9737, 2.2958, 2.9608, 1.8344, 2.6643, 2.5096, 3.0280, 3.5133,\n",
       "        2.1270, 3.2421, 3.0763, 3.6003, 1.9527, 2.3302, 3.3315, 2.6587, 1.6405,\n",
       "        2.1211, 2.3309, 3.1202, 2.1886, 2.1942, 1.5967, 2.0580, 2.3345, 2.2366,\n",
       "        2.0271, 2.1173, 2.0610, 2.1849, 1.7567, 2.0139, 1.8660, 1.4599, 1.6881,\n",
       "        1.7635, 1.6162, 2.5654, 1.6584, 1.6343, 1.7862, 1.4879, 1.9652, 1.6738,\n",
       "        2.0839, 1.7367, 2.1636, 2.1058, 2.3279, 1.9049, 1.8908, 2.6173, 1.5441,\n",
       "        1.9454, 1.4560, 2.3988, 2.0398, 2.0279, 1.8637, 2.0140, 1.8275, 1.7551,\n",
       "        1.7677, 2.7758, 2.4388, 1.8074, 1.8635, 1.8837, 1.7574, 1.8485, 1.8042,\n",
       "        1.6286, 1.6711, 1.7262, 2.4962, 1.7556, 2.2356, 2.2968, 1.8035, 2.3212,\n",
       "        2.0382, 1.7963, 1.8409, 2.4450, 2.2353, 2.5861, 2.6676, 2.1921, 1.8771,\n",
       "        2.0331, 3.3088, 1.7160, 2.3889, 1.4800, 1.8175, 2.0394, 1.8747, 1.6954,\n",
       "        1.8189, 2.3593, 1.9529, 2.3063, 2.9237, 2.4550, 2.7897, 2.3977, 2.0266,\n",
       "        2.4025])"
      ]
     },
     "execution_count": 32,
     "metadata": {},
     "output_type": "execute_result"
    }
   ],
   "source": [
    "batch_cos.norm(dim=0)"
   ]
  },
  {
   "cell_type": "code",
   "execution_count": 28,
   "metadata": {
    "ExecuteTime": {
     "end_time": "2020-12-24T16:19:41.137918Z",
     "start_time": "2020-12-24T16:19:41.122573Z"
    },
    "hidden": true
   },
   "outputs": [
    {
     "data": {
      "text/plain": [
       "tensor([0.4100, 0.4472, 0.2351, 0.1451, 0.1674, 0.1502, 0.3837, 0.1980, 0.4269,\n",
       "        0.5053, 0.3807, 0.2479, 0.2066, 0.5175, 0.2373, 0.4102, 0.3043, 0.2648,\n",
       "        0.2314, 0.3211, 0.3717, 0.3692, 0.4623, 0.5045, 0.3786, 0.1511, 0.1571,\n",
       "        0.2425, 0.1951, 0.1958, 0.8805, 0.2901, 0.4063, 0.2140, 0.1669, 0.2910,\n",
       "        0.2850, 0.1773, 0.2033, 0.4803, 0.2584, 0.2518, 0.5887, 0.4726, 0.2810,\n",
       "        0.2580, 0.1484, 0.2049, 0.2137, 0.2070, 0.2368, 0.4931, 0.3832, 0.1919,\n",
       "        0.5533, 0.1786, 0.2026, 0.1389, 0.3100, 0.2016, 0.1451, 0.4688, 0.4358,\n",
       "        0.3193, 0.2034, 0.1914, 0.2985, 0.2742, 0.3021, 0.2178, 0.3115, 0.1996,\n",
       "        0.3086, 0.1640, 0.1793, 0.1702, 0.2055, 0.4061, 0.2835, 0.3657, 0.6916,\n",
       "        0.5814, 0.4082, 0.2755, 0.3047, 0.1575, 0.5977, 0.2487, 0.3374, 0.1976,\n",
       "        0.2187, 0.4313, 0.2358, 0.2287, 0.1922, 0.2482, 0.1693, 1.8039, 0.3137,\n",
       "        0.4994, 0.4683, 0.2602, 0.2612, 0.2231, 0.2642, 0.2333, 0.3161, 0.2807,\n",
       "        0.1397, 0.5781, 0.3915, 0.2563, 0.4373, 0.3168, 0.1746, 0.7264, 0.4053,\n",
       "        0.2494, 0.9852, 0.2954, 0.6218, 1.1081, 0.8815, 0.6694, 0.8676, 0.3337,\n",
       "        0.1957, 0.2453, 0.2662, 0.4887, 0.2708, 0.7471, 0.3070, 0.1988, 0.6741,\n",
       "        0.3176, 0.7242, 0.3549, 0.4353, 0.7055, 0.1671, 0.4867, 0.2769, 0.3689,\n",
       "        0.1623, 0.2458, 0.2519, 0.2116, 0.2245, 0.1775, 0.4012, 0.3599, 0.2106,\n",
       "        0.1936, 0.1639, 0.2391, 0.3810, 0.1414, 0.2381, 0.2000, 0.2909, 0.5223,\n",
       "        0.1836, 0.3524, 0.2641, 0.3092, 0.2172, 0.2282, 0.2226, 0.5999, 0.3027,\n",
       "        0.3773, 0.1769, 0.1838, 0.2286, 0.2954, 0.2804, 0.2321, 0.3098, 0.2538,\n",
       "        0.2528, 0.2094, 0.3189, 0.3380, 0.3348, 0.3847, 0.3184, 0.1923, 0.2098,\n",
       "        0.2107, 0.1541, 0.2871, 0.2752, 0.2760, 0.2314, 0.1977, 0.2793, 0.3661,\n",
       "        0.3859, 0.2221, 0.2472, 0.3239, 0.4219, 0.2078, 0.1973, 0.2392, 0.1647,\n",
       "        0.2582, 0.3534, 0.3669, 0.2800, 0.1839, 0.2351, 0.2299, 0.2539, 0.2108,\n",
       "        0.2004, 0.2044, 0.7077, 0.2637, 0.2160, 0.2196, 0.2099, 0.2039, 0.1760,\n",
       "        0.2601, 0.2183, 0.2582, 0.2868, 0.1672, 0.2371, 0.2645, 0.2518, 0.1844,\n",
       "        0.2697, 0.2183, 0.3993, 0.2304, 0.3157, 0.4012, 0.2725, 0.3296, 0.1892,\n",
       "        0.1756, 0.2925, 0.1425, 0.1840, 0.2635, 0.1770, 0.1846, 0.1638, 0.2936,\n",
       "        0.2220, 0.2626, 0.4782, 0.2358, 0.2907, 0.1960, 0.2524, 0.1900, 0.2523,\n",
       "        0.2144, 0.2699, 0.1701, 0.3009, 0.1606, 0.2085, 0.2069, 0.2627, 0.2405,\n",
       "        0.4189, 0.2610, 0.3034, 0.2264, 0.2775, 0.2934, 0.2378, 0.4813, 0.4660,\n",
       "        0.5587, 0.4397, 0.3374, 0.2241, 0.2057, 0.2163, 0.5416, 0.2415, 0.2408,\n",
       "        0.2178, 0.3771, 0.2481, 0.2962, 0.2333, 0.4892, 0.4836, 0.4395, 0.4745,\n",
       "        0.2945, 0.3705, 0.3062, 0.1496, 0.2431, 0.1460, 0.1279, 0.2111, 0.3220,\n",
       "        0.6152, 0.1510, 0.1668, 0.1682, 0.2609, 0.5199, 0.4899, 0.1497, 0.3182,\n",
       "        0.2790, 0.4916, 0.1677, 0.1416, 0.2101, 0.1845, 0.1679, 0.1807, 0.2951,\n",
       "        0.2531, 0.2021, 0.1508, 0.2479, 0.2361, 0.2555, 0.3137, 0.4679, 0.1350,\n",
       "        0.4550, 0.3780, 0.9977, 0.8005, 0.6944, 0.4460, 0.3697, 0.2103, 0.4257,\n",
       "        0.3225, 0.2193, 0.4094, 0.2234, 0.2529, 0.1905, 0.2196, 0.2343, 0.5868,\n",
       "        0.2676, 0.2259, 0.1872, 0.1802, 0.1768, 0.5737, 0.3886, 0.3574, 0.3644,\n",
       "        0.3074, 0.2303, 0.2322, 0.3801, 0.7911, 0.2602, 0.2587, 0.1319, 0.5314,\n",
       "        0.1861, 0.5969, 0.6341, 0.6211, 0.7768, 0.9615, 0.6127, 0.3196, 0.9950,\n",
       "        0.6382, 0.4423, 0.4521, 0.3162, 1.3519, 0.3558, 0.3336, 0.3739, 0.4911,\n",
       "        0.2312, 0.2195, 0.1710, 0.2081, 0.2285, 0.1607, 0.1881, 0.3224, 0.2311,\n",
       "        0.1883, 0.2212, 0.4707, 0.1584, 0.2548, 0.4791, 0.2484, 0.3419, 0.3936,\n",
       "        0.2532, 0.2410, 0.2367, 0.2600, 0.1631, 0.4355, 0.5901, 0.4819, 0.3570,\n",
       "        0.3492, 2.0615, 0.1817, 0.4203, 0.2544, 0.5128, 0.1632, 0.5031, 0.1922,\n",
       "        0.3375, 0.3716, 0.1787, 0.2841, 0.2484, 0.4685, 0.3550, 0.1981, 0.1601,\n",
       "        0.3240, 0.7034, 0.4132, 0.8064, 0.1980, 0.2470, 0.1840, 0.2109, 0.3372,\n",
       "        0.3938, 0.2951, 0.3126, 0.2031, 0.4399, 0.2333, 0.6793, 0.3327, 0.2018,\n",
       "        0.5448, 0.2230, 0.2999, 0.2902, 0.4847, 0.3573, 0.2288, 0.3682, 0.2550,\n",
       "        0.2119, 0.1496, 0.3806, 0.2549, 0.4555, 0.2691, 0.3767, 0.4265, 0.9830,\n",
       "        0.2756, 0.4218, 0.6579, 0.3812, 0.2468, 0.3082, 0.2759, 0.2725, 0.2269,\n",
       "        0.3693, 0.6506, 0.1862, 0.2374, 0.4883, 0.2530, 0.7945, 0.2412, 0.2098,\n",
       "        0.3007, 0.1744, 0.4695, 0.3250, 0.3109, 0.4436, 0.4533, 0.2489, 0.2234,\n",
       "        0.2937, 0.3362, 0.1764, 0.2808, 1.0824, 0.2634, 0.2839, 0.3522, 0.2958,\n",
       "        0.4950, 0.2235, 0.3705, 0.2789, 0.2186, 0.6781, 0.1609, 0.1968, 0.3699,\n",
       "        0.3779, 0.3253, 0.3612, 0.2918, 0.2017, 0.3164, 0.5682, 0.3280, 0.9373,\n",
       "        0.2855, 0.2768, 0.2299, 0.3175, 0.3503, 0.2196, 0.2051, 0.4627, 0.1287,\n",
       "        0.1417, 0.7362, 0.3497, 0.2468, 0.1840, 0.2088, 0.3115, 0.3152, 0.2302,\n",
       "        0.1948, 0.2226, 0.1979, 0.2046, 1.3161, 0.4568, 0.2872, 0.1827, 0.1373,\n",
       "        0.5213, 0.2733, 0.3452, 0.2845, 0.3794, 0.1480, 0.1963, 0.2432, 0.2673,\n",
       "        0.2717, 0.3134, 0.2359, 0.2890, 0.3461, 0.2114, 0.2393, 0.2245, 0.1925,\n",
       "        2.1737, 0.3605, 0.1924, 0.2683, 0.2553, 0.5516, 0.1572, 0.3314, 0.1766,\n",
       "        0.2240, 0.3088, 0.2699, 0.4102, 0.3860, 0.3001, 0.8096, 0.2999, 0.4956,\n",
       "        0.3175, 0.3171, 0.2518, 0.3454, 0.4684, 0.1703, 0.3643, 0.2283, 0.3473,\n",
       "        0.2392, 0.4190, 0.3200, 0.1711, 0.2580, 0.5020, 0.3970, 0.1718, 0.2562,\n",
       "        0.1487, 0.2297, 0.1786, 0.1962, 0.3134, 0.3268, 0.1857, 0.2389, 0.7356,\n",
       "        0.2205, 0.1531, 0.2345, 0.2441, 0.3124, 0.2841, 0.7213, 0.2443, 0.2425,\n",
       "        0.3637, 0.2372, 0.2871, 0.2911, 0.2155, 0.4361, 0.3964, 0.6031, 0.3046,\n",
       "        0.3805, 0.5382, 0.2732, 0.3199, 0.3208, 0.3583, 0.2731, 0.1889, 0.3172,\n",
       "        0.1889, 0.3226, 0.6687, 0.2885, 0.2579, 0.3432, 0.2194, 0.2769, 0.4011,\n",
       "        0.4627, 0.2722, 0.2686, 0.2457, 0.2342, 0.2518, 0.1591, 0.3633, 0.2020,\n",
       "        0.2320, 0.4708, 0.8707, 0.3176, 0.1813, 0.3662, 0.1877, 0.1766, 0.1976,\n",
       "        0.3486, 0.2496, 0.1613, 0.2250, 0.2379, 0.1526, 0.2291, 0.1892, 0.4615,\n",
       "        0.2569, 0.2094, 0.3692, 0.2404, 0.6886, 0.4478, 0.4179, 0.2367, 0.2516,\n",
       "        0.4244, 0.1940, 0.2458, 0.1935, 0.2760, 0.1631, 0.1565, 0.3993, 0.9223,\n",
       "        0.2848, 0.2685, 0.3913, 0.3224, 0.2489, 0.4198, 0.1827, 0.5891, 0.2667,\n",
       "        0.2814, 0.4369, 0.1528, 0.1861, 0.5007, 0.2499, 0.3139, 0.3077, 0.3340,\n",
       "        0.3440, 0.2972, 0.1784, 0.4163, 0.4583, 0.2729, 0.1717, 0.1782, 0.4599,\n",
       "        0.4061, 0.2335, 0.3951, 0.4552, 0.1951, 0.3336, 0.2449, 0.1604, 0.6456,\n",
       "        0.3510, 0.4093, 0.3386, 0.2233, 0.2400, 0.2615, 0.2117, 0.3880, 0.3519,\n",
       "        0.4327, 0.3084, 0.3197, 0.1818, 0.2687, 0.3719, 0.2448, 0.3236, 0.4155,\n",
       "        0.4473, 0.3189, 0.3059, 0.2776, 0.1748, 0.4199, 0.4805, 0.2508, 0.2102,\n",
       "        0.2570, 0.2617, 0.3137, 0.2125, 0.3476, 0.2140, 1.4752, 0.3303, 0.4966,\n",
       "        0.3248, 0.7588, 0.4087, 0.1850, 0.3213, 0.1880, 0.2917, 0.6134, 0.6137,\n",
       "        0.2565, 0.4078, 0.2810, 0.2040, 0.2184, 0.3904, 0.2654, 0.3048, 0.2274,\n",
       "        0.3438, 0.2680, 0.1780, 0.2808, 0.2744, 0.3429, 0.2892, 0.3299, 0.4691,\n",
       "        0.4692, 0.6609, 0.1868, 0.1757, 0.2065, 0.3047, 0.3816, 0.3583, 0.3044,\n",
       "        0.4973, 0.1844, 0.5112, 0.5488, 0.2410, 0.2492, 0.6356, 0.3593, 1.4368,\n",
       "        0.1494, 0.4625, 0.1843, 1.5722, 0.1888, 0.1546, 0.3410, 0.2253, 0.2837,\n",
       "        0.3288, 0.2949, 0.2039, 0.3402, 0.2617, 0.3697, 0.2337, 0.1953, 0.4821,\n",
       "        0.4903, 0.4540, 0.2948, 0.2719, 0.2070, 0.2882, 0.2646, 0.2263, 0.2844,\n",
       "        0.3355, 0.7313, 0.2750, 0.1732, 0.1687, 0.4796, 0.2153, 0.2075, 0.3050,\n",
       "        0.2629, 0.2373, 0.2763, 0.3395, 0.3431, 0.2187, 0.6481, 0.2301, 0.2618,\n",
       "        0.6969, 0.3324, 0.4713, 0.2047, 0.4771, 0.4593, 0.4492, 0.2169, 0.2713,\n",
       "        0.2001, 0.3316, 0.2136, 0.1674, 1.2933, 0.1730, 0.2064, 0.1439, 0.2280,\n",
       "        0.2562, 0.2675, 0.3413, 1.0200, 0.3151, 0.2343, 0.3762, 0.3989, 0.5271,\n",
       "        0.3998, 0.3276, 0.2087, 0.2294, 0.6249, 0.2923, 0.2585, 0.1898, 0.1916,\n",
       "        0.7690, 0.2127, 0.3949, 0.2333, 0.2338, 1.2303, 0.2084, 0.4711, 0.3480,\n",
       "        0.4899, 0.2108, 0.3577, 0.4575, 0.4600, 0.2166, 0.2269, 0.3597, 0.1709,\n",
       "        1.1215, 0.8621, 0.2774, 0.3390, 0.4513, 0.1873, 0.3304, 0.3033, 0.4714,\n",
       "        0.3223, 0.1708, 0.4328, 0.2912, 0.8092, 2.0684, 1.5481, 0.7147, 1.5819,\n",
       "        1.8806, 1.2215, 0.4318, 1.9015, 1.9234, 0.8719, 1.3653, 1.9687, 1.6651,\n",
       "        0.5374, 1.4625, 0.7500, 1.5910, 0.9226, 1.4405, 0.9644, 0.8721, 0.3016,\n",
       "        0.9143, 0.3910, 0.7297, 0.5904, 1.1192, 0.6356, 0.4341, 0.6322, 0.8717,\n",
       "        0.4927, 0.3074, 0.3416, 1.7801, 0.2386, 1.7139, 0.9137, 1.4132, 2.2598,\n",
       "        6.0157, 2.3964, 2.1720, 0.6707, 0.5314, 0.6183, 0.8660, 0.1261, 0.4910,\n",
       "        0.2072, 0.1337, 0.2646, 0.4676, 0.1890, 0.2592, 0.1817, 0.1711, 0.1720,\n",
       "        0.1673, 0.4244, 0.1856, 0.3323, 0.1812, 0.2766, 1.1195, 0.4282, 0.3059,\n",
       "        0.3896, 0.2571, 0.5764, 0.1847, 0.2504, 0.2406, 1.0266, 0.4817, 0.5610,\n",
       "        0.2989])"
      ]
     },
     "execution_count": 28,
     "metadata": {},
     "output_type": "execute_result"
    }
   ],
   "source": [
    "o1.norm(dim=0)"
   ]
  },
  {
   "cell_type": "code",
   "execution_count": 21,
   "metadata": {
    "ExecuteTime": {
     "end_time": "2020-12-24T16:19:00.847627Z",
     "start_time": "2020-12-24T16:18:59.103406Z"
    },
    "hidden": true
   },
   "outputs": [
    {
     "data": {
      "text/plain": [
       "Text(0.5, 1.0, 'PCA of features for 3 random classes on Imagenet validation')"
      ]
     },
     "execution_count": 21,
     "metadata": {},
     "output_type": "execute_result"
    },
    {
     "data": {
      "image/png": "[encoded data removed]",
      "text/plain": [
       "<Figure size 1080x360 with 2 Axes>"
      ]
     },
     "metadata": {
      "needs_background": "light"
     },
     "output_type": "display_data"
    }
   ],
   "source": [
    "# best classes 364, 333, 986\n",
    "# not so good 963, 749, 162\n",
    "from sklearn.decomposition import PCA\n",
    "o1 = all_output[all_target.eq(963)]\n",
    "o2 = all_output[all_target.eq(749)]\n",
    "o3 = all_output[all_target.eq(986)]\n",
    "oo = torch.cat([o1, o2, o3], 0)\n",
    "\n",
    "pca_features = PCA(n_components=2).fit_transform(oo)\n",
    "pca_features_norm = torch.nn.functional.normalize(torch.from_numpy(pca_features))\n",
    "c = [1,] * 50 + [2,] * 50 + [3,] * 50\n",
    "fig, axes = plt.subplots(1, 2, figsize=(15, 5))\n",
    "axes[0].scatter(pca_features[:, 0], pca_features[:, 1], c=c)\n",
    "axes[1].scatter(pca_features_norm[:, 0], pca_features_norm[:, 1], c=c)\n",
    "axes[0].set_title(\"PCA of features for 3 random classes on Imagenet validation\")"
   ]
  },
  {
   "cell_type": "code",
   "execution_count": 29,
   "metadata": {
    "ExecuteTime": {
     "end_time": "2020-11-04T13:27:16.876856Z",
     "start_time": "2020-11-04T13:27:16.781384Z"
    },
    "hidden": true
   },
   "outputs": [
    {
     "data": {
      "text/plain": [
       "array([[ 7.46849228e+00, -3.05177443e+00],\n",
       "       [ 6.92851763e+00, -2.96389769e+00],\n",
       "       [ 7.82671639e+00, -1.31563400e+00],\n",
       "       [ 1.04704193e+01,  4.81692744e+00],\n",
       "       [ 1.10584736e+01,  7.52003350e+00],\n",
       "       [ 6.57051123e+00, -1.08018143e+01],\n",
       "       [ 1.00237547e+01,  3.75395066e+00],\n",
       "       [ 1.12574210e+01,  3.65190193e+00],\n",
       "       [ 7.88388233e+00, -2.06737859e+00],\n",
       "       [ 1.11550388e+01,  7.02196339e+00],\n",
       "       [ 6.59792991e+00, -4.10734348e+00],\n",
       "       [ 7.29219744e+00, -5.10455318e+00],\n",
       "       [ 8.78821914e+00,  8.22988188e-02],\n",
       "       [ 1.24467172e+01,  1.52503945e+00],\n",
       "       [ 8.66876239e+00, -2.97684922e+00],\n",
       "       [ 1.43735224e+01,  1.28035280e+01],\n",
       "       [ 1.27261542e+01,  8.64873162e+00],\n",
       "       [ 1.05715639e+01,  5.16966421e+00],\n",
       "       [ 6.29349349e+00, -3.94712888e+00],\n",
       "       [ 5.30766653e+00, -3.15453930e+00],\n",
       "       [ 5.93232538e+00, -4.84796576e+00],\n",
       "       [ 7.55631782e+00, -1.78924699e-01],\n",
       "       [ 6.69977517e+00, -3.62988493e+00],\n",
       "       [ 6.76394873e+00, -1.86950695e+00],\n",
       "       [ 7.53283264e+00,  1.39884845e-01],\n",
       "       [ 6.24736257e+00, -2.26581557e+00],\n",
       "       [ 6.82040346e+00, -2.25248891e+00],\n",
       "       [ 9.13969634e+00,  2.35132672e-01],\n",
       "       [ 7.98789491e+00, -3.33146008e-01],\n",
       "       [ 5.27934172e+00, -4.67113143e+00],\n",
       "       [ 9.05203530e+00,  4.03111124e+00],\n",
       "       [ 8.20303993e+00,  1.35355318e+00],\n",
       "       [ 9.34933642e+00,  2.10824710e+00],\n",
       "       [ 6.58661756e+00,  3.89476150e+00],\n",
       "       [ 7.74384186e+00,  4.70962102e-01],\n",
       "       [ 5.05600856e+00, -3.26443790e+00],\n",
       "       [ 7.51628457e+00,  2.76571455e-01],\n",
       "       [ 5.48429942e+00, -5.69098676e+00],\n",
       "       [ 5.82144203e+00, -8.07126817e+00],\n",
       "       [ 7.86539147e+00,  2.37999581e+00],\n",
       "       [ 6.21584968e+00, -9.42611002e-01],\n",
       "       [ 8.26549788e+00, -2.15528442e-01],\n",
       "       [ 6.84582960e+00, -2.23490291e-01],\n",
       "       [ 5.41771817e+00, -3.83776030e+00],\n",
       "       [ 4.70962046e+00, -4.33921078e+00],\n",
       "       [ 6.18838538e+00, -1.98897494e+00],\n",
       "       [ 6.43104187e+00, -5.13913939e+00],\n",
       "       [ 8.46639316e+00,  6.95147125e+00],\n",
       "       [ 5.82941682e+00, -3.81521139e+00],\n",
       "       [ 6.70463667e+00, -5.00068242e+00],\n",
       "       [-7.61459407e+00,  2.30265926e+00],\n",
       "       [-7.50537922e+00, -1.87140155e-01],\n",
       "       [-7.35294994e+00,  1.95245186e+00],\n",
       "       [-6.89321762e+00, -3.22267729e-02],\n",
       "       [-6.98627610e+00,  4.13082935e-01],\n",
       "       [-7.25327891e+00,  5.16417350e-01],\n",
       "       [-7.70777862e+00,  5.82887333e-01],\n",
       "       [-6.97310265e+00,  9.27230805e-01],\n",
       "       [-7.92685038e+00, -8.11754024e-02],\n",
       "       [-7.31504309e+00, -1.52530958e-01],\n",
       "       [-7.38036778e+00,  1.91219031e-01],\n",
       "       [-7.66723472e+00,  1.89500887e-01],\n",
       "       [-7.24794690e+00,  9.51663149e-01],\n",
       "       [-7.62432304e+00,  1.06439946e-02],\n",
       "       [-7.39737251e+00, -4.01525372e-01],\n",
       "       [-7.94275252e+00, -7.34769701e-02],\n",
       "       [-8.56899453e+00,  3.01592940e-01],\n",
       "       [-7.83668313e+00,  2.10565094e-01],\n",
       "       [-8.15690583e+00,  4.11837328e-01],\n",
       "       [-8.86353213e+00,  1.24977279e-01],\n",
       "       [-9.07175714e+00,  5.06462984e-01],\n",
       "       [-9.20012935e+00,  9.30286911e-01],\n",
       "       [-9.61115420e+00,  8.54788159e-01],\n",
       "       [-9.77772679e+00,  4.97809716e-01],\n",
       "       [-8.83298358e+00,  3.33834969e-01],\n",
       "       [-7.73567116e+00,  1.05705892e+00],\n",
       "       [-8.37708186e+00,  2.52518273e+00],\n",
       "       [-8.81859889e+00,  2.44455397e-01],\n",
       "       [-7.46092117e+00, -1.60250610e-02],\n",
       "       [-8.51237099e+00, -1.47786563e-01],\n",
       "       [-8.15663672e+00, -2.16148372e-01],\n",
       "       [-8.67956902e+00,  6.90627258e-01],\n",
       "       [-8.66948907e+00,  2.47690558e-01],\n",
       "       [-7.29369943e+00,  5.67386992e-01],\n",
       "       [-7.26529546e+00,  1.32529266e+00],\n",
       "       [-8.51709046e+00,  7.23290675e-01],\n",
       "       [-7.65301022e+00, -1.89515225e-01],\n",
       "       [-7.18605438e+00, -2.36894319e-01],\n",
       "       [-7.61786838e+00,  3.98745040e-01],\n",
       "       [-6.91569525e+00,  1.31298122e+00],\n",
       "       [-6.75182395e+00,  3.00213762e+00],\n",
       "       [-7.50544113e+00,  2.56534840e-01],\n",
       "       [-7.27583069e+00,  7.75784236e-01],\n",
       "       [-7.82191883e+00,  9.55937796e-02],\n",
       "       [-7.46713528e+00,  3.11775157e-01],\n",
       "       [-7.49067301e+00,  8.78567016e-01],\n",
       "       [-7.48642520e+00,  9.77875718e-02],\n",
       "       [-7.68122971e+00,  7.02571105e-02],\n",
       "       [-7.33239826e+00,  5.52043550e-01],\n",
       "       [-7.04177611e+00, -3.75310165e-01]])"
      ]
     },
     "execution_count": 29,
     "metadata": {},
     "output_type": "execute_result"
    }
   ],
   "source": []
  },
  {
   "cell_type": "raw",
   "metadata": {
    "hidden": true
   },
   "source": [
    "+ Rect\n",
    "Sigm BNet Acc@1: 77.13. Acc@5: 93.11 --> Acc@1: 77.52. Acc@5: 93.37\n",
    "Sigm + Sigm Trick: Acc@1: 76.78. Acc@5: 93.13 -> Acc@1: 77.29. Acc@5: 93.34\n",
    "+ без ограничений AR -> Acc@1: 77.31. Acc@5: 93.37\n",
    "+ cubic interpolation -> Acc@1: 75.06. Acc@5: 92.07 (train resize != val resize поэтому плохо)"
   ]
  },
  {
   "cell_type": "markdown",
   "metadata": {
    "heading_collapsed": true
   },
   "source": [
    "# Some plots"
   ]
  },
  {
   "cell_type": "code",
   "execution_count": 247,
   "metadata": {
    "ExecuteTime": {
     "end_time": "2020-11-23T08:41:03.765157Z",
     "start_time": "2020-11-23T08:41:03.623915Z"
    },
    "hidden": true
   },
   "outputs": [
    {
     "data": {
      "text/plain": [
       "[<matplotlib.lines.Line2D at 0x7fa82d377d68>]"
      ]
     },
     "execution_count": 247,
     "metadata": {},
     "output_type": "execute_result"
    },
    {
     "data": {
      "image/png": "[encoded data removed]",
      "text/plain": [
       "<Figure size 432x288 with 1 Axes>"
      ]
     },
     "metadata": {
      "needs_background": "light"
     },
     "output_type": "display_data"
    }
   ],
   "source": [
    "x = np.linspace(0.2, 1, num=100)\n",
    "s = 32\n",
    "d = 0.8\n",
    "y = np.log(1 + np.e ** (s * d) / np.e ** (s * x))\n",
    "plt.plot(x, y);\n",
    "plt.plot(x, x * (-s) + s * d)"
   ]
  },
  {
   "cell_type": "code",
   "execution_count": null,
   "metadata": {
    "hidden": true
   },
   "outputs": [],
   "source": []
  },
  {
   "cell_type": "markdown",
   "metadata": {
    "heading_collapsed": true
   },
   "source": [
    "# Chech arccos grads"
   ]
  },
  {
   "cell_type": "code",
   "execution_count": 142,
   "metadata": {
    "ExecuteTime": {
     "end_time": "2020-12-29T16:20:22.954708Z",
     "start_time": "2020-12-29T16:20:22.944156Z"
    },
    "hidden": true
   },
   "outputs": [
    {
     "data": {
      "text/plain": [
       "(tensor(0.9970, grad_fn=<MaxBackward1>),\n",
       " tensor(-0.6581, grad_fn=<MinBackward1>))"
      ]
     },
     "execution_count": 142,
     "metadata": {},
     "output_type": "execute_result"
    }
   ],
   "source": [
    "N = 5\n",
    "margin = torch.tensor(0.2)\n",
    "label = torch.randint(5, (5,))\n",
    "ohe_label = torch.zeros(N, N)\n",
    "ohe_label = ohe_label.scatter(index=label[None], dim=0, value=1)\n",
    "cos_m = torch.cos(margin)\n",
    "sin_m = torch.sin(margin)\n",
    "aa = torch.randn(N, N, requires_grad=True)\n",
    "# bb = torch.randn(N, N, requires_grad=True)\n",
    "bb = aa.clone().T + torch.randn_like(aa) * 0.1\n",
    "# aa = torch.arange(0, N ** 2, dtype=torch.float, requires_grad=True).view(N, N)\n",
    "# bb = torch.arange(-N ** 2, 0, dtype=torch.float, requires_grad=True).view(N, N)\n",
    "cc = F.normalize(aa, dim=1) @ F.normalize(bb, dim=0)\n",
    "cc.max(), cc.min()"
   ]
  },
  {
   "cell_type": "code",
   "execution_count": 144,
   "metadata": {
    "ExecuteTime": {
     "end_time": "2020-12-29T16:20:28.677415Z",
     "start_time": "2020-12-29T16:20:28.673064Z"
    },
    "hidden": true
   },
   "outputs": [],
   "source": [
    "cosine = cc\n",
    "sine = torch.sqrt(1.0 - torch.pow(cosine, 2))\n",
    "phi = cosine * cos_m - sine * sin_m\n",
    "output_1 = phi.where(ohe_label.bool(), cc)"
   ]
  },
  {
   "cell_type": "code",
   "execution_count": 145,
   "metadata": {
    "ExecuteTime": {
     "end_time": "2020-12-29T16:20:29.356120Z",
     "start_time": "2020-12-29T16:20:29.352793Z"
    },
    "hidden": true
   },
   "outputs": [],
   "source": [
    "output_1.sum().backward(retain_graph=True)"
   ]
  },
  {
   "cell_type": "code",
   "execution_count": 146,
   "metadata": {
    "ExecuteTime": {
     "end_time": "2020-12-29T16:20:29.817807Z",
     "start_time": "2020-12-29T16:20:29.813269Z"
    },
    "hidden": true
   },
   "outputs": [
    {
     "data": {
      "text/plain": [
       "tensor([[-0.6279,  1.6505,  1.1357, -0.5133, -0.7373],\n",
       "        [ 1.2194,  1.5721,  1.6899, -2.2601,  0.4595],\n",
       "        [-0.2576,  2.3545,  0.9615, -1.5344, -1.0030],\n",
       "        [ 0.4368,  0.9753, -0.0045, -0.2986,  0.4429],\n",
       "        [ 0.6029,  0.4779, -0.0880, -1.4127, -1.3031]])"
      ]
     },
     "execution_count": 146,
     "metadata": {},
     "output_type": "execute_result"
    }
   ],
   "source": [
    "aa.grad"
   ]
  },
  {
   "cell_type": "code",
   "execution_count": 151,
   "metadata": {
    "ExecuteTime": {
     "end_time": "2020-12-29T16:20:39.224983Z",
     "start_time": "2020-12-29T16:20:39.221463Z"
    },
    "hidden": true
   },
   "outputs": [],
   "source": [
    "phi_2 = torch.cos(torch.arccos(cc) + margin)\n",
    "output_2 = phi_2.where(ohe_label.bool(), cc)"
   ]
  },
  {
   "cell_type": "code",
   "execution_count": 152,
   "metadata": {
    "ExecuteTime": {
     "end_time": "2020-12-29T16:20:39.699720Z",
     "start_time": "2020-12-29T16:20:39.696206Z"
    },
    "hidden": true
   },
   "outputs": [],
   "source": [
    "output_2.sum().backward(retain_graph=True)"
   ]
  },
  {
   "cell_type": "code",
   "execution_count": 153,
   "metadata": {
    "ExecuteTime": {
     "end_time": "2020-12-29T16:20:40.554410Z",
     "start_time": "2020-12-29T16:20:40.550419Z"
    },
    "hidden": true
   },
   "outputs": [
    {
     "data": {
      "text/plain": [
       "tensor([[-0.6279,  1.6505,  1.1357, -0.5133, -0.7373],\n",
       "        [ 1.2194,  1.5721,  1.6899, -2.2601,  0.4595],\n",
       "        [-0.2576,  2.3545,  0.9615, -1.5344, -1.0030],\n",
       "        [ 0.4368,  0.9753, -0.0045, -0.2986,  0.4429],\n",
       "        [ 0.6029,  0.4779, -0.0880, -1.4127, -1.3031]])"
      ]
     },
     "execution_count": 153,
     "metadata": {},
     "output_type": "execute_result"
    }
   ],
   "source": [
    "aa.grad"
   ]
  },
  {
   "cell_type": "code",
   "execution_count": 150,
   "metadata": {
    "ExecuteTime": {
     "end_time": "2020-12-29T16:20:37.823025Z",
     "start_time": "2020-12-29T16:20:37.819848Z"
    },
    "hidden": true
   },
   "outputs": [],
   "source": [
    "aa.grad = None\n",
    "bb.grad = None"
   ]
  },
  {
   "cell_type": "code",
   "execution_count": 113,
   "metadata": {
    "ExecuteTime": {
     "end_time": "2020-12-29T16:16:23.615653Z",
     "start_time": "2020-12-29T16:16:23.609960Z"
    },
    "hidden": true
   },
   "outputs": [
    {
     "data": {
      "text/plain": [
       "tensor([[-0.3789,  0.5312, -0.0671,  0.2203, -0.0504],\n",
       "        [-0.7987,  1.4389, -0.1624,  0.1843,  0.1837],\n",
       "        [-0.1585,  0.3304, -0.0268,  0.2283,  0.0087],\n",
       "        [ 0.0354,  0.2339, -0.2544, -0.0054,  0.1310],\n",
       "        [-0.2983,  0.2387, -0.1011, -0.0450, -0.2630]])"
      ]
     },
     "execution_count": 113,
     "metadata": {},
     "output_type": "execute_result"
    }
   ],
   "source": [
    "aa.grad"
   ]
  },
  {
   "cell_type": "code",
   "execution_count": 55,
   "metadata": {
    "ExecuteTime": {
     "end_time": "2020-12-29T16:09:48.780873Z",
     "start_time": "2020-12-29T16:09:48.775199Z"
    },
    "hidden": true
   },
   "outputs": [
    {
     "data": {
      "text/plain": [
       "tensor([[-0.4832, -0.2414, -0.1075, -0.2269, -0.2112],\n",
       "        [ 0.3852,  0.1815,  0.1088, -0.0729,  0.1695],\n",
       "        [ 1.2434,  0.6305,  0.4336,  0.5364,  0.5692],\n",
       "        [-0.5211, -0.2750, -0.2319, -0.2970, -0.2688],\n",
       "        [ 0.0165,  0.0220,  0.0822,  0.0784,  0.0190]])"
      ]
     },
     "execution_count": 55,
     "metadata": {},
     "output_type": "execute_result"
    }
   ],
   "source": [
    "cc.sum().backward()\n",
    "bb.grad"
   ]
  },
  {
   "cell_type": "code",
   "execution_count": 38,
   "metadata": {
    "ExecuteTime": {
     "end_time": "2020-12-29T16:08:29.544165Z",
     "start_time": "2020-12-29T16:08:29.539742Z"
    },
    "hidden": true
   },
   "outputs": [],
   "source": []
  },
  {
   "cell_type": "code",
   "execution_count": null,
   "metadata": {
    "hidden": true
   },
   "outputs": [],
   "source": []
  },
  {
   "cell_type": "markdown",
   "metadata": {},
   "source": [
    "# Model inspection"
   ]
  },
  {
   "cell_type": "code",
   "execution_count": 4,
   "metadata": {
    "ExecuteTime": {
     "end_time": "2021-01-13T07:46:33.508794Z",
     "start_time": "2021-01-13T07:46:33.044859Z"
    }
   },
   "outputs": [
    {
     "ename": "KeyError",
     "evalue": "'eca9'",
     "output_type": "error",
     "traceback": [
      "\u001b[0;31m---------------------------------------------------------------------------\u001b[0m",
      "\u001b[0;31mKeyError\u001b[0m                                  Traceback (most recent call last)",
      "\u001b[0;32m<ipython-input-4-ee2ea252c170>\u001b[0m in \u001b[0;36m<module>\u001b[0;34m\u001b[0m\n\u001b[1;32m      1\u001b[0m \u001b[0mmodel_se\u001b[0m \u001b[0;34m=\u001b[0m \u001b[0mpt\u001b[0m\u001b[0;34m.\u001b[0m\u001b[0mmodels\u001b[0m\u001b[0;34m.\u001b[0m\u001b[0mresnet50\u001b[0m\u001b[0;34m(\u001b[0m\u001b[0mattn_type\u001b[0m\u001b[0;34m=\u001b[0m\u001b[0;34m\"eca\"\u001b[0m\u001b[0;34m)\u001b[0m\u001b[0;34m\u001b[0m\u001b[0;34m\u001b[0m\u001b[0m\n\u001b[0;32m----> 2\u001b[0;31m \u001b[0mmodel_sevar3\u001b[0m \u001b[0;34m=\u001b[0m \u001b[0mpt\u001b[0m\u001b[0;34m.\u001b[0m\u001b[0mmodels\u001b[0m\u001b[0;34m.\u001b[0m\u001b[0mresnet50\u001b[0m\u001b[0;34m(\u001b[0m\u001b[0mattn_type\u001b[0m\u001b[0;34m=\u001b[0m\u001b[0;34m\"eca9\"\u001b[0m\u001b[0;34m)\u001b[0m\u001b[0;34m\u001b[0m\u001b[0;34m\u001b[0m\u001b[0m\n\u001b[0m",
      "\u001b[0;32m~/repoz/pytorch-tools/pytorch_tools/models/resnet.py\u001b[0m in \u001b[0;36mresnet50\u001b[0;34m(**kwargs)\u001b[0m\n\u001b[1;32m    609\u001b[0m \u001b[0;32mdef\u001b[0m \u001b[0mresnet50\u001b[0m\u001b[0;34m(\u001b[0m\u001b[0;34m**\u001b[0m\u001b[0mkwargs\u001b[0m\u001b[0;34m)\u001b[0m\u001b[0;34m:\u001b[0m\u001b[0;34m\u001b[0m\u001b[0;34m\u001b[0m\u001b[0m\n\u001b[1;32m    610\u001b[0m     \u001b[0;34mr\"\"\"Constructs a ResNet-50 model.\"\"\"\u001b[0m\u001b[0;34m\u001b[0m\u001b[0;34m\u001b[0m\u001b[0m\n\u001b[0;32m--> 611\u001b[0;31m     \u001b[0;32mreturn\u001b[0m \u001b[0m_resnet\u001b[0m\u001b[0;34m(\u001b[0m\u001b[0;34m\"resnet50\"\u001b[0m\u001b[0;34m,\u001b[0m \u001b[0;34m**\u001b[0m\u001b[0mkwargs\u001b[0m\u001b[0;34m)\u001b[0m\u001b[0;34m\u001b[0m\u001b[0;34m\u001b[0m\u001b[0m\n\u001b[0m\u001b[1;32m    612\u001b[0m \u001b[0;34m\u001b[0m\u001b[0m\n\u001b[1;32m    613\u001b[0m \u001b[0;34m\u001b[0m\u001b[0m\n",
      "\u001b[0;32m~/repoz/pytorch-tools/pytorch_tools/models/resnet.py\u001b[0m in \u001b[0;36m_resnet\u001b[0;34m(arch, pretrained, **kwargs)\u001b[0m\n\u001b[1;32m    554\u001b[0m         )\n\u001b[1;32m    555\u001b[0m     \u001b[0mkwargs\u001b[0m\u001b[0;34m.\u001b[0m\u001b[0mupdate\u001b[0m\u001b[0;34m(\u001b[0m\u001b[0mcfg_params\u001b[0m\u001b[0;34m)\u001b[0m\u001b[0;34m\u001b[0m\u001b[0;34m\u001b[0m\u001b[0m\n\u001b[0;32m--> 556\u001b[0;31m     \u001b[0mmodel\u001b[0m \u001b[0;34m=\u001b[0m \u001b[0mResNet\u001b[0m\u001b[0;34m(\u001b[0m\u001b[0;34m**\u001b[0m\u001b[0mkwargs\u001b[0m\u001b[0;34m)\u001b[0m\u001b[0;34m\u001b[0m\u001b[0;34m\u001b[0m\u001b[0m\n\u001b[0m\u001b[1;32m    557\u001b[0m     \u001b[0;32mif\u001b[0m \u001b[0mpretrained\u001b[0m\u001b[0;34m:\u001b[0m\u001b[0;34m\u001b[0m\u001b[0;34m\u001b[0m\u001b[0m\n\u001b[1;32m    558\u001b[0m         \u001b[0mstate_dict\u001b[0m \u001b[0;34m=\u001b[0m \u001b[0mload_state_dict_from_url\u001b[0m\u001b[0;34m(\u001b[0m\u001b[0mcfgs\u001b[0m\u001b[0;34m[\u001b[0m\u001b[0march\u001b[0m\u001b[0;34m]\u001b[0m\u001b[0;34m[\u001b[0m\u001b[0mpretrained\u001b[0m\u001b[0;34m]\u001b[0m\u001b[0;34m[\u001b[0m\u001b[0;34m\"url\"\u001b[0m\u001b[0;34m]\u001b[0m\u001b[0;34m)\u001b[0m\u001b[0;34m\u001b[0m\u001b[0;34m\u001b[0m\u001b[0m\n",
      "\u001b[0;32m~/repoz/pytorch-tools/pytorch_tools/models/resnet.py\u001b[0m in \u001b[0;36m__init__\u001b[0;34m(self, block, layers, pretrained, num_classes, in_channels, attn_type, groups, base_width, stem_type, output_stride, norm_layer, norm_act, antialias, encoder, drop_rate, drop_connect_rate, init_bn0)\u001b[0m\n\u001b[1;32m    136\u001b[0m             \u001b[0mstride_3\u001b[0m\u001b[0;34m,\u001b[0m \u001b[0mstride_4\u001b[0m\u001b[0;34m,\u001b[0m \u001b[0mdilation_3\u001b[0m\u001b[0;34m,\u001b[0m \u001b[0mdilation_4\u001b[0m \u001b[0;34m=\u001b[0m \u001b[0;36m2\u001b[0m\u001b[0;34m,\u001b[0m \u001b[0;36m2\u001b[0m\u001b[0;34m,\u001b[0m \u001b[0;36m1\u001b[0m\u001b[0;34m,\u001b[0m \u001b[0;36m1\u001b[0m\u001b[0;34m\u001b[0m\u001b[0;34m\u001b[0m\u001b[0m\n\u001b[1;32m    137\u001b[0m         \u001b[0mlargs\u001b[0m \u001b[0;34m=\u001b[0m \u001b[0mdict\u001b[0m\u001b[0;34m(\u001b[0m\u001b[0mattn_type\u001b[0m\u001b[0;34m=\u001b[0m\u001b[0mattn_type\u001b[0m\u001b[0;34m,\u001b[0m \u001b[0mnorm_layer\u001b[0m\u001b[0;34m=\u001b[0m\u001b[0mnorm_layer\u001b[0m\u001b[0;34m,\u001b[0m \u001b[0mnorm_act\u001b[0m\u001b[0;34m=\u001b[0m\u001b[0mnorm_act\u001b[0m\u001b[0;34m,\u001b[0m \u001b[0mantialias\u001b[0m\u001b[0;34m=\u001b[0m\u001b[0mantialias\u001b[0m\u001b[0;34m)\u001b[0m\u001b[0;34m\u001b[0m\u001b[0;34m\u001b[0m\u001b[0m\n\u001b[0;32m--> 138\u001b[0;31m         \u001b[0mself\u001b[0m\u001b[0;34m.\u001b[0m\u001b[0mlayer1\u001b[0m \u001b[0;34m=\u001b[0m \u001b[0mself\u001b[0m\u001b[0;34m.\u001b[0m\u001b[0m_make_layer\u001b[0m\u001b[0;34m(\u001b[0m\u001b[0;36m64\u001b[0m\u001b[0;34m,\u001b[0m \u001b[0mlayers\u001b[0m\u001b[0;34m[\u001b[0m\u001b[0;36m0\u001b[0m\u001b[0;34m]\u001b[0m\u001b[0;34m,\u001b[0m \u001b[0mstride\u001b[0m\u001b[0;34m=\u001b[0m\u001b[0;36m1\u001b[0m\u001b[0;34m,\u001b[0m \u001b[0;34m**\u001b[0m\u001b[0mlargs\u001b[0m\u001b[0;34m)\u001b[0m\u001b[0;34m\u001b[0m\u001b[0;34m\u001b[0m\u001b[0m\n\u001b[0m\u001b[1;32m    139\u001b[0m         \u001b[0mself\u001b[0m\u001b[0;34m.\u001b[0m\u001b[0mlayer2\u001b[0m \u001b[0;34m=\u001b[0m \u001b[0mself\u001b[0m\u001b[0;34m.\u001b[0m\u001b[0m_make_layer\u001b[0m\u001b[0;34m(\u001b[0m\u001b[0;36m128\u001b[0m\u001b[0;34m,\u001b[0m \u001b[0mlayers\u001b[0m\u001b[0;34m[\u001b[0m\u001b[0;36m1\u001b[0m\u001b[0;34m]\u001b[0m\u001b[0;34m,\u001b[0m \u001b[0mstride\u001b[0m\u001b[0;34m=\u001b[0m\u001b[0;36m2\u001b[0m\u001b[0;34m,\u001b[0m \u001b[0;34m**\u001b[0m\u001b[0mlargs\u001b[0m\u001b[0;34m)\u001b[0m\u001b[0;34m\u001b[0m\u001b[0;34m\u001b[0m\u001b[0m\n\u001b[1;32m    140\u001b[0m         \u001b[0mself\u001b[0m\u001b[0;34m.\u001b[0m\u001b[0mlayer3\u001b[0m \u001b[0;34m=\u001b[0m \u001b[0mself\u001b[0m\u001b[0;34m.\u001b[0m\u001b[0m_make_layer\u001b[0m\u001b[0;34m(\u001b[0m\u001b[0;36m256\u001b[0m\u001b[0;34m,\u001b[0m \u001b[0mlayers\u001b[0m\u001b[0;34m[\u001b[0m\u001b[0;36m2\u001b[0m\u001b[0;34m]\u001b[0m\u001b[0;34m,\u001b[0m \u001b[0mstride\u001b[0m\u001b[0;34m=\u001b[0m\u001b[0mstride_3\u001b[0m\u001b[0;34m,\u001b[0m \u001b[0mdilation\u001b[0m\u001b[0;34m=\u001b[0m\u001b[0mdilation_3\u001b[0m\u001b[0;34m,\u001b[0m \u001b[0;34m**\u001b[0m\u001b[0mlargs\u001b[0m\u001b[0;34m)\u001b[0m\u001b[0;34m\u001b[0m\u001b[0;34m\u001b[0m\u001b[0m\n",
      "\u001b[0;32m~/repoz/pytorch-tools/pytorch_tools/models/resnet.py\u001b[0m in \u001b[0;36m_make_layer\u001b[0;34m(self, planes, blocks, stride, dilation, attn_type, norm_layer, norm_act, antialias)\u001b[0m\n\u001b[1;32m    188\u001b[0m                 \u001b[0mnorm_act\u001b[0m\u001b[0;34m=\u001b[0m\u001b[0mnorm_act\u001b[0m\u001b[0;34m,\u001b[0m\u001b[0;34m\u001b[0m\u001b[0;34m\u001b[0m\u001b[0m\n\u001b[1;32m    189\u001b[0m                 \u001b[0mantialias\u001b[0m\u001b[0;34m=\u001b[0m\u001b[0mantialias\u001b[0m\u001b[0;34m,\u001b[0m\u001b[0;34m\u001b[0m\u001b[0;34m\u001b[0m\u001b[0m\n\u001b[0;32m--> 190\u001b[0;31m                 \u001b[0mkeep_prob\u001b[0m\u001b[0;34m=\u001b[0m\u001b[0mself\u001b[0m\u001b[0;34m.\u001b[0m\u001b[0mkeep_prob\u001b[0m\u001b[0;34m,\u001b[0m\u001b[0;34m\u001b[0m\u001b[0;34m\u001b[0m\u001b[0m\n\u001b[0m\u001b[1;32m    191\u001b[0m             )\n\u001b[1;32m    192\u001b[0m         ]\n",
      "\u001b[0;32m~/repoz/pytorch-tools/pytorch_tools/modules/residual.py\u001b[0m in \u001b[0;36m__init__\u001b[0;34m(self, inplanes, planes, stride, downsample, groups, base_width, attn_type, dilation, norm_layer, norm_act, antialias, keep_prob)\u001b[0m\n\u001b[1;32m    316\u001b[0m         \u001b[0mself\u001b[0m\u001b[0;34m.\u001b[0m\u001b[0mconv3\u001b[0m \u001b[0;34m=\u001b[0m \u001b[0mconv1x1\u001b[0m\u001b[0;34m(\u001b[0m\u001b[0mwidth\u001b[0m\u001b[0;34m,\u001b[0m \u001b[0moutplanes\u001b[0m\u001b[0;34m)\u001b[0m\u001b[0;34m\u001b[0m\u001b[0;34m\u001b[0m\u001b[0m\n\u001b[1;32m    317\u001b[0m         \u001b[0mself\u001b[0m\u001b[0;34m.\u001b[0m\u001b[0mbn3\u001b[0m \u001b[0;34m=\u001b[0m \u001b[0mnorm_layer\u001b[0m\u001b[0;34m(\u001b[0m\u001b[0moutplanes\u001b[0m\u001b[0;34m,\u001b[0m \u001b[0mactivation\u001b[0m\u001b[0;34m=\u001b[0m\u001b[0;34m\"identity\"\u001b[0m\u001b[0;34m)\u001b[0m\u001b[0;34m\u001b[0m\u001b[0;34m\u001b[0m\u001b[0m\n\u001b[0;32m--> 318\u001b[0;31m         \u001b[0mself\u001b[0m\u001b[0;34m.\u001b[0m\u001b[0mse_module\u001b[0m \u001b[0;34m=\u001b[0m \u001b[0mget_attn\u001b[0m\u001b[0;34m(\u001b[0m\u001b[0mattn_type\u001b[0m\u001b[0;34m)\u001b[0m\u001b[0;34m(\u001b[0m\u001b[0moutplanes\u001b[0m\u001b[0;34m,\u001b[0m \u001b[0mplanes\u001b[0m \u001b[0;34m//\u001b[0m \u001b[0;36m4\u001b[0m\u001b[0;34m)\u001b[0m\u001b[0;34m\u001b[0m\u001b[0;34m\u001b[0m\u001b[0m\n\u001b[0m\u001b[1;32m    319\u001b[0m         \u001b[0mself\u001b[0m\u001b[0;34m.\u001b[0m\u001b[0mfinal_act\u001b[0m \u001b[0;34m=\u001b[0m \u001b[0mactivation_from_name\u001b[0m\u001b[0;34m(\u001b[0m\u001b[0mnorm_act\u001b[0m\u001b[0;34m)\u001b[0m\u001b[0;34m\u001b[0m\u001b[0;34m\u001b[0m\u001b[0m\n\u001b[1;32m    320\u001b[0m         \u001b[0mself\u001b[0m\u001b[0;34m.\u001b[0m\u001b[0mdownsample\u001b[0m \u001b[0;34m=\u001b[0m \u001b[0mdownsample\u001b[0m\u001b[0;34m\u001b[0m\u001b[0;34m\u001b[0m\u001b[0m\n",
      "\u001b[0;32m~/repoz/pytorch-tools/pytorch_tools/modules/residual.py\u001b[0m in \u001b[0;36mget_attn\u001b[0;34m(attn_type)\u001b[0m\n\u001b[1;32m    136\u001b[0m         \u001b[0;32mreturn\u001b[0m \u001b[0mnn\u001b[0m\u001b[0;34m.\u001b[0m\u001b[0mIdentity\u001b[0m\u001b[0;34m\u001b[0m\u001b[0;34m\u001b[0m\u001b[0m\n\u001b[1;32m    137\u001b[0m     \u001b[0;32melse\u001b[0m\u001b[0;34m:\u001b[0m\u001b[0;34m\u001b[0m\u001b[0;34m\u001b[0m\u001b[0m\n\u001b[0;32m--> 138\u001b[0;31m         \u001b[0;32mreturn\u001b[0m \u001b[0mATT_TO_MODULE\u001b[0m\u001b[0;34m[\u001b[0m\u001b[0mattn_type\u001b[0m\u001b[0;34m.\u001b[0m\u001b[0mlower\u001b[0m\u001b[0;34m(\u001b[0m\u001b[0;34m)\u001b[0m\u001b[0;34m]\u001b[0m\u001b[0;34m\u001b[0m\u001b[0;34m\u001b[0m\u001b[0m\n\u001b[0m\u001b[1;32m    139\u001b[0m \u001b[0;34m\u001b[0m\u001b[0m\n\u001b[1;32m    140\u001b[0m \u001b[0;34m\u001b[0m\u001b[0m\n",
      "\u001b[0;31mKeyError\u001b[0m: 'eca9'"
     ]
    }
   ],
   "source": [
    "model_se = pt.models.resnet50(attn_type=\"eca\")\n",
    "model_sevar3 = pt.models.resnet50(attn_type=\"eca9\")"
   ]
  },
  {
   "cell_type": "code",
   "execution_count": 8,
   "metadata": {
    "ExecuteTime": {
     "end_time": "2021-01-10T17:55:46.275275Z",
     "start_time": "2021-01-10T17:55:46.266945Z"
    }
   },
   "outputs": [
    {
     "data": {
      "text/plain": [
       "(28088024, 45691688)"
      ]
     },
     "execution_count": 8,
     "metadata": {},
     "output_type": "execute_result"
    }
   ],
   "source": [
    "count_parameters(model_se)[0], count_parameters(model_sevar3)[0]"
   ]
  },
  {
   "cell_type": "code",
   "execution_count": 9,
   "metadata": {
    "ExecuteTime": {
     "end_time": "2021-01-10T17:55:52.105266Z",
     "start_time": "2021-01-10T17:55:52.100377Z"
    }
   },
   "outputs": [
    {
     "data": {
      "text/plain": [
       "ResNet(\n",
       "  (conv1): Conv2d(3, 64, kernel_size=(7, 7), stride=(2, 2), padding=(3, 3), bias=False)\n",
       "  (bn1): ABN(64, eps=1e-05, momentum=0.1, affine=True, activation=ACT.RELU)\n",
       "  (maxpool): MaxPool2d(kernel_size=3, stride=2, padding=1, dilation=1, ceil_mode=False)\n",
       "  (layer1): Sequential(\n",
       "    (0): Bottleneck(\n",
       "      (conv1): Conv2d(64, 64, kernel_size=(1, 1), stride=(1, 1), bias=False)\n",
       "      (bn1): ABN(64, eps=1e-05, momentum=0.1, affine=True, activation=ACT.RELU)\n",
       "      (conv2): Conv2d(64, 64, kernel_size=(3, 3), stride=(1, 1), padding=(1, 1), bias=False)\n",
       "      (bn2): ABN(64, eps=1e-05, momentum=0.1, affine=True, activation=ACT.RELU)\n",
       "      (conv3): Conv2d(64, 256, kernel_size=(1, 1), stride=(1, 1), bias=False)\n",
       "      (bn3): ABN(256, eps=1e-05, momentum=0.1, affine=True, activation=ACT.IDENTITY)\n",
       "      (se_module): SEModule(\n",
       "        (pool): FastGlobalAvgPool2d()\n",
       "        (fc1): Conv2d(256, 16, kernel_size=(1, 1), stride=(1, 1))\n",
       "        (act1): ReLU(inplace=True)\n",
       "        (fc2): Conv2d(16, 256, kernel_size=(1, 1), stride=(1, 1))\n",
       "      )\n",
       "      (final_act): ReLU(inplace=True)\n",
       "      (downsample): Sequential(\n",
       "        (0): Conv2d(64, 256, kernel_size=(1, 1), stride=(1, 1), bias=False)\n",
       "        (1): ABN(256, eps=1e-05, momentum=0.1, affine=True, activation=ACT.IDENTITY)\n",
       "      )\n",
       "      (blurpool): Identity()\n",
       "      (drop_connect): Identity()\n",
       "    )\n",
       "    (1): Bottleneck(\n",
       "      (conv1): Conv2d(256, 64, kernel_size=(1, 1), stride=(1, 1), bias=False)\n",
       "      (bn1): ABN(64, eps=1e-05, momentum=0.1, affine=True, activation=ACT.RELU)\n",
       "      (conv2): Conv2d(64, 64, kernel_size=(3, 3), stride=(1, 1), padding=(1, 1), bias=False)\n",
       "      (bn2): ABN(64, eps=1e-05, momentum=0.1, affine=True, activation=ACT.RELU)\n",
       "      (conv3): Conv2d(64, 256, kernel_size=(1, 1), stride=(1, 1), bias=False)\n",
       "      (bn3): ABN(256, eps=1e-05, momentum=0.1, affine=True, activation=ACT.IDENTITY)\n",
       "      (se_module): SEModule(\n",
       "        (pool): FastGlobalAvgPool2d()\n",
       "        (fc1): Conv2d(256, 16, kernel_size=(1, 1), stride=(1, 1))\n",
       "        (act1): ReLU(inplace=True)\n",
       "        (fc2): Conv2d(16, 256, kernel_size=(1, 1), stride=(1, 1))\n",
       "      )\n",
       "      (final_act): ReLU(inplace=True)\n",
       "      (blurpool): Identity()\n",
       "      (drop_connect): Identity()\n",
       "    )\n",
       "    (2): Bottleneck(\n",
       "      (conv1): Conv2d(256, 64, kernel_size=(1, 1), stride=(1, 1), bias=False)\n",
       "      (bn1): ABN(64, eps=1e-05, momentum=0.1, affine=True, activation=ACT.RELU)\n",
       "      (conv2): Conv2d(64, 64, kernel_size=(3, 3), stride=(1, 1), padding=(1, 1), bias=False)\n",
       "      (bn2): ABN(64, eps=1e-05, momentum=0.1, affine=True, activation=ACT.RELU)\n",
       "      (conv3): Conv2d(64, 256, kernel_size=(1, 1), stride=(1, 1), bias=False)\n",
       "      (bn3): ABN(256, eps=1e-05, momentum=0.1, affine=True, activation=ACT.IDENTITY)\n",
       "      (se_module): SEModule(\n",
       "        (pool): FastGlobalAvgPool2d()\n",
       "        (fc1): Conv2d(256, 16, kernel_size=(1, 1), stride=(1, 1))\n",
       "        (act1): ReLU(inplace=True)\n",
       "        (fc2): Conv2d(16, 256, kernel_size=(1, 1), stride=(1, 1))\n",
       "      )\n",
       "      (final_act): ReLU(inplace=True)\n",
       "      (blurpool): Identity()\n",
       "      (drop_connect): Identity()\n",
       "    )\n",
       "  )\n",
       "  (layer2): Sequential(\n",
       "    (0): Bottleneck(\n",
       "      (conv1): Conv2d(256, 128, kernel_size=(1, 1), stride=(1, 1), bias=False)\n",
       "      (bn1): ABN(128, eps=1e-05, momentum=0.1, affine=True, activation=ACT.RELU)\n",
       "      (conv2): Conv2d(128, 128, kernel_size=(3, 3), stride=(2, 2), padding=(1, 1), bias=False)\n",
       "      (bn2): ABN(128, eps=1e-05, momentum=0.1, affine=True, activation=ACT.RELU)\n",
       "      (conv3): Conv2d(128, 512, kernel_size=(1, 1), stride=(1, 1), bias=False)\n",
       "      (bn3): ABN(512, eps=1e-05, momentum=0.1, affine=True, activation=ACT.IDENTITY)\n",
       "      (se_module): SEModule(\n",
       "        (pool): FastGlobalAvgPool2d()\n",
       "        (fc1): Conv2d(512, 32, kernel_size=(1, 1), stride=(1, 1))\n",
       "        (act1): ReLU(inplace=True)\n",
       "        (fc2): Conv2d(32, 512, kernel_size=(1, 1), stride=(1, 1))\n",
       "      )\n",
       "      (final_act): ReLU(inplace=True)\n",
       "      (downsample): Sequential(\n",
       "        (0): Conv2d(256, 512, kernel_size=(1, 1), stride=(2, 2), bias=False)\n",
       "        (1): ABN(512, eps=1e-05, momentum=0.1, affine=True, activation=ACT.IDENTITY)\n",
       "      )\n",
       "      (blurpool): Identity()\n",
       "      (drop_connect): Identity()\n",
       "    )\n",
       "    (1): Bottleneck(\n",
       "      (conv1): Conv2d(512, 128, kernel_size=(1, 1), stride=(1, 1), bias=False)\n",
       "      (bn1): ABN(128, eps=1e-05, momentum=0.1, affine=True, activation=ACT.RELU)\n",
       "      (conv2): Conv2d(128, 128, kernel_size=(3, 3), stride=(1, 1), padding=(1, 1), bias=False)\n",
       "      (bn2): ABN(128, eps=1e-05, momentum=0.1, affine=True, activation=ACT.RELU)\n",
       "      (conv3): Conv2d(128, 512, kernel_size=(1, 1), stride=(1, 1), bias=False)\n",
       "      (bn3): ABN(512, eps=1e-05, momentum=0.1, affine=True, activation=ACT.IDENTITY)\n",
       "      (se_module): SEModule(\n",
       "        (pool): FastGlobalAvgPool2d()\n",
       "        (fc1): Conv2d(512, 32, kernel_size=(1, 1), stride=(1, 1))\n",
       "        (act1): ReLU(inplace=True)\n",
       "        (fc2): Conv2d(32, 512, kernel_size=(1, 1), stride=(1, 1))\n",
       "      )\n",
       "      (final_act): ReLU(inplace=True)\n",
       "      (blurpool): Identity()\n",
       "      (drop_connect): Identity()\n",
       "    )\n",
       "    (2): Bottleneck(\n",
       "      (conv1): Conv2d(512, 128, kernel_size=(1, 1), stride=(1, 1), bias=False)\n",
       "      (bn1): ABN(128, eps=1e-05, momentum=0.1, affine=True, activation=ACT.RELU)\n",
       "      (conv2): Conv2d(128, 128, kernel_size=(3, 3), stride=(1, 1), padding=(1, 1), bias=False)\n",
       "      (bn2): ABN(128, eps=1e-05, momentum=0.1, affine=True, activation=ACT.RELU)\n",
       "      (conv3): Conv2d(128, 512, kernel_size=(1, 1), stride=(1, 1), bias=False)\n",
       "      (bn3): ABN(512, eps=1e-05, momentum=0.1, affine=True, activation=ACT.IDENTITY)\n",
       "      (se_module): SEModule(\n",
       "        (pool): FastGlobalAvgPool2d()\n",
       "        (fc1): Conv2d(512, 32, kernel_size=(1, 1), stride=(1, 1))\n",
       "        (act1): ReLU(inplace=True)\n",
       "        (fc2): Conv2d(32, 512, kernel_size=(1, 1), stride=(1, 1))\n",
       "      )\n",
       "      (final_act): ReLU(inplace=True)\n",
       "      (blurpool): Identity()\n",
       "      (drop_connect): Identity()\n",
       "    )\n",
       "    (3): Bottleneck(\n",
       "      (conv1): Conv2d(512, 128, kernel_size=(1, 1), stride=(1, 1), bias=False)\n",
       "      (bn1): ABN(128, eps=1e-05, momentum=0.1, affine=True, activation=ACT.RELU)\n",
       "      (conv2): Conv2d(128, 128, kernel_size=(3, 3), stride=(1, 1), padding=(1, 1), bias=False)\n",
       "      (bn2): ABN(128, eps=1e-05, momentum=0.1, affine=True, activation=ACT.RELU)\n",
       "      (conv3): Conv2d(128, 512, kernel_size=(1, 1), stride=(1, 1), bias=False)\n",
       "      (bn3): ABN(512, eps=1e-05, momentum=0.1, affine=True, activation=ACT.IDENTITY)\n",
       "      (se_module): SEModule(\n",
       "        (pool): FastGlobalAvgPool2d()\n",
       "        (fc1): Conv2d(512, 32, kernel_size=(1, 1), stride=(1, 1))\n",
       "        (act1): ReLU(inplace=True)\n",
       "        (fc2): Conv2d(32, 512, kernel_size=(1, 1), stride=(1, 1))\n",
       "      )\n",
       "      (final_act): ReLU(inplace=True)\n",
       "      (blurpool): Identity()\n",
       "      (drop_connect): Identity()\n",
       "    )\n",
       "  )\n",
       "  (layer3): Sequential(\n",
       "    (0): Bottleneck(\n",
       "      (conv1): Conv2d(512, 256, kernel_size=(1, 1), stride=(1, 1), bias=False)\n",
       "      (bn1): ABN(256, eps=1e-05, momentum=0.1, affine=True, activation=ACT.RELU)\n",
       "      (conv2): Conv2d(256, 256, kernel_size=(3, 3), stride=(2, 2), padding=(1, 1), bias=False)\n",
       "      (bn2): ABN(256, eps=1e-05, momentum=0.1, affine=True, activation=ACT.RELU)\n",
       "      (conv3): Conv2d(256, 1024, kernel_size=(1, 1), stride=(1, 1), bias=False)\n",
       "      (bn3): ABN(1024, eps=1e-05, momentum=0.1, affine=True, activation=ACT.IDENTITY)\n",
       "      (se_module): SEModule(\n",
       "        (pool): FastGlobalAvgPool2d()\n",
       "        (fc1): Conv2d(1024, 64, kernel_size=(1, 1), stride=(1, 1))\n",
       "        (act1): ReLU(inplace=True)\n",
       "        (fc2): Conv2d(64, 1024, kernel_size=(1, 1), stride=(1, 1))\n",
       "      )\n",
       "      (final_act): ReLU(inplace=True)\n",
       "      (downsample): Sequential(\n",
       "        (0): Conv2d(512, 1024, kernel_size=(1, 1), stride=(2, 2), bias=False)\n",
       "        (1): ABN(1024, eps=1e-05, momentum=0.1, affine=True, activation=ACT.IDENTITY)\n",
       "      )\n",
       "      (blurpool): Identity()\n",
       "      (drop_connect): Identity()\n",
       "    )\n",
       "    (1): Bottleneck(\n",
       "      (conv1): Conv2d(1024, 256, kernel_size=(1, 1), stride=(1, 1), bias=False)\n",
       "      (bn1): ABN(256, eps=1e-05, momentum=0.1, affine=True, activation=ACT.RELU)\n",
       "      (conv2): Conv2d(256, 256, kernel_size=(3, 3), stride=(1, 1), padding=(1, 1), bias=False)\n",
       "      (bn2): ABN(256, eps=1e-05, momentum=0.1, affine=True, activation=ACT.RELU)\n",
       "      (conv3): Conv2d(256, 1024, kernel_size=(1, 1), stride=(1, 1), bias=False)\n",
       "      (bn3): ABN(1024, eps=1e-05, momentum=0.1, affine=True, activation=ACT.IDENTITY)\n",
       "      (se_module): SEModule(\n",
       "        (pool): FastGlobalAvgPool2d()\n",
       "        (fc1): Conv2d(1024, 64, kernel_size=(1, 1), stride=(1, 1))\n",
       "        (act1): ReLU(inplace=True)\n",
       "        (fc2): Conv2d(64, 1024, kernel_size=(1, 1), stride=(1, 1))\n",
       "      )\n",
       "      (final_act): ReLU(inplace=True)\n",
       "      (blurpool): Identity()\n",
       "      (drop_connect): Identity()\n",
       "    )\n",
       "    (2): Bottleneck(\n",
       "      (conv1): Conv2d(1024, 256, kernel_size=(1, 1), stride=(1, 1), bias=False)\n",
       "      (bn1): ABN(256, eps=1e-05, momentum=0.1, affine=True, activation=ACT.RELU)\n",
       "      (conv2): Conv2d(256, 256, kernel_size=(3, 3), stride=(1, 1), padding=(1, 1), bias=False)\n",
       "      (bn2): ABN(256, eps=1e-05, momentum=0.1, affine=True, activation=ACT.RELU)\n",
       "      (conv3): Conv2d(256, 1024, kernel_size=(1, 1), stride=(1, 1), bias=False)\n",
       "      (bn3): ABN(1024, eps=1e-05, momentum=0.1, affine=True, activation=ACT.IDENTITY)\n",
       "      (se_module): SEModule(\n",
       "        (pool): FastGlobalAvgPool2d()\n",
       "        (fc1): Conv2d(1024, 64, kernel_size=(1, 1), stride=(1, 1))\n",
       "        (act1): ReLU(inplace=True)\n",
       "        (fc2): Conv2d(64, 1024, kernel_size=(1, 1), stride=(1, 1))\n",
       "      )\n",
       "      (final_act): ReLU(inplace=True)\n",
       "      (blurpool): Identity()\n",
       "      (drop_connect): Identity()\n",
       "    )\n",
       "    (3): Bottleneck(\n",
       "      (conv1): Conv2d(1024, 256, kernel_size=(1, 1), stride=(1, 1), bias=False)\n",
       "      (bn1): ABN(256, eps=1e-05, momentum=0.1, affine=True, activation=ACT.RELU)\n",
       "      (conv2): Conv2d(256, 256, kernel_size=(3, 3), stride=(1, 1), padding=(1, 1), bias=False)\n",
       "      (bn2): ABN(256, eps=1e-05, momentum=0.1, affine=True, activation=ACT.RELU)\n",
       "      (conv3): Conv2d(256, 1024, kernel_size=(1, 1), stride=(1, 1), bias=False)\n",
       "      (bn3): ABN(1024, eps=1e-05, momentum=0.1, affine=True, activation=ACT.IDENTITY)\n",
       "      (se_module): SEModule(\n",
       "        (pool): FastGlobalAvgPool2d()\n",
       "        (fc1): Conv2d(1024, 64, kernel_size=(1, 1), stride=(1, 1))\n",
       "        (act1): ReLU(inplace=True)\n",
       "        (fc2): Conv2d(64, 1024, kernel_size=(1, 1), stride=(1, 1))\n",
       "      )\n",
       "      (final_act): ReLU(inplace=True)\n",
       "      (blurpool): Identity()\n",
       "      (drop_connect): Identity()\n",
       "    )\n",
       "    (4): Bottleneck(\n",
       "      (conv1): Conv2d(1024, 256, kernel_size=(1, 1), stride=(1, 1), bias=False)\n",
       "      (bn1): ABN(256, eps=1e-05, momentum=0.1, affine=True, activation=ACT.RELU)\n",
       "      (conv2): Conv2d(256, 256, kernel_size=(3, 3), stride=(1, 1), padding=(1, 1), bias=False)\n",
       "      (bn2): ABN(256, eps=1e-05, momentum=0.1, affine=True, activation=ACT.RELU)\n",
       "      (conv3): Conv2d(256, 1024, kernel_size=(1, 1), stride=(1, 1), bias=False)\n",
       "      (bn3): ABN(1024, eps=1e-05, momentum=0.1, affine=True, activation=ACT.IDENTITY)\n",
       "      (se_module): SEModule(\n",
       "        (pool): FastGlobalAvgPool2d()\n",
       "        (fc1): Conv2d(1024, 64, kernel_size=(1, 1), stride=(1, 1))\n",
       "        (act1): ReLU(inplace=True)\n",
       "        (fc2): Conv2d(64, 1024, kernel_size=(1, 1), stride=(1, 1))\n",
       "      )\n",
       "      (final_act): ReLU(inplace=True)\n",
       "      (blurpool): Identity()\n",
       "      (drop_connect): Identity()\n",
       "    )\n",
       "    (5): Bottleneck(\n",
       "      (conv1): Conv2d(1024, 256, kernel_size=(1, 1), stride=(1, 1), bias=False)\n",
       "      (bn1): ABN(256, eps=1e-05, momentum=0.1, affine=True, activation=ACT.RELU)\n",
       "      (conv2): Conv2d(256, 256, kernel_size=(3, 3), stride=(1, 1), padding=(1, 1), bias=False)\n",
       "      (bn2): ABN(256, eps=1e-05, momentum=0.1, affine=True, activation=ACT.RELU)\n",
       "      (conv3): Conv2d(256, 1024, kernel_size=(1, 1), stride=(1, 1), bias=False)\n",
       "      (bn3): ABN(1024, eps=1e-05, momentum=0.1, affine=True, activation=ACT.IDENTITY)\n",
       "      (se_module): SEModule(\n",
       "        (pool): FastGlobalAvgPool2d()\n",
       "        (fc1): Conv2d(1024, 64, kernel_size=(1, 1), stride=(1, 1))\n",
       "        (act1): ReLU(inplace=True)\n",
       "        (fc2): Conv2d(64, 1024, kernel_size=(1, 1), stride=(1, 1))\n",
       "      )\n",
       "      (final_act): ReLU(inplace=True)\n",
       "      (blurpool): Identity()\n",
       "      (drop_connect): Identity()\n",
       "    )\n",
       "  )\n",
       "  (layer4): Sequential(\n",
       "    (0): Bottleneck(\n",
       "      (conv1): Conv2d(1024, 512, kernel_size=(1, 1), stride=(1, 1), bias=False)\n",
       "      (bn1): ABN(512, eps=1e-05, momentum=0.1, affine=True, activation=ACT.RELU)\n",
       "      (conv2): Conv2d(512, 512, kernel_size=(3, 3), stride=(2, 2), padding=(1, 1), bias=False)\n",
       "      (bn2): ABN(512, eps=1e-05, momentum=0.1, affine=True, activation=ACT.RELU)\n",
       "      (conv3): Conv2d(512, 2048, kernel_size=(1, 1), stride=(1, 1), bias=False)\n",
       "      (bn3): ABN(2048, eps=1e-05, momentum=0.1, affine=True, activation=ACT.IDENTITY)\n",
       "      (se_module): SEModule(\n",
       "        (pool): FastGlobalAvgPool2d()\n",
       "        (fc1): Conv2d(2048, 128, kernel_size=(1, 1), stride=(1, 1))\n",
       "        (act1): ReLU(inplace=True)\n",
       "        (fc2): Conv2d(128, 2048, kernel_size=(1, 1), stride=(1, 1))\n",
       "      )\n",
       "      (final_act): ReLU(inplace=True)\n",
       "      (downsample): Sequential(\n",
       "        (0): Conv2d(1024, 2048, kernel_size=(1, 1), stride=(2, 2), bias=False)\n",
       "        (1): ABN(2048, eps=1e-05, momentum=0.1, affine=True, activation=ACT.IDENTITY)\n",
       "      )\n",
       "      (blurpool): Identity()\n",
       "      (drop_connect): Identity()\n",
       "    )\n",
       "    (1): Bottleneck(\n",
       "      (conv1): Conv2d(2048, 512, kernel_size=(1, 1), stride=(1, 1), bias=False)\n",
       "      (bn1): ABN(512, eps=1e-05, momentum=0.1, affine=True, activation=ACT.RELU)\n",
       "      (conv2): Conv2d(512, 512, kernel_size=(3, 3), stride=(1, 1), padding=(1, 1), bias=False)\n",
       "      (bn2): ABN(512, eps=1e-05, momentum=0.1, affine=True, activation=ACT.RELU)\n",
       "      (conv3): Conv2d(512, 2048, kernel_size=(1, 1), stride=(1, 1), bias=False)\n",
       "      (bn3): ABN(2048, eps=1e-05, momentum=0.1, affine=True, activation=ACT.IDENTITY)\n",
       "      (se_module): SEModule(\n",
       "        (pool): FastGlobalAvgPool2d()\n",
       "        (fc1): Conv2d(2048, 128, kernel_size=(1, 1), stride=(1, 1))\n",
       "        (act1): ReLU(inplace=True)\n",
       "        (fc2): Conv2d(128, 2048, kernel_size=(1, 1), stride=(1, 1))\n",
       "      )\n",
       "      (final_act): ReLU(inplace=True)\n",
       "      (blurpool): Identity()\n",
       "      (drop_connect): Identity()\n",
       "    )\n",
       "    (2): Bottleneck(\n",
       "      (conv1): Conv2d(2048, 512, kernel_size=(1, 1), stride=(1, 1), bias=False)\n",
       "      (bn1): ABN(512, eps=1e-05, momentum=0.1, affine=True, activation=ACT.RELU)\n",
       "      (conv2): Conv2d(512, 512, kernel_size=(3, 3), stride=(1, 1), padding=(1, 1), bias=False)\n",
       "      (bn2): ABN(512, eps=1e-05, momentum=0.1, affine=True, activation=ACT.RELU)\n",
       "      (conv3): Conv2d(512, 2048, kernel_size=(1, 1), stride=(1, 1), bias=False)\n",
       "      (bn3): ABN(2048, eps=1e-05, momentum=0.1, affine=True, activation=ACT.IDENTITY)\n",
       "      (se_module): SEModule(\n",
       "        (pool): FastGlobalAvgPool2d()\n",
       "        (fc1): Conv2d(2048, 128, kernel_size=(1, 1), stride=(1, 1))\n",
       "        (act1): ReLU(inplace=True)\n",
       "        (fc2): Conv2d(128, 2048, kernel_size=(1, 1), stride=(1, 1))\n",
       "      )\n",
       "      (final_act): ReLU(inplace=True)\n",
       "      (blurpool): Identity()\n",
       "      (drop_connect): Identity()\n",
       "    )\n",
       "  )\n",
       "  (global_pool): FastGlobalAvgPool2d()\n",
       "  (dropout): Dropout(p=0.0, inplace=True)\n",
       "  (last_linear): Linear(in_features=2048, out_features=1000, bias=True)\n",
       ")"
      ]
     },
     "execution_count": 9,
     "metadata": {},
     "output_type": "execute_result"
    }
   ],
   "source": [
    "model_se"
   ]
  },
  {
   "cell_type": "code",
   "execution_count": 10,
   "metadata": {
    "ExecuteTime": {
     "end_time": "2021-01-10T17:55:56.112173Z",
     "start_time": "2021-01-10T17:55:56.107445Z"
    }
   },
   "outputs": [
    {
     "data": {
      "text/plain": [
       "ResNet(\n",
       "  (conv1): Conv2d(3, 64, kernel_size=(7, 7), stride=(2, 2), padding=(3, 3), bias=False)\n",
       "  (bn1): ABN(64, eps=1e-05, momentum=0.1, affine=True, activation=ACT.RELU)\n",
       "  (maxpool): MaxPool2d(kernel_size=3, stride=2, padding=1, dilation=1, ceil_mode=False)\n",
       "  (layer1): Sequential(\n",
       "    (0): Bottleneck(\n",
       "      (conv1): Conv2d(64, 64, kernel_size=(1, 1), stride=(1, 1), bias=False)\n",
       "      (bn1): ABN(64, eps=1e-05, momentum=0.1, affine=True, activation=ACT.RELU)\n",
       "      (conv2): Conv2d(64, 64, kernel_size=(3, 3), stride=(1, 1), padding=(1, 1), bias=False)\n",
       "      (bn2): ABN(64, eps=1e-05, momentum=0.1, affine=True, activation=ACT.RELU)\n",
       "      (conv3): Conv2d(64, 256, kernel_size=(1, 1), stride=(1, 1), bias=False)\n",
       "      (bn3): ABN(256, eps=1e-05, momentum=0.1, affine=True, activation=ACT.IDENTITY)\n",
       "      (se_module): SEVar3(\n",
       "        (pool): FastGlobalAvgPool2d()\n",
       "        (fc1): Conv2d(256, 256, kernel_size=(1, 1), stride=(1, 1))\n",
       "      )\n",
       "      (final_act): ReLU(inplace=True)\n",
       "      (downsample): Sequential(\n",
       "        (0): Conv2d(64, 256, kernel_size=(1, 1), stride=(1, 1), bias=False)\n",
       "        (1): ABN(256, eps=1e-05, momentum=0.1, affine=True, activation=ACT.IDENTITY)\n",
       "      )\n",
       "      (blurpool): Identity()\n",
       "      (drop_connect): Identity()\n",
       "    )\n",
       "    (1): Bottleneck(\n",
       "      (conv1): Conv2d(256, 64, kernel_size=(1, 1), stride=(1, 1), bias=False)\n",
       "      (bn1): ABN(64, eps=1e-05, momentum=0.1, affine=True, activation=ACT.RELU)\n",
       "      (conv2): Conv2d(64, 64, kernel_size=(3, 3), stride=(1, 1), padding=(1, 1), bias=False)\n",
       "      (bn2): ABN(64, eps=1e-05, momentum=0.1, affine=True, activation=ACT.RELU)\n",
       "      (conv3): Conv2d(64, 256, kernel_size=(1, 1), stride=(1, 1), bias=False)\n",
       "      (bn3): ABN(256, eps=1e-05, momentum=0.1, affine=True, activation=ACT.IDENTITY)\n",
       "      (se_module): SEVar3(\n",
       "        (pool): FastGlobalAvgPool2d()\n",
       "        (fc1): Conv2d(256, 256, kernel_size=(1, 1), stride=(1, 1))\n",
       "      )\n",
       "      (final_act): ReLU(inplace=True)\n",
       "      (blurpool): Identity()\n",
       "      (drop_connect): Identity()\n",
       "    )\n",
       "    (2): Bottleneck(\n",
       "      (conv1): Conv2d(256, 64, kernel_size=(1, 1), stride=(1, 1), bias=False)\n",
       "      (bn1): ABN(64, eps=1e-05, momentum=0.1, affine=True, activation=ACT.RELU)\n",
       "      (conv2): Conv2d(64, 64, kernel_size=(3, 3), stride=(1, 1), padding=(1, 1), bias=False)\n",
       "      (bn2): ABN(64, eps=1e-05, momentum=0.1, affine=True, activation=ACT.RELU)\n",
       "      (conv3): Conv2d(64, 256, kernel_size=(1, 1), stride=(1, 1), bias=False)\n",
       "      (bn3): ABN(256, eps=1e-05, momentum=0.1, affine=True, activation=ACT.IDENTITY)\n",
       "      (se_module): SEVar3(\n",
       "        (pool): FastGlobalAvgPool2d()\n",
       "        (fc1): Conv2d(256, 256, kernel_size=(1, 1), stride=(1, 1))\n",
       "      )\n",
       "      (final_act): ReLU(inplace=True)\n",
       "      (blurpool): Identity()\n",
       "      (drop_connect): Identity()\n",
       "    )\n",
       "  )\n",
       "  (layer2): Sequential(\n",
       "    (0): Bottleneck(\n",
       "      (conv1): Conv2d(256, 128, kernel_size=(1, 1), stride=(1, 1), bias=False)\n",
       "      (bn1): ABN(128, eps=1e-05, momentum=0.1, affine=True, activation=ACT.RELU)\n",
       "      (conv2): Conv2d(128, 128, kernel_size=(3, 3), stride=(2, 2), padding=(1, 1), bias=False)\n",
       "      (bn2): ABN(128, eps=1e-05, momentum=0.1, affine=True, activation=ACT.RELU)\n",
       "      (conv3): Conv2d(128, 512, kernel_size=(1, 1), stride=(1, 1), bias=False)\n",
       "      (bn3): ABN(512, eps=1e-05, momentum=0.1, affine=True, activation=ACT.IDENTITY)\n",
       "      (se_module): SEVar3(\n",
       "        (pool): FastGlobalAvgPool2d()\n",
       "        (fc1): Conv2d(512, 512, kernel_size=(1, 1), stride=(1, 1))\n",
       "      )\n",
       "      (final_act): ReLU(inplace=True)\n",
       "      (downsample): Sequential(\n",
       "        (0): Conv2d(256, 512, kernel_size=(1, 1), stride=(2, 2), bias=False)\n",
       "        (1): ABN(512, eps=1e-05, momentum=0.1, affine=True, activation=ACT.IDENTITY)\n",
       "      )\n",
       "      (blurpool): Identity()\n",
       "      (drop_connect): Identity()\n",
       "    )\n",
       "    (1): Bottleneck(\n",
       "      (conv1): Conv2d(512, 128, kernel_size=(1, 1), stride=(1, 1), bias=False)\n",
       "      (bn1): ABN(128, eps=1e-05, momentum=0.1, affine=True, activation=ACT.RELU)\n",
       "      (conv2): Conv2d(128, 128, kernel_size=(3, 3), stride=(1, 1), padding=(1, 1), bias=False)\n",
       "      (bn2): ABN(128, eps=1e-05, momentum=0.1, affine=True, activation=ACT.RELU)\n",
       "      (conv3): Conv2d(128, 512, kernel_size=(1, 1), stride=(1, 1), bias=False)\n",
       "      (bn3): ABN(512, eps=1e-05, momentum=0.1, affine=True, activation=ACT.IDENTITY)\n",
       "      (se_module): SEVar3(\n",
       "        (pool): FastGlobalAvgPool2d()\n",
       "        (fc1): Conv2d(512, 512, kernel_size=(1, 1), stride=(1, 1))\n",
       "      )\n",
       "      (final_act): ReLU(inplace=True)\n",
       "      (blurpool): Identity()\n",
       "      (drop_connect): Identity()\n",
       "    )\n",
       "    (2): Bottleneck(\n",
       "      (conv1): Conv2d(512, 128, kernel_size=(1, 1), stride=(1, 1), bias=False)\n",
       "      (bn1): ABN(128, eps=1e-05, momentum=0.1, affine=True, activation=ACT.RELU)\n",
       "      (conv2): Conv2d(128, 128, kernel_size=(3, 3), stride=(1, 1), padding=(1, 1), bias=False)\n",
       "      (bn2): ABN(128, eps=1e-05, momentum=0.1, affine=True, activation=ACT.RELU)\n",
       "      (conv3): Conv2d(128, 512, kernel_size=(1, 1), stride=(1, 1), bias=False)\n",
       "      (bn3): ABN(512, eps=1e-05, momentum=0.1, affine=True, activation=ACT.IDENTITY)\n",
       "      (se_module): SEVar3(\n",
       "        (pool): FastGlobalAvgPool2d()\n",
       "        (fc1): Conv2d(512, 512, kernel_size=(1, 1), stride=(1, 1))\n",
       "      )\n",
       "      (final_act): ReLU(inplace=True)\n",
       "      (blurpool): Identity()\n",
       "      (drop_connect): Identity()\n",
       "    )\n",
       "    (3): Bottleneck(\n",
       "      (conv1): Conv2d(512, 128, kernel_size=(1, 1), stride=(1, 1), bias=False)\n",
       "      (bn1): ABN(128, eps=1e-05, momentum=0.1, affine=True, activation=ACT.RELU)\n",
       "      (conv2): Conv2d(128, 128, kernel_size=(3, 3), stride=(1, 1), padding=(1, 1), bias=False)\n",
       "      (bn2): ABN(128, eps=1e-05, momentum=0.1, affine=True, activation=ACT.RELU)\n",
       "      (conv3): Conv2d(128, 512, kernel_size=(1, 1), stride=(1, 1), bias=False)\n",
       "      (bn3): ABN(512, eps=1e-05, momentum=0.1, affine=True, activation=ACT.IDENTITY)\n",
       "      (se_module): SEVar3(\n",
       "        (pool): FastGlobalAvgPool2d()\n",
       "        (fc1): Conv2d(512, 512, kernel_size=(1, 1), stride=(1, 1))\n",
       "      )\n",
       "      (final_act): ReLU(inplace=True)\n",
       "      (blurpool): Identity()\n",
       "      (drop_connect): Identity()\n",
       "    )\n",
       "  )\n",
       "  (layer3): Sequential(\n",
       "    (0): Bottleneck(\n",
       "      (conv1): Conv2d(512, 256, kernel_size=(1, 1), stride=(1, 1), bias=False)\n",
       "      (bn1): ABN(256, eps=1e-05, momentum=0.1, affine=True, activation=ACT.RELU)\n",
       "      (conv2): Conv2d(256, 256, kernel_size=(3, 3), stride=(2, 2), padding=(1, 1), bias=False)\n",
       "      (bn2): ABN(256, eps=1e-05, momentum=0.1, affine=True, activation=ACT.RELU)\n",
       "      (conv3): Conv2d(256, 1024, kernel_size=(1, 1), stride=(1, 1), bias=False)\n",
       "      (bn3): ABN(1024, eps=1e-05, momentum=0.1, affine=True, activation=ACT.IDENTITY)\n",
       "      (se_module): SEVar3(\n",
       "        (pool): FastGlobalAvgPool2d()\n",
       "        (fc1): Conv2d(1024, 1024, kernel_size=(1, 1), stride=(1, 1))\n",
       "      )\n",
       "      (final_act): ReLU(inplace=True)\n",
       "      (downsample): Sequential(\n",
       "        (0): Conv2d(512, 1024, kernel_size=(1, 1), stride=(2, 2), bias=False)\n",
       "        (1): ABN(1024, eps=1e-05, momentum=0.1, affine=True, activation=ACT.IDENTITY)\n",
       "      )\n",
       "      (blurpool): Identity()\n",
       "      (drop_connect): Identity()\n",
       "    )\n",
       "    (1): Bottleneck(\n",
       "      (conv1): Conv2d(1024, 256, kernel_size=(1, 1), stride=(1, 1), bias=False)\n",
       "      (bn1): ABN(256, eps=1e-05, momentum=0.1, affine=True, activation=ACT.RELU)\n",
       "      (conv2): Conv2d(256, 256, kernel_size=(3, 3), stride=(1, 1), padding=(1, 1), bias=False)\n",
       "      (bn2): ABN(256, eps=1e-05, momentum=0.1, affine=True, activation=ACT.RELU)\n",
       "      (conv3): Conv2d(256, 1024, kernel_size=(1, 1), stride=(1, 1), bias=False)\n",
       "      (bn3): ABN(1024, eps=1e-05, momentum=0.1, affine=True, activation=ACT.IDENTITY)\n",
       "      (se_module): SEVar3(\n",
       "        (pool): FastGlobalAvgPool2d()\n",
       "        (fc1): Conv2d(1024, 1024, kernel_size=(1, 1), stride=(1, 1))\n",
       "      )\n",
       "      (final_act): ReLU(inplace=True)\n",
       "      (blurpool): Identity()\n",
       "      (drop_connect): Identity()\n",
       "    )\n",
       "    (2): Bottleneck(\n",
       "      (conv1): Conv2d(1024, 256, kernel_size=(1, 1), stride=(1, 1), bias=False)\n",
       "      (bn1): ABN(256, eps=1e-05, momentum=0.1, affine=True, activation=ACT.RELU)\n",
       "      (conv2): Conv2d(256, 256, kernel_size=(3, 3), stride=(1, 1), padding=(1, 1), bias=False)\n",
       "      (bn2): ABN(256, eps=1e-05, momentum=0.1, affine=True, activation=ACT.RELU)\n",
       "      (conv3): Conv2d(256, 1024, kernel_size=(1, 1), stride=(1, 1), bias=False)\n",
       "      (bn3): ABN(1024, eps=1e-05, momentum=0.1, affine=True, activation=ACT.IDENTITY)\n",
       "      (se_module): SEVar3(\n",
       "        (pool): FastGlobalAvgPool2d()\n",
       "        (fc1): Conv2d(1024, 1024, kernel_size=(1, 1), stride=(1, 1))\n",
       "      )\n",
       "      (final_act): ReLU(inplace=True)\n",
       "      (blurpool): Identity()\n",
       "      (drop_connect): Identity()\n",
       "    )\n",
       "    (3): Bottleneck(\n",
       "      (conv1): Conv2d(1024, 256, kernel_size=(1, 1), stride=(1, 1), bias=False)\n",
       "      (bn1): ABN(256, eps=1e-05, momentum=0.1, affine=True, activation=ACT.RELU)\n",
       "      (conv2): Conv2d(256, 256, kernel_size=(3, 3), stride=(1, 1), padding=(1, 1), bias=False)\n",
       "      (bn2): ABN(256, eps=1e-05, momentum=0.1, affine=True, activation=ACT.RELU)\n",
       "      (conv3): Conv2d(256, 1024, kernel_size=(1, 1), stride=(1, 1), bias=False)\n",
       "      (bn3): ABN(1024, eps=1e-05, momentum=0.1, affine=True, activation=ACT.IDENTITY)\n",
       "      (se_module): SEVar3(\n",
       "        (pool): FastGlobalAvgPool2d()\n",
       "        (fc1): Conv2d(1024, 1024, kernel_size=(1, 1), stride=(1, 1))\n",
       "      )\n",
       "      (final_act): ReLU(inplace=True)\n",
       "      (blurpool): Identity()\n",
       "      (drop_connect): Identity()\n",
       "    )\n",
       "    (4): Bottleneck(\n",
       "      (conv1): Conv2d(1024, 256, kernel_size=(1, 1), stride=(1, 1), bias=False)\n",
       "      (bn1): ABN(256, eps=1e-05, momentum=0.1, affine=True, activation=ACT.RELU)\n",
       "      (conv2): Conv2d(256, 256, kernel_size=(3, 3), stride=(1, 1), padding=(1, 1), bias=False)\n",
       "      (bn2): ABN(256, eps=1e-05, momentum=0.1, affine=True, activation=ACT.RELU)\n",
       "      (conv3): Conv2d(256, 1024, kernel_size=(1, 1), stride=(1, 1), bias=False)\n",
       "      (bn3): ABN(1024, eps=1e-05, momentum=0.1, affine=True, activation=ACT.IDENTITY)\n",
       "      (se_module): SEVar3(\n",
       "        (pool): FastGlobalAvgPool2d()\n",
       "        (fc1): Conv2d(1024, 1024, kernel_size=(1, 1), stride=(1, 1))\n",
       "      )\n",
       "      (final_act): ReLU(inplace=True)\n",
       "      (blurpool): Identity()\n",
       "      (drop_connect): Identity()\n",
       "    )\n",
       "    (5): Bottleneck(\n",
       "      (conv1): Conv2d(1024, 256, kernel_size=(1, 1), stride=(1, 1), bias=False)\n",
       "      (bn1): ABN(256, eps=1e-05, momentum=0.1, affine=True, activation=ACT.RELU)\n",
       "      (conv2): Conv2d(256, 256, kernel_size=(3, 3), stride=(1, 1), padding=(1, 1), bias=False)\n",
       "      (bn2): ABN(256, eps=1e-05, momentum=0.1, affine=True, activation=ACT.RELU)\n",
       "      (conv3): Conv2d(256, 1024, kernel_size=(1, 1), stride=(1, 1), bias=False)\n",
       "      (bn3): ABN(1024, eps=1e-05, momentum=0.1, affine=True, activation=ACT.IDENTITY)\n",
       "      (se_module): SEVar3(\n",
       "        (pool): FastGlobalAvgPool2d()\n",
       "        (fc1): Conv2d(1024, 1024, kernel_size=(1, 1), stride=(1, 1))\n",
       "      )\n",
       "      (final_act): ReLU(inplace=True)\n",
       "      (blurpool): Identity()\n",
       "      (drop_connect): Identity()\n",
       "    )\n",
       "  )\n",
       "  (layer4): Sequential(\n",
       "    (0): Bottleneck(\n",
       "      (conv1): Conv2d(1024, 512, kernel_size=(1, 1), stride=(1, 1), bias=False)\n",
       "      (bn1): ABN(512, eps=1e-05, momentum=0.1, affine=True, activation=ACT.RELU)\n",
       "      (conv2): Conv2d(512, 512, kernel_size=(3, 3), stride=(2, 2), padding=(1, 1), bias=False)\n",
       "      (bn2): ABN(512, eps=1e-05, momentum=0.1, affine=True, activation=ACT.RELU)\n",
       "      (conv3): Conv2d(512, 2048, kernel_size=(1, 1), stride=(1, 1), bias=False)\n",
       "      (bn3): ABN(2048, eps=1e-05, momentum=0.1, affine=True, activation=ACT.IDENTITY)\n",
       "      (se_module): SEVar3(\n",
       "        (pool): FastGlobalAvgPool2d()\n",
       "        (fc1): Conv2d(2048, 2048, kernel_size=(1, 1), stride=(1, 1))\n",
       "      )\n",
       "      (final_act): ReLU(inplace=True)\n",
       "      (downsample): Sequential(\n",
       "        (0): Conv2d(1024, 2048, kernel_size=(1, 1), stride=(2, 2), bias=False)\n",
       "        (1): ABN(2048, eps=1e-05, momentum=0.1, affine=True, activation=ACT.IDENTITY)\n",
       "      )\n",
       "      (blurpool): Identity()\n",
       "      (drop_connect): Identity()\n",
       "    )\n",
       "    (1): Bottleneck(\n",
       "      (conv1): Conv2d(2048, 512, kernel_size=(1, 1), stride=(1, 1), bias=False)\n",
       "      (bn1): ABN(512, eps=1e-05, momentum=0.1, affine=True, activation=ACT.RELU)\n",
       "      (conv2): Conv2d(512, 512, kernel_size=(3, 3), stride=(1, 1), padding=(1, 1), bias=False)\n",
       "      (bn2): ABN(512, eps=1e-05, momentum=0.1, affine=True, activation=ACT.RELU)\n",
       "      (conv3): Conv2d(512, 2048, kernel_size=(1, 1), stride=(1, 1), bias=False)\n",
       "      (bn3): ABN(2048, eps=1e-05, momentum=0.1, affine=True, activation=ACT.IDENTITY)\n",
       "      (se_module): SEVar3(\n",
       "        (pool): FastGlobalAvgPool2d()\n",
       "        (fc1): Conv2d(2048, 2048, kernel_size=(1, 1), stride=(1, 1))\n",
       "      )\n",
       "      (final_act): ReLU(inplace=True)\n",
       "      (blurpool): Identity()\n",
       "      (drop_connect): Identity()\n",
       "    )\n",
       "    (2): Bottleneck(\n",
       "      (conv1): Conv2d(2048, 512, kernel_size=(1, 1), stride=(1, 1), bias=False)\n",
       "      (bn1): ABN(512, eps=1e-05, momentum=0.1, affine=True, activation=ACT.RELU)\n",
       "      (conv2): Conv2d(512, 512, kernel_size=(3, 3), stride=(1, 1), padding=(1, 1), bias=False)\n",
       "      (bn2): ABN(512, eps=1e-05, momentum=0.1, affine=True, activation=ACT.RELU)\n",
       "      (conv3): Conv2d(512, 2048, kernel_size=(1, 1), stride=(1, 1), bias=False)\n",
       "      (bn3): ABN(2048, eps=1e-05, momentum=0.1, affine=True, activation=ACT.IDENTITY)\n",
       "      (se_module): SEVar3(\n",
       "        (pool): FastGlobalAvgPool2d()\n",
       "        (fc1): Conv2d(2048, 2048, kernel_size=(1, 1), stride=(1, 1))\n",
       "      )\n",
       "      (final_act): ReLU(inplace=True)\n",
       "      (blurpool): Identity()\n",
       "      (drop_connect): Identity()\n",
       "    )\n",
       "  )\n",
       "  (global_pool): FastGlobalAvgPool2d()\n",
       "  (dropout): Dropout(p=0.0, inplace=True)\n",
       "  (last_linear): Linear(in_features=2048, out_features=1000, bias=True)\n",
       ")"
      ]
     },
     "execution_count": 10,
     "metadata": {},
     "output_type": "execute_result"
    }
   ],
   "source": [
    "model_sevar3"
   ]
  },
  {
   "cell_type": "markdown",
   "metadata": {
    "heading_collapsed": true
   },
   "source": [
    "# Rectangle Loader"
   ]
  },
  {
   "cell_type": "code",
   "execution_count": 5,
   "metadata": {
    "ExecuteTime": {
     "end_time": "2020-11-02T16:17:39.363107Z",
     "start_time": "2020-11-02T16:17:31.595618Z"
    },
    "hidden": true
   },
   "outputs": [],
   "source": [
    "\"\"\"Eval model on ImageNet validation dataset\"\"\"\n",
    "size=224\n",
    "BS = 25 if size >= 384 else 125\n",
    "val_loader = ValRectLoader(bs=BS, sz=size)\n",
    "val_loader_i = iter(val_loader)\n",
    "model = model.eval().cuda()"
   ]
  },
  {
   "cell_type": "code",
   "execution_count": 6,
   "metadata": {
    "ExecuteTime": {
     "end_time": "2020-11-02T16:17:39.828822Z",
     "start_time": "2020-11-02T16:17:39.366934Z"
    },
    "hidden": true
   },
   "outputs": [],
   "source": [
    "imgs, target = next(val_loader_i)\n",
    "pred = model(imgs)# .cpu().detach()"
   ]
  },
  {
   "cell_type": "code",
   "execution_count": 29,
   "metadata": {
    "ExecuteTime": {
     "end_time": "2020-11-02T16:41:33.641924Z",
     "start_time": "2020-11-02T16:41:33.638572Z"
    },
    "hidden": true
   },
   "outputs": [],
   "source": [
    "pred /= pred.norm(dim=-1, keepdim=True)"
   ]
  },
  {
   "cell_type": "code",
   "execution_count": 18,
   "metadata": {
    "ExecuteTime": {
     "end_time": "2020-11-02T16:31:36.744752Z",
     "start_time": "2020-11-02T16:31:36.715462Z"
    },
    "hidden": true
   },
   "outputs": [
    {
     "data": {
      "text/plain": [
       "tensor(0.7520, device='cuda:0')"
      ]
     },
     "execution_count": 18,
     "metadata": {},
     "output_type": "execute_result"
    }
   ],
   "source": [
    "pred.argmax(-1).eq(target).float().mean()"
   ]
  },
  {
   "cell_type": "code",
   "execution_count": 20,
   "metadata": {
    "ExecuteTime": {
     "end_time": "2020-11-02T16:32:02.907092Z",
     "start_time": "2020-11-02T16:32:02.883473Z"
    },
    "hidden": true
   },
   "outputs": [
    {
     "data": {
      "text/plain": [
       "tensor(0.7520, device='cuda:0')"
      ]
     },
     "execution_count": 20,
     "metadata": {},
     "output_type": "execute_result"
    }
   ],
   "source": [
    "(pred / pred.norm(dim=-1, keepdim=True)).argmax(-1).eq(target).float().mean()"
   ]
  },
  {
   "cell_type": "code",
   "execution_count": 79,
   "metadata": {
    "ExecuteTime": {
     "end_time": "2020-11-02T18:10:19.979535Z",
     "start_time": "2020-11-02T18:10:19.974430Z"
    },
    "hidden": true
   },
   "outputs": [
    {
     "data": {
      "text/plain": [
       "tensor([0.1671, 0.1279, 0.4867, 0.2183])"
      ]
     },
     "execution_count": 79,
     "metadata": {},
     "output_type": "execute_result"
    }
   ],
   "source": [
    "torch.nn.functional.normalize(torch.tensor([-1, -2, 3.0, 0.]), dim=0).softmax(-1)"
   ]
  },
  {
   "cell_type": "code",
   "execution_count": 75,
   "metadata": {
    "ExecuteTime": {
     "end_time": "2020-11-02T17:47:23.507117Z",
     "start_time": "2020-11-02T17:47:23.502181Z"
    },
    "hidden": true
   },
   "outputs": [
    {
     "data": {
      "text/plain": [
       "tensor([0.1671, 0.1279, 0.4867, 0.2183])"
      ]
     },
     "execution_count": 75,
     "metadata": {},
     "output_type": "execute_result"
    }
   ],
   "source": [
    "tt = torch.tensor([-1, -2, 3.0, 0.])\n",
    "tt /= tt.norm(2)\n",
    "tt.softmax(-1)"
   ]
  },
  {
   "cell_type": "code",
   "execution_count": 32,
   "metadata": {
    "ExecuteTime": {
     "end_time": "2020-11-02T17:35:49.343856Z",
     "start_time": "2020-11-02T17:35:49.335750Z"
    },
    "hidden": true
   },
   "outputs": [],
   "source": [
    "ctmx_0 = pt.fit_wrapper.callbacks.Cutmix(0, 1000, prob=0)\n",
    "ctmx = pt.fit_wrapper.callbacks.Cutmix(2, 1000, prob=1)\n",
    "_, target_y = ctmx_0.cutmix(imgs, target) # turn to one-hot"
   ]
  },
  {
   "cell_type": "code",
   "execution_count": 36,
   "metadata": {
    "ExecuteTime": {
     "end_time": "2020-11-02T17:36:16.938628Z",
     "start_time": "2020-11-02T17:36:16.925756Z"
    },
    "hidden": true
   },
   "outputs": [],
   "source": [
    "target_y = target_y.clamp_min(1e-3)"
   ]
  },
  {
   "cell_type": "markdown",
   "metadata": {
    "heading_collapsed": true
   },
   "source": [
    "# FixMatch Loader"
   ]
  },
  {
   "cell_type": "code",
   "execution_count": 2,
   "metadata": {
    "ExecuteTime": {
     "end_time": "2020-10-30T12:42:11.130151Z",
     "start_time": "2020-10-30T12:41:56.540086Z"
    },
    "hidden": true
   },
   "outputs": [],
   "source": [
    "size=224\n",
    "BS = 25 if size >= 384 else 125\n",
    "fixm_loader = DaliLoader(\n",
    "    train=True,\n",
    "    fixmatch=True,\n",
    "    blur=True,\n",
    "#     crop_method=\"full\",\n",
    "#     jitter=True,\n",
    "#     resize_method=\"triang\",\n",
    "    random_interpolation=True\n",
    ")\n",
    "fixm_loader_i = iter(fixm_loader)"
   ]
  },
  {
   "cell_type": "code",
   "execution_count": 3,
   "metadata": {
    "ExecuteTime": {
     "end_time": "2020-10-30T12:42:11.217393Z",
     "start_time": "2020-10-30T12:42:11.148454Z"
    },
    "hidden": true
   },
   "outputs": [],
   "source": [
    "raw_images, labels = next(fixm_loader_i)\n",
    "ctmx_0 = pt.fit_wrapper.callbacks.Cutmix(0, 1000, prob=0)\n",
    "_, target_y = ctmx_0.cutmix(raw_images, labels) # turn to one-hot\n",
    "# pred = model(raw_images).cpu()\n",
    "images = (raw_images * 0.2 + 0.5).mul(255).clamp(0, 255).cpu().to(torch.uint8).transpose(1, 3).transpose(1, 2)"
   ]
  },
  {
   "cell_type": "code",
   "execution_count": 4,
   "metadata": {
    "ExecuteTime": {
     "end_time": "2020-10-30T12:42:11.659558Z",
     "start_time": "2020-10-30T12:42:11.219031Z"
    },
    "hidden": true
   },
   "outputs": [
    {
     "data": {
      "application/vnd.jupyter.widget-view+json": {
       "model_id": "baad09d1dd5644e8bfc1a8165f1de4b2",
       "version_major": 2,
       "version_minor": 0
      },
      "text/plain": [
       "interactive(children=(IntSlider(value=10, description='N', max=31), Output()), _dom_classes=('widget-interact'…"
      ]
     },
     "metadata": {},
     "output_type": "display_data"
    }
   ],
   "source": [
    "@interact(N=(0, 31))\n",
    "def show(N=10):\n",
    "    fig, axes = plt.subplots(1, 2, figsize=(16, 8))\n",
    "    axes[0].imshow(images[N])\n",
    "    axes[1].imshow(images[N+32]) "
   ]
  },
  {
   "cell_type": "code",
   "execution_count": 259,
   "metadata": {
    "ExecuteTime": {
     "end_time": "2020-10-26T17:43:06.347997Z",
     "start_time": "2020-10-26T17:43:06.326088Z"
    },
    "hidden": true
   },
   "outputs": [],
   "source": [
    "correct = pred.argmax(-1)[32:].eq(labels.cpu())"
   ]
  },
  {
   "cell_type": "code",
   "execution_count": 260,
   "metadata": {
    "ExecuteTime": {
     "end_time": "2020-10-26T17:43:07.248215Z",
     "start_time": "2020-10-26T17:43:07.211075Z"
    },
    "hidden": true
   },
   "outputs": [
    {
     "data": {
      "text/plain": [
       "tensor([[84.,  0.,  0., 84.,  0.,  0.],\n",
       "        [75.,  5.,  1., 91.,  1.,  0.],\n",
       "        [98.,  0.,  0., 94.,  0.,  0.],\n",
       "        [65., 15.,  5., 98.,  0.,  0.],\n",
       "        [96.,  1.,  1., 94.,  0.,  0.],\n",
       "        [39., 32., 10., 74., 15.,  1.],\n",
       "        [95.,  0.,  0., 95.,  0.,  0.],\n",
       "        [95.,  0.,  0., 93.,  0.,  0.],\n",
       "        [73.,  3.,  1., 69.,  3.,  2.],\n",
       "        [55., 17., 16., 83.,  1.,  1.],\n",
       "        [90.,  1.,  0., 91.,  2.,  0.],\n",
       "        [88.,  1.,  1., 90.,  0.,  0.],\n",
       "        [45., 38.,  0., 43., 33.,  0.],\n",
       "        [90.,  0.,  0., 89.,  0.,  0.],\n",
       "        [79.,  1.,  1., 83.,  1.,  1.],\n",
       "        [54., 15.,  7., 92.,  0.,  0.],\n",
       "        [66., 13.,  2., 66., 12.,  2.],\n",
       "        [93.,  0.,  0., 90.,  0.,  0.],\n",
       "        [84.,  1.,  1., 86.,  1.,  1.],\n",
       "        [81.,  0.,  0., 83.,  0.,  0.],\n",
       "        [83.,  3.,  1., 87.,  3.,  1.],\n",
       "        [66., 13.,  3., 75.,  8.,  1.],\n",
       "        [48.,  4.,  4., 86.,  0.,  0.],\n",
       "        [47., 12., 10., 93.,  1.,  0.],\n",
       "        [ 7.,  5.,  3., 56., 26.,  1.],\n",
       "        [71.,  8.,  6., 88.,  5.,  0.],\n",
       "        [95.,  3.,  0., 81.,  2.,  0.],\n",
       "        [84.,  1.,  1., 88.,  0.,  0.],\n",
       "        [72., 11.,  0., 75., 16.,  0.],\n",
       "        [99.,  0.,  0., 98.,  0.,  0.],\n",
       "        [89.,  0.,  0., 85.,  0.,  0.],\n",
       "        [91.,  0.,  0., 92.,  0.,  0.]])"
      ]
     },
     "execution_count": 260,
     "metadata": {},
     "output_type": "execute_result"
    }
   ],
   "source": [
    "top_pred = pred.sort(dim=1, descending=True)[0].softmax(-1)[:, :3].mul(100).round()\n",
    "torch.cat([top_pred[:32], top_pred[32:]], dim=-1)"
   ]
  },
  {
   "cell_type": "code",
   "execution_count": 262,
   "metadata": {
    "ExecuteTime": {
     "end_time": "2020-10-26T17:43:10.043657Z",
     "start_time": "2020-10-26T17:43:10.038183Z"
    },
    "hidden": true
   },
   "outputs": [
    {
     "data": {
      "text/plain": [
       "tensor([[84.,  0.,  0.],\n",
       "        [75.,  5.,  1.],\n",
       "        [98.,  0.,  0.],\n",
       "        [65., 15.,  5.],\n",
       "        [96.,  1.,  1.],\n",
       "        [95.,  0.,  0.],\n",
       "        [95.,  0.,  0.],\n",
       "        [73.,  3.,  1.],\n",
       "        [55., 17., 16.],\n",
       "        [90.,  1.,  0.],\n",
       "        [88.,  1.,  1.],\n",
       "        [45., 38.,  0.],\n",
       "        [90.,  0.,  0.],\n",
       "        [79.,  1.,  1.],\n",
       "        [54., 15.,  7.],\n",
       "        [66., 13.,  2.],\n",
       "        [93.,  0.,  0.],\n",
       "        [84.,  1.,  1.],\n",
       "        [81.,  0.,  0.],\n",
       "        [83.,  3.,  1.],\n",
       "        [66., 13.,  3.],\n",
       "        [48.,  4.,  4.],\n",
       "        [47., 12., 10.],\n",
       "        [ 7.,  5.,  3.],\n",
       "        [71.,  8.,  6.],\n",
       "        [95.,  3.,  0.],\n",
       "        [84.,  1.,  1.],\n",
       "        [72., 11.,  0.],\n",
       "        [99.,  0.,  0.],\n",
       "        [89.,  0.,  0.],\n",
       "        [91.,  0.,  0.]])"
      ]
     },
     "execution_count": 262,
     "metadata": {},
     "output_type": "execute_result"
    }
   ],
   "source": [
    "top_pred[:32][correct]"
   ]
  },
  {
   "cell_type": "code",
   "execution_count": 220,
   "metadata": {
    "ExecuteTime": {
     "end_time": "2020-10-26T17:21:23.797617Z",
     "start_time": "2020-10-26T17:21:23.743761Z"
    },
    "hidden": true
   },
   "outputs": [
    {
     "data": {
      "text/plain": [
       "tensor(79)"
      ]
     },
     "execution_count": 220,
     "metadata": {},
     "output_type": "execute_result"
    }
   ],
   "source": [
    "(pred.softmax(-1) > 0.1).sum()"
   ]
  },
  {
   "cell_type": "raw",
   "metadata": {
    "ExecuteTime": {
     "end_time": "2020-10-26T14:32:29.298195Z",
     "start_time": "2020-10-26T14:32:29.294887Z"
    },
    "hidden": true
   },
   "source": [
    "from src.utils import FixMatchLoss"
   ]
  },
  {
   "cell_type": "code",
   "execution_count": 168,
   "metadata": {
    "ExecuteTime": {
     "end_time": "2020-10-26T15:31:11.406083Z",
     "start_time": "2020-10-26T15:31:11.399188Z"
    },
    "hidden": true
   },
   "outputs": [],
   "source": [
    "nn = torch.nn\n",
    "class FixMatchLoss(nn.Module):\n",
    "    def __init__(self, hard_weight=0.01, hard_pct=0.01):\n",
    "        super().__init__()\n",
    "        self.criterion = pt.losses.BinaryKLDivLoss(reduction=\"none\").cuda()\n",
    "        self.hard_criterion = pt.losses.CrossEntropyLoss(mode=\"binary\", reduction=\"none\").cuda()\n",
    "        self.hard_weight = hard_weight\n",
    "        self.hard_pct = hard_pct\n",
    "\n",
    "    def forward(self, y_pred, y_true):\n",
    "        half_bs = y_pred.size(0) // 2\n",
    "        if y_true.dim() == 1:\n",
    "            y_true_one_hot = torch.zeros_like(y_pred)\n",
    "            y_true_one_hot.scatter_(1, y_true.unsqueeze(1), 1.0)\n",
    "        raw_soft_loss = self.criterion(y_pred[:half_bs], y_pred[half_bs:].detach().sigmoid())\n",
    "        raw_hard_loss = self.hard_criterion(y_pred[:half_bs], y_true_one_hot[half_bs:])\n",
    "        topk_n = int(self.hard_pct * y_pred.size(1))\n",
    "        # take TOPK to avoid pushing close to 0 predictions even further\n",
    "        soft_loss = raw_soft_loss.topk(topk_n, sorted=False)[0].mean()\n",
    "        hard_loss = raw_hard_loss.topk(topk_n, sorted=False)[0].mean()\n",
    "        print(f\"Hard: {hard_loss.item()}. Soft: {soft_loss.item()}\\n\")\n",
    "        return soft_loss + self.hard_weight * hard_loss\n"
   ]
  },
  {
   "cell_type": "code",
   "execution_count": 169,
   "metadata": {
    "ExecuteTime": {
     "end_time": "2020-10-26T15:31:11.831670Z",
     "start_time": "2020-10-26T15:31:11.826779Z"
    },
    "hidden": true
   },
   "outputs": [],
   "source": [
    "ll = pt.losses.BinaryKLDivLoss(reduction=\"none\").cuda()\n",
    "l = ll(pred[:32], pred[32:])"
   ]
  },
  {
   "cell_type": "code",
   "execution_count": 170,
   "metadata": {
    "ExecuteTime": {
     "end_time": "2020-10-26T15:31:12.370862Z",
     "start_time": "2020-10-26T15:31:12.365549Z"
    },
    "hidden": true
   },
   "outputs": [
    {
     "data": {
      "text/plain": [
       "(tensor([-22.0528,   7.6007,   1.4845]),\n",
       " tensor([-23.5247,   8.5394,   3.6182]))"
      ]
     },
     "execution_count": 170,
     "metadata": {},
     "output_type": "execute_result"
    }
   ],
   "source": [
    "pred[0, :3], pred[32, :3]"
   ]
  },
  {
   "cell_type": "code",
   "execution_count": 178,
   "metadata": {
    "ExecuteTime": {
     "end_time": "2020-10-26T15:38:53.879893Z",
     "start_time": "2020-10-26T15:38:53.862189Z"
    },
    "hidden": true
   },
   "outputs": [
    {
     "data": {
      "text/plain": [
       "tensor(486.5403)"
      ]
     },
     "execution_count": 178,
     "metadata": {},
     "output_type": "execute_result"
    }
   ],
   "source": [
    "ll(pred[:32], pred[32:].sigmoid()).topk(20, dim=1)[0].sum()"
   ]
  },
  {
   "cell_type": "code",
   "execution_count": 179,
   "metadata": {
    "ExecuteTime": {
     "end_time": "2020-10-26T15:38:54.049289Z",
     "start_time": "2020-10-26T15:38:54.035844Z"
    },
    "hidden": true
   },
   "outputs": [
    {
     "data": {
      "text/plain": [
       "tensor(34483)"
      ]
     },
     "execution_count": 179,
     "metadata": {},
     "output_type": "execute_result"
    }
   ],
   "source": [
    "(pred.sigmoid() > 0.01).sum()"
   ]
  },
  {
   "cell_type": "code",
   "execution_count": 188,
   "metadata": {
    "ExecuteTime": {
     "end_time": "2020-10-26T15:39:23.423560Z",
     "start_time": "2020-10-26T15:39:23.414661Z"
    },
    "hidden": true
   },
   "outputs": [
    {
     "name": "stdout",
     "output_type": "stream",
     "text": [
      "Hard: 94.30317687988281. Soft: 1.0787804126739502\n",
      "\n"
     ]
    },
    {
     "data": {
      "text/plain": [
       "tensor(2.0218, device='cuda:0')"
      ]
     },
     "execution_count": 188,
     "metadata": {},
     "output_type": "execute_result"
    }
   ],
   "source": [
    "FixMatchLoss()(pred.cuda(), labels)"
   ]
  },
  {
   "cell_type": "code",
   "execution_count": null,
   "metadata": {
    "hidden": true
   },
   "outputs": [],
   "source": []
  }
 ],
 "metadata": {
  "kernelspec": {
   "display_name": "Python 3",
   "language": "python",
   "name": "python3"
  },
  "language_info": {
   "codemirror_mode": {
    "name": "ipython",
    "version": 3
   },
   "file_extension": ".py",
   "mimetype": "text/x-python",
   "name": "python",
   "nbconvert_exporter": "python",
   "pygments_lexer": "ipython3",
   "version": "3.6.9"
  },
  "varInspector": {
   "cols": {
    "lenName": 16,
    "lenType": 16,
    "lenVar": 40
   },
   "kernels_config": {
    "python": {
     "delete_cmd_postfix": "",
     "delete_cmd_prefix": "del ",
     "library": "var_list.py",
     "varRefreshCmd": "print(var_dic_list())"
    },
    "r": {
     "delete_cmd_postfix": ") ",
     "delete_cmd_prefix": "rm(",
     "library": "var_list.r",
     "varRefreshCmd": "cat(var_dic_list()) "
    }
   },
   "types_to_exclude": [
    "module",
    "function",
    "builtin_function_or_method",
    "instance",
    "_Feature"
   ],
   "window_display": false
  }
 },
 "nbformat": 4,
 "nbformat_minor": 2
}
