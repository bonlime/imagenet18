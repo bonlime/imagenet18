{
 "cells": [
  {
   "cell_type": "code",
   "execution_count": 188,
   "metadata": {
    "ExecuteTime": {
     "end_time": "2020-11-23T07:27:24.593343Z",
     "start_time": "2020-11-23T07:27:24.588701Z"
    }
   },
   "outputs": [
    {
     "data": {
      "text/html": [
       "<style>.container {width:100% !important;}</style>"
      ],
      "text/plain": [
       "<IPython.core.display.HTML object>"
      ]
     },
     "metadata": {},
     "output_type": "display_data"
    }
   ],
   "source": [
    "from IPython.core.display import display, HTML\n",
    "display(HTML(\"<style>.container {width:100% !important;}</style>\"))\n",
    "\n",
    "import os\n",
    "os.environ[\"CUDA_DEVICE_ORDER\"]=\"PCI_BUS_ID\"   # see issue #152\n",
    "os.environ[\"CUDA_VISIBLE_DEVICES\"]=\"1\""
   ]
  },
  {
   "cell_type": "code",
   "execution_count": 189,
   "metadata": {
    "ExecuteTime": {
     "end_time": "2020-11-23T07:27:25.403887Z",
     "start_time": "2020-11-23T07:27:25.391783Z"
    }
   },
   "outputs": [],
   "source": [
    "%config Completer.use_jedi=False\n",
    "import yaml\n",
    "import torch\n",
    "import numpy as np\n",
    "from pathlib import Path\n",
    "import torchvision as tv\n",
    "from ipywidgets import interact\n",
    "import matplotlib.pyplot as plt\n",
    "import torch.nn.functional as F\n",
    "\n",
    "import pytorch_tools as pt\n",
    "from pytorch_tools.utils.misc import count_parameters\n",
    "\n",
    "from src.dali_dataloader import DaliLoader, ValRectExternalInputIterator, ValRectPipe, ValRectLoader\n",
    "from src.angular_losses import SphereLinearLayer"
   ]
  },
  {
   "cell_type": "markdown",
   "metadata": {},
   "source": [
    "# Evaluate"
   ]
  },
  {
   "cell_type": "code",
   "execution_count": 190,
   "metadata": {
    "ExecuteTime": {
     "end_time": "2020-11-23T07:27:26.728289Z",
     "start_time": "2020-11-23T07:27:26.717448Z"
    }
   },
   "outputs": [],
   "source": [
    "INP = torch.ones(2, 3, 224, 224).cuda()\n",
    "PRED = torch.ones(2, 1000).cuda()\n",
    "LOSS = pt.losses.CrossEntropyLoss().cuda()\n",
    "METRIC = [pt.metrics.Accuracy(), pt.metrics.Accuracy(5)]\n",
    "class Foo: # used to stack and then inspect all predictions\n",
    "    def __init__(self):\n",
    "        self.name = \"Foo\"\n",
    "    def __call__(self, *args, **kwargs):\n",
    "        return torch.tensor(0)\n",
    "    \n",
    "@torch.no_grad()\n",
    "def evaluate_model(model, size=224, rect=False, **kwargs):\n",
    "    \"\"\"Eval model on ImageNet validation dataset\"\"\"\n",
    "    BS = 25 if size >= 384 else 125\n",
    "    if rect:\n",
    "        val_loader = ValRectLoader(bs=BS, workers=12, **kwargs)\n",
    "    else:\n",
    "        val_loader = DaliLoader(False, bs=BS, sz=size, workers=12, **kwargs)\n",
    "    model = model.eval().cuda()\n",
    "    runner = pt.fit_wrapper.Runner(\n",
    "        model,\n",
    "        None,\n",
    "        LOSS,\n",
    "        callbacks=[\n",
    "            pt.fit_wrapper.callbacks.BatchMetrics(METRIC),\n",
    "            pt.fit_wrapper.callbacks.LoaderMetrics(Foo()),\n",
    "        ],\n",
    "        use_fp16=True,\n",
    "    )\n",
    "    runner.callbacks.on_begin()\n",
    "    _, (acc1, acc5, foo) = runner.evaluate(val_loader)\n",
    "    print(f\"Acc@1: {acc1:.2f}. Acc@5: {acc5:.2f}\")\n",
    "    return acc1, acc5, runner"
   ]
  },
  {
   "cell_type": "code",
   "execution_count": 17,
   "metadata": {
    "ExecuteTime": {
     "end_time": "2020-11-20T13:04:30.382310Z",
     "start_time": "2020-11-20T13:04:29.707201Z"
    }
   },
   "outputs": [
    {
     "data": {
      "text/plain": [
       "torch.Size([1000, 128])"
      ]
     },
     "execution_count": 17,
     "metadata": {},
     "output_type": "execute_result"
    }
   ],
   "source": [
    "# PATH = \"logs/exp48.GENet_no_dim_red_ctmx_20201031_180205/\"\n",
    "# PATH = \"logs/exp90.BNet_asoft_ctmx_20201109_095536/\"\n",
    "# PATH = \"logs/exp90.BNet_asoft_ctmx_64_20201110_210928/\"\n",
    "PATH = \"logs/exp90.BNet_asoft_ctmx_128_20201110_082241/\"\n",
    "# PATH = \"logs/exp92.BNet_arcsoft_20201109_194344/\"\n",
    "# PATH = \"logs/exp92.BNet_arcsoft_64_20201110_211920/\"\n",
    "\n",
    "\n",
    "# PATH = \"/home/zakirov/exp55.GENet_no_dim_red_ctmx_ws_20201006_182419/\"\n",
    "# PATH = \"/home/zakirov/repoz/sota_imagenet/logs/exp56.GENet_no_dim_red_ctmx_ws_adam_20201007_072753/\"\n",
    "PATH = Path(PATH)\n",
    "model_config = yaml.load(open(PATH / \"config.yaml\"))\n",
    "model_config[\"model_params\"].pop(\"mobilenetv3_head\", None)\n",
    "model_config[\"model_params\"][\"head_type\"] = \"default\"\n",
    "model = pt.models.BNet(**model_config[\"model_params\"])\n",
    "model = model.eval().requires_grad_(False).cuda()\n",
    "# model = pt.modules.conv_to_ws_conv(model)\n",
    "model.last_linear.weight.shape"
   ]
  },
  {
   "cell_type": "code",
   "execution_count": 18,
   "metadata": {
    "ExecuteTime": {
     "end_time": "2020-11-20T13:04:30.708532Z",
     "start_time": "2020-11-20T13:04:30.383894Z"
    }
   },
   "outputs": [
    {
     "data": {
      "text/plain": [
       "_IncompatibleKeys(missing_keys=['last_linear.bias'], unexpected_keys=[])"
      ]
     },
     "execution_count": 18,
     "metadata": {},
     "output_type": "execute_result"
    }
   ],
   "source": [
    "sd = torch.load(PATH / \"model.chpn\")[\"state_dict\"]\n",
    "model.load_state_dict(sd, strict=False)"
   ]
  },
  {
   "cell_type": "code",
   "execution_count": 19,
   "metadata": {
    "ExecuteTime": {
     "end_time": "2020-11-20T13:04:30.728484Z",
     "start_time": "2020-11-20T13:04:30.709859Z"
    }
   },
   "outputs": [],
   "source": [
    "sphere_linear = SphereLinearLayer(model.last_linear.weight.size(1), model.last_linear.weight.size(0)).requires_grad_(False)\n",
    "sphere_linear.load_state_dict(model.last_linear.state_dict(), strict=False)\n",
    "model.last_linear = sphere_linear"
   ]
  },
  {
   "cell_type": "raw",
   "metadata": {
    "ExecuteTime": {
     "end_time": "2020-11-19T16:03:18.428760Z",
     "start_time": "2020-11-19T16:03:18.416044Z"
    }
   },
   "source": [
    "def lunif(x, t=2):\n",
    "    sq_pdist = torch.pdist(x, p=2).pow(2)\n",
    "    return sq_pdist.mul(-t).exp().mean().log()\n",
    "- lunif(F.normalize(model.last_linear.weight))\n",
    "# lunif(torch.randn(1000, 128))"
   ]
  },
  {
   "cell_type": "raw",
   "metadata": {
    "ExecuteTime": {
     "end_time": "2020-10-26T17:19:13.498688Z",
     "start_time": "2020-10-26T17:19:13.494539Z"
    }
   },
   "source": [
    "# fix for old models\n",
    "model.last_linear.load_state_dict({\"weight\": sd[\"head.4.weight\"], \"bias\": sd[\"head.4.bias\"]})"
   ]
  },
  {
   "cell_type": "raw",
   "metadata": {
    "ExecuteTime": {
     "end_time": "2020-10-15T08:00:32.925263Z",
     "start_time": "2020-10-15T08:00:32.906433Z"
    }
   },
   "source": [
    "nov_norms = sorted([p.norm() for p in model.parameters()])"
   ]
  },
  {
   "cell_type": "raw",
   "metadata": {
    "ExecuteTime": {
     "end_time": "2020-10-15T08:00:34.306120Z",
     "start_time": "2020-10-15T08:00:34.088614Z"
    }
   },
   "source": [
    "plt.figure(figsize=(10, 10));\n",
    "# plt.plot(sgdp_norms[:110])\n",
    "# plt.plot(adamp_norms[:110])\n",
    "plt.plot(nov_norms[:110])\n",
    "plt.legend([\"SGDP\", \"AdamP\", \"Novograd\"]);\n",
    "plt.title(\"Sorted weights norm for model parameters\");"
   ]
  },
  {
   "cell_type": "raw",
   "metadata": {
    "ExecuteTime": {
     "end_time": "2020-11-04T13:23:15.672643Z",
     "start_time": "2020-11-04T13:23:15.667974Z"
    }
   },
   "source": [
    "@torch.no_grad()\n",
    "def make_ws(module):\n",
    "    module_output = module\n",
    "    # no WS for convs with groups != 1 as suggested in\n",
    "    # Understanding the Disharmony between Weight Normalization ... (https://arxiv.org/abs/1911.05920)\n",
    "    if isinstance(module, torch.nn.Conv2d) and module.groups == 1:\n",
    "        var, mean = torch.var_mean(module.weight, dim=[1, 2, 3], keepdim=True, unbiased=False)\n",
    "        module_output.weight.copy_((module.weight - mean) / torch.sqrt(var + 1e-5))\n",
    "        \n",
    "\n",
    "    for name, child in module.named_children():\n",
    "        module_output.add_module(name, make_ws(child))\n",
    "    del module\n",
    "    return module_output \n",
    "if model_config[\"weight_standardization\"]:\n",
    "    model = make_ws(model)"
   ]
  },
  {
   "cell_type": "code",
   "execution_count": 20,
   "metadata": {
    "ExecuteTime": {
     "end_time": "2020-11-20T13:04:31.833449Z",
     "start_time": "2020-11-20T13:04:31.831142Z"
    }
   },
   "outputs": [],
   "source": [
    "# R-50 GN + WS Acc@1: 76.33. Acc@5: 93.34 \n",
    "# X-50-GN-WS Acc@1: 77.28. Acc@5: 93.61\n",
    "# R-101 GN + WS Acc@1: 77.85. Acc@5: 93.90\n",
    "# X-101-GN-WS Acc@1: 78.19. Acc@5: 93.98"
   ]
  },
  {
   "cell_type": "code",
   "execution_count": 21,
   "metadata": {
    "ExecuteTime": {
     "end_time": "2020-11-20T13:04:34.989665Z",
     "start_time": "2020-11-20T13:04:32.389060Z"
    }
   },
   "outputs": [
    {
     "name": "stdout",
     "output_type": "stream",
     "text": [
      "77.04\n"
     ]
    }
   ],
   "source": [
    "if (Path(\"val_features\") / f\"{PATH.name}_pred\").exists():\n",
    "    all_output = torch.load(f\"val_features/{Path(PATH).name}_pred\")\n",
    "    all_target = torch.load(f\"val_features/{Path(PATH).name}_true\")\n",
    "else:\n",
    "    # calculate features and save them\n",
    "    _, _, runn = evaluate_model(model, rect=True, resize_method=\"triang\")\n",
    "    all_target = torch.cat(runn.callbacks.callbacks[1].target).float()\n",
    "    all_output = torch.cat(runn.callbacks.callbacks[1].output, dim=0).float()\n",
    "    torch.save(all_output, f\"val_features/{Path(PATH).name}_pred\")\n",
    "    torch.save(all_target, f\"val_features/{Path(PATH).name}_true\")\n",
    "\n",
    "correct = all_output.argmax(dim=1).eq(all_target)\n",
    "print(f\"{correct.float().mean() * 100:.2f}\")\n",
    "\n",
    "# get embeddings by inverse of last weight matrix\n",
    "class_inverse = torch.pinverse(F.normalize(model.last_linear.weight))\n",
    "all_embeddings = all_output @ class_inverse.T"
   ]
  },
  {
   "cell_type": "code",
   "execution_count": 46,
   "metadata": {
    "ExecuteTime": {
     "end_time": "2020-11-19T20:36:08.568382Z",
     "start_time": "2020-11-19T20:36:08.565562Z"
    }
   },
   "outputs": [],
   "source": [
    "batch_cos = all_output[:1000]\n",
    "batch_true = all_target[:1000]"
   ]
  },
  {
   "cell_type": "code",
   "execution_count": 220,
   "metadata": {
    "ExecuteTime": {
     "end_time": "2020-11-19T15:02:50.710122Z",
     "start_time": "2020-11-19T15:02:50.705904Z"
    }
   },
   "outputs": [],
   "source": [
    "class_vectors = F.normalize(model.last_linear.weight)"
   ]
  },
  {
   "cell_type": "code",
   "execution_count": 221,
   "metadata": {
    "ExecuteTime": {
     "end_time": "2020-11-19T15:02:52.069763Z",
     "start_time": "2020-11-19T15:02:52.012306Z"
    }
   },
   "outputs": [],
   "source": [
    "class_cos = (class_vectors @ class_vectors.T)\n",
    "class_cos_flat = torch.triu(class_cos, diagonal=1).flatten()\n",
    "class_cos_flat = class_cos_flat[class_cos_flat != 0].sort()[0].cpu()"
   ]
  },
  {
   "cell_type": "code",
   "execution_count": 222,
   "metadata": {
    "ExecuteTime": {
     "end_time": "2020-11-19T15:02:52.236485Z",
     "start_time": "2020-11-19T15:02:52.229380Z"
    }
   },
   "outputs": [
    {
     "data": {
      "text/plain": [
       "(tensor([0.9854, 0.9651, 0.9638, 0.9598, 0.9561, 0.9534, 0.9513, 0.9490, 0.9435,\n",
       "         0.9418, 0.9379, 0.9312, 0.9229, 0.9187]),\n",
       " tensor([657, 435, 836, 248,  66, 461, 638, 265, 482,  40, 620, 987, 810,  82]))"
      ]
     },
     "execution_count": 222,
     "metadata": {},
     "output_type": "execute_result"
    }
   ],
   "source": [
    "most_sim_val, mos_sim_index = torch.triu(class_cos, diagonal=1).max(-1)[0].topk(14)\n",
    "most_sim_val, mos_sim_index"
   ]
  },
  {
   "cell_type": "code",
   "execution_count": 365,
   "metadata": {
    "ExecuteTime": {
     "end_time": "2020-11-19T15:57:38.167371Z",
     "start_time": "2020-11-19T15:57:38.136301Z"
    }
   },
   "outputs": [
    {
     "data": {
      "text/plain": [
       "tensor(-13.9534)"
      ]
     },
     "execution_count": 365,
     "metadata": {},
     "output_type": "execute_result"
    }
   ],
   "source": [
    "def lunif(x, t=2):\n",
    "    sq_pdist = torch.pdist(x, p=2).pow(2)\n",
    "    return sq_pdist.mul(-t).exp().mean().log()\n",
    "lunif(F.normalize(model.last_linear.weight).T)\n",
    "# lunif(torch.randn(1000, 128))"
   ]
  },
  {
   "cell_type": "raw",
   "metadata": {
    "ExecuteTime": {
     "end_time": "2020-11-19T13:14:26.288580Z",
     "start_time": "2020-11-19T13:14:26.277028Z"
    }
   },
   "source": [
    "mos_sim_index, torch.triu(class_cos, diagonal=1).topk(1, dim=-1)[1][mos_sim_index].flatten()"
   ]
  },
  {
   "cell_type": "raw",
   "metadata": {
    "ExecuteTime": {
     "end_time": "2020-11-19T13:23:17.154549Z",
     "start_time": "2020-11-19T13:23:16.948657Z"
    }
   },
   "source": [
    "plt.plot(class_cos_flat);"
   ]
  },
  {
   "cell_type": "code",
   "execution_count": 192,
   "metadata": {
    "ExecuteTime": {
     "end_time": "2020-11-19T13:54:01.381210Z",
     "start_time": "2020-11-19T13:54:00.868681Z"
    }
   },
   "outputs": [
    {
     "data": {
      "image/png": "[encoded data removed]",
      "text/plain": [
       "<Figure size 432x288 with 1 Axes>"
      ]
     },
     "metadata": {
      "needs_background": "light"
     },
     "output_type": "display_data"
    },
    {
     "data": {
      "text/plain": [
       "0.36483899043500423"
      ]
     },
     "execution_count": 192,
     "metadata": {},
     "output_type": "execute_result"
    },
    {
     "data": {
      "image/png": "[encoded data removed]",
      "text/plain": [
       "<Figure size 432x288 with 1 Axes>"
      ]
     },
     "metadata": {
      "needs_background": "light"
     },
     "output_type": "display_data"
    }
   ],
   "source": [
    "# asoft 64\n",
    "all_cls_med = []\n",
    "for cls in range(1000):\n",
    "    cls_med = torch.acos(all_embeddings[all_target.eq(cls)] @ class_vectors[cls]).median()\n",
    "    all_cls_med.append(cls_med.item())\n",
    "plt.plot(sorted(all_cls_med));\n",
    "plt.show()\n",
    "plt.hist(all_cls_med, bins=20);\n",
    "np.mean(all_cls_med)"
   ]
  },
  {
   "cell_type": "code",
   "execution_count": 181,
   "metadata": {
    "ExecuteTime": {
     "end_time": "2020-11-19T13:53:42.701448Z",
     "start_time": "2020-11-19T13:53:42.133962Z"
    }
   },
   "outputs": [
    {
     "data": {
      "image/png": "[encoded data removed]",
      "text/plain": [
       "<Figure size 432x288 with 1 Axes>"
      ]
     },
     "metadata": {
      "needs_background": "light"
     },
     "output_type": "display_data"
    },
    {
     "data": {
      "text/plain": [
       "0.3897111783623695"
      ]
     },
     "execution_count": 181,
     "metadata": {},
     "output_type": "execute_result"
    },
    {
     "data": {
      "image/png": "[encoded data removed]",
      "text/plain": [
       "<Figure size 432x288 with 1 Axes>"
      ]
     },
     "metadata": {
      "needs_background": "light"
     },
     "output_type": "display_data"
    }
   ],
   "source": [
    "# asoft 128\n",
    "all_cls_med = []\n",
    "for cls in range(1000):\n",
    "    cls_med = torch.acos(all_embeddings[all_target.eq(cls)] @ class_vectors[cls]).median()\n",
    "    all_cls_med.append(cls_med.item())\n",
    "plt.plot(sorted(all_cls_med));\n",
    "plt.show()\n",
    "plt.hist(all_cls_med, bins=20);\n",
    "np.mean(all_cls_med)"
   ]
  },
  {
   "cell_type": "code",
   "execution_count": 170,
   "metadata": {
    "ExecuteTime": {
     "end_time": "2020-11-19T13:53:08.761623Z",
     "start_time": "2020-11-19T13:53:08.147266Z"
    }
   },
   "outputs": [
    {
     "data": {
      "image/png": "[encoded data removed]",
      "text/plain": [
       "<Figure size 432x288 with 1 Axes>"
      ]
     },
     "metadata": {
      "needs_background": "light"
     },
     "output_type": "display_data"
    },
    {
     "data": {
      "text/plain": [
       "0.4014035161435604"
      ]
     },
     "execution_count": 170,
     "metadata": {},
     "output_type": "execute_result"
    },
    {
     "data": {
      "image/png": "[encoded data removed]",
      "text/plain": [
       "<Figure size 432x288 with 1 Axes>"
      ]
     },
     "metadata": {
      "needs_background": "light"
     },
     "output_type": "display_data"
    }
   ],
   "source": [
    "# asoft 256\n",
    "all_cls_med = []\n",
    "for cls in range(1000):\n",
    "    cls_med = torch.acos(all_embeddings[all_target.eq(cls)] @ class_vectors[cls]).median()\n",
    "    all_cls_med.append(cls_med.item())\n",
    "plt.plot(sorted(all_cls_med));\n",
    "plt.show()\n",
    "plt.hist(all_cls_med, bins=20);\n",
    "np.mean(all_cls_med)"
   ]
  },
  {
   "cell_type": "code",
   "execution_count": 150,
   "metadata": {
    "ExecuteTime": {
     "end_time": "2020-11-19T13:51:56.435148Z",
     "start_time": "2020-11-19T13:51:55.954505Z"
    }
   },
   "outputs": [
    {
     "data": {
      "image/png": "[encoded data removed]",
      "text/plain": [
       "<Figure size 432x288 with 1 Axes>"
      ]
     },
     "metadata": {
      "needs_background": "light"
     },
     "output_type": "display_data"
    },
    {
     "data": {
      "text/plain": [
       "0.2297485058903694"
      ]
     },
     "execution_count": 150,
     "metadata": {},
     "output_type": "execute_result"
    },
    {
     "data": {
      "image/png": "[encoded data removed]",
      "text/plain": [
       "<Figure size 432x288 with 1 Axes>"
      ]
     },
     "metadata": {
      "needs_background": "light"
     },
     "output_type": "display_data"
    }
   ],
   "source": [
    "# arcsoft 64\n",
    "all_cls_med = []\n",
    "for cls in range(1000):\n",
    "    cls_med = torch.acos(all_embeddings[all_target.eq(cls)] @ class_vectors[cls]).median()\n",
    "    all_cls_med.append(cls_med.item())\n",
    "plt.plot(sorted(all_cls_med));\n",
    "plt.show()\n",
    "plt.hist(all_cls_med, bins=20);\n",
    "np.mean(all_cls_med)"
   ]
  },
  {
   "cell_type": "code",
   "execution_count": 160,
   "metadata": {
    "ExecuteTime": {
     "end_time": "2020-11-19T13:52:22.788861Z",
     "start_time": "2020-11-19T13:52:21.983732Z"
    }
   },
   "outputs": [
    {
     "data": {
      "image/png": "[encoded data removed]",
      "text/plain": [
       "<Figure size 432x288 with 1 Axes>"
      ]
     },
     "metadata": {
      "needs_background": "light"
     },
     "output_type": "display_data"
    },
    {
     "data": {
      "text/plain": [
       "0.24316023714840412"
      ]
     },
     "execution_count": 160,
     "metadata": {},
     "output_type": "execute_result"
    },
    {
     "data": {
      "image/png": "[encoded data removed]",
      "text/plain": [
       "<Figure size 432x288 with 1 Axes>"
      ]
     },
     "metadata": {
      "needs_background": "light"
     },
     "output_type": "display_data"
    }
   ],
   "source": [
    "# arcsoft 256\n",
    "all_cls_med = []\n",
    "for cls in range(1000):\n",
    "    cls_med = torch.acos(all_embeddings[all_target.eq(cls)] @ class_vectors[cls]).median()\n",
    "    all_cls_med.append(cls_med.item())\n",
    "plt.plot(sorted(all_cls_med));\n",
    "plt.show()\n",
    "plt.hist(all_cls_med, bins=20);\n",
    "np.mean(all_cls_med)"
   ]
  },
  {
   "cell_type": "code",
   "execution_count": 310,
   "metadata": {
    "ExecuteTime": {
     "end_time": "2020-11-19T15:25:13.581772Z",
     "start_time": "2020-11-19T15:25:13.577643Z"
    }
   },
   "outputs": [
    {
     "data": {
      "text/plain": [
       "tensor(0.9202)"
      ]
     },
     "execution_count": 310,
     "metadata": {},
     "output_type": "execute_result"
    }
   ],
   "source": [
    "all_output[8].mul(15).softmax(-1).max()"
   ]
  },
  {
   "cell_type": "code",
   "execution_count": 311,
   "metadata": {
    "ExecuteTime": {
     "end_time": "2020-11-19T15:25:20.318643Z",
     "start_time": "2020-11-19T15:25:20.314755Z"
    }
   },
   "outputs": [
    {
     "data": {
      "text/plain": [
       "tensor(1.)"
      ]
     },
     "execution_count": 311,
     "metadata": {},
     "output_type": "execute_result"
    }
   ],
   "source": [
    "oo.mul(15).softmax(-1).max()"
   ]
  },
  {
   "cell_type": "code",
   "execution_count": 317,
   "metadata": {
    "ExecuteTime": {
     "end_time": "2020-11-19T15:26:03.538843Z",
     "start_time": "2020-11-19T15:26:03.534394Z"
    }
   },
   "outputs": [
    {
     "data": {
      "text/plain": [
       "tensor(0.9945)"
      ]
     },
     "execution_count": 317,
     "metadata": {},
     "output_type": "execute_result"
    }
   ],
   "source": [
    "oo = torch.acos(all_output[8]).neg().mul(15)\n",
    "oo.softmax(-1).max()"
   ]
  },
  {
   "cell_type": "code",
   "execution_count": 282,
   "metadata": {
    "ExecuteTime": {
     "end_time": "2020-11-19T15:10:49.778323Z",
     "start_time": "2020-11-19T15:10:49.773234Z"
    }
   },
   "outputs": [
    {
     "data": {
      "text/plain": [
       "tensor(0.4266)"
      ]
     },
     "execution_count": 282,
     "metadata": {},
     "output_type": "execute_result"
    }
   ],
   "source": [
    "B = (oo - oo.max()).exp().sum() - 1\n",
    "B"
   ]
  },
  {
   "cell_type": "code",
   "execution_count": 283,
   "metadata": {
    "ExecuteTime": {
     "end_time": "2020-11-19T15:10:51.355275Z",
     "start_time": "2020-11-19T15:10:51.349972Z"
    }
   },
   "outputs": [
    {
     "data": {
      "text/plain": [
       "(tensor(-0.8520), tensor(0.8520))"
      ]
     },
     "execution_count": 283,
     "metadata": {},
     "output_type": "execute_result"
    }
   ],
   "source": [
    "B.log(), (1 / B).log()"
   ]
  },
  {
   "cell_type": "code",
   "execution_count": 297,
   "metadata": {
    "ExecuteTime": {
     "end_time": "2020-11-19T15:24:09.859220Z",
     "start_time": "2020-11-19T15:24:09.855466Z"
    }
   },
   "outputs": [
    {
     "data": {
      "text/plain": [
       "tensor(594)"
      ]
     },
     "execution_count": 297,
     "metadata": {},
     "output_type": "execute_result"
    }
   ],
   "source": [
    "all_target[N].long()"
   ]
  },
  {
   "cell_type": "code",
   "execution_count": null,
   "metadata": {},
   "outputs": [],
   "source": []
  },
  {
   "cell_type": "code",
   "execution_count": 338,
   "metadata": {
    "ExecuteTime": {
     "end_time": "2020-11-19T15:42:55.222072Z",
     "start_time": "2020-11-19T15:42:55.217871Z"
    }
   },
   "outputs": [
    {
     "data": {
      "text/plain": [
       "tensor(0.9992)"
      ]
     },
     "execution_count": 338,
     "metadata": {},
     "output_type": "execute_result"
    }
   ],
   "source": [
    "N = 11\n",
    "torch.acos(all_output[N]).mean() / np.pi * 2"
   ]
  },
  {
   "cell_type": "code",
   "execution_count": 318,
   "metadata": {
    "ExecuteTime": {
     "end_time": "2020-11-19T15:26:08.526181Z",
     "start_time": "2020-11-19T15:26:08.521805Z"
    }
   },
   "outputs": [
    {
     "data": {
      "text/plain": [
       "tensor(1.4760)"
      ]
     },
     "execution_count": 318,
     "metadata": {},
     "output_type": "execute_result"
    }
   ],
   "source": [
    "N = 7\n",
    "(torch.acos(all_output[N]) - torch.acos(all_output[N])[all_target[N].long()]).mean()"
   ]
  },
  {
   "cell_type": "raw",
   "metadata": {},
   "source": [
    "ProductLog(1000 / e) + 1 ~= 5.42\n",
    "ProductLog(10000 / e) + 1 ~= 7.36\n",
    "ProductLog(100000 / e) + 1 ~= 9.38"
   ]
  },
  {
   "cell_type": "code",
   "execution_count": 355,
   "metadata": {
    "ExecuteTime": {
     "end_time": "2020-11-19T15:55:50.756587Z",
     "start_time": "2020-11-19T15:55:50.752426Z"
    }
   },
   "outputs": [
    {
     "data": {
      "text/plain": [
       "0.998888806149875"
      ]
     },
     "execution_count": 355,
     "metadata": {},
     "output_type": "execute_result"
    }
   ],
   "source": [
    "s = 10\n",
    "m = 0.1\n",
    "t_theta = 0.1\n",
    "C = 1000\n",
    "np.e ** (- s * (t_theta + m)) / (np.e ** (- s * (t_theta + m)) + np.e ** (- s * np.pi / 2) * (C-1))"
   ]
  },
  {
   "cell_type": "code",
   "execution_count": null,
   "metadata": {},
   "outputs": [],
   "source": [
    "p_max = 0.98 \n",
    "B = 0.002\n",
    "B.log() = - 6.15\n",
    "\n",
    "p_max = 0.7\n",
    "B = 0.42\n",
    "B.log() = -0.85"
   ]
  },
  {
   "cell_type": "code",
   "execution_count": 255,
   "metadata": {
    "ExecuteTime": {
     "end_time": "2020-11-19T15:07:54.611394Z",
     "start_time": "2020-11-19T15:07:54.607170Z"
    }
   },
   "outputs": [
    {
     "data": {
      "text/plain": [
       "tensor(0.0055)"
      ]
     },
     "execution_count": 255,
     "metadata": {},
     "output_type": "execute_result"
    }
   ],
   "source": [
    "B = (oo - oo.max()).exp().sum() - 1\n",
    "B"
   ]
  },
  {
   "cell_type": "code",
   "execution_count": 254,
   "metadata": {
    "ExecuteTime": {
     "end_time": "2020-11-19T15:07:35.766570Z",
     "start_time": "2020-11-19T15:07:35.762127Z"
    }
   },
   "outputs": [
    {
     "data": {
      "text/plain": [
       "(tensor(-5.2066), tensor(5.2066))"
      ]
     },
     "execution_count": 254,
     "metadata": {},
     "output_type": "execute_result"
    }
   ],
   "source": [
    "B.log(), (1 / B).log()"
   ]
  },
  {
   "cell_type": "code",
   "execution_count": 32,
   "metadata": {
    "ExecuteTime": {
     "end_time": "2020-11-20T13:06:05.709579Z",
     "start_time": "2020-11-20T13:06:05.334569Z"
    }
   },
   "outputs": [
    {
     "data": {
      "image/png": "[encoded data removed]",
      "text/plain": [
       "<Figure size 432x288 with 1 Axes>"
      ]
     },
     "metadata": {
      "needs_background": "light"
     },
     "output_type": "display_data"
    }
   ],
   "source": [
    "# pos_cos = all_output.gather(-1, index=all_target[..., None])\n",
    "pos_cos = all_output.max(-1)[0]\n",
    "# pos_cos = torch.acos(pos_cos)\n",
    "corr_pos_cos = pos_cos[correct]\n",
    "incorr_pos_cos = pos_cos[~correct]\n",
    "plt.hist(corr_pos_cos.flatten().cpu(), bins=30, alpha=0.7);\n",
    "plt.hist(incorr_pos_cos.flatten().cpu(), bins=30, alpha=0.7);\n",
    "plt.legend([\"TP\", \"FP\"]);"
   ]
  },
  {
   "cell_type": "code",
   "execution_count": 124,
   "metadata": {
    "ExecuteTime": {
     "end_time": "2020-11-21T07:12:28.043073Z",
     "start_time": "2020-11-21T07:12:28.040066Z"
    }
   },
   "outputs": [],
   "source": [
    "torch.Tensor.scatter_add_?"
   ]
  },
  {
   "cell_type": "code",
   "execution_count": 133,
   "metadata": {
    "ExecuteTime": {
     "end_time": "2020-11-21T07:14:14.788325Z",
     "start_time": "2020-11-21T07:14:14.784049Z"
    }
   },
   "outputs": [
    {
     "data": {
      "text/plain": [
       "tensor(0.3989)"
      ]
     },
     "execution_count": 133,
     "metadata": {},
     "output_type": "execute_result"
    }
   ],
   "source": [
    "all_output[0, all_target[0].long()]"
   ]
  },
  {
   "cell_type": "code",
   "execution_count": 137,
   "metadata": {
    "ExecuteTime": {
     "end_time": "2020-11-21T07:15:06.486656Z",
     "start_time": "2020-11-21T07:15:06.483189Z"
    }
   },
   "outputs": [
    {
     "data": {
      "text/plain": [
       "tensor(11)"
      ]
     },
     "execution_count": 137,
     "metadata": {},
     "output_type": "execute_result"
    }
   ],
   "source": [
    "1 + torch.tensor(10)"
   ]
  },
  {
   "cell_type": "code",
   "execution_count": 187,
   "metadata": {
    "ExecuteTime": {
     "end_time": "2020-11-21T11:53:28.957515Z",
     "start_time": "2020-11-21T11:53:28.953894Z"
    }
   },
   "outputs": [
    {
     "data": {
      "text/plain": [
       "-7.6023243250622485e-06"
      ]
     },
     "execution_count": 187,
     "metadata": {},
     "output_type": "execute_result"
    }
   ],
   "source": [
    "cos = np.random.rand(100)\n",
    "np.median(cos) - np.cos(np.median(np.arccos(cos)))"
   ]
  },
  {
   "cell_type": "code",
   "execution_count": 158,
   "metadata": {
    "ExecuteTime": {
     "end_time": "2020-11-21T11:08:13.931489Z",
     "start_time": "2020-11-21T11:08:13.927916Z"
    }
   },
   "outputs": [
    {
     "data": {
      "text/plain": [
       "14.229341904629822"
      ]
     },
     "execution_count": 158,
     "metadata": {},
     "output_type": "execute_result"
    }
   ],
   "source": [
    "np.log(1512602)"
   ]
  },
  {
   "cell_type": "code",
   "execution_count": 139,
   "metadata": {
    "ExecuteTime": {
     "end_time": "2020-11-21T07:16:07.594884Z",
     "start_time": "2020-11-21T07:16:07.541838Z"
    }
   },
   "outputs": [
    {
     "data": {
      "text/plain": [
       "tensor([[-0.1150, -0.0387, -0.0559,  ..., -0.1390, -0.0066,  0.0260],\n",
       "        [ 0.0428,  0.0336, -0.0380,  ..., -0.1256, -0.0080, -0.1426],\n",
       "        [ 0.1290,  0.0086,  0.0053,  ...,  0.0461, -0.0276, -0.0336],\n",
       "        ...,\n",
       "        [-0.0177, -0.0170, -0.0471,  ..., -0.2334,  0.0470,  0.0412],\n",
       "        [ 0.0837, -0.0144, -0.1389,  ..., -0.0506, -0.0293,  0.0453],\n",
       "        [ 0.0077, -0.0851, -0.0515,  ..., -0.1360, -0.0324,  0.0383]])"
      ]
     },
     "execution_count": 139,
     "metadata": {},
     "output_type": "execute_result"
    }
   ],
   "source": [
    "all_output.scatter_add(dim=1, index=all_target.long()[..., None], src=torch.tensor(-10.0).expand(50000, 1))"
   ]
  },
  {
   "cell_type": "code",
   "execution_count": 111,
   "metadata": {
    "ExecuteTime": {
     "end_time": "2020-11-21T07:10:03.544122Z",
     "start_time": "2020-11-21T07:10:03.500597Z"
    }
   },
   "outputs": [
    {
     "data": {
      "text/plain": [
       "tensor([473, 635, 797,  ..., 807, 764, 683])"
      ]
     },
     "execution_count": 111,
     "metadata": {},
     "output_type": "execute_result"
    }
   ],
   "source": [
    "all_output.argmax(-1)"
   ]
  },
  {
   "cell_type": "code",
   "execution_count": 88,
   "metadata": {
    "ExecuteTime": {
     "end_time": "2020-11-20T13:23:53.221401Z",
     "start_time": "2020-11-20T13:23:53.217428Z"
    }
   },
   "outputs": [
    {
     "data": {
      "text/plain": [
       "23.371474769217663"
      ]
     },
     "execution_count": 88,
     "metadata": {},
     "output_type": "execute_result"
    }
   ],
   "source": [
    "m = 0.35\n",
    "np.log(382433.9062) / (0.9 - m)"
   ]
  },
  {
   "cell_type": "code",
   "execution_count": 67,
   "metadata": {
    "ExecuteTime": {
     "end_time": "2020-11-20T13:15:39.672736Z",
     "start_time": "2020-11-20T13:15:39.390347Z"
    }
   },
   "outputs": [
    {
     "data": {
      "text/plain": [
       "tensor(382433.9062)"
      ]
     },
     "execution_count": 67,
     "metadata": {},
     "output_type": "execute_result"
    }
   ],
   "source": [
    "s = 16\n",
    "oo = all_output.scatter(dim=1, index=all_target.long()[..., None], value=-1)\n",
    "oo.mul(16).exp().sum(-1).mean()"
   ]
  },
  {
   "cell_type": "code",
   "execution_count": 107,
   "metadata": {
    "ExecuteTime": {
     "end_time": "2020-11-20T13:25:43.786266Z",
     "start_time": "2020-11-20T13:25:43.777679Z"
    }
   },
   "outputs": [
    {
     "data": {
      "text/plain": [
       "0.8377093284197789"
      ]
     },
     "execution_count": 107,
     "metadata": {},
     "output_type": "execute_result"
    }
   ],
   "source": [
    "m = 0.2\n",
    "np.log(np.e ** (s * (1 - m)) + 3e5) / s"
   ]
  },
  {
   "cell_type": "code",
   "execution_count": 62,
   "metadata": {
    "ExecuteTime": {
     "end_time": "2020-11-20T13:14:09.020125Z",
     "start_time": "2020-11-20T13:14:08.899747Z"
    }
   },
   "outputs": [
    {
     "data": {
      "text/plain": [
       "tensor(3446204.)"
      ]
     },
     "execution_count": 62,
     "metadata": {},
     "output_type": "execute_result"
    }
   ],
   "source": [
    "((all_output).mul(16).exp().sum(-1)).mean()"
   ]
  },
  {
   "cell_type": "code",
   "execution_count": 48,
   "metadata": {
    "ExecuteTime": {
     "end_time": "2020-11-20T13:08:44.459679Z",
     "start_time": "2020-11-20T13:08:44.162679Z"
    }
   },
   "outputs": [
    {
     "data": {
      "text/plain": [
       "tensor(0.2064)"
      ]
     },
     "execution_count": 48,
     "metadata": {},
     "output_type": "execute_result"
    }
   ],
   "source": [
    "((all_output - all_output.max(-1)[0][..., None]).mul(16).exp().sum(-1) - 1).mean()"
   ]
  },
  {
   "cell_type": "code",
   "execution_count": 52,
   "metadata": {
    "ExecuteTime": {
     "end_time": "2020-11-19T13:15:25.470316Z",
     "start_time": "2020-11-19T13:15:25.200362Z"
    }
   },
   "outputs": [
    {
     "data": {
      "image/png": "[encoded data removed]",
      "text/plain": [
       "<Figure size 432x288 with 1 Axes>"
      ]
     },
     "metadata": {
      "needs_background": "light"
     },
     "output_type": "display_data"
    }
   ],
   "source": [
    "# pos_cos = all_output.gather(-1, index=all_target[..., None])\n",
    "pos_cos = all_output.max(-1)[0]\n",
    "pos_cos = torch.acos(pos_cos)\n",
    "corr_pos_cos = pos_cos[correct]\n",
    "incorr_pos_cos = pos_cos[~correct]\n",
    "plt.hist(corr_pos_cos.flatten().cpu(), bins=30, alpha=0.7);\n",
    "plt.hist(incorr_pos_cos.flatten().cpu(), bins=30, alpha=0.7);\n",
    "plt.legend([\"TP\", \"FP\"]);"
   ]
  },
  {
   "cell_type": "code",
   "execution_count": 41,
   "metadata": {
    "ExecuteTime": {
     "end_time": "2020-11-19T13:14:30.720195Z",
     "start_time": "2020-11-19T13:14:30.350624Z"
    }
   },
   "outputs": [
    {
     "data": {
      "image/png": "[encoded data removed]",
      "text/plain": [
       "<Figure size 432x288 with 1 Axes>"
      ]
     },
     "metadata": {
      "needs_background": "light"
     },
     "output_type": "display_data"
    }
   ],
   "source": [
    "# pos_cos = all_output.gather(-1, index=all_target[..., None])\n",
    "pos_cos = all_output.max(-1)[0]\n",
    "pos_cos = torch.acos(pos_cos)\n",
    "corr_pos_cos = pos_cos[correct]\n",
    "incorr_pos_cos = pos_cos[~correct]\n",
    "plt.hist(corr_pos_cos.flatten().cpu(), bins=30, alpha=0.7);\n",
    "plt.hist(incorr_pos_cos.flatten().cpu(), bins=30, alpha=0.7);\n",
    "plt.legend([\"TP\", \"FP\"]);"
   ]
  },
  {
   "cell_type": "code",
   "execution_count": 85,
   "metadata": {
    "ExecuteTime": {
     "end_time": "2020-11-19T13:21:49.458351Z",
     "start_time": "2020-11-19T13:21:45.866107Z"
    }
   },
   "outputs": [
    {
     "data": {
      "image/png": "[encoded data removed]",
      "text/plain": [
       "<Figure size 432x288 with 1 Axes>"
      ]
     },
     "metadata": {
      "needs_background": "light"
     },
     "output_type": "display_data"
    }
   ],
   "source": [
    "pos_cos = all_output.sort(-1, descending=True)[0][5:]\n",
    "pos_cos = torch.acos(pos_cos)\n",
    "plt.hist(pos_cos.flatten().cpu(), bins=30, alpha=0.7);"
   ]
  },
  {
   "cell_type": "code",
   "execution_count": 86,
   "metadata": {
    "ExecuteTime": {
     "end_time": "2020-11-19T13:21:56.248728Z",
     "start_time": "2020-11-19T13:21:52.938648Z"
    }
   },
   "outputs": [
    {
     "data": {
      "image/png": "[encoded data removed]",
      "text/plain": [
       "<Figure size 432x288 with 1 Axes>"
      ]
     },
     "metadata": {
      "needs_background": "light"
     },
     "output_type": "display_data"
    }
   ],
   "source": [
    "pos_cos = all_output.sort(-1, descending=True)[0][5:]\n",
    "pos_cos = torch.acos(pos_cos)\n",
    "plt.hist(pos_cos.flatten().cpu(), bins=30, alpha=0.7);"
   ]
  },
  {
   "cell_type": "code",
   "execution_count": 177,
   "metadata": {
    "ExecuteTime": {
     "end_time": "2020-11-13T18:07:19.620795Z",
     "start_time": "2020-11-13T18:07:19.364104Z"
    },
    "code_folding": []
   },
   "outputs": [
    {
     "data": {
      "image/png": "[encoded data removed]",
      "text/plain": [
       "<Figure size 432x288 with 1 Axes>"
      ]
     },
     "metadata": {
      "needs_background": "light"
     },
     "output_type": "display_data"
    }
   ],
   "source": [
    "# pos_cos = all_output.gather(-1, index=all_target[..., None])\n",
    "pos_cos = all_output.max(-1)[0]\n",
    "pos_cos = torch.acos(pos_cos)\n",
    "corr_pos_cos = pos_cos[correct]\n",
    "incorr_pos_cos = pos_cos[~correct]\n",
    "plt.hist(corr_pos_cos.flatten().cpu(), bins=30, alpha=0.7);\n",
    "plt.hist(incorr_pos_cos.flatten().cpu(), bins=30, alpha=0.7);\n",
    "plt.legend([\"TP\", \"FP\"]);"
   ]
  },
  {
   "cell_type": "code",
   "execution_count": 171,
   "metadata": {
    "ExecuteTime": {
     "end_time": "2020-11-13T18:06:25.486079Z",
     "start_time": "2020-11-13T18:06:25.224333Z"
    }
   },
   "outputs": [
    {
     "data": {
      "image/png": "[encoded data removed]",
      "text/plain": [
       "<Figure size 432x288 with 1 Axes>"
      ]
     },
     "metadata": {
      "needs_background": "light"
     },
     "output_type": "display_data"
    }
   ],
   "source": [
    "# pos_cos = all_output.gather(-1, index=all_target[..., None])\n",
    "pos_cos = all_output.max(-1)[0]\n",
    "pos_cos = torch.acos(pos_cos)\n",
    "corr_pos_cos = pos_cos[correct]\n",
    "incorr_pos_cos = pos_cos[~correct]\n",
    "plt.hist(corr_pos_cos.flatten().cpu(), bins=30, alpha=0.7);\n",
    "plt.hist(incorr_pos_cos.flatten().cpu(), bins=30, alpha=0.7);\n",
    "plt.legend([\"TP\", \"FP\"]);"
   ]
  },
  {
   "cell_type": "code",
   "execution_count": 140,
   "metadata": {
    "ExecuteTime": {
     "end_time": "2020-11-13T17:49:57.438900Z",
     "start_time": "2020-11-13T17:49:57.165449Z"
    }
   },
   "outputs": [
    {
     "data": {
      "image/png": "[encoded data removed]",
      "text/plain": [
       "<Figure size 432x288 with 1 Axes>"
      ]
     },
     "metadata": {
      "needs_background": "light"
     },
     "output_type": "display_data"
    }
   ],
   "source": [
    "pos_cos = all_output.gather(-1, index=all_target[..., None])\n",
    "pos_cos = torch.acos(pos_cos.float())\n",
    "corr_pos_cos = pos_cos[correct]\n",
    "incorr_pos_cos = pos_cos[~correct]\n",
    "plt.hist(corr_pos_cos.flatten().cpu(), bins=30, alpha=0.7);\n",
    "plt.hist(incorr_pos_cos.flatten().cpu(), bins=30, alpha=0.7);\n",
    "plt.legend([\"TP\", \"FP\"]);"
   ]
  },
  {
   "cell_type": "code",
   "execution_count": 133,
   "metadata": {
    "ExecuteTime": {
     "end_time": "2020-11-13T17:48:52.822600Z",
     "start_time": "2020-11-13T17:48:52.560569Z"
    }
   },
   "outputs": [
    {
     "data": {
      "image/png": "[encoded data removed]",
      "text/plain": [
       "<Figure size 432x288 with 1 Axes>"
      ]
     },
     "metadata": {
      "needs_background": "light"
     },
     "output_type": "display_data"
    }
   ],
   "source": [
    "pos_cos = all_output.gather(-1, index=all_target[..., None])\n",
    "pos_cos = torch.acos(pos_cos.float())\n",
    "corr_pos_cos = pos_cos[correct]\n",
    "incorr_pos_cos = pos_cos[~correct]\n",
    "plt.hist(corr_pos_cos.flatten().cpu(), bins=30, alpha=0.7);\n",
    "plt.hist(incorr_pos_cos.flatten().cpu(), bins=30, alpha=0.7);\n",
    "plt.legend([\"TP\", \"FP\"]);"
   ]
  },
  {
   "cell_type": "code",
   "execution_count": 126,
   "metadata": {
    "ExecuteTime": {
     "end_time": "2020-11-13T17:47:38.754187Z",
     "start_time": "2020-11-13T17:47:38.445088Z"
    }
   },
   "outputs": [
    {
     "data": {
      "text/plain": [
       "<matplotlib.legend.Legend at 0x7ff5348639b0>"
      ]
     },
     "execution_count": 126,
     "metadata": {},
     "output_type": "execute_result"
    },
    {
     "data": {
      "image/png": "[encoded data removed]",
      "text/plain": [
       "<Figure size 432x288 with 1 Axes>"
      ]
     },
     "metadata": {
      "needs_background": "light"
     },
     "output_type": "display_data"
    }
   ],
   "source": [
    "pos_cos = all_output.gather(-1, index=all_target[..., None])\n",
    "pos_cos = torch.acos(pos_cos.float())\n",
    "corr_pos_cos = pos_cos[correct]\n",
    "incorr_pos_cos = pos_cos[~correct]\n",
    "plt.hist(corr_pos_cos.flatten().cpu(), bins=30, alpha=0.7);\n",
    "plt.hist(incorr_pos_cos.flatten().cpu(), bins=30, alpha=0.7);\n",
    "plt.legend([\"TP\", \"FP\"]);"
   ]
  },
  {
   "cell_type": "raw",
   "metadata": {
    "ExecuteTime": {
     "end_time": "2020-11-13T17:29:49.792976Z",
     "start_time": "2020-11-13T17:29:49.735318Z"
    }
   },
   "source": [
    "misclassified = all_target[all_output.argmax(dim=1).eq(all_target)]\n",
    "worst_classes_cnt, worst_classes_idx = torch.bincount(misclassified).sort(descending=True)\n",
    "worst_classes_idx[500:510], worst_classes_cnt[500:510]"
   ]
  },
  {
   "cell_type": "code",
   "execution_count": 72,
   "metadata": {
    "ExecuteTime": {
     "end_time": "2020-11-04T13:37:23.356350Z",
     "start_time": "2020-11-04T13:37:22.853643Z"
    }
   },
   "outputs": [
    {
     "data": {
      "text/plain": [
       "Text(0.5, 1.0, 'PCA of features for 3 random classes on Imagenet validation')"
      ]
     },
     "execution_count": 72,
     "metadata": {},
     "output_type": "execute_result"
    },
    {
     "data": {
      "image/png": "[encoded data removed]",
      "text/plain": [
       "<Figure size 1080x360 with 2 Axes>"
      ]
     },
     "metadata": {
      "needs_background": "light"
     },
     "output_type": "display_data"
    }
   ],
   "source": [
    "# best classes 364, 333, 986\n",
    "# not so good 963, 749, 162\n",
    "from sklearn.decomposition import PCA\n",
    "o1 = all_output[all_target.eq(963)]\n",
    "o2 = all_output[all_target.eq(749)]\n",
    "o3 = all_output[all_target.eq(986)]\n",
    "oo = torch.cat([o1, o2, o3], 0)\n",
    "\n",
    "pca_features = PCA(n_components=2).fit_transform(oo)\n",
    "pca_features_norm = torch.nn.functional.normalize(torch.from_numpy(pca_features))\n",
    "c = [1,] * 50 + [2,] * 50 + [3,] * 50\n",
    "fig, axes = plt.subplots(1, 2, figsize=(15, 5))\n",
    "axes[0].scatter(pca_features[:, 0], pca_features[:, 1], c=c)\n",
    "axes[1].scatter(pca_features_norm[:, 0], pca_features_norm[:, 1], c=c)\n",
    "axes[0].set_title(\"PCA of features for 3 random classes on Imagenet validation\")"
   ]
  },
  {
   "cell_type": "code",
   "execution_count": 29,
   "metadata": {
    "ExecuteTime": {
     "end_time": "2020-11-04T13:27:16.876856Z",
     "start_time": "2020-11-04T13:27:16.781384Z"
    }
   },
   "outputs": [
    {
     "data": {
      "text/plain": [
       "array([[ 7.46849228e+00, -3.05177443e+00],\n",
       "       [ 6.92851763e+00, -2.96389769e+00],\n",
       "       [ 7.82671639e+00, -1.31563400e+00],\n",
       "       [ 1.04704193e+01,  4.81692744e+00],\n",
       "       [ 1.10584736e+01,  7.52003350e+00],\n",
       "       [ 6.57051123e+00, -1.08018143e+01],\n",
       "       [ 1.00237547e+01,  3.75395066e+00],\n",
       "       [ 1.12574210e+01,  3.65190193e+00],\n",
       "       [ 7.88388233e+00, -2.06737859e+00],\n",
       "       [ 1.11550388e+01,  7.02196339e+00],\n",
       "       [ 6.59792991e+00, -4.10734348e+00],\n",
       "       [ 7.29219744e+00, -5.10455318e+00],\n",
       "       [ 8.78821914e+00,  8.22988188e-02],\n",
       "       [ 1.24467172e+01,  1.52503945e+00],\n",
       "       [ 8.66876239e+00, -2.97684922e+00],\n",
       "       [ 1.43735224e+01,  1.28035280e+01],\n",
       "       [ 1.27261542e+01,  8.64873162e+00],\n",
       "       [ 1.05715639e+01,  5.16966421e+00],\n",
       "       [ 6.29349349e+00, -3.94712888e+00],\n",
       "       [ 5.30766653e+00, -3.15453930e+00],\n",
       "       [ 5.93232538e+00, -4.84796576e+00],\n",
       "       [ 7.55631782e+00, -1.78924699e-01],\n",
       "       [ 6.69977517e+00, -3.62988493e+00],\n",
       "       [ 6.76394873e+00, -1.86950695e+00],\n",
       "       [ 7.53283264e+00,  1.39884845e-01],\n",
       "       [ 6.24736257e+00, -2.26581557e+00],\n",
       "       [ 6.82040346e+00, -2.25248891e+00],\n",
       "       [ 9.13969634e+00,  2.35132672e-01],\n",
       "       [ 7.98789491e+00, -3.33146008e-01],\n",
       "       [ 5.27934172e+00, -4.67113143e+00],\n",
       "       [ 9.05203530e+00,  4.03111124e+00],\n",
       "       [ 8.20303993e+00,  1.35355318e+00],\n",
       "       [ 9.34933642e+00,  2.10824710e+00],\n",
       "       [ 6.58661756e+00,  3.89476150e+00],\n",
       "       [ 7.74384186e+00,  4.70962102e-01],\n",
       "       [ 5.05600856e+00, -3.26443790e+00],\n",
       "       [ 7.51628457e+00,  2.76571455e-01],\n",
       "       [ 5.48429942e+00, -5.69098676e+00],\n",
       "       [ 5.82144203e+00, -8.07126817e+00],\n",
       "       [ 7.86539147e+00,  2.37999581e+00],\n",
       "       [ 6.21584968e+00, -9.42611002e-01],\n",
       "       [ 8.26549788e+00, -2.15528442e-01],\n",
       "       [ 6.84582960e+00, -2.23490291e-01],\n",
       "       [ 5.41771817e+00, -3.83776030e+00],\n",
       "       [ 4.70962046e+00, -4.33921078e+00],\n",
       "       [ 6.18838538e+00, -1.98897494e+00],\n",
       "       [ 6.43104187e+00, -5.13913939e+00],\n",
       "       [ 8.46639316e+00,  6.95147125e+00],\n",
       "       [ 5.82941682e+00, -3.81521139e+00],\n",
       "       [ 6.70463667e+00, -5.00068242e+00],\n",
       "       [-7.61459407e+00,  2.30265926e+00],\n",
       "       [-7.50537922e+00, -1.87140155e-01],\n",
       "       [-7.35294994e+00,  1.95245186e+00],\n",
       "       [-6.89321762e+00, -3.22267729e-02],\n",
       "       [-6.98627610e+00,  4.13082935e-01],\n",
       "       [-7.25327891e+00,  5.16417350e-01],\n",
       "       [-7.70777862e+00,  5.82887333e-01],\n",
       "       [-6.97310265e+00,  9.27230805e-01],\n",
       "       [-7.92685038e+00, -8.11754024e-02],\n",
       "       [-7.31504309e+00, -1.52530958e-01],\n",
       "       [-7.38036778e+00,  1.91219031e-01],\n",
       "       [-7.66723472e+00,  1.89500887e-01],\n",
       "       [-7.24794690e+00,  9.51663149e-01],\n",
       "       [-7.62432304e+00,  1.06439946e-02],\n",
       "       [-7.39737251e+00, -4.01525372e-01],\n",
       "       [-7.94275252e+00, -7.34769701e-02],\n",
       "       [-8.56899453e+00,  3.01592940e-01],\n",
       "       [-7.83668313e+00,  2.10565094e-01],\n",
       "       [-8.15690583e+00,  4.11837328e-01],\n",
       "       [-8.86353213e+00,  1.24977279e-01],\n",
       "       [-9.07175714e+00,  5.06462984e-01],\n",
       "       [-9.20012935e+00,  9.30286911e-01],\n",
       "       [-9.61115420e+00,  8.54788159e-01],\n",
       "       [-9.77772679e+00,  4.97809716e-01],\n",
       "       [-8.83298358e+00,  3.33834969e-01],\n",
       "       [-7.73567116e+00,  1.05705892e+00],\n",
       "       [-8.37708186e+00,  2.52518273e+00],\n",
       "       [-8.81859889e+00,  2.44455397e-01],\n",
       "       [-7.46092117e+00, -1.60250610e-02],\n",
       "       [-8.51237099e+00, -1.47786563e-01],\n",
       "       [-8.15663672e+00, -2.16148372e-01],\n",
       "       [-8.67956902e+00,  6.90627258e-01],\n",
       "       [-8.66948907e+00,  2.47690558e-01],\n",
       "       [-7.29369943e+00,  5.67386992e-01],\n",
       "       [-7.26529546e+00,  1.32529266e+00],\n",
       "       [-8.51709046e+00,  7.23290675e-01],\n",
       "       [-7.65301022e+00, -1.89515225e-01],\n",
       "       [-7.18605438e+00, -2.36894319e-01],\n",
       "       [-7.61786838e+00,  3.98745040e-01],\n",
       "       [-6.91569525e+00,  1.31298122e+00],\n",
       "       [-6.75182395e+00,  3.00213762e+00],\n",
       "       [-7.50544113e+00,  2.56534840e-01],\n",
       "       [-7.27583069e+00,  7.75784236e-01],\n",
       "       [-7.82191883e+00,  9.55937796e-02],\n",
       "       [-7.46713528e+00,  3.11775157e-01],\n",
       "       [-7.49067301e+00,  8.78567016e-01],\n",
       "       [-7.48642520e+00,  9.77875718e-02],\n",
       "       [-7.68122971e+00,  7.02571105e-02],\n",
       "       [-7.33239826e+00,  5.52043550e-01],\n",
       "       [-7.04177611e+00, -3.75310165e-01]])"
      ]
     },
     "execution_count": 29,
     "metadata": {},
     "output_type": "execute_result"
    }
   ],
   "source": []
  },
  {
   "cell_type": "raw",
   "metadata": {},
   "source": [
    "+ Rect\n",
    "Sigm BNet Acc@1: 77.13. Acc@5: 93.11 --> Acc@1: 77.52. Acc@5: 93.37\n",
    "Sigm + Sigm Trick: Acc@1: 76.78. Acc@5: 93.13 -> Acc@1: 77.29. Acc@5: 93.34\n",
    "+ без ограничений AR -> Acc@1: 77.31. Acc@5: 93.37\n",
    "+ cubic interpolation -> Acc@1: 75.06. Acc@5: 92.07 (train resize != val resize поэтому плохо)"
   ]
  },
  {
   "cell_type": "markdown",
   "metadata": {},
   "source": [
    "# Some plots"
   ]
  },
  {
   "cell_type": "code",
   "execution_count": 247,
   "metadata": {
    "ExecuteTime": {
     "end_time": "2020-11-23T08:41:03.765157Z",
     "start_time": "2020-11-23T08:41:03.623915Z"
    }
   },
   "outputs": [
    {
     "data": {
      "text/plain": [
       "[<matplotlib.lines.Line2D at 0x7fa82d377d68>]"
      ]
     },
     "execution_count": 247,
     "metadata": {},
     "output_type": "execute_result"
    },
    {
     "data": {
      "image/png": "[encoded data removed]",
      "text/plain": [
       "<Figure size 432x288 with 1 Axes>"
      ]
     },
     "metadata": {
      "needs_background": "light"
     },
     "output_type": "display_data"
    }
   ],
   "source": [
    "x = np.linspace(0.2, 1, num=100)\n",
    "s = 32\n",
    "d = 0.8\n",
    "y = np.log(1 + np.e ** (s * d) / np.e ** (s * x))\n",
    "plt.plot(x, y);\n",
    "plt.plot(x, x * (-s) + s * d)"
   ]
  },
  {
   "cell_type": "code",
   "execution_count": null,
   "metadata": {},
   "outputs": [],
   "source": []
  },
  {
   "cell_type": "code",
   "execution_count": null,
   "metadata": {},
   "outputs": [],
   "source": []
  },
  {
   "cell_type": "markdown",
   "metadata": {
    "heading_collapsed": true
   },
   "source": [
    "# Rectangle Loader"
   ]
  },
  {
   "cell_type": "code",
   "execution_count": 5,
   "metadata": {
    "ExecuteTime": {
     "end_time": "2020-11-02T16:17:39.363107Z",
     "start_time": "2020-11-02T16:17:31.595618Z"
    },
    "hidden": true
   },
   "outputs": [],
   "source": [
    "\"\"\"Eval model on ImageNet validation dataset\"\"\"\n",
    "size=224\n",
    "BS = 25 if size >= 384 else 125\n",
    "val_loader = ValRectLoader(bs=BS, sz=size)\n",
    "val_loader_i = iter(val_loader)\n",
    "model = model.eval().cuda()"
   ]
  },
  {
   "cell_type": "code",
   "execution_count": 6,
   "metadata": {
    "ExecuteTime": {
     "end_time": "2020-11-02T16:17:39.828822Z",
     "start_time": "2020-11-02T16:17:39.366934Z"
    },
    "hidden": true
   },
   "outputs": [],
   "source": [
    "imgs, target = next(val_loader_i)\n",
    "pred = model(imgs)# .cpu().detach()"
   ]
  },
  {
   "cell_type": "code",
   "execution_count": 29,
   "metadata": {
    "ExecuteTime": {
     "end_time": "2020-11-02T16:41:33.641924Z",
     "start_time": "2020-11-02T16:41:33.638572Z"
    },
    "hidden": true
   },
   "outputs": [],
   "source": [
    "pred /= pred.norm(dim=-1, keepdim=True)"
   ]
  },
  {
   "cell_type": "code",
   "execution_count": 18,
   "metadata": {
    "ExecuteTime": {
     "end_time": "2020-11-02T16:31:36.744752Z",
     "start_time": "2020-11-02T16:31:36.715462Z"
    },
    "hidden": true
   },
   "outputs": [
    {
     "data": {
      "text/plain": [
       "tensor(0.7520, device='cuda:0')"
      ]
     },
     "execution_count": 18,
     "metadata": {},
     "output_type": "execute_result"
    }
   ],
   "source": [
    "pred.argmax(-1).eq(target).float().mean()"
   ]
  },
  {
   "cell_type": "code",
   "execution_count": 20,
   "metadata": {
    "ExecuteTime": {
     "end_time": "2020-11-02T16:32:02.907092Z",
     "start_time": "2020-11-02T16:32:02.883473Z"
    },
    "hidden": true
   },
   "outputs": [
    {
     "data": {
      "text/plain": [
       "tensor(0.7520, device='cuda:0')"
      ]
     },
     "execution_count": 20,
     "metadata": {},
     "output_type": "execute_result"
    }
   ],
   "source": [
    "(pred / pred.norm(dim=-1, keepdim=True)).argmax(-1).eq(target).float().mean()"
   ]
  },
  {
   "cell_type": "code",
   "execution_count": 79,
   "metadata": {
    "ExecuteTime": {
     "end_time": "2020-11-02T18:10:19.979535Z",
     "start_time": "2020-11-02T18:10:19.974430Z"
    },
    "hidden": true
   },
   "outputs": [
    {
     "data": {
      "text/plain": [
       "tensor([0.1671, 0.1279, 0.4867, 0.2183])"
      ]
     },
     "execution_count": 79,
     "metadata": {},
     "output_type": "execute_result"
    }
   ],
   "source": [
    "torch.nn.functional.normalize(torch.tensor([-1, -2, 3.0, 0.]), dim=0).softmax(-1)"
   ]
  },
  {
   "cell_type": "code",
   "execution_count": 75,
   "metadata": {
    "ExecuteTime": {
     "end_time": "2020-11-02T17:47:23.507117Z",
     "start_time": "2020-11-02T17:47:23.502181Z"
    },
    "hidden": true
   },
   "outputs": [
    {
     "data": {
      "text/plain": [
       "tensor([0.1671, 0.1279, 0.4867, 0.2183])"
      ]
     },
     "execution_count": 75,
     "metadata": {},
     "output_type": "execute_result"
    }
   ],
   "source": [
    "tt = torch.tensor([-1, -2, 3.0, 0.])\n",
    "tt /= tt.norm(2)\n",
    "tt.softmax(-1)"
   ]
  },
  {
   "cell_type": "code",
   "execution_count": 32,
   "metadata": {
    "ExecuteTime": {
     "end_time": "2020-11-02T17:35:49.343856Z",
     "start_time": "2020-11-02T17:35:49.335750Z"
    },
    "hidden": true
   },
   "outputs": [],
   "source": [
    "ctmx_0 = pt.fit_wrapper.callbacks.Cutmix(0, 1000, prob=0)\n",
    "ctmx = pt.fit_wrapper.callbacks.Cutmix(2, 1000, prob=1)\n",
    "_, target_y = ctmx_0.cutmix(imgs, target) # turn to one-hot"
   ]
  },
  {
   "cell_type": "code",
   "execution_count": 36,
   "metadata": {
    "ExecuteTime": {
     "end_time": "2020-11-02T17:36:16.938628Z",
     "start_time": "2020-11-02T17:36:16.925756Z"
    },
    "hidden": true
   },
   "outputs": [],
   "source": [
    "target_y = target_y.clamp_min(1e-3)"
   ]
  },
  {
   "cell_type": "markdown",
   "metadata": {
    "heading_collapsed": true
   },
   "source": [
    "# FixMatch Loader"
   ]
  },
  {
   "cell_type": "code",
   "execution_count": 2,
   "metadata": {
    "ExecuteTime": {
     "end_time": "2020-10-30T12:42:11.130151Z",
     "start_time": "2020-10-30T12:41:56.540086Z"
    },
    "hidden": true
   },
   "outputs": [],
   "source": [
    "size=224\n",
    "BS = 25 if size >= 384 else 125\n",
    "fixm_loader = DaliLoader(\n",
    "    train=True,\n",
    "    fixmatch=True,\n",
    "    blur=True,\n",
    "#     crop_method=\"full\",\n",
    "#     jitter=True,\n",
    "#     resize_method=\"triang\",\n",
    "    random_interpolation=True\n",
    ")\n",
    "fixm_loader_i = iter(fixm_loader)"
   ]
  },
  {
   "cell_type": "code",
   "execution_count": 3,
   "metadata": {
    "ExecuteTime": {
     "end_time": "2020-10-30T12:42:11.217393Z",
     "start_time": "2020-10-30T12:42:11.148454Z"
    },
    "hidden": true
   },
   "outputs": [],
   "source": [
    "raw_images, labels = next(fixm_loader_i)\n",
    "ctmx_0 = pt.fit_wrapper.callbacks.Cutmix(0, 1000, prob=0)\n",
    "_, target_y = ctmx_0.cutmix(raw_images, labels) # turn to one-hot\n",
    "# pred = model(raw_images).cpu()\n",
    "images = (raw_images * 0.2 + 0.5).mul(255).clamp(0, 255).cpu().to(torch.uint8).transpose(1, 3).transpose(1, 2)"
   ]
  },
  {
   "cell_type": "code",
   "execution_count": 4,
   "metadata": {
    "ExecuteTime": {
     "end_time": "2020-10-30T12:42:11.659558Z",
     "start_time": "2020-10-30T12:42:11.219031Z"
    },
    "hidden": true
   },
   "outputs": [
    {
     "data": {
      "application/vnd.jupyter.widget-view+json": {
       "model_id": "baad09d1dd5644e8bfc1a8165f1de4b2",
       "version_major": 2,
       "version_minor": 0
      },
      "text/plain": [
       "interactive(children=(IntSlider(value=10, description='N', max=31), Output()), _dom_classes=('widget-interact'…"
      ]
     },
     "metadata": {},
     "output_type": "display_data"
    }
   ],
   "source": [
    "@interact(N=(0, 31))\n",
    "def show(N=10):\n",
    "    fig, axes = plt.subplots(1, 2, figsize=(16, 8))\n",
    "    axes[0].imshow(images[N])\n",
    "    axes[1].imshow(images[N+32]) "
   ]
  },
  {
   "cell_type": "code",
   "execution_count": 259,
   "metadata": {
    "ExecuteTime": {
     "end_time": "2020-10-26T17:43:06.347997Z",
     "start_time": "2020-10-26T17:43:06.326088Z"
    },
    "hidden": true
   },
   "outputs": [],
   "source": [
    "correct = pred.argmax(-1)[32:].eq(labels.cpu())"
   ]
  },
  {
   "cell_type": "code",
   "execution_count": 260,
   "metadata": {
    "ExecuteTime": {
     "end_time": "2020-10-26T17:43:07.248215Z",
     "start_time": "2020-10-26T17:43:07.211075Z"
    },
    "hidden": true
   },
   "outputs": [
    {
     "data": {
      "text/plain": [
       "tensor([[84.,  0.,  0., 84.,  0.,  0.],\n",
       "        [75.,  5.,  1., 91.,  1.,  0.],\n",
       "        [98.,  0.,  0., 94.,  0.,  0.],\n",
       "        [65., 15.,  5., 98.,  0.,  0.],\n",
       "        [96.,  1.,  1., 94.,  0.,  0.],\n",
       "        [39., 32., 10., 74., 15.,  1.],\n",
       "        [95.,  0.,  0., 95.,  0.,  0.],\n",
       "        [95.,  0.,  0., 93.,  0.,  0.],\n",
       "        [73.,  3.,  1., 69.,  3.,  2.],\n",
       "        [55., 17., 16., 83.,  1.,  1.],\n",
       "        [90.,  1.,  0., 91.,  2.,  0.],\n",
       "        [88.,  1.,  1., 90.,  0.,  0.],\n",
       "        [45., 38.,  0., 43., 33.,  0.],\n",
       "        [90.,  0.,  0., 89.,  0.,  0.],\n",
       "        [79.,  1.,  1., 83.,  1.,  1.],\n",
       "        [54., 15.,  7., 92.,  0.,  0.],\n",
       "        [66., 13.,  2., 66., 12.,  2.],\n",
       "        [93.,  0.,  0., 90.,  0.,  0.],\n",
       "        [84.,  1.,  1., 86.,  1.,  1.],\n",
       "        [81.,  0.,  0., 83.,  0.,  0.],\n",
       "        [83.,  3.,  1., 87.,  3.,  1.],\n",
       "        [66., 13.,  3., 75.,  8.,  1.],\n",
       "        [48.,  4.,  4., 86.,  0.,  0.],\n",
       "        [47., 12., 10., 93.,  1.,  0.],\n",
       "        [ 7.,  5.,  3., 56., 26.,  1.],\n",
       "        [71.,  8.,  6., 88.,  5.,  0.],\n",
       "        [95.,  3.,  0., 81.,  2.,  0.],\n",
       "        [84.,  1.,  1., 88.,  0.,  0.],\n",
       "        [72., 11.,  0., 75., 16.,  0.],\n",
       "        [99.,  0.,  0., 98.,  0.,  0.],\n",
       "        [89.,  0.,  0., 85.,  0.,  0.],\n",
       "        [91.,  0.,  0., 92.,  0.,  0.]])"
      ]
     },
     "execution_count": 260,
     "metadata": {},
     "output_type": "execute_result"
    }
   ],
   "source": [
    "top_pred = pred.sort(dim=1, descending=True)[0].softmax(-1)[:, :3].mul(100).round()\n",
    "torch.cat([top_pred[:32], top_pred[32:]], dim=-1)"
   ]
  },
  {
   "cell_type": "code",
   "execution_count": 262,
   "metadata": {
    "ExecuteTime": {
     "end_time": "2020-10-26T17:43:10.043657Z",
     "start_time": "2020-10-26T17:43:10.038183Z"
    },
    "hidden": true
   },
   "outputs": [
    {
     "data": {
      "text/plain": [
       "tensor([[84.,  0.,  0.],\n",
       "        [75.,  5.,  1.],\n",
       "        [98.,  0.,  0.],\n",
       "        [65., 15.,  5.],\n",
       "        [96.,  1.,  1.],\n",
       "        [95.,  0.,  0.],\n",
       "        [95.,  0.,  0.],\n",
       "        [73.,  3.,  1.],\n",
       "        [55., 17., 16.],\n",
       "        [90.,  1.,  0.],\n",
       "        [88.,  1.,  1.],\n",
       "        [45., 38.,  0.],\n",
       "        [90.,  0.,  0.],\n",
       "        [79.,  1.,  1.],\n",
       "        [54., 15.,  7.],\n",
       "        [66., 13.,  2.],\n",
       "        [93.,  0.,  0.],\n",
       "        [84.,  1.,  1.],\n",
       "        [81.,  0.,  0.],\n",
       "        [83.,  3.,  1.],\n",
       "        [66., 13.,  3.],\n",
       "        [48.,  4.,  4.],\n",
       "        [47., 12., 10.],\n",
       "        [ 7.,  5.,  3.],\n",
       "        [71.,  8.,  6.],\n",
       "        [95.,  3.,  0.],\n",
       "        [84.,  1.,  1.],\n",
       "        [72., 11.,  0.],\n",
       "        [99.,  0.,  0.],\n",
       "        [89.,  0.,  0.],\n",
       "        [91.,  0.,  0.]])"
      ]
     },
     "execution_count": 262,
     "metadata": {},
     "output_type": "execute_result"
    }
   ],
   "source": [
    "top_pred[:32][correct]"
   ]
  },
  {
   "cell_type": "code",
   "execution_count": 220,
   "metadata": {
    "ExecuteTime": {
     "end_time": "2020-10-26T17:21:23.797617Z",
     "start_time": "2020-10-26T17:21:23.743761Z"
    },
    "hidden": true
   },
   "outputs": [
    {
     "data": {
      "text/plain": [
       "tensor(79)"
      ]
     },
     "execution_count": 220,
     "metadata": {},
     "output_type": "execute_result"
    }
   ],
   "source": [
    "(pred.softmax(-1) > 0.1).sum()"
   ]
  },
  {
   "cell_type": "raw",
   "metadata": {
    "ExecuteTime": {
     "end_time": "2020-10-26T14:32:29.298195Z",
     "start_time": "2020-10-26T14:32:29.294887Z"
    },
    "hidden": true
   },
   "source": [
    "from src.utils import FixMatchLoss"
   ]
  },
  {
   "cell_type": "code",
   "execution_count": 168,
   "metadata": {
    "ExecuteTime": {
     "end_time": "2020-10-26T15:31:11.406083Z",
     "start_time": "2020-10-26T15:31:11.399188Z"
    },
    "hidden": true
   },
   "outputs": [],
   "source": [
    "nn = torch.nn\n",
    "class FixMatchLoss(nn.Module):\n",
    "    def __init__(self, hard_weight=0.01, hard_pct=0.01):\n",
    "        super().__init__()\n",
    "        self.criterion = pt.losses.BinaryKLDivLoss(reduction=\"none\").cuda()\n",
    "        self.hard_criterion = pt.losses.CrossEntropyLoss(mode=\"binary\", reduction=\"none\").cuda()\n",
    "        self.hard_weight = hard_weight\n",
    "        self.hard_pct = hard_pct\n",
    "\n",
    "    def forward(self, y_pred, y_true):\n",
    "        half_bs = y_pred.size(0) // 2\n",
    "        if y_true.dim() == 1:\n",
    "            y_true_one_hot = torch.zeros_like(y_pred)\n",
    "            y_true_one_hot.scatter_(1, y_true.unsqueeze(1), 1.0)\n",
    "        raw_soft_loss = self.criterion(y_pred[:half_bs], y_pred[half_bs:].detach().sigmoid())\n",
    "        raw_hard_loss = self.hard_criterion(y_pred[:half_bs], y_true_one_hot[half_bs:])\n",
    "        topk_n = int(self.hard_pct * y_pred.size(1))\n",
    "        # take TOPK to avoid pushing close to 0 predictions even further\n",
    "        soft_loss = raw_soft_loss.topk(topk_n, sorted=False)[0].mean()\n",
    "        hard_loss = raw_hard_loss.topk(topk_n, sorted=False)[0].mean()\n",
    "        print(f\"Hard: {hard_loss.item()}. Soft: {soft_loss.item()}\\n\")\n",
    "        return soft_loss + self.hard_weight * hard_loss\n"
   ]
  },
  {
   "cell_type": "code",
   "execution_count": 169,
   "metadata": {
    "ExecuteTime": {
     "end_time": "2020-10-26T15:31:11.831670Z",
     "start_time": "2020-10-26T15:31:11.826779Z"
    },
    "hidden": true
   },
   "outputs": [],
   "source": [
    "ll = pt.losses.BinaryKLDivLoss(reduction=\"none\").cuda()\n",
    "l = ll(pred[:32], pred[32:])"
   ]
  },
  {
   "cell_type": "code",
   "execution_count": 170,
   "metadata": {
    "ExecuteTime": {
     "end_time": "2020-10-26T15:31:12.370862Z",
     "start_time": "2020-10-26T15:31:12.365549Z"
    },
    "hidden": true
   },
   "outputs": [
    {
     "data": {
      "text/plain": [
       "(tensor([-22.0528,   7.6007,   1.4845]),\n",
       " tensor([-23.5247,   8.5394,   3.6182]))"
      ]
     },
     "execution_count": 170,
     "metadata": {},
     "output_type": "execute_result"
    }
   ],
   "source": [
    "pred[0, :3], pred[32, :3]"
   ]
  },
  {
   "cell_type": "code",
   "execution_count": 178,
   "metadata": {
    "ExecuteTime": {
     "end_time": "2020-10-26T15:38:53.879893Z",
     "start_time": "2020-10-26T15:38:53.862189Z"
    },
    "hidden": true
   },
   "outputs": [
    {
     "data": {
      "text/plain": [
       "tensor(486.5403)"
      ]
     },
     "execution_count": 178,
     "metadata": {},
     "output_type": "execute_result"
    }
   ],
   "source": [
    "ll(pred[:32], pred[32:].sigmoid()).topk(20, dim=1)[0].sum()"
   ]
  },
  {
   "cell_type": "code",
   "execution_count": 179,
   "metadata": {
    "ExecuteTime": {
     "end_time": "2020-10-26T15:38:54.049289Z",
     "start_time": "2020-10-26T15:38:54.035844Z"
    },
    "hidden": true
   },
   "outputs": [
    {
     "data": {
      "text/plain": [
       "tensor(34483)"
      ]
     },
     "execution_count": 179,
     "metadata": {},
     "output_type": "execute_result"
    }
   ],
   "source": [
    "(pred.sigmoid() > 0.01).sum()"
   ]
  },
  {
   "cell_type": "code",
   "execution_count": 188,
   "metadata": {
    "ExecuteTime": {
     "end_time": "2020-10-26T15:39:23.423560Z",
     "start_time": "2020-10-26T15:39:23.414661Z"
    },
    "hidden": true
   },
   "outputs": [
    {
     "name": "stdout",
     "output_type": "stream",
     "text": [
      "Hard: 94.30317687988281. Soft: 1.0787804126739502\n",
      "\n"
     ]
    },
    {
     "data": {
      "text/plain": [
       "tensor(2.0218, device='cuda:0')"
      ]
     },
     "execution_count": 188,
     "metadata": {},
     "output_type": "execute_result"
    }
   ],
   "source": [
    "FixMatchLoss()(pred.cuda(), labels)"
   ]
  },
  {
   "cell_type": "code",
   "execution_count": null,
   "metadata": {
    "hidden": true
   },
   "outputs": [],
   "source": []
  }
 ],
 "metadata": {
  "kernelspec": {
   "display_name": "Python 3",
   "language": "python",
   "name": "python3"
  },
  "language_info": {
   "codemirror_mode": {
    "name": "ipython",
    "version": 3
   },
   "file_extension": ".py",
   "mimetype": "text/x-python",
   "name": "python",
   "nbconvert_exporter": "python",
   "pygments_lexer": "ipython3",
   "version": "3.6.9"
  },
  "varInspector": {
   "cols": {
    "lenName": 16,
    "lenType": 16,
    "lenVar": 40
   },
   "kernels_config": {
    "python": {
     "delete_cmd_postfix": "",
     "delete_cmd_prefix": "del ",
     "library": "var_list.py",
     "varRefreshCmd": "print(var_dic_list())"
    },
    "r": {
     "delete_cmd_postfix": ") ",
     "delete_cmd_prefix": "rm(",
     "library": "var_list.r",
     "varRefreshCmd": "cat(var_dic_list()) "
    }
   },
   "types_to_exclude": [
    "module",
    "function",
    "builtin_function_or_method",
    "instance",
    "_Feature"
   ],
   "window_display": false
  }
 },
 "nbformat": 4,
 "nbformat_minor": 2
}
