{
 "cells": [
  {
   "cell_type": "code",
   "execution_count": 1,
   "metadata": {},
   "outputs": [],
   "source": [
    "%config Completer.use_jedi=False\n",
    "import torch\n",
    "import numpy as np\n",
    "import apex.amp as amp\n",
    "import torchvision as tv\n",
    "import matplotlib.pyplot as plt\n",
    "\n",
    "import pytorch_tools as pt\n",
    "from pytorch_tools.utils.misc import count_parameters\n",
    "\n",
    "from src.dali_dataloader import DaliLoader"
   ]
  },
  {
   "cell_type": "markdown",
   "metadata": {},
   "source": [
    "# Evaluate"
   ]
  },
  {
   "cell_type": "code",
   "execution_count": 2,
   "metadata": {},
   "outputs": [],
   "source": [
    "INP = torch.ones(2, 3, 224, 224).cuda()\n",
    "PRED = torch.ones(2, 1000).cuda()\n",
    "LOSS = pt.losses.CrossEntropyLoss().cuda()\n",
    "METRIC = [pt.metrics.Accuracy(), pt.metrics.Accuracy(5)]\n",
    "@torch.no_grad()\n",
    "def evaluate_model(model, size=224):\n",
    "    \"\"\"Eval model on ImageNet validation dataset\"\"\"\n",
    "    BS = 25 if size >= 384 else 125\n",
    "    val_loader = DaliLoader(False, bs=BS, sz=size, workers=12)\n",
    "    model = model.eval().cuda()\n",
    "    model = amp.initialize(model, opt_level='O1', verbosity=0)\n",
    "    runner = pt.fit_wrapper.Runner(model, None, LOSS, metrics=METRIC, callbacks=None)\n",
    "    _, (acc1, acc5) = runner.evaluate(val_loader)\n",
    "    print(f\"Acc@1: {acc1:.2f}. Acc@5: {acc5:.2f}\")\n",
    "    return acc1, acc5"
   ]
  },
  {
   "cell_type": "code",
   "execution_count": 3,
   "metadata": {},
   "outputs": [],
   "source": [
    "m1 = pt.models.resnet50(pretrained=\"imagenet\").cuda()"
   ]
  },
  {
   "cell_type": "code",
   "execution_count": 4,
   "metadata": {},
   "outputs": [
    {
     "name": "stdout",
     "output_type": "stream",
     "text": "Acc@1: 75.99. Acc@5: 92.96\n"
    },
    {
     "data": {
      "text/plain": "(75.9900013256073, 92.96000143051147)"
     },
     "execution_count": 4,
     "metadata": {},
     "output_type": "execute_result"
    }
   ],
   "source": [
    "evaluate_model(m1)"
   ]
  }
 ],
 "metadata": {
  "kernelspec": {
   "display_name": "Python 3",
   "language": "python",
   "name": "python3"
  },
  "language_info": {
   "codemirror_mode": {
    "name": "ipython",
    "version": 3
   },
   "file_extension": ".py",
   "mimetype": "text/x-python",
   "name": "python",
   "nbconvert_exporter": "python",
   "pygments_lexer": "ipython3",
   "version": "3.6.9-final"
  },
  "varInspector": {
   "cols": {
    "lenName": 16,
    "lenType": 16,
    "lenVar": 40
   },
   "kernels_config": {
    "python": {
     "delete_cmd_postfix": "",
     "delete_cmd_prefix": "del ",
     "library": "var_list.py",
     "varRefreshCmd": "print(var_dic_list())"
    },
    "r": {
     "delete_cmd_postfix": ") ",
     "delete_cmd_prefix": "rm(",
     "library": "var_list.r",
     "varRefreshCmd": "cat(var_dic_list()) "
    }
   },
   "types_to_exclude": [
    "module",
    "function",
    "builtin_function_or_method",
    "instance",
    "_Feature"
   ],
   "window_display": false
  }
 },
 "nbformat": 4,
 "nbformat_minor": 2
}